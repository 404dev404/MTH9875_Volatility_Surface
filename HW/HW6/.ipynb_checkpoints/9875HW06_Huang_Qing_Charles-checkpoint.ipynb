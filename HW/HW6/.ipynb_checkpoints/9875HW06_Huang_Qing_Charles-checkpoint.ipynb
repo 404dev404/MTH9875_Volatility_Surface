{
 "cells": [
  {
   "cell_type": "markdown",
   "metadata": {},
   "source": [
    "## MTH9875 Homework 6\n",
    "\n",
    "Assigned: September 29, 2016.\n",
    "Due: October 13, 2016 by 6pm.\n",
    "\n",
    "Late homework **will not be accepted**."
   ]
  },
  {
   "cell_type": "markdown",
   "metadata": {},
   "source": [
    "# Qing Huang"
   ]
  },
  {
   "cell_type": "markdown",
   "metadata": {},
   "source": [
    "<font color = \"red\">Homework is to be done by each student individually.  To receive full credit, you must email a completed copy of this iPython notebook to Victor Istratov (stavka@gmail.com), Yassine Ghalem (yassine.ghalem@gmail.com) and Jim Gatheral (jim.gatheral@gmail.com) by the due date and time.  All R-code must run correctly and solutions must be written up neatly in Markdown/LaTeX format."
   ]
  },
  {
   "cell_type": "markdown",
   "metadata": {},
   "source": [
    "### Download some R-code\n",
    "\n",
    "The following code sources *BlackScholes.R* which has the Black-Scholes formula and implied volatility computation and *Heston2.R* which has in particular the *impvolHeston* function."
   ]
  },
  {
   "cell_type": "code",
   "execution_count": 1,
   "metadata": {},
   "outputs": [],
   "source": [
    "download.file(url=\"http://mfe.baruch.cuny.edu/wp-content/uploads/2015/10/9875-5.zip\", destfile=\"9875-5.zip\")\n",
    "unzip(zipfile=\"9875-5.zip\")\n",
    "source(\"BlackScholes.R\")\n",
    "source(\"Heston2.R\")"
   ]
  },
  {
   "cell_type": "markdown",
   "metadata": {},
   "source": [
    "### 0. (0 points) \n",
    "\n",
    "Read Chapter 6 of The Volatility Surface. "
   ]
  },
  {
   "cell_type": "markdown",
   "metadata": {},
   "source": [
    "## The Kou double-exponential jump diffusion model\n",
    "\n",
    "\n",
    "In the Kou model, the underlying follows a jump-diffusion process of the form\n",
    "\n",
    "$$\n",
    "x_t=\\alpha\\,t+\\sigma\\,W_t+\\sum_{i=1}^{N_t}\\,y_i\n",
    "$$\n",
    "\n",
    "where $\\{N_t\\}$ is the Poisson process counting the jumps of $x$ and $y_i$ are jump sizes.  The distribution of jump sizes is an asymmetric exponential with density\n",
    "\n",
    "<a name=\"eq:KouDensity\"></a>(1)\n",
    "$$\n",
    "\\nu(x)=p\\,\\lambda_+\\,e^{-\\lambda_+\\,x}\\,{\\bf 1}_{x>0}+(1-p)\\,\\lambda_-\\,e^{+\\lambda_-\\,x}\\,{\\bf 1}_{x \\leq 0}.\n",
    "$$"
   ]
  },
  {
   "cell_type": "markdown",
   "metadata": {},
   "source": [
    "### 1. (2 points)\n",
    "\n",
    "Conditional on an up-jump, what is the expected size of the jump?\n",
    "\n",
    "\n",
    "$$\n",
    "\\newcommand{\\supp}{\\mathrm{supp}}\n",
    "\\newcommand{\\E}{\\mathbb{E} }\n",
    "\\def\\Cov{{ \\mbox{Cov} }}\n",
    "\\def\\Var{{ \\mbox{Var} }}\n",
    "\\newcommand{\\1}{\\mathbf{1} }\n",
    "\\newcommand{\\PP}{\\mathbb{P} }\n",
    "%\\newcommand{\\Pr}{\\mathrm{Pr} }\n",
    "\\newcommand{\\QQ}{\\mathbb{Q} }\n",
    "\\newcommand{\\RR}{\\mathbb{R} }\n",
    "\\newcommand{\\DD}{\\mathbb{D} }\n",
    "\\newcommand{\\HH}{\\mathbb{H} }\n",
    "\\newcommand{\\spn}{\\mathrm{span} }\n",
    "\\newcommand{\\cov}{\\mathrm{cov} }\n",
    "\\newcommand{\\sgn}{\\mathrm{sgn} }\n",
    "\\newcommand{\\HS}{\\mathcal{L}_{\\mathrm{HS}} }\n",
    "%\\newcommand{\\HS}{\\mathrm{HS} }\n",
    "\\newcommand{\\trace}{\\mathrm{trace} }\n",
    "\\newcommand{\\LL}{\\mathcal{L} }\n",
    "%\\newcommand{\\LL}{\\mathrm{L} }\n",
    "\\newcommand{\\s}{\\mathcal{S} }\n",
    "\\newcommand{\\ee}{\\mathcal{E} }\n",
    "\\newcommand{\\ff}{\\mathcal{F} }\n",
    "\\newcommand{\\hh}{\\mathcal{H} }\n",
    "\\newcommand{\\bb}{\\mathcal{B} }\n",
    "\\newcommand{\\dd}{\\mathcal{D} }\n",
    "\\newcommand{\\g}{\\mathcal{G} }\n",
    "\\newcommand{\\p}{\\partial}\n",
    "\\newcommand{\\half}{\\frac{1}{2} }\n",
    "\\newcommand{\\T}{\\mathcal{T} }\n",
    "\\newcommand{\\bi}{\\begin{itemize}}\n",
    "\\newcommand{\\ei}{\\end{itemize}}\n",
    "\\newcommand{\\beq}{\\begin{equation}}\n",
    "\\newcommand{\\eeq}{\\end{equation}}\n",
    "\\newcommand{\\beas}{\\begin{eqnarray*}}\n",
    "\\newcommand{\\eeas}{\\end{eqnarray*}}\n",
    "\\newcommand{\\cO}{\\mathcal{O}}\n",
    "\\newcommand{\\cF}{\\mathcal{F}}\n",
    "\\newcommand{\\cL}{\\mathcal{L}}\n",
    "$$\n",
    "\n"
   ]
  },
  {
   "cell_type": "markdown",
   "metadata": {},
   "source": [
    "# Answer:\n",
    "Expected size of the jump is $E[x|x>0]=\\frac{E[x,x>0]}{P(x>0)}$\n",
    "\n",
    "$$\n",
    "\\nu(x)=p\\,\\lambda_+\\,e^{-\\lambda_+\\,x}\\,{\\bf 1}_{x>0}+(1-p)\\,\\lambda_-\\,e^{+\\lambda_-\\,x}\\,{\\bf 1}_{x \\leq 0}.\n",
    "$$\n",
    "\n",
    "Thus\n",
    "$E[x|x>0]=\\frac{\\int^\\infty_0 x\\nu(x)dx}{\\int^\\infty_0 \\nu(x)dx}=\\frac{1}{\\lambda_+}$"
   ]
  },
  {
   "cell_type": "markdown",
   "metadata": {},
   "source": [
    "### 2. (8 points) \n",
    "\n",
    "Using the Lévy Khintchine formula, derive the characteristic function \n",
    "$\n",
    "\\phi_T(u)=\\exp\\{\\psi(u)\\,T\\}\n",
    "$\n",
    "with\n",
    "\n",
    "<a name=\"eq:KouPsi\"></a>(2)\n",
    "$$\n",
    "\\psi(u)=-\\frac{\\sigma^2}{2}\\,u^2+i\\,\\omega\\,u+i\\,u\\,\\lambda\\,\\left\\{\\frac{p}{\\lambda_+-i\\,u}-\\frac{1-p}{\\lambda_-+i\\,u}\\right\\}\n",
    "$$\n",
    "\n",
    "where $\\lambda$ is the mean jump arrival rate and\n",
    "\n",
    "$$\n",
    "\\omega=-\\frac{\\sigma^2}{2}-\\lambda\\,\\left\\{\\frac{p}{\\lambda_+-1}-\\frac{1-p}{\\lambda_-+1}\\right\\}.\n",
    "$$\n",
    "\n",
    "$\\psi(u)$ is known as the *characteristic exponent* of the Lévy process."
   ]
  },
  {
   "cell_type": "markdown",
   "metadata": {},
   "source": [
    "# Answer \n",
    "\\begin{eqnarray}\n",
    "\\phi_Y(u) &=&\\E[e^{iuY}Y] \\\\\n",
    "&=&iu\\left\\{\\frac{p}{\\lambda_+-iu}-\\frac{(1-p)}{\\lambda_-+iu}\\right\\}+1\n",
    "\\end{eqnarray}\n",
    "\n",
    "Plug into the formula in this question\n",
    "\\begin{eqnarray}\n",
    "\\phi_T(u)&=&\\exp\\left\\{(-\\frac{\\sigma^2}{2}\\,u^2+i\\,\\omega\\,u+\\lambda\\,\\left\\{\\phi_Y(u)-1\\right\\})T\\right\\}\\\\\n",
    "&=&\\exp\\left\\{(-\\frac{\\sigma^2}{2}\\,u^2+i\\,\\omega\\,u+i\\,u\\,\\lambda\\,\\left\\{\\frac{p}{\\lambda_+-i\\,u}-\\frac{1-p}{\\lambda_-+i\\,u}\\right\\})T\\right\\}\\\\\n",
    "&=&\\exp\\{\\psi(u)\\,T\\}\n",
    "\\end{eqnarray}\n",
    "\n",
    "Therefore,\n",
    "\n",
    "$$\\omega=-\\frac{1}{2}\\sigma^2 -\\lambda \\left\\{\\frac{p}{\\lambda_+-1}-\\frac{(1-p)}{\\lambda_-+1}\\right\\}$$"
   ]
  },
  {
   "cell_type": "markdown",
   "metadata": {},
   "source": [
    "### 3. (6 points) \n",
    "\n",
    "Use the characteristic exponent [(2)](#eq:KouPsi) and Lewis's formula (6) from the notes to plot the one-year implied volatility smile assuming the following parameters:\n",
    "\n",
    "$$\n",
    "\\sigma=0.2; \\,\\lambda=1.0;\\,p=0.25;\\,\\lambda_-=8;\\,\\lambda_+=25;\n",
    "$$\n",
    "\n",
    "The log-strike range should be from $k=-1.0$ to $k=1.0$.  "
   ]
  },
  {
   "cell_type": "code",
   "execution_count": 2,
   "metadata": {},
   "outputs": [
    {
     "data": {
      "image/png": "[encoded data removed]",
      "text/plain": [
       "plot without title"
      ]
     },
     "metadata": {},
     "output_type": "display_data"
    }
   ],
   "source": [
    "chac_kou <- function(params){\n",
    "    \n",
    "    lbd <- params$lbd\n",
    "    sig <- params$sig\n",
    "    p <- params$p\n",
    "    lbd1 <- params$lbd1\n",
    "    lbd2 <- params$lbd2\n",
    "    \n",
    "    function(u, t){\n",
    "\n",
    "    omega <- -sig^2/2-lbd*(p/(lbd1-1)-(1-p)/(lbd2+1))\n",
    "    phi = -0.5*sig^2*u^2+1i*omega*u+1i*u*lbd*(p/(lbd1-1i*u)-(1-p)/(lbd2+1i*u)) \n",
    "    return (exp(phi*t))\n",
    "\n",
    "}\n",
    "}\n",
    "subKou <- list(lbd = 1.0,sig = 0.2,p = 0.25,lbd1 = 25,lbd2 =8)\n",
    "k=seq(-1.0,1.0,by=0.1)\n",
    "impVols=sapply(k,function(k){bsvol(chac_kou(subKou),k,1)})\n",
    "plot(k,impVols,xlab=\"strike\",ylab=\"Implied Vol\",type=\"l\")"
   ]
  },
  {
   "cell_type": "markdown",
   "metadata": {},
   "source": [
    "## Jump-Diffusion Monte Carlo"
   ]
  },
  {
   "cell_type": "markdown",
   "metadata": {},
   "source": [
    "### 4. (10 points) \n",
    "\n",
    "Write Monte Carlo code to price European options in the Kou model.  With the same parameters as in Problem 3, plot the one-year implied volatility smile from $k=-1.0$ to $k=1.0$.  Verify that you obtain the same implied volatilities."
   ]
  },
  {
   "cell_type": "code",
   "execution_count": 3,
   "metadata": {},
   "outputs": [],
   "source": [
    "KouMC <- function(params,T, N, m){\n",
    "    evolveKou <- function(params,x,dt,W1,U)\n",
    "    {\n",
    "        lbd <- params$lbd\n",
    "        sig <- params$sig\n",
    "        p <- params$p\n",
    "        lbd1 <- params$lbd1\n",
    "        lbd2 <- params$lbd2\n",
    "        w <- -sig^2/2-lbd*(p/(lbd1-1)-(1-p)/(lbd2+1))\n",
    "\n",
    "        jumpSize <-  function(isJump)\n",
    "        {\n",
    "            if (isJump)\n",
    "            {\n",
    "              d <- rbinom(1, size=1, prob=p)\n",
    "              if (d == 1)\n",
    "                return(rexp(1, rate=lbd1))\n",
    "              else\n",
    "                return(-rexp(1, rate=lbd2))\n",
    "            }\n",
    "            return(0)\n",
    "        }\n",
    "        J <- sapply(U < (1 - exp(-lbd*dt)), jumpSize)\n",
    "\n",
    "        x <- x + w*dt + sig*sqrt(dt)*W1 + J\n",
    "        x <- x - log(mean(exp(x)));\n",
    "        return(x);\n",
    "    }\n",
    "    \n",
    "    n <- m*2;\n",
    "    x <- rep(0,N);\n",
    "\n",
    "    for (i in 1:n)\n",
    "    { \n",
    "        W1 <- rnorm(N);\n",
    "        W1 <- W1 - mean(W1); W1 <- W1/sd(W1);\n",
    "        U <- runif(N);\n",
    "\n",
    "        x <- evolveKou(params, x,T/n,W1,U);\n",
    "    }\n",
    "\n",
    "    x\n",
    "}\n",
    "\n",
    "\n",
    "xt <- KouMC(subKou,1, 100000, 64)\n",
    "KouCallMC <-function(S, K){\n",
    "    V <- (S > K)*(S - K) \n",
    "    mean(V)\n",
    "}\n"
   ]
  },
  {
   "cell_type": "code",
   "execution_count": 4,
   "metadata": {},
   "outputs": [
    {
     "data": {
      "image/png": "[encoded data removed]",
      "text/plain": [
       "plot without title"
      ]
     },
     "metadata": {},
     "output_type": "display_data"
    }
   ],
   "source": [
    "impVolsMC <- sapply(k, function(x){BSImpliedVolCall(1, exp(x), 1, 0, KouCallMC(exp(xt), exp(x)))})\n",
    "plot(k,impVols,xlab=\"strike\",ylab=\"Implied Vol\",type=\"l\")\n",
    "lines(k,impVolsMC,type=\"l\",col=\"red\")"
   ]
  },
  {
   "cell_type": "markdown",
   "metadata": {},
   "source": [
    "## Term structure of ATM skew"
   ]
  },
  {
   "cell_type": "markdown",
   "metadata": {},
   "source": [
    "### 5.(4 points) \n",
    "\n",
    "Using formula (8) from the lecture notes:\n",
    "\n",
    "\\begin{equation}\n",
    "\\left.\\frac{\\partial \\sigma_{BS} }{\\partial k }\\right|_{k=0}=-\n",
    "e^{\\frac{\\sigma_{BS}^2 T}{8}} \\sqrt{\\frac{2}{ \\pi}}\\frac{1}{\n",
    "\\sqrt{T}}\\,\\int_0^\\infty\\,du \\, \\frac{u\\,\n",
    "\\mathrm{Im}\\left[\\phi_T(u-i/2)\\right]}\n",
    "{u^2+\\frac{1}{4}},\n",
    "\\end{equation}\n",
    "plot the ATM volatility skew\n",
    "\n",
    "$$\n",
    "\\left.\\frac{\\partial \\sigma_{BS} }{\\partial k }\\right|_{k=0}\n",
    "$$\n",
    "\n",
    "from 0 to 10 years.  Superimpose the curve $a/\\sqrt{T}$, setting $a$ so as to match the one-year ATM skew. "
   ]
  },
  {
   "cell_type": "code",
   "execution_count": 5,
   "metadata": {},
   "outputs": [
    {
     "data": {
      "image/png": "[encoded data removed]",
      "text/plain": [
       "plot without title"
      ]
     },
     "metadata": {},
     "output_type": "display_data"
    }
   ],
   "source": [
    "atmSkew <- function(phi, t)\n",
    "{\n",
    "    atmVol <- BSImpliedVolCall(S0=1, K=1, T=t, r=0, C=callOption(phi, 0, t));\n",
    "    integrand <-  function(u){Im(u*phi(u - 1i/2, t)/(u^2 + 1/4))};\n",
    "    \n",
    " -integrate(integrand,lower=0,upper=Inf,rel.tol=0.0000000001,subdivisions=1000)$value/sqrt(t)*sqrt(2/pi)*exp(atmVol^2*t/8);\n",
    "\n",
    "}\n",
    "atmSkewV <- function(phi,tVec){sapply(tVec,function(t){atmSkew(phi,t)})};\n",
    "curve(atmSkewV(chac_kou(subKou),x),from=0.00001,to=10,col=\"red\",xlab=\"Time to expiry\", ylab=\"ATM variance skew\")\n",
    "curve(atmSkew(chac_kou(subKou),1) / sqrt(x), from=0.00001,to=10,col=\"green\", add=TRUE)"
   ]
  },
  {
   "cell_type": "markdown",
   "metadata": {},
   "source": [
    "## Qualitative assessment of the Kou model"
   ]
  },
  {
   "cell_type": "markdown",
   "metadata": {},
   "source": [
    "### 6. (6 points)  \n",
    "\n",
    "Make some clear qualitative comments directed at a non-specialist (*e.g.* your boss who is a trader) as to the suitability of the Kou model for pricing exotic derivatives.  Consider how realistic the process is and how well the model can fit the empirical volatility surface."
   ]
  },
  {
   "cell_type": "markdown",
   "metadata": {},
   "source": [
    "# Answer:\n",
    "\n",
    " Kou model is that it involves jumps, and jumps are not very good to simulate stock process.This will give the major error for pricing many kinds of exotics. The skew is also not very fit to the empirical results, as we see from 5\n",
    "\n",
    "\n",
    "\n",
    "But it allows us to calibrate its jump process so that down jumps happen more frequently and with bigger size then upward jumps, which is very similar to the real process."
   ]
  },
  {
   "cell_type": "code",
   "execution_count": null,
   "metadata": {
    "collapsed": true
   },
   "outputs": [],
   "source": []
  }
 ],
 "metadata": {
  "kernelspec": {
   "display_name": "R",
   "language": "R",
   "name": "ir"
  },
  "language_info": {
   "codemirror_mode": "r",
   "file_extension": ".r",
   "mimetype": "text/x-r-source",
   "name": "R",
   "pygments_lexer": "r",
   "version": "3.4.1"
  }
 },
 "nbformat": 4,
 "nbformat_minor": 1
}
