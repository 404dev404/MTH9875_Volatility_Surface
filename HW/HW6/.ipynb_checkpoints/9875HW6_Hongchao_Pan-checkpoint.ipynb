{
 "cells": [
  {
   "cell_type": "markdown",
   "metadata": {},
   "source": [
    "## MTH9875 Homework 6\n",
    "\n",
    "Assigned: October 5, 2017.\n",
    "Due: October 19, 2017 by 6pm.\n",
    "\n",
    "Late homework **will not be accepted**."
   ]
  },
  {
   "cell_type": "markdown",
   "metadata": {},
   "source": [
    "<font color = \"red\">Homework is to be done by each student individually.  To receive full credit, you must email a completed copy of this iPython notebook to Victor Istratov (stavka@gmail.com), Yassine Ghalem (yassine.ghalem@gmail.com) and Jim Gatheral (jim.gatheral@gmail.com) by the due date and time.  All R-code must run correctly and solutions must be written up neatly in Markdown/LaTeX format."
   ]
  },
  {
   "cell_type": "markdown",
   "metadata": {},
   "source": [
    "* **Author: Hongchao Pan**\n",
    "* Kernel Version: R 3.3.2\n",
    "* Packages/Libraries: repr\n",
    "* Notes:\n",
    "    * It takes some time to run this notebook due to the use of 100000 paths for Monte Carlo simulation"
   ]
  },
  {
   "cell_type": "code",
   "execution_count": 1,
   "metadata": {
    "collapsed": true
   },
   "outputs": [],
   "source": [
    "# Record the time\n",
    "ptm<-proc.time()"
   ]
  },
  {
   "cell_type": "markdown",
   "metadata": {},
   "source": [
    "### Download some R-code\n",
    "\n",
    "The following code sources *BlackScholes.R* which has the Black-Scholes formula and implied volatility computation."
   ]
  },
  {
   "cell_type": "code",
   "execution_count": 2,
   "metadata": {
    "collapsed": true
   },
   "outputs": [],
   "source": [
    "download.file(url=\"http://mfe.baruch.cuny.edu/wp-content/uploads/2015/10/9875-5.zip\", destfile=\"9875-5.zip\")\n",
    "unzip(zipfile=\"9875-5.zip\")\n",
    "source(\"BlackScholes.R\")\n",
    "\n",
    "library(repr)\n",
    "options(repr.plot.height=5)"
   ]
  },
  {
   "cell_type": "markdown",
   "metadata": {},
   "source": [
    "### 0. (0 points) \n",
    "\n",
    "Read Chapter 6 of The Volatility Surface. "
   ]
  },
  {
   "cell_type": "markdown",
   "metadata": {},
   "source": [
    "## The Kou double-exponential jump diffusion model\n",
    "\n",
    "\n",
    "In the Kou model, the underlying follows a jump-diffusion process of the form\n",
    "\n",
    "$$\n",
    "x_t=\\alpha\\,t+\\sigma\\,W_t+\\sum_{i=1}^{N_t}\\,y_i\n",
    "$$\n",
    "\n",
    "where $\\{N_t\\}$ is the Poisson process counting the jumps of $x$ and $y_i$ are jump sizes.  The distribution of jump sizes is an asymmetric exponential with density\n",
    "\n",
    "<a name=\"eq:KouDensity\"></a>(1)\n",
    "$$\n",
    "\\nu(x)=p\\,\\lambda_+\\,e^{-\\lambda_+\\,x}\\,{\\bf 1}_{x>0}+(1-p)\\,\\lambda_-\\,e^{+\\lambda_-\\,x}\\,{\\bf 1}_{x \\leq 0}.\n",
    "$$"
   ]
  },
  {
   "cell_type": "markdown",
   "metadata": {},
   "source": [
    "### 1. (2 points)\n",
    "\n",
    "Conditional on an up-jump, what is the expected size of the jump?\n",
    "\n",
    "\n",
    "$$\n",
    "\\newcommand{\\supp}{\\mathrm{supp}}\n",
    "\\newcommand{\\E}{\\mathbb{E} }\n",
    "\\def\\Cov{{ \\mbox{Cov} }}\n",
    "\\def\\Var{{ \\mbox{Var} }}\n",
    "\\newcommand{\\1}{\\mathbf{1} }\n",
    "\\newcommand{\\PP}{\\mathbb{P} }\n",
    "%\\newcommand{\\Pr}{\\mathrm{Pr} }\n",
    "\\newcommand{\\QQ}{\\mathbb{Q} }\n",
    "\\newcommand{\\RR}{\\mathbb{R} }\n",
    "\\newcommand{\\DD}{\\mathbb{D} }\n",
    "\\newcommand{\\HH}{\\mathbb{H} }\n",
    "\\newcommand{\\spn}{\\mathrm{span} }\n",
    "\\newcommand{\\cov}{\\mathrm{cov} }\n",
    "\\newcommand{\\sgn}{\\mathrm{sgn} }\n",
    "\\newcommand{\\HS}{\\mathcal{L}_{\\mathrm{HS}} }\n",
    "%\\newcommand{\\HS}{\\mathrm{HS} }\n",
    "\\newcommand{\\trace}{\\mathrm{trace} }\n",
    "\\newcommand{\\LL}{\\mathcal{L} }\n",
    "%\\newcommand{\\LL}{\\mathrm{L} }\n",
    "\\newcommand{\\s}{\\mathcal{S} }\n",
    "\\newcommand{\\ee}{\\mathcal{E} }\n",
    "\\newcommand{\\ff}{\\mathcal{F} }\n",
    "\\newcommand{\\hh}{\\mathcal{H} }\n",
    "\\newcommand{\\bb}{\\mathcal{B} }\n",
    "\\newcommand{\\dd}{\\mathcal{D} }\n",
    "\\newcommand{\\g}{\\mathcal{G} }\n",
    "\\newcommand{\\p}{\\partial}\n",
    "\\newcommand{\\half}{\\frac{1}{2} }\n",
    "\\newcommand{\\T}{\\mathcal{T} }\n",
    "\\newcommand{\\bi}{\\begin{itemize}}\n",
    "\\newcommand{\\ei}{\\end{itemize}}\n",
    "\\newcommand{\\beq}{\\begin{equation}}\n",
    "\\newcommand{\\eeq}{\\end{equation}}\n",
    "\\newcommand{\\beas}{\\begin{eqnarray*}}\n",
    "\\newcommand{\\eeas}{\\end{eqnarray*}}\n",
    "\\newcommand{\\cO}{\\mathcal{O}}\n",
    "\\newcommand{\\cF}{\\mathcal{F}}\n",
    "\\newcommand{\\cL}{\\mathcal{L}}\n",
    "$$\n",
    "\n"
   ]
  },
  {
   "cell_type": "markdown",
   "metadata": {},
   "source": [
    "### Answer of Q1:"
   ]
  },
  {
   "cell_type": "markdown",
   "metadata": {},
   "source": [
    "* Since we conditional on an up-jump, then we have $x>0$. Therefore,\n",
    "\n",
    "\\begin{eqnarray*}\n",
    "\\\\P({x>0}) &=& \\int_0^{\\infty} \\nu(x)dx\\\\\n",
    "&=& \\int_0^{\\infty} p \\lambda_{+} e^{-\\lambda_+ x}dx\\\\\n",
    "&=& -p e^{-\\lambda_+x} \\big|_0^{\\infty}\\\\\n",
    "&=& p\n",
    "\\end{eqnarray*}"
   ]
  },
  {
   "cell_type": "markdown",
   "metadata": {},
   "source": [
    "* The joint expectation is:\n",
    "\n",
    "\\begin{eqnarray*}\n",
    "\\E{[x,x>0]} &=& \\int_0^{\\infty}x \\nu(x)dx\\\\\n",
    "&=& \\int_0^{\\infty} p\\lambda_+ e^{-\\lambda_+x}x dx\\\\\n",
    "&=& -pxe^{-\\lambda_+x} \\big|_0^{\\infty} + p \\int_0^{\\infty}e^{-\\lambda_+x}dx\\\\\n",
    "&=&\\frac{p}{\\lambda_+}\n",
    "\\end{eqnarray*}"
   ]
  },
  {
   "cell_type": "markdown",
   "metadata": {},
   "source": [
    "* Therefore, the expectation of conditional on up-jump is:\n",
    "\n",
    "\\begin{eqnarray*}\n",
    "\\E{[x|x>0]} &=& \\frac{\\E{[x,x>0]}}{P{(x>0)}}\\\\\n",
    "&=&\\frac{1}{\\lambda_+}\n",
    "\\end{eqnarray*}"
   ]
  },
  {
   "cell_type": "markdown",
   "metadata": {},
   "source": [
    "### 2. (8 points) \n",
    "\n",
    "Using the Lévy Khintchine formula, derive the characteristic function \n",
    "$\n",
    "\\phi_T(u)=\\exp\\{\\psi(u)\\,T\\}\n",
    "$\n",
    "with\n",
    "\n",
    "<a name=\"eq:KouPsi\"></a>(2)\n",
    "$$\n",
    "\\psi(u)=-\\frac{\\sigma^2}{2}\\,u^2+i\\,\\omega\\,u+i\\,u\\,\\lambda\\,\\left\\{\\frac{p}{\\lambda_+-i\\,u}-\\frac{1-p}{\\lambda_-+i\\,u}\\right\\}\n",
    "$$\n",
    "\n",
    "where $\\lambda$ is the mean jump arrival rate and\n",
    "\n",
    "$$\n",
    "\\omega=-\\frac{\\sigma^2}{2}-\\lambda\\,\\left\\{\\frac{p}{\\lambda_+-1}-\\frac{1-p}{\\lambda_-+1}\\right\\}.\n",
    "$$\n",
    "\n",
    "$\\psi(u)$ is known as the *characteristic exponent* of the Lévy process."
   ]
  },
  {
   "cell_type": "markdown",
   "metadata": {},
   "source": [
    "### Answer of Q2"
   ]
  },
  {
   "cell_type": "markdown",
   "metadata": {
    "collapsed": true
   },
   "source": [
    "* As we know that, the Levy Khintchine formula is:\n",
    "\n",
    "$$\n",
    "\\phi_T(u)=\\exp\\left\\{i \\,u\\, \\omega\\, T -\\frac{1}{2}u^2\\, \\sigma^2 T +T\n",
    "\\int \\left[e^{i \\,u \\,x}-1\\right]\\mu(x)\\,dx\\right\\}\n",
    "$$\n",
    "\n",
    "where\n",
    "\n",
    "$$\n",
    "\\mu(x)=\\lambda \\nu(x)=\\lambda \\left(p\\,\\lambda_+\\,e^{-\\lambda_+\\,x}\\,{\\bf 1}_{x>0}+(1-p)\\,\\lambda_-\\,e^{+\\lambda_-\\,x}\\,{\\bf 1}_{x \\leq 0}\\right)\n",
    "$$"
   ]
  },
  {
   "cell_type": "markdown",
   "metadata": {},
   "source": [
    "* Plug into the integration part of the eqaution, we have:\n",
    "\n",
    "$$\n",
    "\\begin{eqnarray*}\n",
    "\\int [ e^{iux}-1]\\mu(x) dx &=& \\int_{-\\infty}^0 \\lambda \\left(e^{iux}-1\\right)(1-p)\\lambda_{-}e^{\\lambda_- x}dx +\n",
    "\\int_0^{\\infty} p\\lambda \\lambda_{+} \\left( e^{iux}-1\\right)e^{-\\lambda_{+}x}dx\\\\\n",
    "&=& \\lambda (1-p)\\lambda_- \\int_{-\\infty}^0 e^{(iu+\\lambda_-)x}dx -\\lambda (1-p)\\int_{-\\infty}^0 \\lambda_-e^{\\lambda_-x}dx + p\\lambda \\int_{0}^{\\infty} \\lambda_+ e^{(iu-\\lambda_+)x}dx -p \\lambda \\int_0^{\\infty}\\lambda_+ e^{-\\lambda_+x}dx\\\\\n",
    "&=& \\frac{\\lambda \\lambda_- (1-p)}{\\lambda_- + iu} -\\lambda(1-p) +\\frac{p\\lambda \\lambda_+}{\\lambda_+ - iu}-p\\lambda\\\\\n",
    "&=& \\lambda \\left[ \\frac{-(1-p)iu}{\\lambda_- + iu}+\\frac{piu}{\\lambda_+ - iu}\\right]\\\\\n",
    "&=& iu\\lambda\\,\\left\\{\\frac{p}{\\lambda_+ - iu} - \\frac{1-p}{\\lambda_- + iu}\\right\\}\n",
    "\\end{eqnarray*}\n",
    "$$"
   ]
  },
  {
   "cell_type": "markdown",
   "metadata": {},
   "source": [
    "* Therefore, we have:\n",
    "\n",
    "$$\n",
    "\\psi(u)=-\\frac{\\sigma^2}{2}\\,u^2+i\\,\\omega\\,u+i\\,u\\,\\lambda\\,\\left\\{\\frac{p}{\\lambda_+-i\\,u}-\\frac{1-p}{\\lambda_-+i\\,u}\\right\\}\n",
    "$$"
   ]
  },
  {
   "cell_type": "markdown",
   "metadata": {},
   "source": [
    "* With condition, $$\\phi_T(-i)=\\mathbb{E}\\left[e^{x_T}\\right]=1$$ \n",
    "\n",
    "$\\Rightarrow$\n",
    "\n",
    "$$\n",
    "\\psi(-i) = \\frac{\\sigma^2}{2} + \\omega - \\lambda\\,[\\frac{p}{\\lambda_+-i\\,u}-\\frac{1-p}{\\lambda_-+i\\,u}] = 0\n",
    "$$\n",
    "\n",
    "$\\Rightarrow$\n",
    "$$\n",
    "\\omega=-\\frac{\\sigma^2}{2}-\\lambda\\,\\left\\{\\frac{p}{\\lambda_+-1}-\\frac{1-p}{\\lambda_-+1}\\right\\}.\n",
    "$$"
   ]
  },
  {
   "cell_type": "markdown",
   "metadata": {},
   "source": [
    "### 3. (6 points) \n",
    "\n",
    "Use the characteristic exponent [(2)](#eq:KouPsi) and Lewis's formula (6) from the notes to plot the one-year implied volatility smile assuming the following parameters:\n",
    "\n",
    "$$\n",
    "\\sigma=0.2; \\,\\lambda=1.0;\\,p=0.25;\\,\\lambda_-=8;\\,\\lambda_+=25;\n",
    "$$\n",
    "\n",
    "The log-strike range should be from $k=-1.0$ to $k=1.0$.  "
   ]
  },
  {
   "cell_type": "markdown",
   "metadata": {},
   "source": [
    "### Answer of Q3"
   ]
  },
  {
   "cell_type": "code",
   "execution_count": 3,
   "metadata": {
    "collapsed": true
   },
   "outputs": [],
   "source": [
    "source(\"Heston2.R\") # Use the bsvol function in this script\n",
    "\n",
    "# Characteristic function of Kou model\n",
    "charC_Kou <- function(params)\n",
    "{   \n",
    "    sig <- params$sig\n",
    "    lambda <- params$lambda\n",
    "    p <- params$p\n",
    "    lambdaM <- params$lambdaM\n",
    "    lambdaP <- params$lambdaP\n",
    "       \n",
    "    res <- function(u, t)\n",
    "    {\n",
    "        omega <- -sig * sig / 2.0 - lambda * (p / (lambdaP - 1) - (1-p) / (lambdaM + 1))\n",
    "        psi <- -sig * sig / 2.0 * u * u + (0+1i) * omega * u \n",
    "        psi <- psi + (0+1i) * u * lambda * ((p / (lambdaP - (0+1i) * u)) - (1-p) / (lambdaM + (0+1i) * u))\n",
    "        \n",
    "        res <- exp(psi * t)\n",
    "        \n",
    "        return(res)\n",
    "    }\n",
    "    \n",
    "    return(res)\n",
    "}"
   ]
  },
  {
   "cell_type": "code",
   "execution_count": 4,
   "metadata": {
    "collapsed": true
   },
   "outputs": [],
   "source": [
    "# Initialize the parameters with given number\n",
    "paramsKou <- list(sig = 0.2, lambda = 1.0, p = 0.25, lambdaM = 8.0, lambdaP = 25.0)"
   ]
  },
  {
   "cell_type": "code",
   "execution_count": 5,
   "metadata": {},
   "outputs": [
    {
     "data": {
      "image/png": "[encoded data removed]",
      "text/plain": [
       "plot without title"
      ]
     },
     "metadata": {},
     "output_type": "display_data"
    }
   ],
   "source": [
    "# Plot the curve\n",
    "options(repr.plot.height=4,repr.plot.width=6)\n",
    "Impvol <- function(k){sapply(k,function(x){bsvol(charC_Kou(paramsKou),x,1)})}\n",
    "curve(Impvol(x),from=-1.0,to=1.0,col=\"blue\",xlab=\"Log-strike\", ylab=\"Implied Vol\")"
   ]
  },
  {
   "cell_type": "markdown",
   "metadata": {},
   "source": [
    "## Jump-Diffusion Monte Carlo"
   ]
  },
  {
   "cell_type": "markdown",
   "metadata": {},
   "source": [
    "### 4. (10 points) \n",
    "\n",
    "Write Monte Carlo code to price European options in the Kou model.  With the same parameters as in Problem 3, plot the one-year implied volatility smile from $k=-1.0$ to $k=1.0$.  Verify that you obtain the same implied volatilities."
   ]
  },
  {
   "cell_type": "markdown",
   "metadata": {},
   "source": [
    "### Answer of Q4"
   ]
  },
  {
   "cell_type": "code",
   "execution_count": 6,
   "metadata": {
    "collapsed": true
   },
   "outputs": [],
   "source": [
    "# Define function to calculate the jumps\n",
    "NJumps <- function(n, p, lamp, lamm){\n",
    "    \n",
    "    # n: number of rv to generate, which is positive\n",
    "    # p: probability of rv to be positive\n",
    "    # lamp: rate for positive rv, \n",
    "    # lamm: rate for negative rv\n",
    "\n",
    "    res <- 0\n",
    "    \n",
    "    prob <- runif(n, min=0, max=1)\n",
    "    lampV <- rep(lamp, n)\n",
    "    lammV <- rep(lamm, n)\n",
    "    lamV <- (prob < p) * lamp + (prob >= p) * lamm   \n",
    "    tmp <- rexp(n, rate=lamV)        \n",
    "    res <- sum((prob < p) * tmp - (prob >= p) * tmp)\n",
    "\n",
    "    return (res)\n",
    "    \n",
    "}"
   ]
  },
  {
   "cell_type": "code",
   "execution_count": 7,
   "metadata": {
    "collapsed": true
   },
   "outputs": [],
   "source": [
    "# Define a function to compute European call option with Kou model and MC\n",
    "Kou_C_MC <- function(paramsKou, k, T, paths=100000, steps=1)\n",
    "{\n",
    "    # Function to calculate call option price with Kou model and MC\n",
    "    # assuming alpha = mu_j, S0 = 1, r = 0\n",
    "    \n",
    "    sig <- paramsKou$sig\n",
    "    lambda <- paramsKou$lambda\n",
    "    p <- paramsKou$p\n",
    "    lambdaM <- paramsKou$lambdaM\n",
    "    lambdaP <- paramsKou$lambdaP\n",
    "    \n",
    "    alpha <- 0\n",
    "    \n",
    "    K <- exp(k)  # Assume S0=1\n",
    "    \n",
    "    dt <- T / steps\n",
    " \n",
    "    evolveK <- function(x)\n",
    "    {\n",
    "        BMs <- rnorm(paths)\n",
    "        Nts <- rpois(paths, lambda * dt)\n",
    "        BMs <- BMs - mean(BMs);  BMs <- BMs/sd(BMs)       \n",
    "        jumps <- sapply(Nts, function(Nt){NJumps(Nt, p, lambdaP, lambdaM)})        \n",
    "        x <- x + alpha * dt + sig * sqrt(dt) * BMs + jumps     \n",
    "        x <- x - log(mean(exp(x)))       \n",
    "        return(x)\n",
    "    }\n",
    "\n",
    "    x <- numeric(paths)\n",
    "    \n",
    "    for (i in 1:steps)\n",
    "    {\n",
    "        x <- evolveK(x)        \n",
    "    }\n",
    "    \n",
    "    ST <- exp(x) \n",
    "    payoff <- (ST > K) * (ST - K)   \n",
    "    res <- mean(payoff)   \n",
    "    return(res)\n",
    "}"
   ]
  },
  {
   "cell_type": "code",
   "execution_count": 8,
   "metadata": {
    "collapsed": true
   },
   "outputs": [],
   "source": [
    "# Initialize the parameters with given number in Q3\n",
    "paramsKou <- list(sig = 0.2, lambda = 1.0, p = 0.25, lambdaM = 8.0, lambdaP = 25.0)"
   ]
  },
  {
   "cell_type": "code",
   "execution_count": 9,
   "metadata": {},
   "outputs": [],
   "source": [
    "# Vectorization \n",
    "Npaths <- 10000 # 10000 paths\n",
    "KOU_MC_C <- function(k){sapply(k, function(x){Kou_C_MC(paramsKou, x, 1.0, Npaths)})}\n",
    "\n",
    "strikes <- seq(-1.0,1.0,0.01)"
   ]
  },
  {
   "cell_type": "code",
   "execution_count": null,
   "metadata": {},
   "outputs": [],
   "source": [
    "# Plot the prices\n",
    "curve(KOU_MC_C(x),from=-1.0,to=1.0,col='blue',xlab='Log-strike',ylab='Price',\n",
    "      main='European Call Price computed by Kou Model with MC')"
   ]
  },
  {
   "cell_type": "code",
   "execution_count": 11,
   "metadata": {
    "collapsed": true
   },
   "outputs": [],
   "source": [
    "# Define function to compute the implied vol based on MC\n",
    "Npaths <- 100000 # 100000 paths\n",
    "Impvol_MC <- function(k){BSImpliedVolCall(1, exp(k), 1.0, 0, Kou_C_MC(paramsKou, k, 1.0, paths=Npaths))}\n",
    "\n",
    "MCImpvol <- function(k){sapply(k,function(x){Impvol_MC(x)})}"
   ]
  },
  {
   "cell_type": "code",
   "execution_count": 12,
   "metadata": {},
   "outputs": [
    {
     "data": {
      "image/png": "[encoded data removed]",
      "text/plain": [
       "plot without title"
      ]
     },
     "metadata": {},
     "output_type": "display_data"
    }
   ],
   "source": [
    "# Plot the two implied vols\n",
    "curve(MCImpvol(x),from=-1.0, to =1.0, xlab=\"Log-strike\",ylab=\"Implied Vol\",col=\"blue\")\n",
    "curve(Impvol(x),from=-1.0,to=1.0, col='red',add = TRUE)\n",
    "legend(\"bottomleft\",c(\"MC\",\"Characteristic\"),lty=1,bty='n', \n",
    "       y.intersp=1.5,cex=1,col=c(\"blue\", \"red\"))"
   ]
  },
  {
   "cell_type": "markdown",
   "metadata": {},
   "source": [
    "## Term structure of ATM skew"
   ]
  },
  {
   "cell_type": "markdown",
   "metadata": {},
   "source": [
    "### 5.(4 points) \n",
    "\n",
    "Using formula (8) from the lecture notes:\n",
    "\n",
    "\\begin{equation}\n",
    "\\left.\\frac{\\partial \\sigma_{BS} }{\\partial k }\\right|_{k=0}=-\n",
    "e^{\\frac{\\sigma_{BS}^2 T}{8}} \\sqrt{\\frac{2}{ \\pi}}\\frac{1}{\n",
    "\\sqrt{T}}\\,\\int_0^\\infty\\,du \\, \\frac{u\\,\n",
    "\\mathrm{Im}\\left[\\phi_T(u-i/2)\\right]}\n",
    "{u^2+\\frac{1}{4}},\n",
    "\\end{equation}\n",
    "plot the ATM volatility skew\n",
    "\n",
    "$$\n",
    "\\left.\\frac{\\partial \\sigma_{BS} }{\\partial k }\\right|_{k=0}\n",
    "$$\n",
    "\n",
    "from 0 to 10 years.  Superimpose the curve $a/\\sqrt{T}$, setting $a$ so as to match the one-year ATM skew. "
   ]
  },
  {
   "cell_type": "markdown",
   "metadata": {},
   "source": [
    "### Answer of Q5"
   ]
  },
  {
   "cell_type": "code",
   "execution_count": 13,
   "metadata": {
    "collapsed": true
   },
   "outputs": [],
   "source": [
    "# Define the ATM skew function from the formula 8\n",
    "atmSkew <- function(phi, t){\n",
    "    atmVol <- BSImpliedVolCall(S0=1, K=1, T=t, r=0, C=callOption(phi, 0, t));\n",
    "    integrand <-  function(u){Im(u*phi(u - 1i/2, t)/(u^2 + 1/4))};\n",
    "    res <- -integrate(integrand,lower=0,upper=Inf,rel.tol=0.0000000001,subdivisions=1000)$value/sqrt(t)*sqrt(2/pi)*exp(atmVol^2*t/8);\n",
    "    return(res);\n",
    "}"
   ]
  },
  {
   "cell_type": "code",
   "execution_count": 14,
   "metadata": {
    "collapsed": true
   },
   "outputs": [],
   "source": [
    "# Vectorization\n",
    "# Initialize the parameters with given number in Q3\n",
    "paramsKou <- list(sig = 0.2, lambda = 1.0, p = 0.25, lambdaM = 8.0, lambdaP = 25.0)\n",
    "atmSkewVector <- function(t){sapply(t, function(x){atmSkew(charC_Kou(paramsKou), x)})}"
   ]
  },
  {
   "cell_type": "code",
   "execution_count": 15,
   "metadata": {
    "collapsed": true
   },
   "outputs": [],
   "source": [
    "# Compute alpha\n",
    "alpha <- atmSkew(charC_Kou(paramsKou),1)"
   ]
  },
  {
   "cell_type": "code",
   "execution_count": 16,
   "metadata": {},
   "outputs": [
    {
     "data": {
      "image/png": "[encoded data removed]",
      "text/plain": [
       "plot without title"
      ]
     },
     "metadata": {},
     "output_type": "display_data"
    }
   ],
   "source": [
    "# Plot the ATM skew with maturity up to 10Y\n",
    "options(repr.plot.height=6,repr.plot.width=6)\n",
    "curve(atmSkewVector(x),from=0.000001,to=10,col=\"blue\",xlab=\"Maturity\", ylab=\"ATM Skew\")\n",
    "curve(alpha / sqrt(x), from=0.000001,to=10,col=\"red\", add=TRUE)\n",
    "legend(\"center\",c(\"Kou Model\",\"Empirical\"),lty=1,bty='n', \n",
    "       y.intersp=1.5,cex=1,col=c(\"blue\", \"red\"))"
   ]
  },
  {
   "cell_type": "markdown",
   "metadata": {},
   "source": [
    "## Qualitative assessment of the Kou model"
   ]
  },
  {
   "cell_type": "markdown",
   "metadata": {},
   "source": [
    "### 6. (6 points)  \n",
    "\n",
    "Make some clear qualitative comments directed at a non-specialist (*e.g.* your boss who is a trader) as to the suitability of the Kou model for pricing exotic derivatives.  Consider how realistic the process is and how well the model can fit the empirical volatility surface."
   ]
  },
  {
   "cell_type": "markdown",
   "metadata": {},
   "source": [
    "### Answer of Q6"
   ]
  },
  {
   "cell_type": "markdown",
   "metadata": {},
   "source": [
    "* From the implied volatility figure of Q3, we can see that the computed implied volatility from Kou model with Monte Carlo method may lead to a huge jump when strike/log-strike is very large. This implies that Kou model is not good to price deep in-the-money or deep out-of-the-money exotic derivatives.\n",
    "\n",
    "\n",
    "* From the figrue of Q5, we can see that Kou model fits to the market well (close to the empirical square root) in short term (around 1Y in ths case). However, for longer maturity, the ATM skew of Kou model deviates significantly from empirical square root observation. This implies that Kou model can fit empirical volatility surface well when $T$ is short."
   ]
  },
  {
   "cell_type": "code",
   "execution_count": 17,
   "metadata": {},
   "outputs": [
    {
     "name": "stdout",
     "output_type": "stream",
     "text": [
      "The running time of the computation is:  \n"
     ]
    },
    {
     "data": {
      "text/plain": [
       "   user  system elapsed \n",
       "  95.79    0.48   96.70 "
      ]
     },
     "metadata": {},
     "output_type": "display_data"
    }
   ],
   "source": [
    "cat('The running time of the computation is: ',\"\\n\")\n",
    "proc.time()-ptm"
   ]
  }
 ],
 "metadata": {
  "kernelspec": {
   "display_name": "R",
   "language": "R",
   "name": "ir"
  },
  "language_info": {
   "codemirror_mode": "r",
   "file_extension": ".r",
   "mimetype": "text/x-r-source",
   "name": "R",
   "pygments_lexer": "r",
   "version": "3.4.1"
  }
 },
 "nbformat": 4,
 "nbformat_minor": 1
}
