{
 "cells": [
  {
   "cell_type": "markdown",
   "metadata": {},
   "source": [
    "## MTH9875 Homework 6\n",
    "\n",
    "Assigned: September 29, 2016.\n",
    "Due: October 13, 2016 by 6pm.\n",
    "\n",
    "Late homework **will not be accepted**."
   ]
  },
  {
   "cell_type": "markdown",
   "metadata": {},
   "source": [
    "<font color = \"red\">Homework is to be done by each student individually.  To receive full credit, you must email a completed copy of this iPython notebook to Victor Istratov (stavka@gmail.com), Yassine Ghalem (yassine.ghalem@gmail.com) and Jim Gatheral (jim.gatheral@gmail.com) by the due date and time.  All R-code must run correctly and solutions must be written up neatly in Markdown/LaTeX format."
   ]
  },
  {
   "cell_type": "markdown",
   "metadata": {},
   "source": [
    "### Download some R-code\n",
    "\n",
    "The following code sources *BlackScholes.R* which has the Black-Scholes formula and implied volatility computation and *Heston2.R* which has in particular the *impvolHeston* function."
   ]
  },
  {
   "cell_type": "code",
   "execution_count": null,
   "metadata": {},
   "outputs": [],
   "source": [
    "download.file(url=\"http://mfe.baruch.cuny.edu/wp-content/uploads/2015/10/9875-5.zip\", destfile=\"9875-5.zip\")\n",
    "unzip(zipfile=\"9875-5.zip\")\n",
    "source(\"BlackScholes.R\")"
   ]
  },
  {
   "cell_type": "markdown",
   "metadata": {},
   "source": [
    "### 0. (0 points) \n",
    "\n",
    "Read Chapter 6 of The Volatility Surface. "
   ]
  },
  {
   "cell_type": "markdown",
   "metadata": {},
   "source": [
    "## The Kou double-exponential jump diffusion model\n",
    "\n",
    "\n",
    "In the Kou model, the underlying follows a jump-diffusion process of the form\n",
    "\n",
    "$$\n",
    "x_t=\\alpha\\,t+\\sigma\\,W_t+\\sum_{i=1}^{N_t}\\,y_i\n",
    "$$\n",
    "\n",
    "where $\\{N_t\\}$ is the Poisson process counting the jumps of $x$ and $y_i$ are jump sizes.  The distribution of jump sizes is an asymmetric exponential with density\n",
    "\n",
    "<a name=\"eq:KouDensity\"></a>(1)\n",
    "$$\n",
    "\\nu(x)=p\\,\\lambda_+\\,e^{-\\lambda_+\\,x}\\,{\\bf 1}_{x>0}+(1-p)\\,\\lambda_-\\,e^{+\\lambda_-\\,x}\\,{\\bf 1}_{x \\leq 0}.\n",
    "$$"
   ]
  },
  {
   "cell_type": "markdown",
   "metadata": {},
   "source": [
    "### 1. (2 points)\n",
    "\n",
    "Conditional on an up-jump, what is the expected size of the jump?\n",
    "\n",
    "\n",
    "$$\n",
    "\\newcommand{\\supp}{\\mathrm{supp}}\n",
    "\\newcommand{\\E}{\\mathbb{E} }\n",
    "\\def\\Cov{{ \\mbox{Cov} }}\n",
    "\\def\\Var{{ \\mbox{Var} }}\n",
    "\\newcommand{\\1}{\\mathbf{1} }\n",
    "\\newcommand{\\PP}{\\mathbb{P} }\n",
    "%\\newcommand{\\Pr}{\\mathrm{Pr} }\n",
    "\\newcommand{\\QQ}{\\mathbb{Q} }\n",
    "\\newcommand{\\RR}{\\mathbb{R} }\n",
    "\\newcommand{\\DD}{\\mathbb{D} }\n",
    "\\newcommand{\\HH}{\\mathbb{H} }\n",
    "\\newcommand{\\spn}{\\mathrm{span} }\n",
    "\\newcommand{\\cov}{\\mathrm{cov} }\n",
    "\\newcommand{\\sgn}{\\mathrm{sgn} }\n",
    "\\newcommand{\\HS}{\\mathcal{L}_{\\mathrm{HS}} }\n",
    "%\\newcommand{\\HS}{\\mathrm{HS} }\n",
    "\\newcommand{\\trace}{\\mathrm{trace} }\n",
    "\\newcommand{\\LL}{\\mathcal{L} }\n",
    "%\\newcommand{\\LL}{\\mathrm{L} }\n",
    "\\newcommand{\\s}{\\mathcal{S} }\n",
    "\\newcommand{\\ee}{\\mathcal{E} }\n",
    "\\newcommand{\\ff}{\\mathcal{F} }\n",
    "\\newcommand{\\hh}{\\mathcal{H} }\n",
    "\\newcommand{\\bb}{\\mathcal{B} }\n",
    "\\newcommand{\\dd}{\\mathcal{D} }\n",
    "\\newcommand{\\g}{\\mathcal{G} }\n",
    "\\newcommand{\\p}{\\partial}\n",
    "\\newcommand{\\half}{\\frac{1}{2} }\n",
    "\\newcommand{\\T}{\\mathcal{T} }\n",
    "\\newcommand{\\bi}{\\begin{itemize}}\n",
    "\\newcommand{\\ei}{\\end{itemize}}\n",
    "\\newcommand{\\beq}{\\begin{equation}}\n",
    "\\newcommand{\\eeq}{\\end{equation}}\n",
    "\\newcommand{\\beas}{\\begin{eqnarray*}}\n",
    "\\newcommand{\\eeas}{\\end{eqnarray*}}\n",
    "\\newcommand{\\cO}{\\mathcal{O}}\n",
    "\\newcommand{\\cF}{\\mathcal{F}}\n",
    "\\newcommand{\\cL}{\\mathcal{L}}\n",
    "$$\n",
    "\n"
   ]
  },
  {
   "cell_type": "markdown",
   "metadata": {},
   "source": [
    "<font color = 'purple'>\n",
    "Solution: \n",
    "\n",
    "Denote the size of the jump by $y$, because we are under the condition of up jump, y>0.\n",
    "\n",
    "\\begin{eqnarray}\n",
    "P(Y>0) &=& \\int_0^\\infty v(y)dy \\\\\n",
    "       &=& p\\,\\lambda_+\\int_0^\\infty\\,e^{-\\lambda_+\\,y}dy\\\\\n",
    "       &=& p\n",
    "\\end{eqnarray}\n",
    "Now we look at expectation:\n",
    "\\begin{eqnarray}\n",
    "E[y\\,|\\,y>0]  &=& \\frac{1}{p}\\,\\int_0^\\infty v(y)\\,y\\,dy \\\\\n",
    "          &=& \\frac{1}{p}\\,\\int_0^\\infty y\\,p\\,\\lambda_+\\,e^{-\\lambda_+\\,y}dy \\\\\n",
    "          &=& \\int_0^\\infty y\\,\\,\\lambda_+\\,e^{-\\lambda_+\\,y}dy \\\\\n",
    "\\end{eqnarray}\n",
    "\n",
    "We know that the expected value of exponential distribution is $\\frac{1}{\\lambda}$\n",
    "\n",
    "As a result, \n",
    "$$\n",
    "E[y\\,|\\,y>0] = \\frac{1}{\\lambda_+}\n",
    "$$"
   ]
  },
  {
   "cell_type": "markdown",
   "metadata": {},
   "source": [
    "### 2. (8 points) \n",
    "\n",
    "Using the Lévy Khintchine formula, derive the characteristic function \n",
    "$\n",
    "\\phi_T(u)=\\exp\\{\\psi(u)\\,T\\}\n",
    "$\n",
    "with\n",
    "\n",
    "<a name=\"eq:KouPsi\"></a>(2)\n",
    "$$\n",
    "\\psi(u)=-\\frac{\\sigma^2}{2}\\,u^2+i\\,\\omega\\,u+i\\,u\\,\\lambda\\,\\left\\{\\frac{p}{\\lambda_+-i\\,u}-\\frac{1-p}{\\lambda_-+i\\,u}\\right\\}\n",
    "$$\n",
    "\n",
    "where $\\lambda$ is the mean jump arrival rate and\n",
    "\n",
    "$$\n",
    "\\omega=-\\frac{\\sigma^2}{2}-\\lambda\\,\\left\\{\\frac{p}{\\lambda_+-1}-\\frac{1-p}{\\lambda_-+1}\\right\\}.\n",
    "$$\n",
    "\n",
    "$\\psi(u)$ is known as the *characteristic exponent* of the Lévy process."
   ]
  },
  {
   "cell_type": "markdown",
   "metadata": {},
   "source": [
    "<font color = 'purple'> \n",
    "Solution:\n",
    "\n",
    "We know that:\n",
    "$$\n",
    "u(x) = \\lambda \\nu(x)\n",
    "$$\n",
    "where\n",
    "$$\n",
    "\\nu(x)=p\\,\\lambda_+\\,e^{-\\lambda_+\\,x}\\,{\\bf 1}_{x>0}+(1-p)\\,\\lambda_-\\,e^{+\\lambda_-\\,x}\\,{\\bf 1}_{x \\leq 0}.\n",
    "$$\n",
    "So we look at the integration of the following part:\n",
    "\\begin{eqnarray}\n",
    "\\int (e^{iux}-1)\\,\\nu(x)dx &=& \\lambda\\,[\\int e^{iux}\\,\\nu(x)dx\\,-\\int \\nu(x)dx]\\\\\n",
    "&=& \\lambda\\,[\\int_{-\\infty}^0 e^{iux}(1-p)\\,\\lambda_-e^{(\\lambda_- x)} + \\int_0^\\infty e^{iux}p\\lambda_+e^{-\\lambda_+\\,x}dx \\\\\n",
    "&=& \\lambda\\,[\\frac{p\\lambda_+}{\\lambda_+ - iu} + \\frac{(1-p)\\lambda_-}{\\lambda_- + iu} -1]\\\\\n",
    "&=& \\lambda\\,[\\frac{p\\lambda_+}{\\lambda_+ - iu} + \\frac{(1-p)\\lambda_-}{\\lambda_- + iu} -p - (1-p)]\\\\\n",
    "&=& \\lambda\\,[\\frac{pui}{\\lambda_+ - iu} - \\frac{(1-p)iu}{\\lambda_- + iu}]\\\\\n",
    "&=& iu\\lambda\\,[\\frac{p}{\\lambda_+ - iu} - \\frac{1-p}{\\lambda_- + iu}]\n",
    "\\end{eqnarray}\n",
    "\n",
    "Plug into the Lévy-Khintchine formula: \n",
    "$$\n",
    "\\psi(u)=-\\frac{\\sigma^2}{2}\\,u^2+i\\,\\omega\\,u+i\\,u\\,\\lambda\\,\\left\\{\\frac{p}{\\lambda_+-i\\,u}-\\frac{1-p}{\\lambda_-+i\\,u}\\right\\}\n",
    "$$\n",
    "\n",
    "$$\\phi_T(-i)=\\mathbb{E}\\left[e^{x_T}\\right]=1$$ \n",
    "\n",
    "As a result, \n",
    "\n",
    "$$\n",
    "\\psi(-i) = \\frac{\\sigma^2}{2} + \\omega - \\lambda\\,[\\frac{p}{\\lambda_+-i\\,u}-\\frac{1-p}{\\lambda_-+i\\,u}] = 0\n",
    "$$\n",
    "\n",
    "$$\n",
    "\\omega=-\\frac{\\sigma^2}{2}-\\lambda\\,\\left\\{\\frac{p}{\\lambda_+-1}-\\frac{1-p}{\\lambda_-+1}\\right\\}.\n",
    "$$"
   ]
  },
  {
   "cell_type": "markdown",
   "metadata": {},
   "source": [
    "### 3. (6 points) \n",
    "\n",
    "Use the characteristic exponent [(2)](#eq:KouPsi) and Lewis's formula (6) from the notes to plot the one-year implied volatility smile assuming the following parameters:\n",
    "\n",
    "$$\n",
    "\\sigma=0.2; \\,\\lambda=1.0;\\,p=0.25;\\,\\lambda_-=8;\\,\\lambda_+=25;\n",
    "$$\n",
    "\n",
    "The log-strike range should be from $k=-1.0$ to $k=1.0$.  "
   ]
  },
  {
   "cell_type": "code",
   "execution_count": null,
   "metadata": {},
   "outputs": [],
   "source": [
    "source(\"Heston2.R\")\n",
    "\n",
    "# Characteristic function of Kou double exponential jump diffusion model\n",
    "phiKou <- function(params)\n",
    "{   \n",
    "    sig <- params$sig\n",
    "    lambda <- params$lambda\n",
    "    p <- params$p\n",
    "    lambdaM <- params$lambdaM\n",
    "    lambdaP <- params$lambdaP\n",
    "       \n",
    "    res <- function(u, t)\n",
    "    {\n",
    "        omega <- -sig * sig / 2.0 - lambda * (p / (lambdaP - 1) - (1-p) / (lambdaM + 1))\n",
    "        psi <- -sig * sig / 2.0 * u * u + (0+1i) * omega * u \n",
    "        psi <- psi + (0+1i) * u * lambda * ((p / (lambdaP - (0+1i) * u)) - (1-p) / (lambdaM + (0+1i) * u))\n",
    "        \n",
    "        res <- exp(psi * t)\n",
    "        \n",
    "        return(res)\n",
    "    }\n",
    "    \n",
    "    return(res)\n",
    "}\n"
   ]
  },
  {
   "cell_type": "code",
   "execution_count": null,
   "metadata": {
    "collapsed": true
   },
   "outputs": [],
   "source": [
    "# Initialize the parameters\n",
    "subKou <- list(sig = 0.2, lambda = 1.0, p = 0.25, lambdaM = 8.0, lambdaP = 25.0)"
   ]
  },
  {
   "cell_type": "code",
   "execution_count": null,
   "metadata": {
    "collapsed": true
   },
   "outputs": [],
   "source": [
    "vol <- function(k){sapply(k,function(x){bsvol(phiKou(subKou),x,1)})}\n",
    "curve(vol(x),from=-1.0,to=1.0,col=\"red\")"
   ]
  },
  {
   "cell_type": "markdown",
   "metadata": {},
   "source": [
    "## Jump-Diffusion Monte Carlo"
   ]
  },
  {
   "cell_type": "markdown",
   "metadata": {},
   "source": [
    "### 4. (10 points) \n",
    "\n",
    "Write Monte Carlo code to price European options in the Kou model.  With the same parameters as in Problem 3, plot the one-year implied volatility smile from $k=-1.0$ to $k=1.0$.  Verify that you obtain the same implied volatilities."
   ]
  },
  {
   "cell_type": "markdown",
   "metadata": {},
   "source": [
    "<font color = 'purple'>\n",
    "\n",
    "We know that\n",
    "$$P(y\\,>0) = p\\,\\, and\\,E[y\\,|y\\,>0]\\,=\\frac{1}{\\lambda_+}$$\n",
    "From question 1.\n",
    "\n",
    "As a result,\n",
    "$$P(y\\,<0) = 1-p\\,\\, and\\,E[y\\,|y\\,< 0]\\,=-\\frac{1}{\\lambda_-}$$ \n",
    "$$E[y] = P(y\\,<0)E[y\\,|y\\,< 0]\\,+ P(y\\,>0)E[y\\,|y\\,> 0] = \\frac{p}{\\lambda_+}-\\frac{1-p}{\\lambda_-}$$\n",
    "$$\\mu=-\\lambda(t)\\,\\mathbb{E}[J-1] = -\\lambda*(\\frac{p}{\\lambda_+}-\\frac{1-p}{\\lambda_-})$$"
   ]
  },
  {
   "cell_type": "code",
   "execution_count": null,
   "metadata": {
    "collapsed": true
   },
   "outputs": [],
   "source": [
    "source(\"Heston2.R\")\n",
    "calJumps <- function(n, p, lamp, lamm)\n",
    "{\n",
    "    # Function to generate random number from asymmetric exponential distribution\n",
    "    #\n",
    "    # Args:\n",
    "    #      n: number of rv to generate\n",
    "    #      p: probability of rv to be positive\n",
    "    #      lamp: rate for positive rv, \n",
    "    #      lamm: rate for negative rv\n",
    "    #\n",
    "    # Return:\n",
    "    #      vector of random number generated from asymmetric exponential distribution\n",
    "    \n",
    "\n",
    "    res <- 0\n",
    "    \n",
    "    #if(n < -100)\n",
    "    #{\n",
    "    #    prob <- runif(n, min=0, max=1)\n",
    "    \n",
    "    #    exp_pos <- rexp(n, rate=lamp)\n",
    "    #    exp_neg <- -rexp(n, rate=lamm)\n",
    "    \n",
    "    #    res <- sum((prob < p) * exp_pos + (prob >= p) * exp_neg)        \n",
    "    #}\n",
    "    \n",
    "    if(n >0)\n",
    "    {\n",
    "        prob <- runif(n, min=0, max=1)\n",
    "        lampV <- rep(lamp, n)\n",
    "        lammV <- rep(lamm, n)\n",
    "        lamV <- (prob < p) * lamp + (prob >= p) * lamm   \n",
    "        tmp <- rexp(n, rate=lamV)        \n",
    "        res <- sum((prob < p) * tmp - (prob >= p) * tmp)\n",
    "    }\n",
    "    return(res)\n",
    "}\n",
    "\n",
    "\n",
    "MCCallKou <- function(kouParams, k, T, paths=100000, steps=1)\n",
    "{\n",
    "    # Function to calculate call option price using MC under Kou double exponential model\n",
    "    # Note: assuming alpha = mu_j, S0 = 1, r = 0\n",
    "    #\n",
    "    # Args:\n",
    "    #     params: Kou's model parameters list\n",
    "    #     paths: number of monte carlo paths\n",
    "    # \n",
    "    # Return:\n",
    "    #     Call option price\n",
    "    \n",
    "    sig <- kouParams$sig\n",
    "    lambda <- kouParams$lambda\n",
    "    p <- kouParams$p\n",
    "    lambdaM <- kouParams$lambdaM\n",
    "    lambdaP <- kouParams$lambdaP\n",
    "    \n",
    "    # Let jump compensator be the drift\n",
    "    #alpha <- -lambda * (p / lambdaP - (1 - p) / lambdaM - 1)\n",
    "    #alpha <- 0\n",
    "    #muJ <- -lambda * ( (1 - p) * lambdaM / (2 + lambdaM) - p * lambdaP / (2 - lambdaP) - 1)\n",
    "    #alpha <- muJ - sig^2 / 2.0\n",
    "    alpha <- 0\n",
    "    \n",
    "    K <- exp(k)\n",
    "    \n",
    "    dt <- T / steps\n",
    " \n",
    "    evolveK <- function(x)\n",
    "    {\n",
    "        BMs <- rnorm(paths)\n",
    "        Nts <- rpois(paths, lambda * dt)\n",
    "        BMs <- BMs - mean(BMs);  BMs <- BMs/sd(BMs)       \n",
    "        jumps <- sapply(Nts, function(Nt){calJumps(Nt, p, lambdaP, lambdaM)})        \n",
    "        x <- x + alpha * dt + sig * sqrt(dt) * BMs + jumps     \n",
    "        x <- x - log(mean(exp(x)))       \n",
    "        return(x)\n",
    "    }\n",
    "\n",
    "    x <- numeric(paths)\n",
    "    \n",
    "    for (i in 1:steps)\n",
    "    {\n",
    "        x <- evolveK(x)        \n",
    "    }\n",
    "    \n",
    "    ST <- exp(x) \n",
    "    payoff <- (ST > K) * (ST - K)   \n",
    "    res <- mean(payoff)   \n",
    "    return(res)\n",
    "}"
   ]
  },
  {
   "cell_type": "code",
   "execution_count": null,
   "metadata": {},
   "outputs": [],
   "source": [
    "# Test Monte Carlo Price with 10000 paths\n",
    "\n",
    "subKou <- list(sig = 0.2, lambda = 1.0, p = 0.25, lambdaM = 8.0, lambdaP = 25.0)\n",
    "\n",
    "MCCalls <- function(k){sapply(k, function(x){MCCallKou(subKou, x, 1.0, 10000)})}\n",
    "phiCalls <- function(k){sapply(k, function(x){callOption(phiKou(subKou), x, 1.0)})}\n",
    "\n",
    "curve(MCCalls(x),from=-1.0,to=1.0,col=\"blue\", xlab=\"log strike(k)\", ylab=\"call option price\")\n",
    "curve(phiCalls(x), from=-1.0, to=1.0, col=\"red\", add=TRUE)"
   ]
  },
  {
   "cell_type": "code",
   "execution_count": null,
   "metadata": {
    "collapsed": true
   },
   "outputs": [],
   "source": [
    "MCbsvol <- function(k){BSImpliedVolCall(1, exp(k), 1.0, 0, MCCallKou(subKou, k, 1.0, paths=1000000))}\n",
    "\n",
    "MCvol <- function(k){sapply(k,function(x){MCbsvol(x)})}\n",
    "\n",
    "curve(MCvol(x),from=-1.0,to=1.0,col=\"blue\", xlab=\"log strike(k)\", ylab='imp vol')\n",
    "curve(vol(x),from=-1.0,to=1.0,col=\"red\", add=TRUE)"
   ]
  },
  {
   "cell_type": "markdown",
   "metadata": {},
   "source": [
    "## Term structure of ATM skew"
   ]
  },
  {
   "cell_type": "markdown",
   "metadata": {},
   "source": [
    "### 5.(4 points) \n",
    "\n",
    "Using formula (8) from the lecture notes:\n",
    "\n",
    "\\begin{equation}\n",
    "\\left.\\frac{\\partial \\sigma_{BS} }{\\partial k }\\right|_{k=0}=-\n",
    "e^{\\frac{\\sigma_{BS}^2 T}{8}} \\sqrt{\\frac{2}{ \\pi}}\\frac{1}{\n",
    "\\sqrt{T}}\\,\\int_0^\\infty\\,du \\, \\frac{u\\,\n",
    "\\mathrm{Im}\\left[\\phi_T(u-i/2)\\right]}\n",
    "{u^2+\\frac{1}{4}},\n",
    "\\end{equation}\n",
    "plot the ATM volatility skew\n",
    "\n",
    "$$\n",
    "\\left.\\frac{\\partial \\sigma_{BS} }{\\partial k }\\right|_{k=0}\n",
    "$$\n",
    "\n",
    "from 0 to 10 years.  Superimpose the curve $a/\\sqrt{T}$, setting $a$ so as to match the one-year ATM skew. "
   ]
  },
  {
   "cell_type": "code",
   "execution_count": null,
   "metadata": {
    "collapsed": true
   },
   "outputs": [],
   "source": [
    "\n",
    "atmSkew <- function(phi, t){\n",
    "    atmVol <- BSImpliedVolCall(S0=1, K=1, T=t, r=0, C=callOption(phi, 0, t));\n",
    "    integrand <-  function(u){Im(u*phi(u - 1i/2, t)/(u^2 + 1/4))};\n",
    "    res <- -integrate(integrand,lower=0,upper=Inf,rel.tol=0.0000000001,subdivisions=1000)$value/sqrt(t)*sqrt(2/pi)*exp(atmVol^2*t/8);\n",
    "    return(res);\n",
    "}"
   ]
  },
  {
   "cell_type": "code",
   "execution_count": null,
   "metadata": {},
   "outputs": [],
   "source": [
    "atmSkewV <- function(t){sapply(t, function(x){atmSkew(phiKou(subKou), x)})}\n",
    "\n",
    "# Set alpha to match the one-year ATM skew\n",
    "alpha <- atmSkew(phiKou(subKou), 1)\n",
    "\n",
    "curve(atmSkewV(x),from=0.000001,to=10,col=\"red\",xlab=\"Time to expiry\", ylab=\"ATM skew\")\n",
    "curve(alpha / sqrt(x), from=0.000001,to=10,col=\"blue\", add=TRUE)"
   ]
  },
  {
   "cell_type": "markdown",
   "metadata": {},
   "source": [
    "## Qualitative assessment of the Kou model"
   ]
  },
  {
   "cell_type": "markdown",
   "metadata": {},
   "source": [
    "### 6. (6 points)  \n",
    "\n",
    "Make some clear qualitative comments directed at a non-specialist (*e.g.* your boss who is a trader) as to the suitability of the Kou model for pricing exotic derivatives.  Consider how realistic the process is and how well the model can fit the empirical volatility surface."
   ]
  },
  {
   "cell_type": "markdown",
   "metadata": {},
   "source": [
    "<font color = 'purple'>\n",
    "\n",
    "1 We should use different distributions to model jump up and jump down separately in the Kou model. We choose parameters for which the jump down is on average bigger than jump up. This fact is true in equity index market.\n",
    "\n",
    "2 The Kou model fits the short-dated smile and the ATM skew term well."
   ]
  },
  {
   "cell_type": "code",
   "execution_count": null,
   "metadata": {
    "collapsed": true
   },
   "outputs": [],
   "source": []
  }
 ],
 "metadata": {
  "anaconda-cloud": {},
  "kernelspec": {
   "display_name": "R",
   "language": "R",
   "name": "ir"
  },
  "language_info": {
   "codemirror_mode": "r",
   "file_extension": ".r",
   "mimetype": "text/x-r-source",
   "name": "R",
   "pygments_lexer": "r",
   "version": "3.4.1"
  }
 },
 "nbformat": 4,
 "nbformat_minor": 1
}
