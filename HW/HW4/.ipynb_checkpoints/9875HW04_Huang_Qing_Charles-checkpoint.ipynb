{
 "cells": [
  {
   "cell_type": "markdown",
   "metadata": {},
   "source": [
    "# MTH9875 Homework 4\n",
    "\n",
    "Assigned: September 15, 2016.\n",
    "Due: September 29, 2015 by 6pm.\n",
    "\n",
    "Late homework **will not be accepted**."
   ]
  },
  {
   "cell_type": "markdown",
   "metadata": {},
   "source": [
    "Qing Huang"
   ]
  },
  {
   "cell_type": "markdown",
   "metadata": {},
   "source": [
    "<font color = \"red\">Homework is to be done by each student individually.  To receive full credit, you must email a completed copy of this iPython notebook to Victor Istratov (stavka@gmail.com), Yassine Ghalem (yassine.ghalem@gmail.com) and Jim Gatheral (jim.gatheral@gmail.com) by the due date and time.  All R-code must run correctly and solutions must be written up neatly in Markdown/LaTeX format.\n",
    "\n",
    "<font color=\"blue\">If you encounter problems with Markdown/LaTeX or iPython notebook, please contact your iPython notebook ambassador."
   ]
  },
  {
   "cell_type": "markdown",
   "metadata": {},
   "source": [
    "### Load some useful R-code\n",
    "\n",
    "The following code sources *BlackScholes.R* which has the Black-Scholes formula and implied volatility computation and *Heston2.R* which has in particular the *impvolHeston* function."
   ]
  },
  {
   "cell_type": "code",
   "execution_count": 1,
   "metadata": {
    "collapsed": true
   },
   "outputs": [],
   "source": [
    "download.file(url=\"http://mfe.baruch.cuny.edu/wp-content/uploads/2015/09/9875-4.zip\", destfile=\"9875-4.zip\")\n",
    "unzip(zipfile=\"9875-4.zip\")"
   ]
  },
  {
   "cell_type": "code",
   "execution_count": 2,
   "metadata": {
    "collapsed": false
   },
   "outputs": [],
   "source": [
    "source(\"BlackScholes.R\")\n",
    "source(\"Heston.R\")"
   ]
  },
  {
   "cell_type": "markdown",
   "metadata": {},
   "source": [
    "## The exponential martingale"
   ]
  },
  {
   "cell_type": "markdown",
   "metadata": {},
   "source": [
    "### 1. (6 points)\n",
    "$$\n",
    "\\newcommand{\\supp}{\\mathrm{supp}}\n",
    "\\newcommand{\\E}{\\mathbb{E} }\n",
    "\\def\\Cov{{ \\mbox{Cov} }}\n",
    "\\def\\Var{{ \\mbox{Var} }}\n",
    "\\newcommand{\\1}{\\mathbf{1} }\n",
    "\\newcommand{\\PP}{\\mathbb{P} }\n",
    "%\\newcommand{\\Pr}{\\mathrm{Pr} }\n",
    "\\newcommand{\\QQ}{\\mathbb{Q} }\n",
    "\\newcommand{\\RR}{\\mathbb{R} }\n",
    "\\newcommand{\\DD}{\\mathbb{D} }\n",
    "\\newcommand{\\HH}{\\mathbb{H} }\n",
    "\\newcommand{\\spn}{\\mathrm{span} }\n",
    "\\newcommand{\\cov}{\\mathrm{cov} }\n",
    "\\newcommand{\\sgn}{\\mathrm{sgn} }\n",
    "\\newcommand{\\HS}{\\mathcal{L}_{\\mathrm{HS}} }\n",
    "%\\newcommand{\\HS}{\\mathrm{HS} }\n",
    "\\newcommand{\\trace}{\\mathrm{trace} }\n",
    "\\newcommand{\\LL}{\\mathcal{L} }\n",
    "%\\newcommand{\\LL}{\\mathrm{L} }\n",
    "\\newcommand{\\s}{\\mathcal{S} }\n",
    "\\newcommand{\\ee}{\\mathcal{E} }\n",
    "\\newcommand{\\ff}{\\mathcal{F} }\n",
    "\\newcommand{\\hh}{\\mathcal{H} }\n",
    "\\newcommand{\\bb}{\\mathcal{B} }\n",
    "\\newcommand{\\dd}{\\mathcal{D} }\n",
    "\\newcommand{\\g}{\\mathcal{G} }\n",
    "\\newcommand{\\p}{\\partial}\n",
    "\\newcommand{\\half}{\\frac{1}{2} }\n",
    "\\newcommand{\\T}{\\mathcal{T} }\n",
    "\\newcommand{\\bi}{\\begin{itemize}}\n",
    "\\newcommand{\\ei}{\\end{itemize}}\n",
    "\\newcommand{\\beq}{\\begin{equation}}\n",
    "\\newcommand{\\eeq}{\\end{equation}}\n",
    "\\newcommand{\\beas}{\\begin{eqnarray*}}\n",
    "\\newcommand{\\eeas}{\\end{eqnarray*}}\n",
    "\\newcommand{\\cO}{\\mathcal{O}}\n",
    "\\newcommand{\\cF}{\\mathcal{F}}\n",
    "\\newcommand{\\cL}{\\mathcal{L}}\n",
    "$$\n",
    "\n",
    "If $B_t$ is Brownian motion, show that\n",
    "\n",
    "$$\n",
    "X_t=e^{\\int_0^t \\sigma_s\\,dB_s-\\frac12\\,\\int_0^t\\,\\sigma_s^2\\,ds}\n",
    "$$\n",
    "\n",
    "is a martingale. (Hint:  Apply Itô's Lemma to $e^Y$ where $Y=\\log X$.)\n",
    "\n",
    "Deduce that\n",
    "\n",
    "$$\n",
    "e^{\\frac12\\,\\alpha^2\\,t}=\\E\\left[e^{\\alpha\\,\\sqrt{t}\\,Z}\\right]\n",
    "%\\label{eq:expmartingale}\n",
    "$$\n",
    "\n",
    "where $Z \\sim N(0,1)$.  Is this last equation still true if $\\alpha$ is a matrix?  Why?"
   ]
  },
  {
   "cell_type": "markdown",
   "metadata": {},
   "source": [
    "# Answer\n",
    "Let $\n",
    "Y_t=\\int_0^t \\sigma_s dB_s-\\frac{1}{2}\\int_0^t \\sigma_s^2 ds\n",
    "$\n",
    "\n",
    "$\n",
    "dY_t=\\sigma_t dB_t-\\frac{1}{2}\\sigma_t^2dt\n",
    "$\n",
    "\n",
    "Then,\n",
    "$$\n",
    "dX_t = d(e^{Y_t})\\\\\n",
    "= e^{Y_t}dY_t+\\frac{1}{2}e^{Y_t}dY_tdY_t\\\\\n",
    "= X_t\\left(\\sigma_tdB_t-\\frac{1}{2}\\sigma_t^2dt\\right)+\\frac{1}{2}X_t\\sigma_t^2dt\\\\\n",
    "= X_t\\sigma_tdB_t\n",
    "$$\n",
    "No $dt$ term, so $X_t$ is a martingale.\n",
    "\n",
    "$$\n",
    "\\E[X_t]=X_0=1\n",
    "$$\n",
    "Let $\\sigma_s=\\alpha$,\n",
    "$$\n",
    "\\E[e^{\\alpha B_t-\\frac{1}{2}\\alpha^2t}]=1\n",
    "$$\n",
    "$$\n",
    "\\E[e^{\\alpha B_t}]=e^{\\frac{1}{2}\\alpha^2t}\n",
    "$$\n",
    "So,\n",
    "$$\n",
    "\\E[e^{\\alpha\\sqrt{t}Z}]=e^{\\frac{1}{2}\\alpha^2t}\n",
    "$$\n"
   ]
  },
  {
   "cell_type": "markdown",
   "metadata": {},
   "source": [
    "## Strang splitting"
   ]
  },
  {
   "cell_type": "markdown",
   "metadata": {},
   "source": [
    "### 2. (4 points) \n",
    "\n",
    "If $A$ and $B$ are (in general non-commutative) matrices, show that\n",
    "\n",
    "$$\n",
    "e^{(A+B)\\,\\Delta}=e^{A\\,\\Delta/2}\\,e^{B\\,\\Delta}\\,e^{A\\,\\Delta/2} + \\cO(\\Delta^3).\n",
    "$$"
   ]
  },
  {
   "cell_type": "markdown",
   "metadata": {},
   "source": [
    "# Answer\n",
    "It is obvious that\n",
    "$$\n",
    "e^{(A+B)\\Delta}=1+(A+B)\\Delta+\\frac{1}{2}(A+B)^2\\Delta^2+\\cO(\\Delta^3)\n",
    "$$\n",
    "Then,\n",
    "$$\n",
    "e^{A\\Delta/2}e^{B\\Delta}e^{A\\Delta/2} = \\left[1+\\frac{1}{2}A\\Delta+\\frac{1}{8}A^2\\Delta^2+\\cO(\\Delta^3)\\right]\\left[1+B\\Delta+\\frac{1}{2}B^2\\Delta^2+\\cO(\\Delta^3)\\right]\\left[1+\\frac{1}{2}A\\Delta+\\frac{1}{8}A^2\\Delta^2+\\cO(\\Delta^3)\\right]\\\\\n",
    "= 1+(A+B)\\Delta+\\frac{1}{2}(A^2+B^2+AB+BA)\\Delta^2+\\cO(\\Delta^3)\n",
    "$$\n",
    "So,\n",
    "$$\n",
    "e^{(A+B)\\Delta}=e^{A\\Delta/2}e^{B\\Delta}e^{A\\Delta/2}+\\cO(\\Delta^3)\n",
    "$$"
   ]
  },
  {
   "cell_type": "markdown",
   "metadata": {},
   "source": [
    "<font color=\"red\">COMMENT: a little quick with the details, but the gist is there</font>"
   ]
  },
  {
   "cell_type": "markdown",
   "metadata": {},
   "source": [
    "## Ninomiya-Victoir"
   ]
  },
  {
   "cell_type": "markdown",
   "metadata": {},
   "source": [
    "### 3. (16 points)\n",
    "\n",
    "Consider the following variance  process:\n",
    "\n",
    "<a name=\"eq:varProcess\"></a>(1)\n",
    "$$\n",
    "dv_t = -\\lambda\\,(v_t-\\bar v)\\,dt+\\xi\\,v_t\\,dZ_t.\n",
    "$$\n",
    "\n",
    "(a)\n",
    "Let $f(v,t)=\\E[g(v_T)|\\cF_t]$ be the fair value at time $t$ of some claim on $v_T$.  Apply Itô's Lemma to $f$ to find the infinitesimal generator $ \\cL$ of the diffusion such that \n",
    "\n",
    "$$\n",
    "\\frac{df}{dt}+ \\cL f=0.\n",
    "$$\n",
    "\n",
    "(b)\n",
    "Find first order differential operators $ V_0$ and $V_1$ such that\n",
    "\n",
    "$$\n",
    " \\cL= V_0+\\frac12\\,V_1^2.\n",
    "$$\n",
    "\n",
    "(c)  Solve the ODEs \n",
    "\n",
    "$$\n",
    " \\frac{d }{dt} v(t) = V_0 v(t) \\text{ and }  \\frac{d }{dt} v(t) = V_1 v(t)\n",
    "$$\n",
    "\n",
    "with boundary condition $v(0)=v_0$.\n",
    "\n",
    "(d)\n",
    "Deduce the form of the Ninomiya-Victoir Monte Carlo time step for the variance process [(1)](#eq:varProcess) over some small time interval from $t$ to $t+\\Delta$."
   ]
  },
  {
   "cell_type": "markdown",
   "metadata": {},
   "source": [
    "# Answer\n",
    "(a)\n",
    "\n",
    "$$\n",
    "df=\\frac{\\partial f}{\\partial t}dt+\\frac{\\partial f}{\\partial v}dv+\\frac{1}{2}\\frac{\\partial^2f}{\\partial v^2}dv^2\\\\\n",
    "=\\frac{\\partial f}{\\partial t}dt+\\frac{\\partial f}{\\partial v}\\left[-\\lambda(v_t-\\bar v)+\\xi v_tdZ_t\\right]+\\frac{1}{2}\\frac{\\partial ^2f}{\\partial v^2}\\xi^2v_t^2dt\\\\\n",
    "=\\left[\\frac{\\partial f}{\\partial t}-\\lambda(v_t-\\bar v)\\frac{\\partial f}{\\partial v}+\\frac{1}{2}\\xi^2 v_t^2\\frac{\\partial^2 f}{\\partial v^2}\\right]dt+\\frac{\\partial f}{\\partial v}\\xi v_tdZ_t\n",
    "$$\n",
    "Due to martingale,\n",
    "$$\n",
    "\\frac{\\partial f}{\\partial t}-\\lambda(v_t-\\bar v)\\frac{\\partial f}{\\partial v}+\\frac{1}{2}\\xi^2 v_t^2\\frac{\\partial^2 f}{\\partial v^2}=0\n",
    "$$\n",
    "$$\n",
    "\\cL=-\\lambda(v_t-\\bar v)\\partial_v+\\frac{1}{2}\\xi^2 v_t^2\\partial_v^2\n",
    "$$\n",
    "\n",
    "(b)\n",
    "$$\n",
    "V_1=\\xi v_t\\partial_v\n",
    "$$\n",
    "$$\n",
    "V_1^2=\\xi^2 v_t^2\\partial_v^2+\\xi^2 v_t\\partial_v\n",
    "$$\n",
    "$$\n",
    "V_0=\\cL-\\frac{1}{2}V_1^2=\\left[-\\lambda(v_t-\\bar v)-\\frac{1}{2}\\xi^2 v_t\\right]\\partial_v\n",
    "$$\n",
    "\n",
    "(c)\n",
    "\n",
    "From (1)\n",
    "$$\n",
    "\\frac{dv}{dt}=-\\lambda(v_t-\\bar v)-\\frac{1}{2}\\xi^2v_t\n",
    "$$\n",
    "$$\n",
    "e^{V_0\\Delta}v_0=v(\\Delta)=(v_0-\\bar v')e^{\\left(-\\lambda-\\frac{1}{2}\\xi^2\\right)\\Delta}+\\bar v'\n",
    "$$\n",
    "$$\n",
    "\\bar v'=\\frac{\\lambda \\bar v}{\\lambda+\\frac{1}{2}\\xi^2}\n",
    "$$\n",
    "From (2)\n",
    "$$\n",
    "\\frac{dv}{dt}=\\xi v_t\n",
    "$$\n",
    "$$\n",
    "e^{V_1\\sqrt{\\Delta}Z}v_0=v(\\sqrt{\\Delta}Z)=e^{\\xi\\sqrt{\\Delta}Z}v_0\n",
    "$$\n",
    "\n",
    "(d)\n",
    "\n",
    "Using conclusion from 2\n",
    "$$\n",
    "v(t+\\Delta)=e^{V_0\\Delta+V_1\\sqrt{\\Delta}Z}v(t)\\\\\n",
    "\\approx e^{V_0\\Delta/2}e^{V_1\\sqrt{\\Delta}Z}e^{V_0\\Delta/2}v(t)\\\\\n",
    "=e^{V_0\\Delta/2}e^{V_1\\sqrt{\\Delta}Z}\\left[(v(t)-\\bar v')e^{\\left(-\\lambda-\\frac{1}{2}\\xi^2\\right)\\Delta/2}+\\bar v'\\right]\\\\\n",
    "=e^{V_0\\Delta/2}e^{\\xi\\sqrt{\\Delta}Z}\\left[(v(t)-\\bar v')e^{\\left(-\\lambda-\\frac{1}{2}\\xi^2\\right)\\Delta/2}+\\bar v'\\right]\\\\\n",
    "=\\left(e^{\\xi\\sqrt{\\Delta}Z}\\left[(v(t)-\\bar v')e^{\\left(-\\lambda-\\frac{1}{2}\\xi^2\\right)\\Delta/2}+\\bar v'\\right]-\\bar v'\\right)e^{\\left(-\\lambda-\\frac{1}{2}\\xi^2\\right)\\Delta/2}+\\bar v'\n",
    "$$"
   ]
  },
  {
   "cell_type": "markdown",
   "metadata": {},
   "source": [
    "## Amend the Monte Carlo codes and generate samples"
   ]
  },
  {
   "cell_type": "markdown",
   "metadata": {},
   "source": [
    "### 4. (12 points) \n",
    "\n",
    "(a)\n",
    "\n",
    "Amend both the Monte Carlo code (*HestonMC2*) and the Quasi-Monte Carlo code (*HestonQMC*) from Lecture 4 to return vectors of $x=\\log S_T/S_0$ and instantaneous variance $v$.\n",
    "\n",
    "(b)\n",
    "\n",
    "Run these amended routines with BCC parameters,  $N=100,000$, $m=8$ (16 steps), `evolve=evolveAlfonsiF` .  Save the results so you can reuse these samples of $x$ and $v$.\n",
    "\n",
    "(c)\n",
    "\n",
    "Write R-code to reproduce the convergence plot shown in Figure 11 of the lecture slides (with $T=1$ and strike $K=1.2$).  You should reproduce this figure with informative axis labels and helpful formatting.\n"
   ]
  },
  {
   "cell_type": "code",
   "execution_count": 3,
   "metadata": {
    "collapsed": false
   },
   "outputs": [],
   "source": [
    "# MC\n",
    "HestonMC2 <- function(params){\n",
    "    \n",
    "    is.even <- function(j){as.logical((j+1) %% 2)}\n",
    "    \n",
    "    res <- function(S0, T, AK, N, m, evolve,exactVols=NULL)\n",
    "    {\n",
    "  \n",
    "    lambda <<- params$lambda;\n",
    "    rho <<- params$rho;\n",
    "    eta <<- params$eta;\n",
    "    vbar <<- params$vbar;\n",
    "    v0 <<- params$v;\n",
    "  \n",
    "    n <- m*2; #n is number of timesteps = 2*m so we can use Romberg extrapolation\n",
    "    sqrt2 <- sqrt(2);\n",
    "    rho2m1 <<- sqrt(1-rho*rho);\n",
    "    vbarp <<- vbar - eta^2/(4*lambda);\n",
    "    \n",
    "    negCount <- 0;\n",
    "    \n",
    "    # We use a vertical array, one element per M.C. path\n",
    "    x <- rep(0,N); v <- rep(1,N)*v0;\n",
    "    xm <- x; vm <- v;\n",
    "    W1m <- rep(0,N); W2m <- rep(0,N); \n",
    "  \n",
    "    # Loop for bias computation (N small, n big)\n",
    "    for (i in 1:n)\n",
    "    {\n",
    "        # Two sets of correlated normal random vars.\n",
    "        \n",
    "        W1 <- rnorm(N);\n",
    "        W2 <- rnorm(N);\n",
    "        W1 <- W1 - mean(W1); W1 <- W1/sd(W1);\n",
    "        W2 <- W2 - mean(W2); W2 <- W2/sd(W2);\n",
    "        # Now W1 and W2 are forced to have mean=0 and sd=1\n",
    "        \n",
    "        W2p <- W2 - cor(W1,W2)*W1; # Eliminate actual correlation\n",
    "        W2p <- W2p - mean(W2p); W2 <- W2p/sd(W2p); \n",
    "        # Now W1 and W2 have mean=0, sd=1 and correlation=0\n",
    "        \n",
    "        L <- rbinom(N, size=1, prob=1/2); # Bernoulli rv for NV step\n",
    "    \n",
    "        # Add code for subgrid\n",
    "        W1m <- W1m + W1/sqrt2; W2m <- W2m + W2/sqrt2; # N(0,1) rv's for subgrid\n",
    "       \n",
    "        if (is.even(i)) {\n",
    "            #print(c(i,mean(W1m),mean(W2m),sd(W1m),sd(W2m),cor(W1m,W2m)));\n",
    "            resm <- evolve(vm,xm,T/m,W1m,W2m,L);\n",
    "            xm <- resm[,1];\n",
    "            vm <- resm[,2];\n",
    "            W1m <- rep(0,N); W2m <- rep(0,N);\n",
    "        }\n",
    "    \n",
    "        res <- evolve(v,x,T/n,W1,W2,L);\n",
    "        x <- res[,1];\n",
    "        v <- res[,2];\n",
    "        negCount <- negCount +mean(v<0)/n; #Probability of negative variance per path per timestep\n",
    "    \n",
    "  }\n",
    "\n",
    "    S <- S0*exp(x);\n",
    "    Sm <- S0*exp(xm);\n",
    "\n",
    "    # Now we have three vectors of final stock prices\n",
    "  \n",
    "    M <- length(AK);\n",
    "    AV <- numeric(M); AVdev <- numeric(M);\n",
    "    BSV <- numeric(M); BSVH <- numeric(M); BSVL <- numeric(M);\n",
    "    iv2SD <- numeric(M); bias <- numeric(M);\n",
    "    AVm <- numeric(M); AVmdev <- numeric(M);\n",
    "    BSVm <- numeric(M); BSVHm <- numeric(M); BSVLm <- numeric(M);\n",
    "    iv2SDm <- numeric(M);\n",
    "    AV1 <- numeric(M); AV1dev <- numeric(M);\n",
    "    BSV1 <- numeric(M); BSVH1 <- numeric(M); BSVL1 <- numeric(M);\n",
    "    iv2SDrom <- numeric(M);biasRom <- numeric(M);\n",
    "  \n",
    "  # Evaluate mean call value for each path\n",
    "  for (i in 1:M)\n",
    "  {\n",
    "    # 2*m timesteps\n",
    "    K <- AK[i];\n",
    "    V <- (S>K)*(S - K); # Boundary condition for European call\n",
    "    AV[i] <- mean(V);\n",
    "    AVdev[i] <- sqrt(var(V)/length(V));  \n",
    "    \n",
    "    BSV[i] <- BSImpliedVolCall(S0, K, T, 0, AV[i]);\n",
    "    BSVL[i] <- BSImpliedVolCall(S0, K, T, 0, AV[i] - AVdev[i]);\n",
    "    BSVH[i] <- BSImpliedVolCall(S0, K, T, 0, AV[i] + AVdev[i]);\n",
    "    iv2SD[i] <- (BSVH[i]-BSVL[i]);\n",
    "    \n",
    "    # m timesteps\n",
    "    Vm <- (Sm>K)*(Sm - K); # Boundary condition for European call\n",
    "    AVm[i] <- mean(Vm);\n",
    "    AVmdev[i] <- sd(Vm) / sqrt(N);\n",
    "    BSVm[i] <- BSImpliedVolCall(S0, K, T, 0, AVm[i]);\n",
    "    BSVLm[i] <- BSImpliedVolCall(S0, K, T, 0, AVm[i] - AVmdev[i]);\n",
    "    BSVHm[i] <- BSImpliedVolCall(S0, K, T, 0, AVm[i] + AVmdev[i]);\n",
    "    iv2SDm[i] <- (BSVH[i]-BSVL[i]);\n",
    "    \n",
    "    # Richardson extrapolation estimates \n",
    "    V1 <- 2*V - Vm;\n",
    "    AV1[i] <- mean(V1);\n",
    "    AV1dev[i] <- sd(V1) / sqrt(N);\n",
    "    BSV1[i] <- BSImpliedVolCall(S0, K, T, 0, AV1[i]);\n",
    "    BSVL1[i] <- BSImpliedVolCall(S0, K, T, 0, AV1[i] - AV1dev[i]);\n",
    "    BSVH1[i] <- BSImpliedVolCall(S0, K, T, 0, AV1[i] + AV1dev[i]);\n",
    "    iv2SDrom[i] <- (BSVH1[i]-BSVL1[i]);\n",
    "    \n",
    "    if(!is.null(exactVols)) {bias <- BSV-exactVols};\n",
    "    if(!is.null(exactVols)) {biasRom <- BSV1-exactVols};\n",
    "  }\n",
    "  \n",
    "  \n",
    "  l.AK <- length(AK)      \n",
    "  data.out <- data.frame(AK,rep(N,l.AK),rep(2*m,l.AK),BSV,bias,iv2SD,BSVm,BSV1,biasRom,iv2SDrom) \n",
    "  names(data.out) <- c(\"Strikes\",\"Paths\",\"Steps\",\"ivol\",\"bias\",\"twoSd\",\"ivolm\", \"ivolRichardson\", \"biasRichardson\",\"twoSdRichardson\") \n",
    "  res_list<-list(\"impliedVol\"=data.out,\"x\"=x,\"v\"=v)\n",
    "  return(res_list) \n",
    "}\n",
    "return(res)\n",
    "}"
   ]
  },
  {
   "cell_type": "code",
   "execution_count": 4,
   "metadata": {
    "collapsed": false
   },
   "outputs": [
    {
     "name": "stderr",
     "output_type": "stream",
     "text": [
      "This is randtoolbox. For overview, type 'help(\"randtoolbox\")'.\n"
     ]
    }
   ],
   "source": [
    "library(rngWELL)\n",
    "library(randtoolbox)"
   ]
  },
  {
   "cell_type": "code",
   "execution_count": 5,
   "metadata": {
    "collapsed": true
   },
   "outputs": [],
   "source": [
    "#QMC\n",
    "HestonQMC <- function(params){\n",
    "    \n",
    "    is.even <- function(j){as.logical((j+1) %% 2)}\n",
    "    \n",
    "    res <- function(S0, T, AK, N, m, evolve,exactVols=NULL)\n",
    "    {\n",
    "  \n",
    "    lambda <<- params$lambda\n",
    "    rho <<- params$rho\n",
    "    eta <<- params$eta\n",
    "    vbar <<- params$vbar\n",
    "    v0 <<- params$v\n",
    "  \n",
    "    n <- m*2 #n is number of timesteps = 2*m so we can use Romberg extrapolation\n",
    "    sqrt2 <- sqrt(2)\n",
    "    rho2m1 <<- sqrt(1-rho*rho)\n",
    "    vbarp <<- vbar - eta^2/(4*lambda)\n",
    "    \n",
    "    negCount <- 0\n",
    "    \n",
    "    # We use a vertical array, one element per M.C. path\n",
    "    x <- rep(0,N); v <- rep(1,N)*v0\n",
    "    xm <- x; vm <- v\n",
    "    W1m <- rep(0,N); W2m <- rep(0,N)\n",
    "    \n",
    "    # Generation of quasi random numbers now takes place outside the timestep loop\n",
    "    Z <- sobol(n=N,dim=n,scram=3,seed=4711,norm=T)\n",
    "      Zperp <- sobol(n=N,dim=n,scram=3,seed=17,norm=T)\n",
    "      \n",
    "    # Loop for bias computation (N small, n big)\n",
    "    for (i in 1:n)\n",
    "    {\n",
    "        # Two sets of correlated normal random vars.\n",
    "        \n",
    "        W1 <- Z[,i] #Take ith column of pre-generated quasi-rvs\n",
    "        W2 <- Zperp[,i]\n",
    "        W1 <- W1 - mean(W1); W1 <- W1/sd(W1)\n",
    "        W2 <- W2 - mean(W2); W2 <- W2/sd(W2)\n",
    "        # Now W1 and W2 are forced to have mean=0 and sd=1\n",
    "        \n",
    "        W2p <- W2 - cor(W1,W2)*W1 # Eliminate actual correlation\n",
    "        W2p <- W2p - mean(W2p); W2 <- W2p/sd(W2p) \n",
    "        # Now W1 and W2 have mean=0, sd=1 and correlation=0\n",
    "        \n",
    "        L <- rbinom(N, size=1, prob=1/2) # Bernoulli rv for NV step\n",
    "    \n",
    "        # Add code for subgrid\n",
    "        W1m <- W1m + W1/sqrt2; W2m <- W2m + W2/sqrt2 # N(0,1) rv's for subgrid\n",
    "       \n",
    "        if (is.even(i)) {\n",
    "            resm <- evolve(vm,xm,T/m,W1m,W2m,L)\n",
    "            xm <- resm[,1]\n",
    "            vm <- resm[,2]\n",
    "            W1m <- rep(0,N); W2m <- rep(0,N);\n",
    "        }\n",
    "    \n",
    "        res <- evolve(v,x,T/n,W1,W2,L)\n",
    "        x <- res[,1]\n",
    "        v <- res[,2]\n",
    "        \n",
    "  }\n",
    "\n",
    "    S <- S0*exp(x)\n",
    "    Sm <- S0*exp(xm)\n",
    "\n",
    "    # Now we have three vectors of final stock prices\n",
    "    M <- length(AK);\n",
    "    AV <- numeric(M); AVdev <- numeric(M);\n",
    "    BSV <- numeric(M); BSVH <- numeric(M); BSVL <- numeric(M);\n",
    "    iv2SD <- numeric(M); bias <- numeric(M);\n",
    "    AVm <- numeric(M); AVmdev <- numeric(M);\n",
    "    BSVm <- numeric(M); BSVHm <- numeric(M); BSVLm <- numeric(M);\n",
    "    iv2SDm <- numeric(M);\n",
    "    AV1 <- numeric(M); AV1dev <- numeric(M);\n",
    "    BSV1 <- numeric(M); BSVH1 <- numeric(M); BSVL1 <- numeric(M);\n",
    "    iv2SDrom <- numeric(M);biasRom <- numeric(M);\n",
    "  \n",
    "  # Evaluate mean call value for each path\n",
    "  for (i in 1:M)\n",
    "  {\n",
    "    # 2*m timesteps\n",
    "    K <- AK[i];\n",
    "    V <- (S>K)*(S - K); # Boundary condition for European call\n",
    "    AV[i] <- mean(V);\n",
    "    AVdev[i] <- sqrt(var(V)/length(V));\n",
    "    BSV[i] <- BSImpliedVolCall(S0, K, T, 0, AV[i]);\n",
    "    BSVL[i] <- BSImpliedVolCall(S0, K, T, 0, AV[i] - AVdev[i]);\n",
    "    BSVH[i] <- BSImpliedVolCall(S0, K, T, 0, AV[i] + AVdev[i]);\n",
    "    iv2SD[i] <- (BSVH[i]-BSVL[i]);\n",
    "    \n",
    "    # m timesteps\n",
    "    Vm <- (Sm>K)*(Sm - K); # Boundary condition for European call\n",
    "    AVm[i] <- mean(Vm);\n",
    "    AVmdev[i] <- sd(Vm) / sqrt(N);\n",
    "    BSVm[i] <- BSImpliedVolCall(S0, K, T, 0, AVm[i]);\n",
    "    BSVLm[i] <- BSImpliedVolCall(S0, K, T, 0, AVm[i] - AVmdev[i]);\n",
    "    BSVHm[i] <- BSImpliedVolCall(S0, K, T, 0, AVm[i] + AVmdev[i]);\n",
    "    iv2SDm[i] <- (BSVH[i]-BSVL[i]);\n",
    "    \n",
    "    # Richardson extrapolation estimates \n",
    "    V1 <- 2*V - Vm\n",
    "    AV1[i] <- mean(V1)\n",
    "    AV1dev[i] <- sd(V1) / sqrt(N)\n",
    "    BSV1[i] <- BSImpliedVolCall(S0, K, T, 0, AV1[i])\n",
    "    BSVL1[i] <- BSImpliedVolCall(S0, K, T, 0, AV1[i] - AV1dev[i])\n",
    "    BSVH1[i] <- BSImpliedVolCall(S0, K, T, 0, AV1[i] + AV1dev[i])\n",
    "    iv2SDrom[i] <- (BSVH1[i]-BSVL1[i])\n",
    "    \n",
    "    if(!is.null(exactVols)) {bias <- BSV-exactVols}\n",
    "    if(!is.null(exactVols)) {biasRom <- BSV1-exactVols}\n",
    "  }\n",
    "  \n",
    "  data.out <- data.frame(AK,rep(N,M),rep(2*m,M),BSV,bias,iv2SD,BSVm,BSV1,biasRom,iv2SDrom)\n",
    "  names(data.out) <- c(\"Strikes\",\"Paths\",\"Steps\",\"ivol\",\"bias\",\"2sd\",\"ivolm\", \"ivolRichardson\", \"biasRichardson\",\n",
    "                       \"2sdRichardson\")\n",
    "  res_list<-list(\"impliedVol\"=data.out,\"x\"=x,\"v\"=v)\n",
    "  return(res_list)\n",
    "}\n",
    "return(res)\n",
    "}"
   ]
  },
  {
   "cell_type": "code",
   "execution_count": 6,
   "metadata": {
    "collapsed": true
   },
   "outputs": [],
   "source": [
    "#b\n",
    "evolveAlfonsiF <- function(v,x,dt,W1,W2,L=NULL){\n",
    "\n",
    "        eldt2 <- exp(-lambda*dt/2);\n",
    "\n",
    "        #Variance process\n",
    "        vbarp <- vbar - eta^2/(4*lambda);\n",
    "        psi <- (1-eldt2)/lambda;\n",
    "        v1 <- v*eldt2+lambda*vbarp*psi;\n",
    "        v2 <- (v1 > 0) * v1; # Take v2 = 0 if v1<0, else v2=v1\n",
    "        par <- sqrt(v2) + eta/2 * sqrt(dt)*W2;\n",
    "        vf <- eldt2*par*par +lambda*vbarp*psi + v1 - v2;\n",
    "                                # Full truncation\n",
    "\n",
    "        # Log-stock process (Andersen equation (33))\n",
    "        vvf <- (v+vf > 0) * (v+vf);\n",
    "        dw <- vvf/2*dt;\n",
    "        x <- x  - dw/2 + rho2m1*sqrt(dw)*W1 +\n",
    "            rho/eta*(lambda*dw + vf-v -lambda*vbar*dt) ;\n",
    "        # Impose martingale constraint\n",
    "        x <- x - log(mean(exp(x)));\n",
    "        v <- vf;\n",
    "        return(cbind(x,v));\n",
    "}\n",
    "\n",
    "paramsBCC <- list(lambda = 1.15,rho = -0.64,eta = 0.39,vbar = 0.04,v = 0.04)"
   ]
  },
  {
   "cell_type": "code",
   "execution_count": 7,
   "metadata": {
    "collapsed": false
   },
   "outputs": [
    {
     "name": "stdout",
     "output_type": "stream",
     "text": [
      "[1] \"Monte Carlo\"\n",
      "  Strikes Paths Steps      ivol         bias       twoSd     ivolm\n",
      "1     0.8 1e+05    16 0.2294005 0.0004047816 0.004392135 0.2290826\n",
      "2     1.0 1e+05    16 0.1825094 0.0007812670 0.001563491 0.1823951\n",
      "3     1.2 1e+05    16 0.1525369 0.0004891123 0.001112917 0.1526722\n",
      "  ivolRichardson biasRichardson twoSdRichardson\n",
      "1      0.2297180   0.0007223019     0.004459700\n",
      "2      0.1826237   0.0008955624     0.001605003\n",
      "3      0.1524014   0.0003536287     0.001161164\n",
      "[1] \"Quasi-Monte Carlo\"\n",
      "  Strikes Paths Steps      ivol          bias         2sd     ivolm\n",
      "1     0.8 1e+05    16 0.2291244  0.0001286677 0.004377674 0.2289755\n",
      "2     1.0 1e+05    16 0.1814651 -0.0002630298 0.001558007 0.1814211\n",
      "3     1.2 1e+05    16 0.1517967 -0.0002510450 0.001119462 0.1519832\n",
      "  ivolRichardson biasRichardson 2sdRichardson\n",
      "1      0.2292733   0.0002775190   0.004448931\n",
      "2      0.1815091  -0.0002190575   0.001599923\n",
      "3      0.1516099  -0.0004378812   0.001170937\n"
     ]
    }
   ],
   "source": [
    "Ks<-c(0.8,1.0,1.2)\n",
    "exactHestonVolsBCC <- sapply(Ks,function(K){impvolHeston(paramsBCC)(log(K),1)})\n",
    "\n",
    "### run Monte Carlo and save x,v\n",
    "res_MC<-HestonMC2(paramsBCC)(S0=1, T=1, AK=Ks, N=100000, m=8, evolve=evolveAlfonsiF, exactVols=exactHestonVolsBCC)\n",
    "x_MC<-res_MC$x\n",
    "v_MC<-res_MC$v\n",
    "print(\"Monte Carlo\")\n",
    "print(res_MC$impliedVol)\n",
    "\n",
    "### run Quasi-Monte Carlo and save x,v\n",
    "res_QMC<-HestonQMC(paramsBCC)(S0=1,T=1,AK=Ks,N=100000,m=8,evolve=evolveAlfonsiF,exactVols=exactHestonVolsBCC)\n",
    "x_QMC<-res_QMC$x\n",
    "v_QMC<-res_QMC$v\n",
    "print(\"Quasi-Monte Carlo\")\n",
    "print(res_QMC$impliedVol)"
   ]
  },
  {
   "cell_type": "code",
   "execution_count": 8,
   "metadata": {
    "collapsed": false
   },
   "outputs": [
    {
     "name": "stdout",
     "output_type": "stream",
     "text": [
      "[1] \"MC\"\n",
      "[1] \"QMC\"\n"
     ]
    },
    {
     "data": {
      "image/png": "[encoded data removed]",
      "text/plain": [
       "plot without title"
      ]
     },
     "metadata": {},
     "output_type": "display_data"
    }
   ],
   "source": [
    "#c\n",
    "impliedVol_MC<-function(N){HestonMC2(paramsBCC)(S0=1, T=1, AK=1.2, N, m=8, evolve=evolveAlfonsiF, exactVols=NULL)$impliedVol[\"ivolRichardson\"][1,]}\n",
    "impliedVol_QMC<-function(N){HestonQMC(paramsBCC)(S0=1, T=1, AK=1.2, N, m=8, evolve=evolveAlfonsiF, exactVols=NULL)$impliedVol[\"ivolRichardson\"][1,]}\n",
    "\n",
    "paths<-seq(1000,100000,2000)\n",
    "print(\"MC\")\n",
    "ivol_MC<-sapply(paths,impliedVol_MC)\n",
    "print(\"QMC\")\n",
    "ivol_QMC<-sapply(paths,impliedVol_QMC)\n",
    "\n",
    "yrange <- c(0.14, 0.16)\n",
    "plot(paths,ivol_MC,type=\"l\",col=\"blue\",ylim=yrange,ylab=\"Implied vol\", xlab = \"Number of paths\")\n",
    "lines(paths,ivol_QMC,col=\"red\",ylim=yrange)\n",
    "\n",
    "impliedVol_exact<-impvolHestonRaw(paramsBCC)(k=log(1.2),t=1)\n",
    "highVol <- rep(impliedVol_exact+0.001,length(paths))\n",
    "lowVol <- rep(impliedVol_exact-0.001,length(paths))\n",
    "lines(paths,highVol,col=\"black\", lty = 2)\n",
    "lines(paths,lowVol,col=\"black\", lty = 2)"
   ]
  },
  {
   "cell_type": "markdown",
   "metadata": {},
   "source": [
    "Blue line shows MC. Red line shows QMC. Black dash is 0.1 vol threshold in orange."
   ]
  },
  {
   "cell_type": "markdown",
   "metadata": {},
   "source": [
    "### 5.  (10 points) \n",
    "\n",
    "For the following, use the samples of $x$ and $v$ generated using MC and QMC with 100,000 paths from Problem 4.\n",
    "\n",
    "(a)\n",
    "\n",
    "Plot the Heston implied volatility smile from the quasi-closed-form Heston formula.  Superimpose MC and QMC smiles to reproduce something like Figure 11 in Lecture 4.\n",
    "\n",
    "(b)\n",
    "\n",
    "Using both MC and QMC samples from Problem 4, numerically estimate the local volatility function\n",
    "\n",
    "$$\n",
    "v_\\ell(x,1)=\\E[v_1|x_1=x]\n",
    "$$\n",
    "\n",
    "and plot $v_\\ell(x,1)$ as a function of $x$.  (Tip: I recommend binning the data rather than running *e.g.* kernel regression.)\n",
    "\n",
    "(c)\n",
    "\n",
    "Superimpose the Heston implied variance smile (use part (a)) on your local variance smile from part (c) to reproduce something like Figure 12 (but with only 100,000 paths).  Comment on the qualitative features of the implied volatility and local volatility smiles."
   ]
  },
  {
   "cell_type": "code",
   "execution_count": 9,
   "metadata": {
    "collapsed": false
   },
   "outputs": [
    {
     "data": {
      "image/png": "[encoded data removed]",
      "text/plain": [
       "plot without title"
      ]
     },
     "metadata": {},
     "output_type": "display_data"
    }
   ],
   "source": [
    "#a\n",
    "# using quasi-closed-form\n",
    "iVol_exact_K<-function(K){impvolHestonRaw(paramsBCC)(k=log(K),t=1)}\n",
    "# MC\n",
    "iVol_MC_K<-function(K){\n",
    "    S<-exp(x_MC);\n",
    "    V <- (S>K)*(S - K);\n",
    "    AV <- mean(V);\n",
    "    BSV<- BSImpliedVolCall(1, K, 1, 0, AV);\n",
    "    return(BSV)\n",
    "}\n",
    "# QMC\n",
    "iVol_QMC_K<-function(K){\n",
    "    S<-exp(x_QMC);\n",
    "    V <- (S>K)*(S - K);\n",
    "    AV <- mean(V);\n",
    "    BSV<- BSImpliedVolCall(1, K, 1, 0, AV);\n",
    "    return(BSV)\n",
    "}\n",
    "### plot\n",
    "Ks<-seq(0.5,1.5,0.05)\n",
    "iVol_exact<-sapply(Ks,iVol_exact_K)\n",
    "iVol_MC<-sapply(Ks,iVol_MC_K)\n",
    "iVol_QMC<-sapply(Ks,iVol_QMC_K)\n",
    "plot(Ks,iVol_exact,type=\"l\", lty=2, col=\"black\", xlab=\"Strike K\", ylab=\"Implied vol.\")\n",
    "lines(Ks,iVol_MC, col=\"yellow\", lty=2)\n",
    "lines(Ks,iVol_QMC, col=\"red\", lty=2)"
   ]
  },
  {
   "cell_type": "markdown",
   "metadata": {},
   "source": [
    "Exact implied vols is the black line; MC is yellow; QMC is red, respectively."
   ]
  },
  {
   "cell_type": "code",
   "execution_count": 10,
   "metadata": {
    "collapsed": false
   },
   "outputs": [
    {
     "data": {
      "image/png": "[encoded data removed]",
      "text/plain": [
       "plot without title"
      ]
     },
     "metadata": {},
     "output_type": "display_data"
    }
   ],
   "source": [
    "#b and c\n",
    "xv_MC<-cbind(x_MC,v_MC)\n",
    "xv_QMC<-cbind(x_QMC,v_QMC)\n",
    "xv<-data.frame(rbind(xv_MC,xv_QMC))\n",
    "colnames(xv)<-c(\"x_sample\",\"v_sample\")\n",
    "x_min<-min(xv[,\"x_sample\"])\n",
    "x_max<-max(xv[,\"x_sample\"])\n",
    "bins<-100\n",
    "itv<-(x_max-x_min)/bins\n",
    "\n",
    "### local variance\n",
    "localVol<-function(x){\n",
    "    i<-floor((x-x_min)/itv)\n",
    "    xl<-x_min+i*itv\n",
    "    xh<-x_min+(i+1)*itv\n",
    "    xv.subset<-subset(xv,x_sample>=xl&x_sample<xh)\n",
    "    v_mean<-mean(xv.subset[,\"v_sample\"])\n",
    "    v_std<-sd(xv.subset[,\"v_sample\"])/sqrt(dim(xv.subset)[1])\n",
    "    return(cbind(v_mean,v_std))\n",
    "}\n",
    "\n",
    "x<-seq(-0.5,0.5,0.02)\n",
    "lVol<-sapply(x,localVol)\n",
    "\n",
    "iVol<-sapply(x,function(x){((iVol_MC_K(exp(x))+iVol_QMC_K(exp(x)))/2)^2})\n",
    "plot(x,lVol[1,],type=\"l\",col=\"black\",xlab=\"Log strike\",ylab=\"Implied Variance\")\n",
    "lines(x,iVol,col=\"blue\")\n",
    "\n",
    "### add error bars\n",
    "dx<-0.001\n",
    "for(i in 1:length(x)) {\n",
    "    high<-lVol[1,i]+lVol[2,i]\n",
    "    low<-lVol[1,i]-lVol[2,i]\n",
    "    segments(x[i],low,x[i],high)\n",
    "    segments(x[i]-dx, high , x[i]+dx, high)\n",
    "    segments(x[i]-dx, low , x[i]+dx, low)\n",
    "}"
   ]
  },
  {
   "cell_type": "markdown",
   "metadata": {},
   "source": [
    "Black line is local variance. Blue line is implied variance.When log strike is around the range of 0 to 0.4, implied variance superimposes the line of local variance, but if strike is far from the range, local variance is superimposed by implied variance."
   ]
  },
  {
   "cell_type": "markdown",
   "metadata": {
    "collapsed": true
   },
   "source": [
    "<font color=\"red\">VI comment: You need to give some reason for the graph you are seeing. You derived this relationship in previous homework -1pt </font>"
   ]
  },
  {
   "cell_type": "code",
   "execution_count": null,
   "metadata": {
    "collapsed": true
   },
   "outputs": [],
   "source": []
  }
 ],
 "metadata": {
  "anaconda-cloud": {},
  "kernelspec": {
   "display_name": "R",
   "language": "R",
   "name": "ir"
  },
  "language_info": {
   "codemirror_mode": "r",
   "file_extension": ".r",
   "mimetype": "text/x-r-source",
   "name": "R",
   "pygments_lexer": "r",
   "version": "3.3.2"
  }
 },
 "nbformat": 4,
 "nbformat_minor": 0
}
