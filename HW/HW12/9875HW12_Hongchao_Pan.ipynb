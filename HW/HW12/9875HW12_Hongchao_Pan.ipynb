{
 "cells": [
  {
   "cell_type": "markdown",
   "metadata": {},
   "source": [
    "# MTH9875 Homework 12\n",
    "\n",
    "Assigned: November 16, 2017.\n",
    "Due: November 30, 2017 (Saint Andrew's Day) by 6pm. \n",
    "\n",
    "Late homework **will not be accepted**."
   ]
  },
  {
   "cell_type": "markdown",
   "metadata": {},
   "source": [
    "<font color = \"red\">Homework is to be done by each student individually.  To receive full credit, you must email a completed copy of this iPython notebook to Victor Istratov (stavka@gmail.com), Yassine Ghalem (yassine.ghalem@gmail.com) and Jim Gatheral (jim.gatheral@gmail.com) by the due date and time.  All R-code must run correctly and solutions must be written up neatly in Markdown/LaTeX format."
   ]
  },
  {
   "cell_type": "markdown",
   "metadata": {},
   "source": [
    "* Author: Hongchao Pan\n",
    "* Kernel Version: R 3.3.2\n",
    "* Packages/Libraries: repr\n",
    "* Notes:\n"
   ]
  },
  {
   "cell_type": "code",
   "execution_count": 1,
   "metadata": {
    "collapsed": true
   },
   "outputs": [],
   "source": [
    "# Load library\n",
    "library(repr)"
   ]
  },
  {
   "cell_type": "code",
   "execution_count": 2,
   "metadata": {
    "collapsed": true
   },
   "outputs": [],
   "source": [
    "# Record the running time\n",
    "ptm<-proc.time()"
   ]
  },
  {
   "cell_type": "markdown",
   "metadata": {},
   "source": [
    "### 0. (0 points)\n",
    "\n",
    "Read Chapters 9 and 10 of The Volatility Surface"
   ]
  },
  {
   "cell_type": "markdown",
   "metadata": {},
   "source": [
    "## Comparing stochastic and local volatility pricing of lookback options\n",
    "\n",
    "$$\n",
    "\\newcommand{\\supp}{\\mathrm{supp}}\n",
    "\\newcommand{\\E}{\\mathbb{E} }\n",
    "\\def\\Cov{{ \\mbox{Cov} }}\n",
    "\\def\\Var{{ \\mbox{Var} }}\n",
    "\\newcommand{\\1}{\\mathbf{1} }\n",
    "\\newcommand{\\PP}{\\mathbb{P} }\n",
    "%\\newcommand{\\Pr}{\\mathrm{Pr} }\n",
    "\\newcommand{\\QQ}{\\mathbb{Q} }\n",
    "\\newcommand{\\RR}{\\mathbb{R} }\n",
    "\\newcommand{\\DD}{\\mathbb{D} }\n",
    "\\newcommand{\\HH}{\\mathbb{H} }\n",
    "\\newcommand{\\spn}{\\mathrm{span} }\n",
    "\\newcommand{\\cov}{\\mathrm{cov} }\n",
    "\\newcommand{\\sgn}{\\mathrm{sgn} }\n",
    "\\newcommand{\\HS}{\\mathcal{L}_{\\mathrm{HS}} }\n",
    "%\\newcommand{\\HS}{\\mathrm{HS} }\n",
    "\\newcommand{\\trace}{\\mathrm{trace} }\n",
    "\\newcommand{\\LL}{\\mathcal{L} }\n",
    "%\\newcommand{\\LL}{\\mathrm{L} }\n",
    "\\newcommand{\\s}{\\mathcal{S} }\n",
    "\\newcommand{\\ee}{\\mathcal{E} }\n",
    "\\newcommand{\\ff}{\\mathcal{F} }\n",
    "\\newcommand{\\hh}{\\mathcal{H} }\n",
    "\\newcommand{\\bb}{\\mathcal{B} }\n",
    "\\newcommand{\\dd}{\\mathcal{D} }\n",
    "\\newcommand{\\g}{\\mathcal{G} }\n",
    "\\newcommand{\\p}{\\partial}\n",
    "\\newcommand{\\half}{\\frac{1}{2} }\n",
    "\\newcommand{\\T}{\\mathcal{T} }\n",
    "\\newcommand{\\bi}{\\begin{itemize}}\n",
    "\\newcommand{\\ei}{\\end{itemize}}\n",
    "\\newcommand{\\beq}{\\begin{equation}}\n",
    "\\newcommand{\\eeq}{\\end{equation}}\n",
    "\\newcommand{\\beas}{\\begin{eqnarray*}}\n",
    "\\newcommand{\\eeas}{\\end{eqnarray*}}\n",
    "\\newcommand{\\cO}{\\mathcal{O}}\n",
    "\\newcommand{\\cF}{\\mathcal{F}}\n",
    "\\newcommand{\\cL}{\\mathcal{L}}\n",
    "$$\n",
    "\n"
   ]
  },
  {
   "cell_type": "markdown",
   "metadata": {},
   "source": [
    "In the following, a lookback call is defined to pay\n",
    "\n",
    "$$\n",
    "\\left(S_{\\text{max}}-K\\right)^+\n",
    "$$\n",
    "where $S_{\\text{max}}$ is the maximum and $K$ is the strike price."
   ]
  },
  {
   "cell_type": "markdown",
   "metadata": {},
   "source": [
    "### 1. (8 points)\n",
    "\n",
    "Use (for example) the stochastic volatility and local volatility Monte Carlo codes (`HestonMCxmax` and `HestonLvMCxmax` respectively) from Lecture 11 to price a one year at-the-money lookback call\n",
    "that is monitored once a day (assume 252 working days in a year).\n",
    "\n",
    "Use the usual HN parameters  - namely:\n",
    "\n",
    "$$\n",
    "\\begin{eqnarray*}\n",
    "v&=& 0.04\\\\ \\bar v &=& 0.04\\\\ \\lambda&=&10\\\\ \\eta&=&1\\\\\\rho&=&-1.\n",
    "\\end{eqnarray*}\n",
    "$$\n",
    "\n",
    "Use 252 time steps and 20,000 paths.  Do not use Richardson extrapolation."
   ]
  },
  {
   "cell_type": "markdown",
   "metadata": {},
   "source": [
    "<font color='blue'>\n",
    "### Answer of Q1"
   ]
  },
  {
   "cell_type": "code",
   "execution_count": 3,
   "metadata": {
    "collapsed": true
   },
   "outputs": [],
   "source": [
    "# Evolve function: Alfonsi full truncation\n",
    "evolveAlfonsiF <- function(v,x,dt,W1,W2,L){\n",
    "  \n",
    "  eldt2 <- exp(-lambda*dt/2);\n",
    "  \n",
    "  #Variance process \n",
    "  vbarp <- vbar - eta^2/(4*lambda);\n",
    "  psi <- (1-eldt2)/lambda;\n",
    "  v1 <- v*eldt2+lambda*vbarp*psi;\n",
    "  v2 <- (v1 > 0) * v1; # Take v2 = 0 if v1<0, else v2=v1\n",
    "  par <- sqrt(v2) + eta/2 * sqrt(dt)*W2;\n",
    "  vf <- eldt2*par*par +lambda*vbarp*psi + v1 - v2;\n",
    "  # Full truncation\n",
    "  \n",
    "  # Log-stock process (Andersen equation (33))\n",
    "  vvf <- (v+vf > 0) * (v+vf);\n",
    "  dw <- vvf/2*dt;\n",
    "  x <- x  - dw/2 + rho2m1*sqrt(dw)*W1 +\n",
    "    rho/eta*(lambda*dw + vf-v -lambda*vbar*dt) ;\n",
    "  # Impose martingale constraint\n",
    "  x <- x - log(mean(exp(x)));\n",
    "  v <- vf;\n",
    "  return(cbind(x,v));\n",
    "}\n"
   ]
  },
  {
   "cell_type": "code",
   "execution_count": 4,
   "metadata": {
    "collapsed": true
   },
   "outputs": [],
   "source": [
    "# Stochastic Volatility MC\n",
    "# HestonMCxmax function\n",
    "HestonMCxmax <- function(params){\n",
    "\n",
    "  is.even <- function(j){as.logical((j+1) %% 2)}\n",
    "  \n",
    "  res <- function(S0, T, AK, N, m, evolve,exactVols=NULL)\n",
    "  {\n",
    "    \n",
    "    lambda <<- params$lambda \n",
    "    rho <<- params$rho \n",
    "    eta <<- params$eta \n",
    "    vbar <<- params$vbar \n",
    "    v0 <<- params$v \n",
    "    \n",
    "    n <- m*2  #n is number of timesteps = 2*m so we can use Romberg extrapolation\n",
    "    sqrt2 <- sqrt(2) \n",
    "    rho2m1 <<- sqrt(1-rho*rho) \n",
    "    vbarp <<- vbar - eta^2/(4*lambda) \n",
    "    \n",
    "    negCount <- 0 \n",
    "    \n",
    "    # We use a vertical array, one element per M.C. path\n",
    "    x <- numeric(N);  v <- rep(1,N)*v0  \n",
    "    xmax <- x \n",
    "    xm <- x  \n",
    "    vm <- v\n",
    "    xmaxm <- xmax \n",
    "    xmin <- numeric(N)  \n",
    "    xminm <- numeric(N) \n",
    "    W1m <- numeric(N) \n",
    "    W2m <- numeric(N)  \n",
    "    \n",
    "    # Loop for bias computation (N small, n big)\n",
    "    for (i in 1:n)\n",
    "    {\n",
    "      # Two sets of correlated normal random vars.\n",
    "      \n",
    "      W1 <- rnorm(N) \n",
    "      W2 <- rnorm(N) \n",
    "      W1 <- W1 - mean(W1)\n",
    "      W1 <- W1/sd(W1) \n",
    "      W2 <- W2 - mean(W2)\n",
    "      W2 <- W2/sd(W2) \n",
    "      # Now W1 and W2 are forced to have mean=0 and sd=1\n",
    "      \n",
    "      W2p <- W2 - cor(W1,W2)*W1  # Eliminate actual correlation\n",
    "      W2p <- W2p - mean(W2p)  \n",
    "      W2 <- W2p/sd(W2p)  \n",
    "      # Now W1 and W2 have mean=0, sd=1 and correlation=0\n",
    "      \n",
    "      L <- rbinom(N, size=1, prob=1/2)  # Bernoulli rv for NV step\n",
    "      \n",
    "      # Add code for subgrid\n",
    "      W1m <- W1m + W1/sqrt2\n",
    "      W2m <- W2m + W2/sqrt2  # N(0,1) rv's for subgrid\n",
    "      \n",
    "      if (is.even(i)) {\n",
    "        #print(c(i,mean(W1m),mean(W2m),sd(W1m),sd(W2m),cor(W1m,W2m))) \n",
    "        resm <- evolve(vm,xm,T/m,W1m,W2m,L) \n",
    "        xnewm <- resm[,1] \n",
    "        xmaxm <- (xnewm>xmaxm)*(xnewm-xmaxm)+xmaxm \n",
    "        xminm <- (xnewm<xminm)*(xnewm-xminm)+xminm \n",
    "        xm <- xnewm \n",
    "        vm <- resm[,2] \n",
    "        W1m <- numeric(N)  \n",
    "        W2m <- numeric(N) \n",
    "      }\n",
    "      \n",
    "      res <- evolve(v,x,T/n,W1,W2,L) \n",
    "      xnew <- res[,1] \n",
    "      xmax <- (xnew>xmax)*(xnew-xmax)+xmax \n",
    "      xmin <- (xnew<xmin)*(xnew-xmin)+xmin \n",
    "      x <- xnew \n",
    "      v <- res[,2] \n",
    "      \n",
    "    }\n",
    "    \n",
    "    return(data.frame(x,xm,v,vm,xmax,xmaxm,xmin,xminm)) \n",
    "    \n",
    "  }\n",
    "  return(res) \n",
    "}"
   ]
  },
  {
   "cell_type": "code",
   "execution_count": 5,
   "metadata": {
    "collapsed": true
   },
   "outputs": [],
   "source": [
    "# Local Volatility MC\n",
    "# HestonLvMCxmax function\n",
    "# Monte Carlo with Richardson extrapolation\n",
    "HestonLvMCxmax <- function(params){\n",
    "\n",
    "  is.even <- function(j){as.logical((j+1) %% 2)}\n",
    "  \n",
    "  res <- function(S0, T, N, m)\n",
    "  {\n",
    "    \n",
    "    lambda <- params$lambda;\n",
    "    rho <- params$rho;\n",
    "    eta <- params$eta;\n",
    "    vbar <- params$vbar;\n",
    "    v0 <- params$v;\n",
    "    \n",
    "    lambdap <- lambda+eta/2;\n",
    "    vbarp <- vbar*lambda/lambdap;\n",
    "    \n",
    "    n <- m*2;\n",
    "    dt <- T/n;\n",
    "    dtm <- dt*2;\n",
    "    \n",
    "    sqrtdt <- sqrt(dt);\n",
    "    sqrtdtm <- sqrt(dtm);\n",
    "    sqrt2 <- sqrt(2);\n",
    "    \n",
    "    # We use a vertical array, one element per M.C. path\n",
    "    x <- numeric(N); vloc <- rep(v0,N); \n",
    "    xm <- numeric(N); vlocm <- rep(v0,N); \n",
    "    xmax <- numeric(N); xmaxm <- numeric(N);\n",
    "    xmin <- numeric(N); xminm <- numeric(N);\n",
    "    W1m <- numeric(N);\n",
    "    \n",
    "    # Loop over timesteps\n",
    "    for (i in 1:n)\n",
    "    {\n",
    "      W1 <- rnorm(N);\n",
    "      W1 <- W1 - mean(W1); W1 <- W1/sd(W1);\n",
    "      # Now W1 is forced to have mean=0 and sd=1  \n",
    "      \n",
    "      # Add code for subgrid\n",
    "      W1m <- W1m + W1/sqrt2; # N(0,1) rv's for subgrid\n",
    "      \n",
    "      # Compute local variance from formula 4.1 of TVS\n",
    "      ti <- i*dt;\n",
    "      elti <- exp(-lambdap*ti);\t\n",
    "      vlocf <- (v0-vbarp)*elti+vbarp-eta*x*(1-elti)/(lambdap*ti);\n",
    "      vlocf <- (vlocf>=0)*vlocf;\n",
    "      \n",
    "      # Approximate integrated variance\n",
    "      w <- (vlocf +vloc)/2*dt;\n",
    "      \n",
    "      xnew <- x - w/2 + sqrt(w)*W1;\n",
    "      xmax <- (xnew>xmax)*(xnew-xmax)+xmax;\n",
    "      xmin <- (xnew<xmin)*(xnew-xmin)+xmin;\n",
    "      x <- xnew;\n",
    "      vloc <- vlocf;\n",
    "      \n",
    "      \n",
    "      if (is.even(i)) {\n",
    "        \n",
    "        vlocfm <- (v0-vbarp)*elti+vbarp-eta*xm*(1-elti)/(lambdap*ti);\n",
    "        vlocfm <- (vlocfm>=0)*vlocfm;\n",
    "        \n",
    "        wm <- (vlocfm+vlocm)/2*dtm;\n",
    "        xnewm <- xm - wm/2 + sqrt(wm)*W1m;\n",
    "        xmaxm <- (xnewm>xmaxm)*(xnewm-xmaxm)+xmaxm;\n",
    "        xminm <- (xnewm<xminm)*(xnewm-xminm)+xminm;\n",
    "        xm <- xnewm;\n",
    "        vlocm <- vlocf;\n",
    "        W1m <- numeric(N);\n",
    "      } \n",
    "      \n",
    "      \n",
    "    }\n",
    "    \n",
    "    return(data.frame(x,xm,vloc,vlocm,xmax,xmaxm,xmin, xminm));\n",
    "    \n",
    "  }\n",
    "  return(res);\n",
    "}"
   ]
  },
  {
   "cell_type": "code",
   "execution_count": 6,
   "metadata": {
    "collapsed": true
   },
   "outputs": [],
   "source": [
    "# Given HN parameters\n",
    "paramsHN <- list(lambda = 10,rho = -1,eta = 1,vbar = 0.04,v = 0.04)"
   ]
  },
  {
   "cell_type": "code",
   "execution_count": 7,
   "metadata": {
    "collapsed": true
   },
   "outputs": [],
   "source": [
    "# Generate samples based on local vol and stochastic vol models\n",
    "# 1Y, 20000 paths, 252 time steps\n",
    "paths <- 20000\n",
    "sampleLV <- HestonLvMCxmax(paramsHN)(S0=1, T=1, N=paths, m=252/2)\n",
    "sampleSV <- HestonMCxmax(paramsHN)(S0=1, T=1, N=paths, m=252/2,evolve=evolveAlfonsiF)"
   ]
  },
  {
   "cell_type": "code",
   "execution_count": 8,
   "metadata": {
    "collapsed": true
   },
   "outputs": [],
   "source": [
    "# Define lookback option based on the payoff\n",
    "LookBack_opt <- function(data,strike){\n",
    "  S_max <- exp(data$xmax)\n",
    "  K <- strike\n",
    "  V <- (S_max>K)*(S_max-K)\n",
    "  AV <- mean(V)\n",
    "  return(AV)  \n",
    "}"
   ]
  },
  {
   "cell_type": "code",
   "execution_count": 9,
   "metadata": {
    "collapsed": false
   },
   "outputs": [
    {
     "name": "stdout",
     "output_type": "stream",
     "text": [
      "Price of 1Y ATM Call based on Stochastic Volatility MC:  0.1266586 \n",
      "Price of 1Y ATM Call based on Local Volatility MC:  0.1348495 \n"
     ]
    }
   ],
   "source": [
    "# Pricing\n",
    "# ATM, let strike = S0 = 1\n",
    "atmSV_C<-LookBack_opt(sampleSV,strike=1)\n",
    "atmLV_C<-LookBack_opt(sampleLV,strike=1)\n",
    "cat(\"Price of 1Y ATM Call based on Stochastic Volatility MC: \",atmSV_C,\"\\n\")\n",
    "cat(\"Price of 1Y ATM Call based on Local Volatility MC: \",atmLV_C,\"\\n\")\n"
   ]
  },
  {
   "cell_type": "markdown",
   "metadata": {},
   "source": [
    "### 2. (4 points) \n",
    "\n",
    "Plot local volatility and stochastic volatility prices of lookback options for a range of strikes from $1.0$ to $1.4$, reproducing Figure 8 of Lecture 10."
   ]
  },
  {
   "cell_type": "markdown",
   "metadata": {},
   "source": [
    "<font color='blue'>\n",
    "### Answer of Q2"
   ]
  },
  {
   "cell_type": "code",
   "execution_count": 10,
   "metadata": {
    "collapsed": true
   },
   "outputs": [],
   "source": [
    "# Create a time series of strikes\n",
    "strikes <- seq(1.0,1.4,0.01)"
   ]
  },
  {
   "cell_type": "code",
   "execution_count": 11,
   "metadata": {
    "collapsed": true
   },
   "outputs": [],
   "source": [
    "# Compute the prices w.r.t. strikes\n",
    "prices_LV <-sapply(strikes,function(K){LookBack_opt(sampleLV,strike=K)})\n",
    "prices_SV <- sapply(strikes,function(K){LookBack_opt(sampleSV,strike=K)})"
   ]
  },
  {
   "cell_type": "code",
   "execution_count": 12,
   "metadata": {
    "collapsed": false
   },
   "outputs": [
    {
     "data": {
      "image/png": "[encoded data removed]",
      "text/plain": [
       "Plot with title “Comparison of Pricing Lookback Call Options with Local Volatility MC and Sochastic Volatility MC”"
      ]
     },
     "metadata": {},
     "output_type": "display_data"
    }
   ],
   "source": [
    "# Plot the prices vs strikes\n",
    "options(repr.plot.height=5,repr.plot.width=8)\n",
    "plot(strikes,prices_LV,xlab=\"Strike, K\",ylab=\"Price of Lookback Call Option\",\n",
    "    main=\"Comparison of Pricing Lookback Call Options with Local Volatility MC and Sochastic Volatility MC\",\n",
    "    type='l',col=\"blue\",lwd=3,cex.main=0.9)\n",
    "lines(strikes,prices_SV,type='l',col=\"red\",lwd=3)\n",
    "legend(\"topright\",c(\"Local Volatility MC\",\"Stochastic Volatility MC\"),\n",
    "      lty=c(1,1),col=c(\"blue\",\"red\"),bty='n', y.intersp=1.5,cex=1)"
   ]
  },
  {
   "cell_type": "markdown",
   "metadata": {},
   "source": [
    "### 3. (6 points) \n",
    "\n",
    "What is the intuition behind the difference in price under stochastic volatility and local volatility assumptions respectively?  Appeal to the dynamics of the implied volatility skew in\n",
    "your answer. "
   ]
  },
  {
   "cell_type": "markdown",
   "metadata": {},
   "source": [
    "<font color='blue'>\n",
    "### Answer of Q3"
   ]
  },
  {
   "cell_type": "markdown",
   "metadata": {},
   "source": [
    "- The hedge is roughly two European call options struck at $K$.   \n",
    "    - If and when the stock price reaches $K$, we need to sell roughly two European calls with strike $K$ and buy two new calls with strike $K + \\Delta K$. \n",
    "    - Equivalently, we need to sell two call spreads. "
   ]
  },
  {
   "cell_type": "markdown",
   "metadata": {},
   "source": [
    "- Then the skew will be more negative under stochastic volatility than under local volatility so these call spreads will be more valuable under SV."
   ]
  },
  {
   "cell_type": "markdown",
   "metadata": {},
   "source": [
    "- Therefore, the price of lookback call option should be smaller under stochastic volatility than that under local volatility assumptions, which is consistent with what we observed from the figure in Q2."
   ]
  },
  {
   "cell_type": "markdown",
   "metadata": {},
   "source": [
    "## The effect of discreteness"
   ]
  },
  {
   "cell_type": "markdown",
   "metadata": {},
   "source": [
    "### 4. (6 points) \n",
    "\n",
    "Repeat Problem 1 with weekly monitoring (assume 52 weeks).  Estimate the difference in price using the Broadie, Glasserman and Kou adjustment.  Compare with your Monte Carlo results and comment."
   ]
  },
  {
   "cell_type": "markdown",
   "metadata": {},
   "source": [
    "<font color='blue'>\n",
    "### Answer of Q4"
   ]
  },
  {
   "cell_type": "code",
   "execution_count": 13,
   "metadata": {
    "collapsed": true
   },
   "outputs": [],
   "source": [
    "# Generate samples by using weekly monitoring\n",
    "paths <- 20000\n",
    "sampleLV_Week <- HestonLvMCxmax(paramsHN)(S0=1, T=1, N=paths, m=52/2) # 52 weeks instead of 252 days\n",
    "sampleSV_Week <- HestonMCxmax(paramsHN)(S0=1, T=1, N=paths, m=52/2,evolve=evolveAlfonsiF)"
   ]
  },
  {
   "cell_type": "code",
   "execution_count": 14,
   "metadata": {
    "collapsed": false
   },
   "outputs": [
    {
     "name": "stdout",
     "output_type": "stream",
     "text": [
      "Price of 1Y ATM Call based on Stochastic Volatility MC with weekly monitoring:  0.1234106 \n",
      "Price of 1Y ATM Call based on Local Volatility MC with weekly monitoring:  0.1287756 \n"
     ]
    }
   ],
   "source": [
    "# Pricing\n",
    "# ATM, let strike = S0 = 1\n",
    "atmSV_C_Week<-LookBack_opt(sampleSV_Week,strike=1)\n",
    "atmLV_C_Week<-LookBack_opt(sampleLV_Week,strike=1)\n",
    "cat(\"Price of 1Y ATM Call based on Stochastic Volatility MC with weekly monitoring: \",\n",
    "    atmSV_C_Week,\"\\n\")\n",
    "cat(\"Price of 1Y ATM Call based on Local Volatility MC with weekly monitoring: \",\n",
    "    atmLV_C_Week,\"\\n\")"
   ]
  },
  {
   "cell_type": "code",
   "execution_count": 15,
   "metadata": {
    "collapsed": false
   },
   "outputs": [
    {
     "name": "stdout",
     "output_type": "stream",
     "text": [
      "atm implied vol:  0.1872716"
     ]
    }
   ],
   "source": [
    "# Broadie, Glasserman and Kou adjustment\n",
    "\n",
    "# Heston implied vol\n",
    "callOption <- function(phi, k, t){\n",
    "    integrand <-  function(u){Re(exp(-1i*u*k)*phi(u - 1i/2, t)/(u^2 + 1/4))};\n",
    "    res <- 1 - exp(k/2)/pi*integrate(integrand,lower=0,upper=Inf,rel.tol=0.0000000001,subdivisions=1000)$value;\n",
    "    return(res);\n",
    "}\n",
    "\n",
    "BSFormula <- function(S0, K, T, r, sigma)\n",
    "{\n",
    "x <- log(S0/K)+r*T;\n",
    "sig <- sigma*sqrt(T);\n",
    "d1 <- x/sig+sig/2;\n",
    "d2 <- d1 - sig;\n",
    "pv <- exp(-r*T);\n",
    "return( S0*pnorm(d1) - pv*K*pnorm(d2));\n",
    "}\n",
    "\n",
    "BSImpliedVolCall <- function(S0, K, T, r, C)\n",
    "{\n",
    "nK <- length(K);\n",
    "sigmaL <- rep(1e-10,nK);\n",
    "CL <- BSFormula(S0, K, T, r, sigmaL);\n",
    "sigmaH <- rep(10,nK);\n",
    "CH <- BSFormula(S0, K, T, r, sigmaH);\n",
    "  while (mean(sigmaH - sigmaL) > 1e-10)\n",
    "  {\n",
    "    sigma <- (sigmaL + sigmaH)/2;\n",
    "    CM <- BSFormula(S0, K, T, r, sigma);\n",
    "    CL <- CL + (CM < C)*(CM-CL);\n",
    "    sigmaL <- sigmaL + (CM < C)*(sigma-sigmaL);\n",
    "    CH <- CH + (CM >= C)*(CM-CH);\n",
    "    sigmaH <- sigmaH + (CM >= C)*(sigma-sigmaH);\n",
    "  }\n",
    "  return(sigma);\n",
    "}\n",
    "\n",
    "bsvol <- function(phi,k, t){BSImpliedVolCall(1, exp(k), t, 0, callOption(phi,k,t))}\n",
    "\n",
    "phiHeston <- function(params){\n",
    "    \n",
    "    lambda <- params$lambda;\n",
    "    rho <- params$rho;\n",
    "    eta <- params$eta;\n",
    "    vbar <- params$vbar;\n",
    "    v <- params$v;\n",
    "    \n",
    "    function(u, t){\n",
    "\n",
    "    al <- -u*u/2 - 1i*u/2;\n",
    "    bet <- lambda - rho*eta*1i*u;\n",
    "    gam <- eta^2/2;\n",
    "    d <- sqrt(bet*bet - 4*al*gam);\n",
    "    rp <- (bet + d)/(2*gam);\n",
    "    rm <- (bet - d)/(2*gam);\n",
    "    g <- rm / rp;\n",
    "    D <- rm * (1 - exp(-d*t))/ (1 - g*exp(-d*t));\n",
    "    C <- lambda * (rm * t - 2/eta^2 * log( (1 - g*exp(-(d*t)))/(1 - g) ) );\n",
    "    return(exp(C*vbar + D*v));\n",
    "}\n",
    "}\n",
    "\n",
    "impvolHeston <- function(params){\n",
    "    function(k, t){\n",
    "    \tbsvol(phiHeston(params),k,t)\n",
    "        }\n",
    "}\n",
    "\n",
    "sigma<-impvolHeston(paramsHN)(k=0,t=1)\n",
    "cat(\"atm implied vol: \",sigma)"
   ]
  },
  {
   "cell_type": "code",
   "execution_count": 16,
   "metadata": {
    "collapsed": true
   },
   "outputs": [],
   "source": [
    "# BGK beta\n",
    "beta<-0.5826\n",
    "\n",
    "# Continuous lookback option pricing function\n",
    "LookBackCtn_opt<-function(strike){\n",
    "    return(2*BSFormula(S0=1, K=strike, T=1, r=0, sigma=sigma))\n",
    "}"
   ]
  },
  {
   "cell_type": "code",
   "execution_count": 17,
   "metadata": {
    "collapsed": true
   },
   "outputs": [],
   "source": [
    "# Compute the prices of BGK adjustment with daily and weekly monitoring\n",
    "# daily monitoring\n",
    "BGK_d<-LookBackCtn_opt(exp(-beta*sigma*sqrt(1/252)))-(1-exp(-beta*sigma*sqrt(1/252)))\n",
    "# weekly monitoring\n",
    "BGK_w<-LookBackCtn_opt(exp(-beta*sigma*sqrt(1/52)))-(1-exp(-beta*sigma*sqrt(1/52)))\n"
   ]
  },
  {
   "cell_type": "code",
   "execution_count": 18,
   "metadata": {
    "collapsed": false
   },
   "outputs": [
    {
     "data": {
      "text/html": [
       "<table>\n",
       "<thead><tr><th scope=col>Simulation Method</th><th scope=col>Daily Monitoring</th><th scope=col>Weekly Monitoring</th><th scope=col>Absolute Difference of Monitoring</th></tr></thead>\n",
       "<tbody>\n",
       "\t<tr><td>Local Volatility MC     </td><td>0.134849547380292       </td><td>0.128775555441928       </td><td>0.00607399193836386     </td></tr>\n",
       "\t<tr><td>Stochastic Volatility MC</td><td>0.126658581171587       </td><td>0.1234106064405         </td><td>0.00324797473108755     </td></tr>\n",
       "\t<tr><td>BGK Adjustment          </td><td>0.148791885175713       </td><td>0.148564405823183       </td><td>0.00022747935252998     </td></tr>\n",
       "</tbody>\n",
       "</table>\n"
      ],
      "text/latex": [
       "\\begin{tabular}{r|llll}\n",
       " Simulation Method & Daily Monitoring & Weekly Monitoring & Absolute Difference of Monitoring\\\\\n",
       "\\hline\n",
       "\t Local Volatility MC      & 0.134849547380292        & 0.128775555441928        & 0.00607399193836386     \\\\\n",
       "\t Stochastic Volatility MC & 0.126658581171587        & 0.1234106064405          & 0.00324797473108755     \\\\\n",
       "\t BGK Adjustment           & 0.148791885175713        & 0.148564405823183        & 0.00022747935252998     \\\\\n",
       "\\end{tabular}\n"
      ],
      "text/markdown": [
       "\n",
       "Simulation Method | Daily Monitoring | Weekly Monitoring | Absolute Difference of Monitoring | \n",
       "|---|---|---|\n",
       "| Local Volatility MC      | 0.134849547380292        | 0.128775555441928        | 0.00607399193836386      | \n",
       "| Stochastic Volatility MC | 0.126658581171587        | 0.1234106064405          | 0.00324797473108755      | \n",
       "| BGK Adjustment           | 0.148791885175713        | 0.148564405823183        | 0.00022747935252998      | \n",
       "\n",
       "\n"
      ],
      "text/plain": [
       "  Simulation Method        Daily Monitoring  Weekly Monitoring\n",
       "1 Local Volatility MC      0.134849547380292 0.128775555441928\n",
       "2 Stochastic Volatility MC 0.126658581171587 0.1234106064405  \n",
       "3 BGK Adjustment           0.148791885175713 0.148564405823183\n",
       "  Absolute Difference of Monitoring\n",
       "1 0.00607399193836386              \n",
       "2 0.00324797473108755              \n",
       "3 0.00022747935252998              "
      ]
     },
     "metadata": {},
     "output_type": "display_data"
    }
   ],
   "source": [
    "# Compare thr simulation results by using daily and weekly monitoring\n",
    "# Create a dataframe\n",
    "res<-data.frame(matrix(nrow=3,ncol=4))\n",
    "# Local Vol\n",
    "res[1,] <- c(\"Local Volatility MC\", atmLV_C,atmLV_C_Week,abs(atmLV_C-atmLV_C_Week))\n",
    "# Stochastic Vol\n",
    "res[2,] <- c(\"Stochastic Volatility MC\", atmSV_C,atmSV_C_Week,abs(atmSV_C-atmSV_C_Week))\n",
    "# BGK adjustment\n",
    "res[3,] <- c(\"BGK Adjustment\",BGK_d,BGK_w,abs(BGK_d-BGK_w))\n",
    "# Rename the column names\n",
    "colnames(res) <- c(\"Simulation Method\",\"Daily Monitoring\",\"Weekly Monitoring\",\n",
    "              \"Absolute Difference of Monitoring\")\n",
    "res"
   ]
  },
  {
   "cell_type": "markdown",
   "metadata": {},
   "source": [
    "**Comment:**\n",
    "\n",
    "- From the result in above table, the absolute difference of BGK adjustment method between daily monitoring and weekly monitoring is smallest, which is in line with expectation."
   ]
  },
  {
   "cell_type": "code",
   "execution_count": 19,
   "metadata": {
    "collapsed": false
   },
   "outputs": [
    {
     "name": "stdout",
     "output_type": "stream",
     "text": [
      "The running time of the notebook is: "
     ]
    },
    {
     "data": {
      "text/plain": [
       "   user  system elapsed \n",
       " 12.539   0.655  13.309 "
      ]
     },
     "metadata": {},
     "output_type": "display_data"
    }
   ],
   "source": [
    "cat('The running time of the notebook is: ')\n",
    "proc.time()-ptm"
   ]
  }
 ],
 "metadata": {
  "kernelspec": {
   "display_name": "R",
   "language": "R",
   "name": "ir"
  },
  "language_info": {
   "codemirror_mode": "r",
   "file_extension": ".r",
   "mimetype": "text/x-r-source",
   "name": "R",
   "pygments_lexer": "r",
   "version": "3.3.2"
  }
 },
 "nbformat": 4,
 "nbformat_minor": 0
}
