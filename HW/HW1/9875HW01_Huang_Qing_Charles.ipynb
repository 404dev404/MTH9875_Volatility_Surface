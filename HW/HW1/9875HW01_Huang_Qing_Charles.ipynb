{
 "cells": [
  {
   "cell_type": "markdown",
   "metadata": {},
   "source": [
    "# MTH9875 Homework 1 \n",
    "\n",
    "Assigned: August 25, 2016.\n",
    "Due: September 8, 2016 by 6pm.\n",
    "\n",
    "Late homework **will not be accepted**."
   ]
  },
  {
   "cell_type": "markdown",
   "metadata": {},
   "source": [
    "# Qing Huang"
   ]
  },
  {
   "cell_type": "markdown",
   "metadata": {},
   "source": [
    "<font color = \"red\">Homework is to be done by each student individually.  To receive full credit, you must email a completed copy of this iPython notebook to Victor Istratov (stavka@gmail.com), Yassine Ghalem (yassine.ghalem@gmail.com) and Jim Gatheral (jim.gatheral@gmail.com) by the due date and time.  All R-code must run correctly and solutions must be written up neatly in Markdown/LaTeX format.\n",
    "\n",
    "<font color=\"blue\">If you encounter problems with Markdown/LaTeX or iPython notebook, please contact your iPython notebook ambassador.\n"
   ]
  },
  {
   "cell_type": "markdown",
   "metadata": {},
   "source": [
    "## Power laws"
   ]
  },
  {
   "cell_type": "markdown",
   "metadata": {},
   "source": [
    "$$\\newcommand{\\bi}{\\begin{itemize}}\n",
    "\\newcommand{\\ei}{\\end{itemize}}\n",
    "\\newcommand{\\beq}{\\begin{equation}}\n",
    "\\newcommand{\\eeq}{\\end{equation}}\n",
    "\\newcommand{\\beas}{\\begin{eqnarray*}}\n",
    "\\newcommand{\\eeas}{\\end{eqnarray*}}\n",
    "\\newcommand{\\supp}{\\mathrm{supp}}\n",
    "\\newcommand{\\E}{\\mathbb{E} }\n",
    "\\def\\Cov{{ \\mbox{Cov} }}\n",
    "\\def\\Var{{ \\mbox{Var} }}\n",
    "\\newcommand{\\1}{\\mathbf{1} }\n",
    "\\newcommand{\\PP}{\\mathbb{P} }\n",
    "\\newcommand{\\QQ}{\\mathbb{Q} }\n",
    "\\newcommand{\\RR}{\\mathbb{R} }\n",
    "\\newcommand{\\DD}{\\mathbb{D} }\n",
    "\\newcommand{\\HH}{\\mathbb{H} }\n",
    "\\newcommand{\\spn}{\\mathrm{span} }\n",
    "\\newcommand{\\cov}{\\mathrm{cov} }\n",
    "\\newcommand{\\HS}{\\mathcal{L}_{\\mathrm{HS}} }\n",
    "\\newcommand{\\trace}{\\mathrm{trace} }\n",
    "\\newcommand{\\LL}{\\mathcal{L} }\n",
    "\\newcommand{\\s}{\\mathcal{S} }\n",
    "\\newcommand{\\ee}{\\mathcal{E} }\n",
    "\\newcommand{\\ff}{\\mathcal{F} }\n",
    "\\newcommand{\\hh}{\\mathcal{H} }\n",
    "\\newcommand{\\bb}{\\mathcal{B} }\n",
    "\\newcommand{\\dd}{\\mathcal{D} }\n",
    "\\newcommand{\\g}{\\mathcal{G} }\n",
    "\\newcommand{\\half}{\\frac{1}{2} }\n",
    "\\newcommand{\\T}{\\mathcal{T} }\n",
    "$$\n",
    "#### 1. (4 points)\n",
    "\n",
    "Let $X_i$ be independent power-law distributed random variables, so that for large $x$,\n",
    "\n",
    "$$\n",
    "\\Pr(X_i>x) \\sim \\frac{1}{x^{\\zeta_{X_i}}} \n",
    "$$\n",
    "\n",
    " Prove the following properties of the tail exponents $\\zeta_{X_i}$:\n",
    "\n",
    " (a) $$\n",
    "\\zeta_{X^\\alpha}=\\frac{\\zeta_{X}}{\\alpha}%\\label{eq:PLpower}\n",
    "$$\n",
    "\n",
    "(b) $$\n",
    "\\zeta_{\\alpha\\,X}=\\zeta_{X}\n",
    "%\\label{eq:PLprod}\n",
    "$$\n",
    "\n"
   ]
  },
  {
   "cell_type": "markdown",
   "metadata": {},
   "source": [
    "### Answer\n",
    "\n",
    "(a)\n",
    "As\n",
    "$$\\Pr(X^\\alpha\\,>\\,x) = \\Pr(X\\,>\\,x^{\\frac1{\\alpha}})$$\n",
    "$$\\Pr(X\\,>\\,x^{\\frac1{\\alpha}})\\sim \\frac{1}{x^{\\frac{\\zeta_{X}}{\\alpha}}} $$\n",
    "So,\n",
    "$$\\zeta_{X^\\alpha}=\\frac{\\zeta_{X}}{\\alpha}%\\label{eq:PLpower}$$\n",
    "\n",
    "(b)\n",
    "As\n",
    "$$\\Pr(\\alpha\\,X\\,>\\,x) = \\Pr(X\\,>\\,\\frac{x}{\\alpha})$$\n",
    "$$\\Pr(X\\,>\\,\\frac{x}{\\alpha}) \\sim \\frac{\\alpha^{\\zeta_{X}}}{x^{\\zeta_{X}}} $$\n",
    "\n",
    "$$ \\sim \\frac{1}{x^{\\zeta_{X}}}$$\n",
    "So,\n",
    "$$\\zeta_{\\alpha\\,X}=\\zeta_{X}%\\label{eq:PLprod}$$\n"
   ]
  },
  {
   "cell_type": "markdown",
   "metadata": {},
   "source": [
    "\n",
    "The following code snippet loads the data required for this homework assignment."
   ]
  },
  {
   "cell_type": "code",
   "execution_count": 1,
   "metadata": {
    "collapsed": true
   },
   "outputs": [],
   "source": [
    "download.file(url=\"http://mfe.baruch.cuny.edu/wp-content/uploads/2016/08/9875HW01_Fall2016.zip\", destfile=\"9875HW1.zip\")\n",
    "unzip(zipfile=\"9875HW1.zip\")"
   ]
  },
  {
   "cell_type": "markdown",
   "metadata": {},
   "source": [
    "#### 2. (8 points)\n",
    "\n",
    "(a) Convert the file `SSRN.csv` (which contains paper download numbers and ranks) to a data frame.\n",
    "\n",
    "(b) Draw a log-log plot of number of paper downloads ($y$) vs download rank ($x$).\n",
    "\n",
    "(c) Regress $y$ vs $x$ and superimpose the resulting fit on your plot from part (b).\n",
    "\n",
    "(d) Write down the empirical power-law you have found in the form\n",
    "\n",
    "$$\n",
    "y = C x^\\alpha.\n",
    "$$"
   ]
  },
  {
   "cell_type": "code",
   "execution_count": 2,
   "metadata": {
    "collapsed": false
   },
   "outputs": [
    {
     "data": {
      "text/html": [
       "<table>\n",
       "<thead><tr><th scope=col>Rank</th><th scope=col>Author</th><th scope=col>Total.New.Downloads</th></tr></thead>\n",
       "<tbody>\n",
       "\t<tr><td>1                  </td><td>Fernandez, Pablo   </td><td>139046             </td></tr>\n",
       "\t<tr><td>2                  </td><td>Jensen, Michael C. </td><td> 66341             </td></tr>\n",
       "\t<tr><td>3                  </td><td>Jackson, Matthew O.</td><td> 41335             </td></tr>\n",
       "\t<tr><td>4                  </td><td>Faber, Mebane T.   </td><td> 37648             </td></tr>\n",
       "\t<tr><td>5                  </td><td>Damodaran, Aswath  </td><td> 35219             </td></tr>\n",
       "\t<tr><td>6                  </td><td>Harvey, Campbell R.</td><td> 33425             </td></tr>\n",
       "</tbody>\n",
       "</table>\n"
      ],
      "text/latex": [
       "\\begin{tabular}{r|lll}\n",
       " Rank & Author & Total.New.Downloads\\\\\n",
       "\\hline\n",
       "\t 1                   & Fernandez, Pablo    & 139046             \\\\\n",
       "\t 2                   & Jensen, Michael C.  &  66341             \\\\\n",
       "\t 3                   & Jackson, Matthew O. &  41335             \\\\\n",
       "\t 4                   & Faber, Mebane T.    &  37648             \\\\\n",
       "\t 5                   & Damodaran, Aswath   &  35219             \\\\\n",
       "\t 6                   & Harvey, Campbell R. &  33425             \\\\\n",
       "\\end{tabular}\n"
      ],
      "text/plain": [
       "  Rank Author              Total.New.Downloads\n",
       "1 1    Fernandez, Pablo    139046             \n",
       "2 2    Jensen, Michael C.   66341             \n",
       "3 3    Jackson, Matthew O.  41335             \n",
       "4 4    Faber, Mebane T.     37648             \n",
       "5 5    Damodaran, Aswath    35219             \n",
       "6 6    Harvey, Campbell R.  33425             "
      ]
     },
     "metadata": {},
     "output_type": "display_data"
    }
   ],
   "source": [
    "#2(a)\n",
    "SSRN = read.csv('SSRN.csv')\n",
    "head(SSRN)"
   ]
  },
  {
   "cell_type": "code",
   "execution_count": 3,
   "metadata": {
    "collapsed": false
   },
   "outputs": [
    {
     "data": {
      "image/png": "[encoded data removed]",
      "text/plain": [
       "plot without title"
      ]
     },
     "metadata": {},
     "output_type": "display_data"
    }
   ],
   "source": [
    "# 2(b)\n",
    "plot(log(SSRN$Rank), log(SSRN$Total.New.Downloads), ylab = \"paper downloads\", xlab = \"Ranks\")\n",
    "# 2(c)\n",
    "lm <- lm(log(SSRN$Total.New.Downloads) ~ log(SSRN$Rank)) \n",
    "abline(lm, col = \"red\")"
   ]
  },
  {
   "cell_type": "code",
   "execution_count": 4,
   "metadata": {
    "collapsed": false
   },
   "outputs": [
    {
     "data": {
      "text/html": [
       "<strong>(Intercept):</strong> 90312.3357695813"
      ],
      "text/latex": [
       "\\textbf{(Intercept):} 90312.3357695813"
      ],
      "text/markdown": [
       "**(Intercept):** 90312.3357695813"
      ],
      "text/plain": [
       "(Intercept) \n",
       "   90312.34 "
      ]
     },
     "metadata": {},
     "output_type": "display_data"
    },
    {
     "data": {
      "text/html": [
       "<strong>log(SSRN$Rank):</strong> -0.546706977988614"
      ],
      "text/latex": [
       "\\textbf{log(SSRN\\textbackslash{}\\$Rank):} -0.546706977988614"
      ],
      "text/markdown": [
       "**log(SSRN$Rank):** -0.546706977988614"
      ],
      "text/plain": [
       "log(SSRN$Rank) \n",
       "     -0.546707 "
      ]
     },
     "metadata": {},
     "output_type": "display_data"
    }
   ],
   "source": [
    "# 2(d)\n",
    "C = exp( lm$coefficients[1] )\n",
    "C\n",
    "alpha = lm$coefficients[2]\n",
    "alpha"
   ]
  },
  {
   "cell_type": "markdown",
   "metadata": {},
   "source": [
    "$$y = 90312.34\\,x^{-0.5467}$$"
   ]
  },
  {
   "cell_type": "markdown",
   "metadata": {},
   "source": [
    "#### 3. (8 points)\n",
    "\n",
    "Repeat all four parts of question 2. for the dataset `Cities.csv`."
   ]
  },
  {
   "cell_type": "code",
   "execution_count": 5,
   "metadata": {
    "collapsed": false
   },
   "outputs": [
    {
     "data": {
      "text/html": [
       "<table>\n",
       "<thead><tr><th scope=col>Rank</th><th scope=col>Municipality</th><th scope=col>State</th><th scope=col>X2000.Population</th><th scope=col>X1990.Population</th><th scope=col>Change.in.Population</th></tr></thead>\n",
       "<tbody>\n",
       "\t<tr><td>1                </td><td>New York city    </td><td>New York         </td><td>8008278          </td><td>7322564          </td><td>9.40%            </td></tr>\n",
       "\t<tr><td>2                </td><td>Los Angeles city </td><td>California       </td><td>3694820          </td><td>3485398          </td><td>6.00%            </td></tr>\n",
       "\t<tr><td>3                </td><td>Chicago city     </td><td>Illinois         </td><td>2896016          </td><td>2783726          </td><td>4.00%            </td></tr>\n",
       "\t<tr><td>4                </td><td>Houston city     </td><td>Texas            </td><td>1953631          </td><td>1630553          </td><td>19.80%           </td></tr>\n",
       "\t<tr><td>5                </td><td>Philadelphia city</td><td>Pennsylvania     </td><td>1517550          </td><td>1585577          </td><td>-4.30%           </td></tr>\n",
       "\t<tr><td>6                </td><td>Phoenix city     </td><td>Arizona          </td><td>1321045          </td><td> 983403          </td><td>34.30%           </td></tr>\n",
       "</tbody>\n",
       "</table>\n"
      ],
      "text/latex": [
       "\\begin{tabular}{r|llllll}\n",
       " Rank & Municipality & State & X2000.Population & X1990.Population & Change.in.Population\\\\\n",
       "\\hline\n",
       "\t 1                 & New York city     & New York          & 8008278           & 7322564           & 9.40\\%          \\\\\n",
       "\t 2                 & Los Angeles city  & California        & 3694820           & 3485398           & 6.00\\%          \\\\\n",
       "\t 3                 & Chicago city      & Illinois          & 2896016           & 2783726           & 4.00\\%          \\\\\n",
       "\t 4                 & Houston city      & Texas             & 1953631           & 1630553           & 19.80\\%         \\\\\n",
       "\t 5                 & Philadelphia city & Pennsylvania      & 1517550           & 1585577           & -4.30\\%         \\\\\n",
       "\t 6                 & Phoenix city      & Arizona           & 1321045           &  983403           & 34.30\\%         \\\\\n",
       "\\end{tabular}\n"
      ],
      "text/plain": [
       "  Rank Municipality      State        X2000.Population X1990.Population\n",
       "1 1    New York city     New York     8008278          7322564         \n",
       "2 2    Los Angeles city  California   3694820          3485398         \n",
       "3 3    Chicago city      Illinois     2896016          2783726         \n",
       "4 4    Houston city      Texas        1953631          1630553         \n",
       "5 5    Philadelphia city Pennsylvania 1517550          1585577         \n",
       "6 6    Phoenix city      Arizona      1321045           983403         \n",
       "  Change.in.Population\n",
       "1 9.40%               \n",
       "2 6.00%               \n",
       "3 4.00%               \n",
       "4 19.80%              \n",
       "5 -4.30%              \n",
       "6 34.30%              "
      ]
     },
     "metadata": {},
     "output_type": "display_data"
    }
   ],
   "source": [
    "# 3(a)\n",
    "Cities = read.csv(\"Cities.csv\")\n",
    "head(Cities)"
   ]
  },
  {
   "cell_type": "code",
   "execution_count": 6,
   "metadata": {
    "collapsed": false
   },
   "outputs": [
    {
     "data": {
      "image/png": "[encoded data removed]",
      "text/plain": [
       "plot without title"
      ]
     },
     "metadata": {},
     "output_type": "display_data"
    }
   ],
   "source": [
    "#3(b)\n",
    "lmcities = lm( log(Cities$X2000.Population)~ log(Cities$Rank) )\n",
    "plot(log(Cities$Rank), log(Cities$X2000.Population), xlab = \"log Rank\", ylab = \"log X2000.Population\")\n",
    "#3(c)\n",
    "abline(lmcities, col = \"red\")"
   ]
  },
  {
   "cell_type": "code",
   "execution_count": 7,
   "metadata": {
    "collapsed": false
   },
   "outputs": [
    {
     "data": {
      "text/html": [
       "<strong>(Intercept):</strong> 5796593.06096819"
      ],
      "text/latex": [
       "\\textbf{(Intercept):} 5796593.06096819"
      ],
      "text/markdown": [
       "**(Intercept):** 5796593.06096819"
      ],
      "text/plain": [
       "(Intercept) \n",
       "    5796593 "
      ]
     },
     "metadata": {},
     "output_type": "display_data"
    },
    {
     "data": {
      "text/html": [
       "<strong>log(Cities$Rank):</strong> -0.742248210329076"
      ],
      "text/latex": [
       "\\textbf{log(Cities\\textbackslash{}\\$Rank):} -0.742248210329076"
      ],
      "text/markdown": [
       "**log(Cities$Rank):** -0.742248210329076"
      ],
      "text/plain": [
       "log(Cities$Rank) \n",
       "      -0.7422482 "
      ]
     },
     "metadata": {},
     "output_type": "display_data"
    }
   ],
   "source": [
    "#3(d)\n",
    "Ccities = exp( lmcities$coefficients[1] )\n",
    "Ccities\n",
    "alphacities = lmcities$coefficients[2]\n",
    "alphacities"
   ]
  },
  {
   "cell_type": "markdown",
   "metadata": {},
   "source": [
    "$$y = 5796593\\,x^{-0.7422}$$"
   ]
  },
  {
   "cell_type": "markdown",
   "metadata": {},
   "source": [
    "#### 4. (12 points.)\n",
    "\n",
    "(a) Assuming that SPX daily returns are Student-t distributed with $\\nu=3$, mean $0$ and standard deviation of $1\\%$,  what is the chance of a daily move of more than $10\\%$?  Of more than $20\\%$? How many years should we expect to wait to get moves of over $10\\%$ and $20\\%$ respectively? \n",
    "\n",
    "(b) Repeat the same computation assuming SPX daily returns are normally distributed.  Include in your answer all steps in your computation.\n",
    "\n",
    "Recall that the SPX dropped $23\\%$ on October 19, 1987.  \n",
    "   \n",
    "(c) Should this one-day move have been unexpected?  \n",
    "\n",
    "(d) How many years would we expect to wait to get a move of this magnitude assuming SPX returns are normally distributed?  \n",
    "\n",
    "(e) Compare your answer with the life of the universe so far (around 13.7 billion years)."
   ]
  },
  {
   "cell_type": "markdown",
   "metadata": {},
   "source": [
    "### Answer\n",
    "(a) the chance of a daily move of more than 10% is"
   ]
  },
  {
   "cell_type": "code",
   "execution_count": 8,
   "metadata": {
    "collapsed": false
   },
   "outputs": [
    {
     "data": {
      "text/html": [
       "0.000419374230653524"
      ],
      "text/latex": [
       "0.000419374230653524"
      ],
      "text/markdown": [
       "0.000419374230653524"
      ],
      "text/plain": [
       "[1] 0.0004193742"
      ]
     },
     "metadata": {},
     "output_type": "display_data"
    }
   ],
   "source": [
    "df = 3\n",
    "sigma = sqrt(df / (df - 2))\n",
    "p10 = 2 * (1 - pt(sigma * 10, df) )\n",
    "p10"
   ]
  },
  {
   "cell_type": "markdown",
   "metadata": {},
   "source": [
    "(a) the chance of a daily move of more than 20% is"
   ]
  },
  {
   "cell_type": "code",
   "execution_count": 9,
   "metadata": {
    "collapsed": false
   },
   "outputs": [
    {
     "data": {
      "text/html": [
       "5.28929179597348e-05"
      ],
      "text/latex": [
       "5.28929179597348e-05"
      ],
      "text/markdown": [
       "5.28929179597348e-05"
      ],
      "text/plain": [
       "[1] 5.289292e-05"
      ]
     },
     "metadata": {},
     "output_type": "display_data"
    }
   ],
   "source": [
    "p20 = 2 * (1 - pt(sigma * 20, df) )\n",
    "p20"
   ]
  },
  {
   "cell_type": "markdown",
   "metadata": {},
   "source": [
    "(a)The years to wait to get a move of over 10% and 20% are"
   ]
  },
  {
   "cell_type": "code",
   "execution_count": 10,
   "metadata": {
    "collapsed": false
   },
   "outputs": [
    {
     "data": {
      "text/html": [
       "9.46232190296984"
      ],
      "text/latex": [
       "9.46232190296984"
      ],
      "text/markdown": [
       "9.46232190296984"
      ],
      "text/plain": [
       "[1] 9.462322"
      ]
     },
     "metadata": {},
     "output_type": "display_data"
    },
    {
     "data": {
      "text/html": [
       "75.024296660563"
      ],
      "text/latex": [
       "75.024296660563"
      ],
      "text/markdown": [
       "75.024296660563"
      ],
      "text/plain": [
       "[1] 75.0243"
      ]
     },
     "metadata": {},
     "output_type": "display_data"
    }
   ],
   "source": [
    "y10 = 1.0 / p10 / 252.0\n",
    "y10\n",
    "y20 = 1.0 / p20 / 252.0\n",
    "y20"
   ]
  },
  {
   "cell_type": "markdown",
   "metadata": {},
   "source": [
    "(b) The chance of a daily move of more han 10% and 20% are"
   ]
  },
  {
   "cell_type": "code",
   "execution_count": 11,
   "metadata": {
    "collapsed": false
   },
   "outputs": [
    {
     "data": {
      "text/html": [
       "1.52397060483211e-23"
      ],
      "text/latex": [
       "1.52397060483211e-23"
      ],
      "text/markdown": [
       "1.52397060483211e-23"
      ],
      "text/plain": [
       "[1] 1.523971e-23"
      ]
     },
     "metadata": {},
     "output_type": "display_data"
    },
    {
     "data": {
      "text/html": [
       "5.50724823721247e-89"
      ],
      "text/latex": [
       "5.50724823721247e-89"
      ],
      "text/markdown": [
       "5.50724823721247e-89"
      ],
      "text/plain": [
       "[1] 5.507248e-89"
      ]
     },
     "metadata": {},
     "output_type": "display_data"
    }
   ],
   "source": [
    "pn10 = 2 * pnorm(10, lower.tail = FALSE) \n",
    "pn10\n",
    "pn20 = 2 * pnorm(20, lower.tail = FALSE)\n",
    "pn20"
   ]
  },
  {
   "cell_type": "markdown",
   "metadata": {},
   "source": [
    "The years to wait to get a move of over 10% and 20% are"
   ]
  },
  {
   "cell_type": "code",
   "execution_count": 12,
   "metadata": {
    "collapsed": false
   },
   "outputs": [
    {
     "data": {
      "text/html": [
       "2.6038914108131e+20"
      ],
      "text/latex": [
       "2.6038914108131e+20"
      ],
      "text/markdown": [
       "2.6038914108131e+20"
      ],
      "text/plain": [
       "[1] 2.603891e+20"
      ]
     },
     "metadata": {},
     "output_type": "display_data"
    },
    {
     "data": {
      "text/html": [
       "7.20551135037001e+85"
      ],
      "text/latex": [
       "7.20551135037001e+85"
      ],
      "text/markdown": [
       "7.20551135037001e+85"
      ],
      "text/plain": [
       "[1] 7.205511e+85"
      ]
     },
     "metadata": {},
     "output_type": "display_data"
    }
   ],
   "source": [
    "yn10 = 1.0 / pn10 / 252.0\n",
    "yn10\n",
    "yn20 = 1.0 / pn20 / 252.0\n",
    "yn20"
   ]
  },
  {
   "cell_type": "code",
   "execution_count": 13,
   "metadata": {
    "collapsed": false
   },
   "outputs": [
    {
     "data": {
      "text/html": [
       "8.51323899359358e+113"
      ],
      "text/latex": [
       "8.51323899359358e+113"
      ],
      "text/markdown": [
       "8.51323899359358e+113"
      ],
      "text/plain": [
       "[1] 8.513239e+113"
      ]
     },
     "metadata": {},
     "output_type": "display_data"
    }
   ],
   "source": [
    "#(c)(d)\n",
    "#This one-day move have been unexpected.\n",
    "#The years to wait to get a move of over 23% is\n",
    "pn23 = 2 * pnorm(23, lower.tail = FALSE)\n",
    "y23 = 1.0 / pn23 / 252.0\n",
    "y23"
   ]
  },
  {
   "cell_type": "markdown",
   "metadata": {},
   "source": [
    "<font color=\"red\">Should have talked about fat tails -> -1pt</font>"
   ]
  },
  {
   "cell_type": "markdown",
   "metadata": {},
   "source": [
    "#(e) The years to wait for such an unexpected return is far more than the life of the universe!"
   ]
  },
  {
   "cell_type": "markdown",
   "metadata": {},
   "source": [
    "## Stylized facts"
   ]
  },
  {
   "cell_type": "markdown",
   "metadata": {},
   "source": [
    "#### 5.  (0 points)\n",
    "Run my R-code in `9875Lecture01-2016.ipynb` and try to understand how it works."
   ]
  },
  {
   "cell_type": "markdown",
   "metadata": {},
   "source": [
    "#### 6. (6 points) \n",
    "\n",
    "The code snippet below loads the data file `spxVIX.rData`.  \n",
    "\n",
    "(a) Write R-code to compute \n",
    "   - The average log-return conditional on the log-return being non-negative.\n",
    "   - The average log-return conditional on the log-return being negative.\n",
    "\n",
    "(b) What proportion of all moves are up-moves? Down-moves?  \n",
    "   \n",
    "(c) Relate your findings to one of the Rama Cont stylized facts.\n"
   ]
  },
  {
   "cell_type": "code",
   "execution_count": 14,
   "metadata": {
    "collapsed": false
   },
   "outputs": [
    {
     "name": "stderr",
     "output_type": "stream",
     "text": [
      "\n",
      "Attaching package: 'zoo'\n",
      "\n",
      "The following objects are masked from 'package:base':\n",
      "\n",
      "    as.Date, as.Date.numeric\n",
      "\n",
      "Loading required package: TTR\n",
      "Version 0.4-0 included new data defaults. See ?getSymbols.\n"
     ]
    }
   ],
   "source": [
    "library(zoo)\n",
    "library(xts)\n",
    "library(quantmod)\n",
    "load(\"spxVix.rData\")"
   ]
  },
  {
   "cell_type": "code",
   "execution_count": 15,
   "metadata": {
    "collapsed": false
   },
   "outputs": [
    {
     "data": {
      "text/plain": [
       "           Cl.GSPC Cl.VIX\n",
       "2016-08-04 2164.25  12.42\n",
       "2016-08-05 2182.87  11.39\n",
       "2016-08-08 2180.89  11.50\n",
       "2016-08-09 2181.74  11.66\n",
       "2016-08-10 2175.49  12.05\n",
       "2016-08-11 2185.79  11.68"
      ]
     },
     "metadata": {},
     "output_type": "display_data"
    }
   ],
   "source": [
    "tail(spxVixData)"
   ]
  },
  {
   "cell_type": "code",
   "execution_count": 16,
   "metadata": {
    "collapsed": true
   },
   "outputs": [],
   "source": [
    "#(a)\n",
    "vix <- spxVixData[,\"Cl.VIX\"]\n",
    "spx <- spxVixData[,\"Cl.GSPC\"]\n",
    "\n",
    "ret.spx <- log(spx/lag(spx))\n",
    "ret.spx <- ret.spx[!is.na(ret.spx)]\n",
    "mean_spx_nneg = mean( ret.spx[ret.spx >= 0] )\n",
    "\n",
    "ret.vix <- log(vix/lag(vix))\n",
    "ret.vix <- ret.vix[!is.na(ret.vix)]\n",
    "mean_vix_nneg = mean( ret.vix[ret.vix >= 0] )\n"
   ]
  },
  {
   "cell_type": "markdown",
   "metadata": {},
   "source": [
    "The average log-return conditional on the log-return being non-negative for SPX and VIX respectively are"
   ]
  },
  {
   "cell_type": "code",
   "execution_count": 17,
   "metadata": {
    "collapsed": false
   },
   "outputs": [
    {
     "data": {
      "text/html": [
       "0.00743022773373884"
      ],
      "text/latex": [
       "0.00743022773373884"
      ],
      "text/markdown": [
       "0.00743022773373884"
      ],
      "text/plain": [
       "[1] 0.007430228"
      ]
     },
     "metadata": {},
     "output_type": "display_data"
    },
    {
     "data": {
      "text/html": [
       "0.0479023049558232"
      ],
      "text/latex": [
       "0.0479023049558232"
      ],
      "text/markdown": [
       "0.0479023049558232"
      ],
      "text/plain": [
       "[1] 0.0479023"
      ]
     },
     "metadata": {},
     "output_type": "display_data"
    }
   ],
   "source": [
    "mean_spx_nneg\n",
    "mean_vix_nneg"
   ]
  },
  {
   "cell_type": "markdown",
   "metadata": {},
   "source": [
    "The average log-return conditional on the log-return being negative for SPX and VIX respectively are"
   ]
  },
  {
   "cell_type": "code",
   "execution_count": 18,
   "metadata": {
    "collapsed": false
   },
   "outputs": [
    {
     "data": {
      "text/html": [
       "-0.00793209380218318"
      ],
      "text/latex": [
       "-0.00793209380218318"
      ],
      "text/markdown": [
       "-0.00793209380218318"
      ],
      "text/plain": [
       "[1] -0.007932094"
      ]
     },
     "metadata": {},
     "output_type": "display_data"
    },
    {
     "data": {
      "text/html": [
       "-0.0437018566282229"
      ],
      "text/latex": [
       "-0.0437018566282229"
      ],
      "text/markdown": [
       "-0.0437018566282229"
      ],
      "text/plain": [
       "[1] -0.04370186"
      ]
     },
     "metadata": {},
     "output_type": "display_data"
    }
   ],
   "source": [
    "mean_spx_neg = mean( ret.spx[ret.spx < 0] )\n",
    "mean_vix_neg = mean( ret.vix[ret.vix < 0] )\n",
    "\n",
    "mean_spx_neg\n",
    "mean_vix_neg"
   ]
  },
  {
   "cell_type": "markdown",
   "metadata": {},
   "source": [
    "For spx, the fraction of up-moves and down-moves are"
   ]
  },
  {
   "cell_type": "code",
   "execution_count": 19,
   "metadata": {
    "collapsed": false
   },
   "outputs": [
    {
     "data": {
      "text/html": [
       "0.533253802564867"
      ],
      "text/latex": [
       "0.533253802564867"
      ],
      "text/markdown": [
       "0.533253802564867"
      ],
      "text/plain": [
       "[1] 0.5332538"
      ]
     },
     "metadata": {},
     "output_type": "display_data"
    },
    {
     "data": {
      "text/html": [
       "0.466149716671637"
      ],
      "text/latex": [
       "0.466149716671637"
      ],
      "text/markdown": [
       "0.466149716671637"
      ],
      "text/plain": [
       "[1] 0.4661497"
      ]
     },
     "metadata": {},
     "output_type": "display_data"
    }
   ],
   "source": [
    "up.spx = length(ret.spx[ret.spx > 0])/length(ret.spx)\n",
    "down.spx = length(ret.spx[ret.spx < 0])/length(ret.spx)\n",
    "up.vix = length(ret.vix[ret.vix > 0])/length(ret.vix)\n",
    "down.vix = length(ret.vix[ret.vix < 0])/length(ret.vix)\n",
    "up.spx\n",
    "down.spx"
   ]
  },
  {
   "cell_type": "markdown",
   "metadata": {},
   "source": [
    "For vix, the fraction of up-moves and down-moves are"
   ]
  },
  {
   "cell_type": "code",
   "execution_count": 20,
   "metadata": {
    "collapsed": false
   },
   "outputs": [
    {
     "data": {
      "text/html": [
       "0.470474202206979"
      ],
      "text/latex": [
       "0.470474202206979"
      ],
      "text/markdown": [
       "0.470474202206979"
      ],
      "text/plain": [
       "[1] 0.4704742"
      ]
     },
     "metadata": {},
     "output_type": "display_data"
    },
    {
     "data": {
      "text/html": [
       "0.523560990158067"
      ],
      "text/latex": [
       "0.523560990158067"
      ],
      "text/markdown": [
       "0.523560990158067"
      ],
      "text/plain": [
       "[1] 0.523561"
      ]
     },
     "metadata": {},
     "output_type": "display_data"
    }
   ],
   "source": [
    "up.vix\n",
    "down.vix"
   ]
  },
  {
   "cell_type": "markdown",
   "metadata": {},
   "source": [
    "(c) Slow decay of autocorrelation in absolute returns: the autocorrelation function of absolute returns decays slowly as a function of the time lag, roughly as a power law with an exponent  β∈[0.2,0.4]β∈[0.2,0.4] . This is sometimes interpreted as a sign of long-range dependence."
   ]
  },
  {
   "cell_type": "code",
   "execution_count": 21,
   "metadata": {
    "collapsed": false
   },
   "outputs": [
    {
     "data": {
      "image/png": "[encoded data removed]",
      "text/plain": [
       "Plot with title \"Series  abs(ret.vix)\""
      ]
     },
     "metadata": {},
     "output_type": "display_data"
    }
   ],
   "source": [
    "acf(abs(ret.vix))"
   ]
  },
  {
   "cell_type": "markdown",
   "metadata": {},
   "source": [
    "<font color=\"red\">YG COMMENT: no mention of gain/loss assymetry -> -1pt</font>"
   ]
  },
  {
   "cell_type": "markdown",
   "metadata": {},
   "source": [
    "#### 7. (8 points) \n",
    "\n",
    "DAX is a German stock index analogous to the SPX index.  VDAX is the volatility index (VIX) of DAX.\n",
    "\n",
    "(a) Using the lecture code as a template, use the quantmod package to download time series of DAX and VDAX.\n",
    "\n",
    "(b) Regress VDAX log returns vs DAX log returns. What is the $R^2$ of this regression? What is the correlation? \n",
    "\n",
    "(c) Draw a scatter plot of VDAX log returns vs DAX log returns. Superimpose your linear fit from part (b) to make a diagram exactly like Figure 12 of Lecture 1."
   ]
  },
  {
   "cell_type": "code",
   "execution_count": 22,
   "metadata": {
    "collapsed": false
   },
   "outputs": [
    {
     "data": {
      "text/html": [
       "'DAX'"
      ],
      "text/latex": [
       "'DAX'"
      ],
      "text/markdown": [
       "'DAX'"
      ],
      "text/plain": [
       "[1] \"DAX\""
      ]
     },
     "metadata": {},
     "output_type": "display_data"
    },
    {
     "data": {
      "text/html": [
       "'VDAX'"
      ],
      "text/latex": [
       "'VDAX'"
      ],
      "text/markdown": [
       "'VDAX'"
      ],
      "text/plain": [
       "[1] \"VDAX\""
      ]
     },
     "metadata": {},
     "output_type": "display_data"
    },
    {
     "data": {
      "text/plain": [
       "           Cl.DAX Cl.VDAX\n",
       "2014-10-23 25.270   17.80\n",
       "2014-10-24 25.190   18.43\n",
       "2014-10-27 25.028   19.78\n",
       "2014-10-28 25.510   17.83\n",
       "2014-10-29 25.670   17.55\n",
       "2014-10-30 25.390   17.45"
      ]
     },
     "metadata": {},
     "output_type": "display_data"
    }
   ],
   "source": [
    "#(a)\n",
    "library(xts)\n",
    "library(zoo)\n",
    "library(quantmod)\n",
    "library(boot)\n",
    "#Get SPX and VIX data from Yahoo!\n",
    "options(\"getSymbols.warning4.0\"=FALSE)\n",
    "getSymbols(\"DAX\",from=\"1927-01-01\") \n",
    "getSymbols(\"^VDAX\",from=\"1927-01-01\") \n",
    "\n",
    "mm <- specifyModel(Cl(DAX)~Cl(VDAX))\n",
    "Data <-modelData(mm) #quantmod function automatically aligns data from two series\n",
    "head(Data)"
   ]
  },
  {
   "cell_type": "code",
   "execution_count": 23,
   "metadata": {
    "collapsed": true
   },
   "outputs": [],
   "source": [
    "#(b)\n",
    "dax <- Data[,\"Cl.DAX\"]\n",
    "vdax <- Data[,\"Cl.VDAX\"]\n",
    "\n",
    "ret.dax <- log(dax/lag(dax))\n",
    "ret.dax <- ret.dax[!is.na(ret.dax)]\n",
    "ret.vdax <- log(vdax/lag(vdax))\n",
    "ret.vdax <- ret.vdax[!is.na(ret.vdax)]\n",
    "\n",
    "lm7 = lm(ret.vdax ~ ret.dax)\n",
    "rsquared = summary(lm7)$r.squared"
   ]
  },
  {
   "cell_type": "markdown",
   "metadata": {},
   "source": [
    "R-Squared and correlation coefficient are\n"
   ]
  },
  {
   "cell_type": "code",
   "execution_count": 24,
   "metadata": {
    "collapsed": false
   },
   "outputs": [
    {
     "data": {
      "text/html": [
       "0.240790245617906"
      ],
      "text/latex": [
       "0.240790245617906"
      ],
      "text/markdown": [
       "0.240790245617906"
      ],
      "text/plain": [
       "[1] 0.2407902"
      ]
     },
     "metadata": {},
     "output_type": "display_data"
    },
    {
     "data": {
      "text/html": [
       "<table>\n",
       "<thead><tr><th></th><th scope=col>Cl.DAX</th></tr></thead>\n",
       "<tbody>\n",
       "\t<tr><th scope=row>Cl.VDAX</th><td>-0.4907038</td></tr>\n",
       "</tbody>\n",
       "</table>\n"
      ],
      "text/latex": [
       "\\begin{tabular}{r|l}\n",
       "  & Cl.DAX\\\\\n",
       "\\hline\n",
       "\tCl.VDAX & -0.4907038\\\\\n",
       "\\end{tabular}\n"
      ],
      "text/markdown": [
       "-0.490703826781395"
      ],
      "text/plain": [
       "        Cl.DAX    \n",
       "Cl.VDAX -0.4907038"
      ]
     },
     "metadata": {},
     "output_type": "display_data"
    }
   ],
   "source": [
    "rsquared\n",
    "corr = cor(ret.vdax, ret.dax)\n",
    "corr"
   ]
  },
  {
   "cell_type": "code",
   "execution_count": 25,
   "metadata": {
    "collapsed": false
   },
   "outputs": [
    {
     "data": {
      "image/png": "[encoded data removed]",
      "text/plain": [
       "plot without title"
      ]
     },
     "metadata": {},
     "output_type": "display_data"
    }
   ],
   "source": [
    "#(c)\n",
    "plot(as.numeric(ret.dax), as.numeric(ret.vdax), xlab = \"DAX log returns\", ylab = \"VDAX log returns\" )\n",
    "abline(lm7, col = 'red')"
   ]
  }
 ],
 "metadata": {
  "kernelspec": {
   "display_name": "R",
   "language": "R",
   "name": "ir"
  },
  "language_info": {
   "codemirror_mode": "r",
   "file_extension": ".r",
   "mimetype": "text/x-r-source",
   "name": "R",
   "pygments_lexer": "r",
   "version": "3.3.2"
  }
 },
 "nbformat": 4,
 "nbformat_minor": 0
}
