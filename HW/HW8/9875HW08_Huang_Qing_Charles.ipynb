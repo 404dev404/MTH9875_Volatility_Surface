{
 "cells": [
  {
   "cell_type": "markdown",
   "metadata": {},
   "source": [
    "# MTH9875 Homework 8\n",
    "\n",
    "Assigned: October 20, 2016.\n",
    "Due: November 3, 2016 by 6pm.\n",
    "\n",
    "Late homework **will not be accepted**."
   ]
  },
  {
   "cell_type": "markdown",
   "metadata": {},
   "source": [
    "# Qing Huang"
   ]
  },
  {
   "cell_type": "markdown",
   "metadata": {},
   "source": [
    "<font color = \"red\">Homework is to be done by each student individually.  To receive full credit, you must email a completed copy of this iPython notebook to Victor Istratov (stavka@gmail.com), Yassine Ghalem (yassine.ghalem@gmail.com) and Jim Gatheral (jim.gatheral@gmail.com) by the due date and time.  All R-code must run correctly and solutions must be written up neatly in Markdown/LaTeX format."
   ]
  },
  {
   "cell_type": "markdown",
   "metadata": {},
   "source": [
    "### 0. (0 points) \n",
    "\n",
    "Read Chapters 7 and 8 of The Volatility Surface."
   ]
  },
  {
   "cell_type": "markdown",
   "metadata": {},
   "source": [
    "## Internal politics"
   ]
  },
  {
   "cell_type": "markdown",
   "metadata": {},
   "source": [
    "### 1. (10 points) \n",
    "\n",
    "Pretend that you are a quantitative analyst at an investment bank\n",
    "(Banque Prix Bas) and your boss passes you the following email\n",
    "asking you to draft a (careful) reply quickly:\n",
    "\n",
    ">From: The Head of Marketing\n",
    "\n",
    ">To: Your Boss and the Head of Trading\n",
    "\n",
    ">Subject: **We are Uncompetitive in Digital Cliquets**\n",
    "\n",
    ">Over the last two weeks, we have lost no fewer than four digital\n",
    "cliquet deals by substantial margins.  Our pricing of these\n",
    "transactions is so uncompetitive that we end up embarrassing ourselves\n",
    "in front of clients.  We are in serious danger of losing\n",
    "clients.\n",
    "\n",
    ">I have spoken with contacts at two of our most sophisticated\n",
    "competitors (Banca Sbagliata and Deutsche FehlerBank). They insist\n",
    "that they are pricing digital cliquets perfectly consistently with\n",
    "the volatility skew using the latest financial modeling techniques.\n",
    "Our illustrious traders tell me that these banks are incorrectly\n",
    "projecting the volatility skew. Why is it always the competition\n",
    "that is getting it wrong? Could it be that we are being stupid?\n",
    "\n",
    ">I will need to see some pretty convincing arguments very soon or I shall\n",
    "be forced to take this issue to the next level.\n",
    "\n",
    ">Regards,\n",
    "\n",
    ">Very Unhappy Head of Marketing\n",
    "\n",
    "\n",
    "When drafting your reply, remember that the Head of Marketing is not\n",
    "a mathematician - so no math!  Also, if it really is the case that\n",
    "your bank is losing deals by a huge margin, consider how you might\n",
    "be able to make money out of the situation."
   ]
  },
  {
   "cell_type": "markdown",
   "metadata": {},
   "source": [
    "# Reply\n",
    "Dear Head of Marketing,\n",
    "\n",
    "This is Qing. Although our competitor provides lower price than us, that's because they are using the wrong model. The model they used to pricing is called jump. This model can match the vol skew perfectly but it doesn't model the true dynamic of the market, which will lead to wrong price for exoctics like cliquets. Our competitors' price are undervalued, we can actually make money on this.\n",
    "\n",
    "Best,\n",
    "\n",
    "Qing Huang"
   ]
  },
  {
   "cell_type": "markdown",
   "metadata": {},
   "source": [
    "## The Bergomi-Guyon expansion"
   ]
  },
  {
   "cell_type": "markdown",
   "metadata": {},
   "source": [
    "### 2. (10 points) \n",
    "$$\n",
    "\\newcommand{\\bea}{\\begin{eqnarray}}\n",
    "\\newcommand{\\eea}{\\end{eqnarray}}\n",
    "\\newcommand{\\beas}{\\begin{eqnarray*}}\n",
    "\\newcommand{\\eeas}{\\end{eqnarray*}}\n",
    "\\newcommand{\\supp}{\\mathrm{supp}}\n",
    "\\newcommand{\\E}{\\mathbb{E} }\n",
    "\\def\\Cov{{ \\mbox{Cov} }}\n",
    "\\def\\Var{{ \\mbox{Var} }}\n",
    "\\newcommand{\\1}{\\mathbf{1} }\n",
    "\\newcommand{\\cF}{\\mathcal{F} }\n",
    "\\newcommand{\\PP}{\\mathbb{P} }\n",
    "\\newcommand{\\QQ}{\\mathbb{Q} }\n",
    "\\newcommand{\\RR}{\\mathbb{R} }\n",
    "\\newcommand{\\DD}{\\mathbb{D} }\n",
    "\\newcommand{\\HH}{\\mathbb{H} }\n",
    "\\newcommand{\\spn}{\\mathrm{span} }\n",
    "\\newcommand{\\cov}{\\mathrm{cov} }\n",
    "\\newcommand{\\HS}{\\mathcal{L}_{\\mathrm{HS}} }\n",
    "\\newcommand{\\trace}{\\mathrm{trace} }\n",
    "\\newcommand{\\LL}{\\mathcal{L} }\n",
    "\\newcommand{\\s}{\\mathcal{S} }\n",
    "\\newcommand{\\ee}{\\mathcal{E} }\n",
    "\\newcommand{\\ff}{\\mathcal{F} }\n",
    "\\newcommand{\\hh}{\\mathcal{H} }\n",
    "\\newcommand{\\bb}{\\mathcal{B} }\n",
    "\\newcommand{\\dd}{\\mathcal{D} }\n",
    "\\newcommand{\\g}{\\mathcal{G} }\n",
    "\\newcommand{\\half}{\\frac{1}{2} }\n",
    "\\newcommand{\\T}{\\mathcal{T} }\n",
    "\\newcommand{\\bi}{\\begin{itemize}}\n",
    "\\newcommand{\\ei}{\\end{itemize}}\n",
    "\\newcommand{\\beq}{\\begin{equation}}\n",
    "\\newcommand{\\eeq}{\\end{equation}}\n",
    "\\newcommand{\\eef}[1]{\\mathbb{E}\\left[\\left.{#1}\\right|\\cF_t\\right]}\n",
    "$$\n",
    "\n",
    "Consider the following stochastic volatility dynamics (known variously as Hull-White, GARCH or lognormal):\n",
    "\n",
    "$$\n",
    "\\begin{eqnarray*}\n",
    "\\frac{dS_t}{S_t} &=& \\sqrt{v_t}\\,S_t \\,dZ_t\\\\\n",
    "dv_t &=&  - \\kappa \\,(v_t - \\bar v)\\,dt + \\alpha \\,v_t \\,dW_t\n",
    "\\end{eqnarray*}\n",
    "$$\n",
    "\n",
    "with $\n",
    "\\left\\langle {dZ_t \\,{dW_t} } \\right\\rangle = \\rho \\, dt\n",
    "$ and where $\\kappa$ is the speed of reversion of $v_t$ to its long term\n",
    "mean $\\bar v$.\n",
    "\n",
    "(a)\n",
    "Compute the forward variance curve $\\xi_t(u)$ for $ u \\geq t$.  Deduce that $d\\xi_t(u) = dv_t\\,e^{-\\kappa\\,(u-t)}$.\n",
    "\n",
    "\n",
    "(b)\n",
    "Assuming $v_t = \\bar v$ for simplicity, compute the spot-vol autocorrelation functional $C^{x\\ \\xi}$. (Hint: Use that $\\E \\left[v_t^{3/2}\\right]=\\xi_0(t)^{3/2}+O(\\eta^2)$.)\n",
    "\n",
    "(c) \n",
    "Using the Bergomi-Guyon expansion (12) from Lecture 8, assuming $v_t = \\bar v$, deduce the term structure function $\\psi_L(T)$ of ATM volatility skew under the above lognormal dynamics to order $\\alpha^2$.\n",
    "\n",
    "(d) \n",
    "Recall that the Heston term structure of ATM skew is given (again with $v_t = \\bar v$) by\n",
    "\n",
    "$$\n",
    "\\psi_H(T) =\n",
    "\\frac {\\rho\\,\\eta}{2\\,\\sqrt{\\bar v}}\\,\\frac{1}{\\kappa\\,T}\\,\\left\\{1-\\frac{1-e^{-\\kappa\\,T}}{\\kappa\\,T}\\right\\}.\n",
    "$$\n",
    "\n",
    "Given a time series of volatility smiles, how would you distinguish between Heston and lognormal dynamics empirically?"
   ]
  },
  {
   "cell_type": "markdown",
   "metadata": {},
   "source": [
    "# Answer:\n",
    "\n",
    "(a)\n",
    "we have\n",
    "\n",
    "$$ v_u = e^{\\kappa\\,(t - u)}v_t + \\bar v\\,(1 - e^{\\kappa\\,(t - u)}) + \\alpha\\int_t^u e^{\\kappa\\,(s - u)}v_s\\,dW_s $$\n",
    "\n",
    "$$\\xi_t(u) = E[v_u] = e^{\\kappa\\,(t - u)}v_t + \\bar v\\,(1 - e^{\\kappa\\,(t - u)})$$\n",
    "\n",
    "Therefore,\n",
    "\n",
    "$$\n",
    "d\\xi_t(u) = dv_t\\,e^{-\\kappa\\,(u-t)}.\n",
    "$$\n",
    "\n",
    "(b)\n",
    "\n",
    "$$\n",
    "\\beas\n",
    "C^{x\\,\\xi}_t(T) &=& \\int_t^T\\,ds\\,\\int_s^T\\,\\rho(s,u)\\,du\\\\\n",
    "%&=& \\int_t^T\\,\\ee{dx_s\\,\\int_s^T\\,d\\xi_s(u)\\,du}\\\\\n",
    "\\eeas\n",
    "$$\n",
    "\n",
    "$$\n",
    "\\rho(t,u) = \\frac{E[dx_t\\,d\\xi_t(u)]}{dt}.\n",
    "$$\n",
    "\n",
    "$$E[dx_t\\,d\\xi_t(u)] = E[(- \\frac {v_t}{2}dt + \\sqrt {v_t}dZ_t)e^{-\\kappa(u-t)}dv_t]$$\n",
    "\n",
    "$$dv_t =  - \\kappa \\,(v_t - \\bar v)\\,dt + \\alpha \\,v_t \\,dW_t$$\n",
    "\n",
    "\n",
    "\\begin{align*}\n",
    "E[dx_t\\,d\\xi_t(u)]& = e^{-\\kappa\\,(u-t)} \\rho \\alpha\\xi_0(t)^{3/2} dt\\\\\n",
    "&= e^{-\\kappa\\,(u-t)} \\rho \\alpha \\bar v^{3/2}dt\n",
    "\\end{align*}\n",
    "\n",
    "\n",
    "\\begin{align*}\n",
    "C^{x\\,\\xi}_t(T)&=\\int_t^T\\,ds\\,\\int_s^T\\,e^{-\\kappa\\,(u-t)} \\rho \\alpha \\bar v^{3/2}\\,du \\\\\n",
    "&= \\frac{\\rho\\,\\alpha}{\\kappa} \\bar v^{\\frac32}T(1 -\\frac{1 - e^{-\\kappa T}}{\\kappa T}) \n",
    "\\end{align*}\n",
    "(c)\n",
    "$$\n",
    "\\beas\n",
    "\\psi(T) = \\mathcal{S}_T &=& \\sqrt{\\frac w T} \\,\\frac{1}{2\\,w^2}\\,C^{x\\,\\xi}\\\\\n",
    "&=& \\frac{\\sqrt{\\bar v}}2\\frac{1}{(\\bar v\\,T)^2}\\frac{\\rho\\,\\alpha}{\\kappa} \\bar v^{\\frac32}T(1 -\\frac{1 - e^{-\\kappa T}}{\\kappa T})\\\\\n",
    "&=& \\frac {\\rho\\,\\eta}{2}\\,\\frac{1}{\\kappa\\,T}\\,\\left\\{1-\\frac{1-e^{-\\kappa\\,T}}{\\kappa\\,T}\\right\\}.\n",
    "\\eeas\n",
    "$$\n",
    "\n",
    "(d)\n",
    "\n",
    "\n",
    "If ATM skew depend on $\\bar v$ is Heston, otherwise is Hull White\n",
    "\n",
    "\n"
   ]
  },
  {
   "cell_type": "code",
   "execution_count": null,
   "metadata": {
    "collapsed": true
   },
   "outputs": [],
   "source": []
  },
  {
   "cell_type": "code",
   "execution_count": null,
   "metadata": {
    "collapsed": true
   },
   "outputs": [],
   "source": []
  },
  {
   "cell_type": "code",
   "execution_count": null,
   "metadata": {
    "collapsed": true
   },
   "outputs": [],
   "source": []
  },
  {
   "cell_type": "code",
   "execution_count": null,
   "metadata": {
    "collapsed": true
   },
   "outputs": [],
   "source": []
  },
  {
   "cell_type": "code",
   "execution_count": null,
   "metadata": {
    "collapsed": true
   },
   "outputs": [],
   "source": []
  }
 ],
 "metadata": {
  "kernelspec": {
   "display_name": "R",
   "language": "R",
   "name": "ir"
  },
  "language_info": {
   "codemirror_mode": "r",
   "file_extension": ".r",
   "mimetype": "text/x-r-source",
   "name": "R",
   "pygments_lexer": "r",
   "version": "3.4.1"
  }
 },
 "nbformat": 4,
 "nbformat_minor": 1
}
