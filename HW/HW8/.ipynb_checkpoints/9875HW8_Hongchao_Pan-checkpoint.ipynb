{
 "cells": [
  {
   "cell_type": "markdown",
   "metadata": {},
   "source": [
    "# MTH9875 Homework 8\n",
    "\n",
    "Assigned: October 19 2017.\n",
    "Due: November 2, 2017 by 6pm.\n",
    "\n",
    "Late homework **will not be accepted**."
   ]
  },
  {
   "cell_type": "markdown",
   "metadata": {},
   "source": [
    "<font color = \"red\">Homework is to be done by each student individually.  To receive full credit, you must email a completed copy of this iPython notebook to Victor Istratov (stavka@gmail.com), Yassine Ghalem (yassine.ghalem@gmail.com) and Jim Gatheral (jim.gatheral@gmail.com) by the due date and time.  All R-code must run correctly and solutions must be written up neatly in Markdown/LaTeX format."
   ]
  },
  {
   "cell_type": "markdown",
   "metadata": {},
   "source": [
    "* **Author: Hongchao Pan**\n",
    "* Kernel Version: R 3.3.2\n",
    "* Packages/Libraries:\n",
    "* Notes:\n"
   ]
  },
  {
   "cell_type": "markdown",
   "metadata": {},
   "source": [
    "### 0. (0 points) \n",
    "\n",
    "Read Chapters 7 and 8 of The Volatility Surface."
   ]
  },
  {
   "cell_type": "markdown",
   "metadata": {},
   "source": [
    "## Internal politics"
   ]
  },
  {
   "cell_type": "markdown",
   "metadata": {},
   "source": [
    "### 1. (10 points) \n",
    "\n",
    "Pretend that you are a quantitative analyst at an investment bank\n",
    "(Banque Prix Bas) and your boss passes you the following email\n",
    "asking you to draft a (careful) reply quickly:\n",
    "\n",
    ">From: The Head of Marketing\n",
    "\n",
    ">To: Your Boss and the Head of Trading\n",
    "\n",
    ">Subject: **We are Uncompetitive in Digital Cliquets**\n",
    "\n",
    ">Over the last two weeks, we have lost no fewer than four digital\n",
    "cliquet deals by substantial margins.  Our pricing of these\n",
    "transactions is so uncompetitive that we end up embarrassing ourselves\n",
    "in front of clients.  We are in serious danger of losing\n",
    "clients.\n",
    "\n",
    ">I have spoken with contacts at two of our most sophisticated\n",
    "competitors (Banca Sbagliata and Deutsche FehlerBank). They insist\n",
    "that they are pricing digital cliquets perfectly consistently with\n",
    "the volatility skew using the latest financial modeling techniques.\n",
    "Our illustrious traders tell me that these banks are incorrectly\n",
    "projecting the volatility skew. Why is it always the competition\n",
    "that is getting it wrong? Could it be that we are being stupid?\n",
    "\n",
    ">I will need to see some pretty convincing arguments very soon or I shall\n",
    "be forced to take this issue to the next level.\n",
    "\n",
    ">Regards,\n",
    "\n",
    ">Very Unhappy Head of Marketing\n",
    "\n",
    "\n",
    "When drafting your reply, remember that the Head of Marketing is not\n",
    "a mathematician -- so no math!  Also, if it really is the case that\n",
    "your bank is losing deals by a huge margin, consider how you might\n",
    "be able to make money out of the situation."
   ]
  },
  {
   "cell_type": "markdown",
   "metadata": {},
   "source": [
    "### <font color='blue'> Answer of Q1 </font>"
   ]
  },
  {
   "cell_type": "markdown",
   "metadata": {},
   "source": [
    "<font color='blue'>\n",
    ">Dear Head of Marketing,\n",
    "\n",
    ">A digital cliquet is a sequence of digital options whose strikes will be set (usually) at the prevailing stock price on the relevant reset dates, say a sequence of future dates. The price of digital cliquet may vary very\n",
    "substantially depending on the modeling assumptions, for example, projecting of volatility skew, made by the seller.\n",
    "\n",
    ">As illustrious trades informed that our competitors are incorrectly projecting the volatility skew. I believe they are using local volatility models instead of stochastic volatility models. Or even worse, they are projecting forward skew as today's. Both techniques will lead to a lower price than our correct modeling methods.\n",
    "\n",
    ">Please be confident of our pricing modeling techniques. One of suggestions would be buy all the offers from our competitors. Eventually, we will make money from this arbitrage opportunity by waiting for the market to realize that our price of digital cliquet is the correct one.\n",
    "\n",
    ">Please feel free to let me know if additional information is needed from ourside.\n",
    "\n",
    ">Regards,\n",
    "\n",
    ">Hongchao"
   ]
  },
  {
   "cell_type": "markdown",
   "metadata": {},
   "source": [
    "## The Bergomi-Guyon expansion"
   ]
  },
  {
   "cell_type": "markdown",
   "metadata": {},
   "source": [
    "### 2. (10 points) \n",
    "$$\n",
    "\\newcommand{\\bea}{\\begin{eqnarray}}\n",
    "\\newcommand{\\eea}{\\end{eqnarray}}\n",
    "\\newcommand{\\beas}{\\begin{eqnarray*}}\n",
    "\\newcommand{\\eeas}{\\end{eqnarray*}}\n",
    "\\newcommand{\\supp}{\\mathrm{supp}}\n",
    "\\newcommand{\\E}{\\mathbb{E} }\n",
    "\\def\\Cov{{ \\mbox{Cov} }}\n",
    "\\def\\Var{{ \\mbox{Var} }}\n",
    "\\newcommand{\\1}{\\mathbf{1} }\n",
    "\\newcommand{\\cF}{\\mathcal{F} }\n",
    "\\newcommand{\\PP}{\\mathbb{P} }\n",
    "\\newcommand{\\QQ}{\\mathbb{Q} }\n",
    "\\newcommand{\\RR}{\\mathbb{R} }\n",
    "\\newcommand{\\DD}{\\mathbb{D} }\n",
    "\\newcommand{\\HH}{\\mathbb{H} }\n",
    "\\newcommand{\\spn}{\\mathrm{span} }\n",
    "\\newcommand{\\cov}{\\mathrm{cov} }\n",
    "\\newcommand{\\HS}{\\mathcal{L}_{\\mathrm{HS}} }\n",
    "\\newcommand{\\trace}{\\mathrm{trace} }\n",
    "\\newcommand{\\LL}{\\mathcal{L} }\n",
    "\\newcommand{\\s}{\\mathcal{S} }\n",
    "\\newcommand{\\ee}{\\mathcal{E} }\n",
    "\\newcommand{\\ff}{\\mathcal{F} }\n",
    "\\newcommand{\\hh}{\\mathcal{H} }\n",
    "\\newcommand{\\bb}{\\mathcal{B} }\n",
    "\\newcommand{\\dd}{\\mathcal{D} }\n",
    "\\newcommand{\\g}{\\mathcal{G} }\n",
    "\\newcommand{\\half}{\\frac{1}{2} }\n",
    "\\newcommand{\\T}{\\mathcal{T} }\n",
    "\\newcommand{\\bi}{\\begin{itemize}}\n",
    "\\newcommand{\\ei}{\\end{itemize}}\n",
    "\\newcommand{\\beq}{\\begin{equation}}\n",
    "\\newcommand{\\eeq}{\\end{equation}}\n",
    "\\newcommand{\\eef}[1]{\\mathbb{E}\\left[\\left.{#1}\\right|\\cF_t\\right]}\n",
    "$$\n",
    "\n",
    "Consider the following stochastic volatility dynamics (known variously as Hull-White, GARCH or lognormal):\n",
    "\n",
    "$$\n",
    "\\begin{eqnarray*}\n",
    "\\frac{dS_t}{S_t} &=& \\sqrt{v_t}\\,S_t \\,dZ_t\\\\\n",
    "dv_t &=&  - \\kappa \\,(v_t - \\bar v)\\,dt + \\alpha \\,v_t \\,dW_t\n",
    "\\end{eqnarray*}\n",
    "$$\n",
    "\n",
    "with $\n",
    "\\left\\langle {dZ_t \\,{dW_t} } \\right\\rangle = \\rho \\, dt\n",
    "$ and where $\\kappa$ is the speed of reversion of $v_t$ to its long term\n",
    "mean $\\bar v$.\n",
    "\n",
    "(a)\n",
    "Compute the forward variance curve $\\xi_t(u)$ for $ u \\geq t$.  Deduce that $d\\xi_t(u) = dv_t\\,e^{-\\kappa\\,(u-t)}$.\n",
    "\n",
    "\n",
    "(b)\n",
    "Assuming $v_t = \\bar v$ for simplicity, compute the spot-vol autocorrelation functional $C^{x\\ \\xi}$. (Hint: Use that $\\E \\left[v_t^{3/2}\\right]=\\xi_0(t)^{3/2}+O(\\eta^2)$.)\n",
    "\n",
    "(c) \n",
    "Using the Bergomi-Guyon expansion (12) from Lecture 8, assuming $v_t = \\bar v$, deduce the term structure function $\\psi_L(T)$ of ATM volatility skew under the above lognormal dynamics to first order in $\\alpha$.\n",
    "\n",
    "(d) \n",
    "Recall that the Heston term structure of ATM skew is given (again with $v_t = \\bar v$) by\n",
    "\n",
    "$$\n",
    "\\psi_H(T) =\n",
    "\\frac {\\rho\\,\\eta}{2\\,\\sqrt{\\bar v}}\\,\\frac{1}{\\kappa\\,T}\\,\\left\\{1-\\frac{1-e^{-\\kappa\\,T}}{\\kappa\\,T}\\right\\}.\n",
    "$$\n",
    "\n",
    "Given a time series of volatility smiles, how would you distinguish between Heston and lognormal dynamics empirically?"
   ]
  },
  {
   "cell_type": "markdown",
   "metadata": {},
   "source": [
    "### <font color='blue'> Answer of Q2"
   ]
  },
  {
   "cell_type": "markdown",
   "metadata": {
    "collapsed": true
   },
   "source": [
    "<font color='blue'> **Answer of (a): Forward variance curve**"
   ]
  },
  {
   "cell_type": "markdown",
   "metadata": {},
   "source": [
    "<font color='blue'>\n",
    "As we the forward variance is defined as follows: $\\xi_t (u)=\\eef{v_u}$.\n",
    "\n",
    "Apply Ito's Lemma to:  \n",
    "$$\n",
    "dv_t =  - \\kappa \\,(v_t - \\bar v)\\,dt + \\alpha \\,v_t \\,dW_t\n",
    "$$\n",
    "\n",
    "We have,\n",
    "$$\n",
    "v_u-v_t=\\kappa\\bar v (u-t)-\\kappa\\int_t^u v_s ds+\\alpha\\int_t^u v_s dW_s\n",
    "$$\n",
    "Take the conditional expectation $\\eef{\\cdot}$ to both sides,\n",
    "$$\n",
    "\\xi_t(u)=v_t-\\kappa\\int_t^u \\xi_t(s) ds+\\kappa\\bar v (u-t)\n",
    "$$\n",
    "Take derivative w.r.t. $u$ to both sides,,\n",
    "$$\n",
    "\\frac{d\\xi_t(u)}{du}=-\\kappa\\xi_t(u)+\\kappa\\bar v\n",
    "$$\n",
    "\n",
    "With initial condition, $\\xi_t(t)=v_t$, the solution to the above ODE is:\n",
    "\n",
    "$$\n",
    "\\xi_t(u)=\\left(1-e^{-\\kappa(u-t)}\\right)\\bar v+e^{-\\kappa(u-t)}v_t\n",
    "$$\n",
    "\n",
    "Take derivative w.r.t. $t$ to both sides,\n",
    "$$\n",
    "\\begin{eqnarray*}\n",
    "d\\xi_t(u)&=&e^{-\\kappa(u-t)}dv_t^{P}-\\kappa e^{-\\kappa(u-t)}(\\bar v-v_t)dt\\\\\n",
    "&=&e^{-\\kappa(u-t)}dv_t^{Q}\\\\\n",
    "\\end{eqnarray*}\n",
    "$$\n",
    "\n",
    "Where $dv_t^Q$ is the martingale part of $dv_t$"
   ]
  },
  {
   "cell_type": "markdown",
   "metadata": {},
   "source": [
    "<font color='blue'> **Answer of (b): Spot-vol autocorrelation**"
   ]
  },
  {
   "cell_type": "markdown",
   "metadata": {},
   "source": [
    "<font color='blue'>\n",
    "$x_t$ is defined as follows: $x_t=\\log(F_t/K)=\\log(S_t/K)$\n",
    "\n",
    "Then we have:\n",
    "$$\n",
    "\\begin{eqnarray*}\n",
    "dx_t&=&d\\log S_t\\\\\n",
    "&=&-\\frac{1}{2}v_t dt+\\sqrt{v_t}dZ_t\n",
    "\\end{eqnarray*}\n",
    "$$\n",
    "\n",
    "$\\Rightarrow$\n",
    "\n",
    "$$\n",
    "\\begin{eqnarray*}\n",
    "\\frac{\\E\\left[dx_td\\xi_t(u)\\right]}{dt}&=&\\alpha\\rho e^{-\\kappa(u-t)}\\E\\left[v_t^{3/2}\\right]\\\\\n",
    "&=&\\alpha\\rho e^{-\\kappa(u-t)}\\left[\\xi_0(t)^{3/2}+O(\\alpha^2)\\right]\\\\\n",
    "&=&\\alpha\\rho e^{-\\kappa(u-t)}\\xi_0(t)^{3/2}+O(\\alpha^3)\n",
    "\\end{eqnarray*}\n",
    "$$\n",
    "\n",
    "With simplicity condition, $v_0=\\bar v$, we have:\n",
    "$$\n",
    "\\begin{eqnarray*}\n",
    "\\xi_0(t)&=&\\left(1-e^{-\\kappa t}\\right)\\bar v+e^{-\\kappa t}v_0\\\\\n",
    "&=&\\bar v\n",
    "\\end{eqnarray*}\n",
    "$$\n",
    "\n",
    "$\\Rightarrow$\n",
    "$$\n",
    "\\frac{\\E\\left[dx_td\\xi_t(u)\\right]}{dt}=\\alpha\\rho e^{-\\kappa(u-t)}\\bar v^{3/2}+O(\\alpha^3)\n",
    "$$\n",
    "\n",
    "Therefore,\n",
    "\n",
    "$$\n",
    "\\begin{eqnarray*}\n",
    "C^{x\\xi}&=&\\int_0^T dt \\int_t^T du \\,\\alpha\\rho e^{-\\kappa(u-t)}\\bar v^{3/2}+O(\\alpha^3)\\\\\n",
    "&=&\\left[-\\frac{1}{\\kappa^2}\\left(1-e^{-\\kappa T}\\right)+\\frac{T}{\\kappa}\\right]\\alpha\\rho\\bar v^{3/2}+O(\\alpha^3)\n",
    "\\end{eqnarray*}\n",
    "$$"
   ]
  },
  {
   "cell_type": "markdown",
   "metadata": {},
   "source": [
    "<font color='blue'> **Answer of (c):**"
   ]
  },
  {
   "cell_type": "markdown",
   "metadata": {},
   "source": [
    "<font color='blue'>\n",
    "* From lecture notes, we know:\n",
    "$$\n",
    "w=\\int_0^T \\xi_0(s)ds=\\bar vT\n",
    "$$\n",
    "\n",
    "With simplicity condition, $v_0=\\bar{v}$, we have:\n",
    "\n",
    "$$\n",
    "\\begin{eqnarray*}\n",
    "\\psi_L(T) = S_T &=& \\sqrt{\\frac w T} \\,\\frac{1}{2\\,w^2}\\,C^{x\\,\\xi}\\\\\n",
    "&=&\\sqrt{\\bar{v}}\\frac{1}{2\\,{\\bar{v}^2}{T}^2}\\,C^{x\\,\\xi}\\\\\n",
    "&=&\\sqrt{\\bar{v}}\\left\\{\\frac{1}{2\\,{\\bar{v}^2}{T}^2}\\,\\left[-\\frac{1}{\\kappa^2}\\left(1-e^{-\\kappa T}\\right)+\\frac{T}{\\kappa}\\right]\\alpha\\rho\\bar v^{3/2}\\right\\}+O(\\alpha^2)\\\\\n",
    "&=&\\frac{\\rho\\alpha}{2}\\frac{1}{\\kappa T}\\left\\{1-\\frac{1-e^{-\\kappa T}}{\\kappa T}\\right\\}+O(\\alpha^2)\n",
    "\\end{eqnarray*}\n",
    "$$"
   ]
  },
  {
   "cell_type": "markdown",
   "metadata": {},
   "source": [
    "<font color='blue'> ** Answer of (d):**"
   ]
  },
  {
   "cell_type": "markdown",
   "metadata": {},
   "source": [
    "<font color='blue'>\n",
    "* As $\\psi_H(T) \\sim \\bar{v}^{-1/2}$, but $\\psi_L(T)$ does not depend on $\\bar{v}$, we can compute the ATM skew w.r.t. $\\bar{v}$ and plot it w.r.t. $\\bar{v}$:\n",
    "    * If the plot has slope (close) to -0.5, then the dynamics should be Heston.\n",
    "    * If the ATM skew does not depend on $\\bar{v}$, then the dynamics should be lognormal."
   ]
  }
 ],
 "metadata": {
  "kernelspec": {
   "display_name": "R",
   "language": "R",
   "name": "ir"
  },
  "language_info": {
   "codemirror_mode": "r",
   "file_extension": ".r",
   "mimetype": "text/x-r-source",
   "name": "R",
   "pygments_lexer": "r",
   "version": "3.4.1"
  }
 },
 "nbformat": 4,
 "nbformat_minor": 1
}
