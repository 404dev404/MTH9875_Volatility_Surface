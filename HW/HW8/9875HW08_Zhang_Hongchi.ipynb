{
 "cells": [
  {
   "cell_type": "markdown",
   "metadata": {},
   "source": [
    "### <font color = 'purple'> Hongchi Zhang"
   ]
  },
  {
   "cell_type": "markdown",
   "metadata": {},
   "source": [
    "# MTH9875 Homework 8\n",
    "\n",
    "Assigned: October 20, 2016.\n",
    "Due: November 3, 2016 by 6pm.\n",
    "\n",
    "Late homework **will not be accepted**."
   ]
  },
  {
   "cell_type": "markdown",
   "metadata": {},
   "source": [
    "<font color = \"red\">Homework is to be done by each student individually.  To receive full credit, you must email a completed copy of this iPython notebook to Victor Istratov (stavka@gmail.com), Yassine Ghalem (yassine.ghalem@gmail.com) and Jim Gatheral (jim.gatheral@gmail.com) by the due date and time.  All R-code must run correctly and solutions must be written up neatly in Markdown/LaTeX format."
   ]
  },
  {
   "cell_type": "markdown",
   "metadata": {},
   "source": [
    "### 0. (0 points) \n",
    "\n",
    "Read Chapters 7 and 8 of The Volatility Surface."
   ]
  },
  {
   "cell_type": "markdown",
   "metadata": {},
   "source": [
    "## Internal politics"
   ]
  },
  {
   "cell_type": "markdown",
   "metadata": {},
   "source": [
    "### 1. (10 points) \n",
    "\n",
    "Pretend that you are a quantitative analyst at an investment bank\n",
    "(Banque Prix Bas) and your boss passes you the following email\n",
    "asking you to draft a (careful) reply quickly:\n",
    "\n",
    ">From: The Head of Marketing\n",
    "\n",
    ">To: Your Boss and the Head of Trading\n",
    "\n",
    ">Subject: **We are Uncompetitive in Digital Cliquets**\n",
    "\n",
    ">Over the last two weeks, we have lost no fewer than four digital\n",
    "cliquet deals by substantial margins.  Our pricing of these\n",
    "transactions is so uncompetitive that we end up embarrassing ourselves\n",
    "in front of clients.  We are in serious danger of losing\n",
    "clients.\n",
    "\n",
    ">I have spoken with contacts at two of our most sophisticated\n",
    "competitors (Banca Sbagliata and Deutsche FehlerBank). They insist\n",
    "that they are pricing digital cliquets perfectly consistently with\n",
    "the volatility skew using the latest financial modeling techniques.\n",
    "Our illustrious traders tell me that these banks are incorrectly\n",
    "projecting the volatility skew. Why is it always the competition\n",
    "that is getting it wrong? Could it be that we are being stupid?\n",
    "\n",
    ">I will need to see some pretty convincing arguments very soon or I shall\n",
    "be forced to take this issue to the next level.\n",
    "\n",
    ">Regards,\n",
    "\n",
    ">Very Unhappy Head of Marketing\n",
    "\n",
    "\n",
    "When drafting your reply, remember that the Head of Marketing is not\n",
    "a mathematician - so no math!  Also, if it really is the case that\n",
    "your bank is losing deals by a huge margin, consider how you might\n",
    "be able to make money out of the situation."
   ]
  },
  {
   "cell_type": "markdown",
   "metadata": {},
   "source": [
    "<font color = 'blue'>\n",
    "\n",
    "Dear Head of Equity Derivatives Sales,"
   ]
  },
  {
   "cell_type": "markdown",
   "metadata": {},
   "source": [
    "<font color = 'blue'> \n",
    "\n",
    "The reason we are losing the deals is because our competitors are not pricing them in a correct way. They are underpricing it. If we lower our price, we will print more deals and generate some PnLs. However, in the long run, we will be losing money whenever the Digital Cliquets reset to new strikes.\n",
    "\n",
    "Our competitors are using local volatility model, which projects the volatility skew to be almost flat in the future. I suggest you go on Bloomberg and type SPX SKEW and look at historically behavoir of volatility skew. When was the last time the skew was 0? Intuitively, we know that the shape of vol surface in the equity market does not change much, and a forward start option's price should be close to the price we get using the vol surface today. "
   ]
  },
  {
   "cell_type": "markdown",
   "metadata": {},
   "source": [
    "<font color = 'blue'> I suggest you talk to those clients, telling them we are willing to do a novation (Buying those digital cliquets from them at higher prices, and they can lock in some good profits). In this case, whenever the strikes resets, we will make money from the stupidity of those investment banks who dare to use local volatility to price digital cliquets. In this case, my trading desk will make money and your sales team will aslo receive many sales credit and fat bonus from our PnL"
   ]
  },
  {
   "cell_type": "markdown",
   "metadata": {},
   "source": [
    "<font color = 'blue'>\n",
    "\n",
    "Chris Zhang, Quantitative Analyst"
   ]
  },
  {
   "cell_type": "markdown",
   "metadata": {},
   "source": [
    "## The Bergomi-Guyon expansion"
   ]
  },
  {
   "cell_type": "markdown",
   "metadata": {},
   "source": [
    "### 2. (10 points) \n",
    "$$\n",
    "\\newcommand{\\bea}{\\begin{eqnarray}}\n",
    "\\newcommand{\\eea}{\\end{eqnarray}}\n",
    "\\newcommand{\\beas}{\\begin{eqnarray*}}\n",
    "\\newcommand{\\eeas}{\\end{eqnarray*}}\n",
    "\\newcommand{\\supp}{\\mathrm{supp}}\n",
    "\\newcommand{\\E}{\\mathbb{E} }\n",
    "\\def\\Cov{{ \\mbox{Cov} }}\n",
    "\\def\\Var{{ \\mbox{Var} }}\n",
    "\\newcommand{\\1}{\\mathbf{1} }\n",
    "\\newcommand{\\cF}{\\mathcal{F} }\n",
    "\\newcommand{\\PP}{\\mathbb{P} }\n",
    "\\newcommand{\\QQ}{\\mathbb{Q} }\n",
    "\\newcommand{\\RR}{\\mathbb{R} }\n",
    "\\newcommand{\\DD}{\\mathbb{D} }\n",
    "\\newcommand{\\HH}{\\mathbb{H} }\n",
    "\\newcommand{\\spn}{\\mathrm{span} }\n",
    "\\newcommand{\\cov}{\\mathrm{cov} }\n",
    "\\newcommand{\\HS}{\\mathcal{L}_{\\mathrm{HS}} }\n",
    "\\newcommand{\\trace}{\\mathrm{trace} }\n",
    "\\newcommand{\\LL}{\\mathcal{L} }\n",
    "\\newcommand{\\s}{\\mathcal{S} }\n",
    "\\newcommand{\\ee}{\\mathcal{E} }\n",
    "\\newcommand{\\ff}{\\mathcal{F} }\n",
    "\\newcommand{\\hh}{\\mathcal{H} }\n",
    "\\newcommand{\\bb}{\\mathcal{B} }\n",
    "\\newcommand{\\dd}{\\mathcal{D} }\n",
    "\\newcommand{\\g}{\\mathcal{G} }\n",
    "\\newcommand{\\half}{\\frac{1}{2} }\n",
    "\\newcommand{\\T}{\\mathcal{T} }\n",
    "\\newcommand{\\bi}{\\begin{itemize}}\n",
    "\\newcommand{\\ei}{\\end{itemize}}\n",
    "\\newcommand{\\beq}{\\begin{equation}}\n",
    "\\newcommand{\\eeq}{\\end{equation}}\n",
    "\\newcommand{\\eef}[1]{\\mathbb{E}\\left[\\left.{#1}\\right|\\cF_t\\right]}\n",
    "$$\n",
    "\n",
    "Consider the following stochastic volatility dynamics (known variously as Hull-White, GARCH or lognormal):\n",
    "\n",
    "$$\n",
    "\\begin{eqnarray*}\n",
    "\\frac{dS_t}{S_t} &=& \\sqrt{v_t} \\,dZ_t\\\\\n",
    "dv_t &=&  - \\kappa \\,(v_t - \\bar v)\\,dt + \\alpha \\,v_t \\,dW_t\n",
    "\\end{eqnarray*}\n",
    "$$\n",
    "\n",
    "with $\n",
    "\\left\\langle {dZ_t \\,{dW_t} } \\right\\rangle = \\rho \\, dt\n",
    "$ and where $\\kappa$ is the speed of reversion of $v_t$ to its long term\n",
    "mean $\\bar v$.\n",
    "\n",
    "(a)\n",
    "Compute the forward variance curve $\\xi_t(u)$ for $ u \\geq t$.  Deduce that $d\\xi_t(u) = dv_t\\,e^{-\\kappa\\,(u-t)}$."
   ]
  },
  {
   "cell_type": "markdown",
   "metadata": {},
   "source": [
    "<font color = 'blue'>\n",
    "The forward variance is defined as\n",
    "$$\n",
    "\\xi_t(u) = \\eef{v_u}.\n",
    "$$"
   ]
  },
  {
   "cell_type": "markdown",
   "metadata": {},
   "source": [
    "<font color = 'blue'>\n",
    "\n",
    "Apply Ito's lemma to $d(e^{kt}v_t)$\n",
    "\n",
    "\\begin{eqnarray}\n",
    "d(e^{kt}v_t) &=& ke^{kt}\\,v_t\\,dt + e^{kt}\\,dv_t \\\\\n",
    "&=& \\bar v\\,k\\,e^{kt}dt + e^{kt}\\alpha\\,v_t\\,dw_t\n",
    "\\end{eqnarray}\n",
    "\n",
    "Taking $\\int_t^u$ and $E[\\,\\,|F_t]$ on both sides\n",
    "\n",
    "We get \n",
    "$$\n",
    "\\xi_t(u) = e^{-k(u-t)}\\,(v_t - \\bar v) + \\bar v\n",
    "$$\n",
    "\n",
    "Therefore,\n",
    "$$\n",
    "d\\xi_t(u) = e^{-k(u-t)}\\,dv_t^p + k\\,e^{-k(u-t)}(v_t - \\bar v)dt = e^{-k(u-t)}\\,dv_t^Q\n",
    "$$\n",
    "\n",
    "where $dv_t^Q$ is the martingale part of $dv_t$\n"
   ]
  },
  {
   "cell_type": "markdown",
   "metadata": {},
   "source": [
    "(b)\n",
    "Assuming $v_t = \\bar v$ for simplicity, compute the spot-vol autocorrelation functional $C^{x\\ \\xi}$. (Hint: Use that $\\E \\left[v_t^{3/2}\\right]=\\xi_0(t)^{3/2}+O(\\eta^2)$.)"
   ]
  },
  {
   "cell_type": "markdown",
   "metadata": {},
   "source": [
    "<font color = 'blue'> \n",
    "\n",
    "$$\n",
    "\\xi_0(t)^{3/2} = v_0 - \\bar v + \\bar v = v_0 = \\bar v \n",
    "$$\n",
    "\n",
    "$$\n",
    "E[dx_t\\,d\\xi_t(u)] = e^{-k(u-t)}\\rho\\,\\alpha\\,(\\bar v^{3/2}+O(\\eta^2))dt\n",
    "$$"
   ]
  },
  {
   "cell_type": "markdown",
   "metadata": {},
   "source": [
    "<font color = 'blue'>\n",
    "\\begin{eqnarray*}\n",
    "C^{x\\,\\xi} &=& \\int_0^T\\,dt\\,\\int_t^T\\,du\\,\\frac{\\E \\left[dx_t\\,d\\xi_t(u)\\right]}{dt}\\\\\n",
    "&=& \\int_0^T\\,dt\\,\\int_t^T\\,du\\,(e^{-\\kappa\\,(u-t)} \\rho \\alpha (\\bar v^{3/2}+O(\\eta^2)))\\\\\n",
    "&=& \\rho \\alpha (\\bar v^{3/2}+O(\\eta^2))\\int_0^T\\,dt\\,\\int_t^T\\,e^{-\\kappa\\,(u-t)}\\,du\\\\\n",
    "&=& \\frac{\\rho\\,\\alpha}{\\kappa} (\\bar v^{3/2}+O(\\eta^2))(T -\\frac{1 - e^{-\\kappa\\,T}}{\\kappa})\n",
    "\\end{eqnarray*}"
   ]
  },
  {
   "cell_type": "markdown",
   "metadata": {},
   "source": [
    "(c) \n",
    "Using the Bergomi-Guyon expansion (12) from Lecture 8, assuming $v_t = \\bar v$, deduce the term structure function $\\psi_L(T)$ of ATM volatility skew under the above lognormal dynamics to order $\\alpha^2$."
   ]
  },
  {
   "cell_type": "markdown",
   "metadata": {},
   "source": [
    "<font color = 'blue'>\n",
    "$\\omega = \\bar v\\,T$\n",
    "\\begin{eqnarray}\n",
    "\\psi_L(T) = S_T &=& \\sqrt{\\frac w T} \\,\\frac{1}{2\\,w^2}\\,C^{x\\,\\xi}\\\\\n",
    "&\\approx& \\frac{\\rho\\alpha}{2}\\frac{1}{\\kappa\\,T}(1 - \\frac{1-e^{-\\kappa\\,T}}{\\kappa})\n",
    "\\end{eqnarray}"
   ]
  },
  {
   "cell_type": "markdown",
   "metadata": {},
   "source": [
    "(d) \n",
    "Recall that the Heston term structure of ATM skew is given (again with $v_t = \\bar v$) by\n",
    "\n",
    "$$\n",
    "\\psi_H(T) =\n",
    "\\frac {\\rho\\,\\eta}{2\\,\\sqrt{\\bar v}}\\,\\frac{1}{\\kappa\\,T}\\,\\left\\{1-\\frac{1-e^{-\\kappa\\,T}}{\\kappa\\,T}\\right\\}.\n",
    "$$\n",
    "\n",
    "Given a time series of volatility smiles, how would you distinguish between Heston and lognormal dynamics empirically?"
   ]
  },
  {
   "cell_type": "markdown",
   "metadata": {},
   "source": [
    "<font color = 'blue'>\n",
    "\n",
    "ATM skew in lognormal model does NOT depend on the volatility level, whereas in the Heston model, it depends on the vol level. \n",
    "\n",
    "So we can regress the historical ATM skew data on $\\frac{1}{\\sqrt{\\bar v}}$, and we perform a t test on the slope of the regression. \n",
    "\n",
    "If the slope is zero, then it is the lognormal dynamics. If the slope is significantly non-zero, then we know it should be the Heston dynamics"
   ]
  }
 ],
 "metadata": {
  "anaconda-cloud": {},
  "kernelspec": {
   "display_name": "R",
   "language": "R",
   "name": "ir"
  },
  "language_info": {
   "codemirror_mode": "r",
   "file_extension": ".r",
   "mimetype": "text/x-r-source",
   "name": "R",
   "pygments_lexer": "r",
   "version": "3.4.1"
  }
 },
 "nbformat": 4,
 "nbformat_minor": 1
}
