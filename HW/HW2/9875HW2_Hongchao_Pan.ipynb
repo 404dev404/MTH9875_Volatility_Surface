{
 "cells": [
  {
   "cell_type": "markdown",
   "metadata": {},
   "source": [
    "# MTH9875 Homework 2\n",
    "\n",
    "Assigned: September 8, 2017.\n",
    "Due: September 21, 2017 by 6pm.\n",
    "\n",
    "Late homework **will not be accepted**."
   ]
  },
  {
   "cell_type": "markdown",
   "metadata": {},
   "source": [
    "<font color = \"red\">Homework is to be done by each student individually.  To receive full credit, you must email a completed copy of this iPython notebook to Victor Istratov (stavka@gmail.com), Yassine Ghalem (yassine.ghalem@gmail.com) and Jim Gatheral (jim.gatheral@gmail.com) by the due date and time.  All R-code must run correctly and solutions must be written up neatly in Markdown/LaTeX format."
   ]
  },
  {
   "cell_type": "markdown",
   "metadata": {},
   "source": [
    "* **Author: Hongchao Pan**\n",
    "* Kernel Version: R 3.3.2\n",
    "* Packages/Libraries: repr\n",
    "* Notes:\n",
    "    "
   ]
  },
  {
   "cell_type": "code",
   "execution_count": 1,
   "metadata": {
    "collapsed": true
   },
   "outputs": [],
   "source": [
    "# Loading libraries\n",
    "library(repr) # For changing plot features\n",
    "# Record the total running time of this notebook\n",
    "# Starting record the time\n",
    "ptm<-proc.time()"
   ]
  },
  {
   "cell_type": "markdown",
   "metadata": {},
   "source": [
    "### The  volatility smile in a simple regime-switching model\n",
    "\n",
    "#### 1. (10 points) \n",
    "\n",
    "Consider the simple regime-switching model from Lecture 2 where realized volatility over a one-year period can be either $10\\%$ or $30\\%$, each with probability $1/2$ (depending on an initial coin toss say).  The density of 1-year returns is given by the sum of the two corresponding normal densities:"
   ]
  },
  {
   "cell_type": "code",
   "execution_count": 2,
   "metadata": {
    "collapsed": true
   },
   "outputs": [],
   "source": [
    "d3010 <- function(x){(dnorm(x,sd=.1)+dnorm(x,sd=.3))/2}"
   ]
  },
  {
   "cell_type": "markdown",
   "metadata": {},
   "source": [
    "The following snippet loads Black-Scholes functions from Lecture 1.  Please use these in your solution."
   ]
  },
  {
   "cell_type": "code",
   "execution_count": 3,
   "metadata": {
    "collapsed": false
   },
   "outputs": [],
   "source": [
    "download.file(url=\"http://mfe.baruch.cuny.edu/wp-content/uploads/2015/09/9875HW2.zip\", destfile=\"9875HW2.zip\")\n",
    "unzip(zipfile=\"9875HW2.zip\")\n",
    "\n",
    "source(\"BlackScholes.R\")"
   ]
  },
  {
   "cell_type": "markdown",
   "metadata": {},
   "source": [
    "(a) Code a function to return the price of a 1-year European option with log-strike $k$ in this model.  Your function should return the price as a fraction of the current stock price.\n",
    "\n",
    "(b) Code a function to return the implied volatility 1-year European option with log-strike $k$ in this model.\n",
    "\n",
    "(c) Draw the 1-year volatility smile in this model for log-strikes from -$2.0$ to $2.0$ with implied volatility on the y-axis and log-strike on the x-axis.  \n",
    "\n",
    "(d) What is implied volatility at-the-money?  Give intuition as to why.\n",
    "\n",
    "(e) In the extreme wings of the volatility smile, implied volatility tends to $30\\%$.  Why?"
   ]
  },
  {
   "cell_type": "markdown",
   "metadata": {},
   "source": [
    "### Answer of Q1\n",
    "\n",
    "#### Answer of (a): Fuction of a 1-year European option with log-strike $k$."
   ]
  },
  {
   "cell_type": "markdown",
   "metadata": {},
   "source": [
    "* The definition of log-strike $k$ is:\n",
    "\n",
    "\n",
    "$$k = \\log \\left( \\frac{K}{F_T } \\right)$$\n",
    "\n",
    "\n",
    "where \n",
    "    $ F_T  = S_0 \\,\\exp \\left\\{\\int_0^T\\,\\mu_t\\,dt \\right \\} $ is the forward price. And K is strike.\n",
    "\n",
    "* Assume $\\mu_t=0$, we have:\n",
    "\n",
    "$$\n",
    "K=S_0 \\exp\\{k\\}\n",
    "$$"
   ]
  },
  {
   "cell_type": "code",
   "execution_count": 4,
   "metadata": {
    "collapsed": true
   },
   "outputs": [],
   "source": [
    "# Define a function to return the fraction of option price w.r.t. current price S0.\n",
    "# The input of BSFormula o BSFormulaPut is: S0, K, T, r, sigma"
   ]
  },
  {
   "cell_type": "code",
   "execution_count": 5,
   "metadata": {
    "collapsed": false
   },
   "outputs": [],
   "source": [
    "# Define the function\n",
    "Euro_Option<-function(k, S0, opt_flag){\n",
    "    # Opt_flag: CALL or PUT\n",
    "    K <- S0*exp(k) # Strike\n",
    "    \n",
    "    if (toupper(opt_flag) == \"CALL\"){\n",
    "        # Call option\n",
    "        return (0.5*BSFormula(S0 = S0,K = K,T = 1,r = 0,sigma = 0.1)+\n",
    "               0.5*BSFormula(S0=S0,K=K,T=1,r=0,sigma = 0.3))\n",
    "    }\n",
    "    else{\n",
    "        # Put option\n",
    "        return (0.5*BSFormulaPut(S0 = S0,K = K,T = 1,r = 0,sigma = 0.1)+\n",
    "               0.5*BSFormulaPut(S0=S0,K=K,T=1,r=0,sigma = 0.3))\n",
    "    }   \n",
    "}\n"
   ]
  },
  {
   "cell_type": "markdown",
   "metadata": {},
   "source": [
    "#### Answer of (b): Corresponding implied vol function"
   ]
  },
  {
   "cell_type": "code",
   "execution_count": 6,
   "metadata": {
    "collapsed": true
   },
   "outputs": [],
   "source": [
    "Euro_imp_vol <- function(k, S0, opt_flag){\n",
    "    price <- Euro_Option(k, S0, opt_flag)\n",
    "    K <- S0*exp(k)\n",
    "    if(toupper(opt_flag) == \"CALL\"){\n",
    "        return (BSImpliedVolCall(S0,K,T = 1,r = 0,C = price))\n",
    "    }\n",
    "    else{\n",
    "        # Put\n",
    "        return(BSImpliedVolPut(S0,K,T = 1,r = 0,C=price))\n",
    "    }\n",
    "}"
   ]
  },
  {
   "cell_type": "markdown",
   "metadata": {},
   "source": [
    "#### Answer of (c): Draw the 1-year volatility smile in this model for log-strikes from $- 2.0$  to $ 2.0$  with implied volatility on the y-axis and log-strike on the x-axis."
   ]
  },
  {
   "cell_type": "code",
   "execution_count": 7,
   "metadata": {
    "collapsed": false
   },
   "outputs": [
    {
     "data": {
      "text/html": [
       "91.3653111411259"
      ],
      "text/latex": [
       "91.3653111411259"
      ],
      "text/markdown": [
       "91.3653111411259"
      ],
      "text/plain": [
       "[1] 91.36531"
      ]
     },
     "metadata": {},
     "output_type": "display_data"
    }
   ],
   "source": [
    "# Assign the current stock price with a random number of uniform distribution between 90 and 100\n",
    "S0 <- runif(1,90,100) # Retrun 1 random number between 90 and 100. End points cannot be reached.\n",
    "S0"
   ]
  },
  {
   "cell_type": "code",
   "execution_count": 8,
   "metadata": {
    "collapsed": false
   },
   "outputs": [
    {
     "data": {
      "image/png": "[encoded data removed]",
      "text/plain": [
       "Plot with title “Implied volatility of 1-year European Call option vs log-strike”"
      ]
     },
     "metadata": {},
     "output_type": "display_data"
    }
   ],
   "source": [
    "options(repr.plot.height=4, repr.plot.width=6)\n",
    "curve(Euro_imp_vol(x, S0,\"CALL\"),from = -2, to= 2, xlab=\"Log-strike\",\n",
    "      ylab=\"Implied Volatility\",\n",
    "      main=\"Implied volatility of 1-year European Call option vs log-strike\",\n",
    "     cex.main=1, lwd=2, col=\"blue\")"
   ]
  },
  {
   "cell_type": "markdown",
   "metadata": {},
   "source": [
    "#### Answer of (d): What is implied volatility at-the-money?  Give intuition as to why."
   ]
  },
  {
   "cell_type": "code",
   "execution_count": 9,
   "metadata": {
    "collapsed": false
   },
   "outputs": [
    {
     "name": "stdout",
     "output_type": "stream",
     "text": [
      "The ATM implied volatility is:  0.19975 \n"
     ]
    }
   ],
   "source": [
    "# ATM implied vol when log-strike k=0\n",
    "cat(\"The ATM implied volatility is: \", format(Euro_imp_vol(0,S0,\"Call\"),digits = 6),\"\\n\")"
   ]
  },
  {
   "cell_type": "markdown",
   "metadata": {},
   "source": [
    "* As we know, the ATM European call price has fomula by:\n",
    "\n",
    "$$\n",
    "C_{ATM} \\sim 0.4 \\sigma S_0\\sqrt{\\tau}\n",
    "$$\n",
    "\n",
    "which indicates that the European option price can be approximated by a linear function of volatility.\n",
    "\n",
    "* The realized volitility can be either 10% or 30% with equal probability, then the expected realized volatility is 20%.\n",
    "\n",
    "* Therefore, in regime-switching model, the implied volatility is approximately the expectation of realized volatility, i.e., 20% (19.98% in our example)."
   ]
  },
  {
   "cell_type": "markdown",
   "metadata": {},
   "source": [
    "#### Answer of (e): In the extreme wings of the volatility smile, implied volatility tends to  30% . Why?"
   ]
  },
  {
   "cell_type": "markdown",
   "metadata": {},
   "source": [
    "* From the figure in (c), we can see that the implied volatility tends to 30% if $k$ is very large (2) or very small (-2).\n",
    "\n",
    "* When $k$ is very large, based on the equation in (a), $K$ is very large. Then the European call option is deep out of the money and the option price is mainly contribued by the right tail region. Since the tail region is driven by the high volatility, the implied volatility tends to 30%.\n",
    "\n",
    "* Similar when $k$ is very small. $K$ is very small. Then the European put option is deep out of the money. By the same reason, implied volatility tends to 30%.\n",
    "\n",
    "* Therefore, implied volatility tends to 30% in the extreme wings of the volatility smile."
   ]
  },
  {
   "cell_type": "markdown",
   "metadata": {},
   "source": [
    "### Tanaka's formula\n",
    "$$\\newcommand{\\supp}{\\mathrm{supp}}\n",
    "\\newcommand{\\EE}{\\mathbb{E} }\n",
    "\\def\\Cov{{ \\mbox{Cov} }}\n",
    "\\def\\Var{{ \\mbox{Var} }}\n",
    "\\newcommand{\\1}{\\mathbf{1} }\n",
    "\\newcommand{\\PP}{\\mathbb{P} }\n",
    "%\\newcommand{\\Pr}{\\mathrm{Pr} }\n",
    "\\newcommand{\\QQ}{\\mathbb{Q} }\n",
    "\\newcommand{\\RR}{\\mathbb{R} }\n",
    "\\newcommand{\\DD}{\\mathbb{D} }\n",
    "\\newcommand{\\HH}{\\mathbb{H} }\n",
    "\\newcommand{\\spn}{\\mathrm{span} }\n",
    "\\newcommand{\\cov}{\\mathrm{cov} }\n",
    "\\newcommand{\\sgn}{\\mathrm{sgn} }\n",
    "\\newcommand{\\HS}{\\mathcal{L}_{\\mathrm{HS}} }\n",
    "%\\newcommand{\\HS}{\\mathrm{HS} }\n",
    "\\newcommand{\\trace}{\\mathrm{trace} }\n",
    "\\newcommand{\\LL}{\\mathcal{L} }\n",
    "%\\newcommand{\\LL}{\\mathrm{L} }\n",
    "\\newcommand{\\s}{\\mathcal{S} }\n",
    "\\newcommand{\\ee}{\\mathcal{E} }\n",
    "\\newcommand{\\ff}{\\mathcal{F} }\n",
    "\\newcommand{\\hh}{\\mathcal{H} }\n",
    "\\newcommand{\\bb}{\\mathcal{B} }\n",
    "\\newcommand{\\dd}{\\mathcal{D} }\n",
    "\\newcommand{\\g}{\\mathcal{G} }\n",
    "\\newcommand{\\half}{\\frac{1}{2} }\n",
    "\\newcommand{\\T}{\\mathcal{T} }\n",
    "\\newcommand{\\bi}{\\begin{itemize}}\n",
    "\\newcommand{\\ei}{\\end{itemize}}\n",
    "\\newcommand{\\beq}{\\begin{equation}}\n",
    "\\newcommand{\\eeq}{\\end{equation}}\n",
    "\\newcommand{\\beas}{\\begin{eqnarray*}}\n",
    "\\newcommand{\\eeas}{\\end{eqnarray*}}\n",
    "$$\n",
    "#### 2. (6 points)\n",
    "\n",
    "By applying Itô's lemma as in the notes, prove Tanaka's formula in its usual form:\n",
    "\n",
    "$$\n",
    "\\left|B_t\\right|=\\int_0^t\\,\\sgn(B_s)\\,dB_s+L_t\n",
    "$$\n",
    "where $B_t$ is a standard Brownian motion, $\\sgn$ denotes the sign function\n",
    "\n",
    "$$\n",
    "\\sgn(x)=\\left\\{\n",
    "\\begin{array}{ll}\n",
    "  +1&x \\ge 0  \\\\\n",
    " -1 & x <0 \n",
    "\\end{array}\n",
    "\\right.\n",
    "$$\n",
    "\n",
    "and $L_t$ is its local time at $0$ (roughly the time spent by $B$ at $0$ before time $t$) given by the formal expression\n",
    "\n",
    "$$\n",
    "L_t=\\int_0^t\\,\\delta(B_s)\\,ds.\n",
    "$$\n",
    "\n",
    "Explain in words what this result means in terms of delta-hedging of a particular options position.\n"
   ]
  },
  {
   "cell_type": "markdown",
   "metadata": {},
   "source": [
    "### Answer of Q2"
   ]
  },
  {
   "cell_type": "markdown",
   "metadata": {},
   "source": [
    "* By using the notation in the lecture, we can re-write $|B_t| = B_t^+ + (-B_t)^+$\n",
    "\n",
    "* Tanaka's formula is defined by $ d\\left( {S_t-K} \\right)^+=\\theta \\left( {S_t-K}\n",
    "\\right)\\,dS_t+\\frac{1}{2}\\,v_t\\,S_t^2\\,\\delta \\left( {S_T-K}\n",
    "\\right)\\,dt $\n",
    "\n",
    "* Compare the two formula, we have:\n",
    "\n",
    "$$\n",
    "d(B_t)^+ = \\theta(B_t)dB_t + \\frac{1}{2}\\delta(B_t)dt\\ \n",
    "$$\n",
    "\n",
    "and\n",
    "\n",
    "$$\n",
    "d(-B_t)^+ = -\\theta(-B_t)dB_t+\\frac{1}{2}\\delta(-B_t)dt = -\\theta(-B_t)dB_t + \\frac{1}{2}\\delta(B_t)dt\n",
    "$$\n",
    "\n",
    "* Therefore, by applying Ito's lemma, we have:\n",
    "\n",
    "$$\n",
    "\\begin{align}\n",
    "d|B_t| &= d(B_t^+ + (-B_t)^+) = \\theta(B_t)dB_t - \\theta(-B_t)dB_t + \\delta(B_t)dt \\\\\n",
    "&= (\\theta(B_t)-\\theta(-B_t))dB_t + \\delta(B_t)dt \\\\\n",
    "&= \\sgn(B_t)dB_t + \\delta(B_t)dt \\\\\n",
    "\\end{align}\n",
    "$$\n",
    "\n",
    "* Integrate the formula, we have:\n",
    "\n",
    "$$\n",
    "\\begin{align}\n",
    "|B_t| &= \\int_0^t  \\sgn(B_s)dB_s + \\int_0^t \\delta(B_s)ds \\\\\n",
    "&= \\int_0^t \\sgn(B_s)dB_s + L_t\n",
    "\\end{align}\n",
    "$$"
   ]
  },
  {
   "cell_type": "markdown",
   "metadata": {},
   "source": [
    "* As $|B_t| = B_t^+ + (-B_t)^+$, $|B_t|$ represents a straddle with $K=0$.\n",
    "\n",
    "* The formula above represents a hedging strategy $\\int_0^t \\sgn(B_s)dB_s$ plus a local time $L_t$\n",
    "\n",
    "* The hedging strage is: \n",
    "    * Long one unit of the underlying asset when it is positive.\n",
    "    * And short one unit of the underlying asset when it is negative."
   ]
  },
  {
   "cell_type": "markdown",
   "metadata": {},
   "source": [
    "## Local volatility and implied volatility\n",
    "\n",
    "#### 3. (6 points) \n",
    "\n",
    "Using the BBF formula, prove the well-known rule of thumb that the local volatility skew is roughly twice the implied volatility skew for short expirations.  Formally, for small $T$,\n",
    "\n",
    "$$\n",
    "\\left.\\partial_k \\sigma(k,T)\\right|_{k=0} \\approx 2\\, \\left.\\partial_k \\sigma_{BS}(k,T)\\right|_{k=0}.\n",
    "$$"
   ]
  },
  {
   "cell_type": "markdown",
   "metadata": {},
   "source": [
    "### Answer of Q3"
   ]
  },
  {
   "cell_type": "markdown",
   "metadata": {},
   "source": [
    "* From lecture, we have: $\\sigma_{BS}(k,T)=\\sigma_0(k)+\\mathcal{O}(T)$.\n",
    "\n",
    "* For small $T$, $\\sigma_{BS}(k,T) \\approx \\sigma_0(k) = \\frac{k}{\\int_0^k\\,\\frac{dy}{\\sigma(y,0)}}$\n",
    "\n",
    "* Take derivative on both sides, we have:\n",
    "\n",
    "$$\n",
    "\\begin{eqnarray}\n",
    "\\left.\\partial_k \\sigma_{BS}(k,T)\\right|_{k=0}&\\approx&\\left.\\frac{\\int_0^k\\frac{dy}{\\sigma(y,T)}-\\frac{k}{\\sigma(k,T)}}{\\left(\\int_0^k\\frac{dy}{\\sigma(y,T)}\\right)^2}\\right|_{k=0}\\\\\n",
    "&=&\\left.\\frac{\\frac{1}{\\sigma(k,T)}- \\frac{\\sigma(k,T)- k \\partial_k \\sigma(k,T)}{\\sigma^2(k,T)}} {2\\int_0^k\\frac{1}{\\sigma(k,T)}\\frac{dy}{\\sigma(y,T)}}\\right|_{k=0}\\\\\n",
    "&=&\\left.\\frac{\\frac{k}{\\sigma(k,T)}\\partial_k \\sigma(k,T)}{2\\int_0^k\\frac{dy}{\\sigma(y,T)}}\\right|_{k=0}\\\\\n",
    "&=&\\left.\\frac{\\frac{1}{\\sigma(k,T)}\\partial_k \\sigma(k,T)-\\frac{k}{\\sigma^2(k,T)}\\left(\\partial_k \\sigma(k,T)\\right)^2+\\frac{k}{\\sigma(k,T)}\\frac{\\partial^2 \\sigma(k,T)}{\\partial k^2}}{\\frac{2}{\\sigma(k,T)}}\\right|_{k=0}\\\\\n",
    "&=&\\left.\\frac{1}{2}\\partial_k \\sigma(k,T)\\right|_{k=0}\n",
    "\\end{eqnarray}\n",
    "$$"
   ]
  },
  {
   "cell_type": "markdown",
   "metadata": {},
   "source": [
    "* Therefore, for small T, we have:\n",
    "\n",
    "$$\n",
    "\\left.\\partial_k \\sigma(k,T)\\right|_{k=0} \\approx 2\\, \\left.\\partial_k \\sigma_{BS}(k,T)\\right|_{k=0}.\n",
    "$$"
   ]
  },
  {
   "cell_type": "markdown",
   "metadata": {},
   "source": [
    "#### 4. (6 points) \n",
    "\n",
    "Consider formula (12) from Lecture 2:\n",
    "\n",
    "$$\n",
    "v_\\ell(k,T) = \\frac{\\frac{\\partial w}{\\partial T}}\n",
    "{\\left(1 -\\frac 12\\frac{k}{w}\\,\\frac{\\partial w}{\\partial k}\\right)^2\n",
    " - \\frac14\\,\\left( \\frac{1}{4} + \\frac{1}{w} \\right)\\,\n",
    " \\left( \\frac{\\partial w}{\\partial k} \\right)^2  +\n",
    "\\frac{1}{2}\\,\\frac{\\partial^2 w}{\\partial k^2 }}.\n",
    "$$\n",
    "\n",
    "Using this formula, show that the simple quadratic parameterization\n",
    "\n",
    "$$\n",
    "w(k,T)=\\alpha(T)+\\beta(T)\\,{k}+\\gamma(T)\\,{k^2}\n",
    "$$\n",
    "\n",
    "with $\\alpha(T)>0$ and $\\gamma(T)>0$ is arbitrageable.  Explain your result in words in terms of option strategies."
   ]
  },
  {
   "cell_type": "markdown",
   "metadata": {},
   "source": [
    "### Answer of Q4"
   ]
  },
  {
   "cell_type": "markdown",
   "metadata": {},
   "source": [
    "* Simple quadratic parameterization has following:\n",
    "\n",
    "$$\n",
    "\\frac{\\partial w}{\\partial k}=\\beta(T)+2\\gamma(T)k\\\\\n",
    "\\frac{\\partial^2 w}{\\partial^2 k}=2\\gamma(T)\n",
    "$$"
   ]
  },
  {
   "cell_type": "markdown",
   "metadata": {},
   "source": [
    "* Denote \n",
    "$$\n",
    "f(k)= \\left(1 -\\frac 12\\frac{k}{w}\\,\\frac{\\partial w}{\\partial k}\\right)^2\n",
    " - \\frac14\\,\\left( \\frac{1}{4} + \\frac{1}{w} \\right)\\,\n",
    " \\left( \\frac{\\partial w}{\\partial k} \\right)^2  +\n",
    "\\frac{1}{2}\\,\\frac{\\partial^2 w}{\\partial k^2 }\n",
    "$$\n",
    "\n",
    "* Then we have:\n",
    "\n",
    "\\begin{eqnarray}\n",
    "f(k)&=&\\left(1-\\frac 12\\frac{k}{w}\\left(\\beta(T)+2\\gamma(T)k\\right)\\right)^2-\\frac14\\left(\\frac14+\\frac{1}{w}\\right)\\left(\\beta(T)+2\\gamma(T)k\\right)^2+\\gamma(T)\\\\\n",
    "&=&\\left(1-\\frac 12\\frac{k}{w}\\left(\\beta(T)+2\\gamma(T)k\\right)\\right)^2-\\frac{1}{16}\\left(\\beta(T)+2\\gamma(T)k\\right)^2-\\frac{1}{4w}\\left(\\beta(T)+2\\gamma(T)k\\right)^2+\\gamma(T)\\\\\n",
    "\\end{eqnarray}\n",
    "\n",
    "* When $k$ is very large, $f(k)$ is dominated by the 2nd term. Then:\n",
    "$$\n",
    "f(k)=\\left(1 -\\frac 12\\frac{k}{w}\\,\\frac{\\partial w}{\\partial k}\\right)^2\n",
    " - \\frac14\\,\\left( \\frac{1}{4} + \\frac{1}{w} \\right)\\,\n",
    " \\left( \\frac{\\partial w}{\\partial k} \\right)^2  +\n",
    "\\frac{1}{2}\\,\\frac{\\partial^2 w}{\\partial k^2 }<0.\n",
    "$$\n",
    "\n",
    "* From lecture notes, we have:\n",
    "\\begin{eqnarray*}\n",
    "\\frac{\\partial C}{\\partial k} &=& \n",
    "\\frac{\\partial C_{BS}}{\\partial k} + \\frac{\\partial C_{BS}}{\\partial w}\\,\\frac{\\partial w}{\\partial k} \\nonumber\\\\\n",
    "\\frac{\\partial ^2 C}{\\partial k^2 } &=& \n",
    "\\frac{\\partial^2 C_{BS} }{\\partial k^2 } + 2\\,\\frac{\\partial ^2 C_{BS} }{\\partial k \\partial w}\\,\n",
    "\\frac{\\partial w}{\\partial k} + \\frac{\\partial^2 C_{BS} }{\\partial w^2}\\,\n",
    "\\left( \\frac{\\partial w}{\\partial k} \\right)^2\n",
    "+ \\frac{\\partial C_{BS} }{\\partial w}\\,\\frac{\\partial ^2 w}{\\partial k^2 } \\nonumber\n",
    "\\end{eqnarray*}\n",
    "\n",
    "\n",
    "* Since $k=\\log(K/F_t)$, following property eixsts:\n",
    "$$\\frac{\\partial k}{\\partial K}=\\frac{1}{K}=\\frac{e^{-k}}{F_t}$$\n",
    "\n",
    "* Therefore:\n",
    "$$\n",
    "\\frac{\\partial C}{\\partial K}=\\frac{\\partial C}{\\partial k}\\frac{e^{-k}}{F_t}\n",
    "$$\n",
    "\n",
    "* From equation (11) in lecture notes #2, we have:\n",
    "\\begin{eqnarray}\n",
    "\\frac{\\partial ^2 C_{BS} }{\\partial w^2 } &=&\n",
    "\\left(  - \\frac{1}{8} - \\frac{1}{2\\,w} + \\frac{k^2}{2\\,w^2} \\right)\\,\n",
    "\\frac{\\partial C_{BS} }{\\partial w} \\nonumber\\\\\n",
    "\\frac{\\partial ^2 C_{BS}}{\\partial k \\partial w}\n",
    "&=& \\,\\left(  \\frac{1}{2} - \\frac{k}{w}\\right)\\,\n",
    "\\frac{\\partial C_{BS}}{\\partial w}\\nonumber\\\\\n",
    "\\frac{\\partial ^2 C_{BS} }{\\partial k^2 } -\\frac{\\partial C_{BS} }{\\partial k} \n",
    "&=& 2\\,\\frac{\\partial C_{BS} }{\\partial w}\n",
    "\\end{eqnarray}\n",
    "\n",
    "* Therefore, substitute back we have:\n",
    "\n",
    "\\begin{eqnarray*}\n",
    "\\frac{\\partial^2 C}{\\partial K^2}&=&\\left(\\frac{\\partial^2 C}{\\partial k^2}-\\frac{\\partial C}{\\partial k}\\right)\\frac{e^{-k}}{F_t}\\\\\n",
    "&=&\\left(-\\frac{\\partial C_{BS} }{\\partial k} +\n",
    "\\frac{\\partial ^2 C_{BS} }{\\partial k^2 } - \\frac{\\partial\n",
    "C_{BS} }{\\partial w}\\,\\frac{\\partial w}{\\partial k} + 2\\,\\frac{\\partial ^2 C_{BS} }{\\partial k\\, \\partial w}\\,\\frac{\\partial w}{\\partial k} +\\frac{\\partial ^2 C_{BS}}{\\partial w^2 }\\,\\left( \\frac{\\partial w}{\\partial k} \\right)^2 + \\frac{\\partial C_{BS}}{\\partial w}\\,\\frac{\\partial^2 w}{\\partial k^2 }\\right)\\frac{e^{-k}}{F_t}\\\\\n",
    "&=&2\\frac{\\partial C_{BS}}{\\partial w}f(k)\\frac{e^{-k}}{F_t}\\\\\n",
    "&=&\\frac{f(k)}{\\sqrt{2\\pi w}}e^{-\\frac{d_2^2}{2}}<0\n",
    "\\end{eqnarray*}\n",
    "\n",
    "with $d_2$ came from Black Scholes formula"
   ]
  },
  {
   "cell_type": "markdown",
   "metadata": {},
   "source": [
    "* From above, we can see an arbitrage exists. A butterfly arbitrage can be constructured as following:\n",
    "\n",
    "    * Long 1 unit call option with strike at $K-\\delta K$\n",
    "    * Short 2 units call options with strike at $K$\n",
    "    * Long 1 unit call option with strike at $K+\\delta K$\n",
    "\n",
    "* Then:\n",
    "    * At time 0: you can construct the portfolio as $C(K-\\delta K)-2C(K)+C(K+\\delta K)<0$\n",
    "    * At maturity: the payoff is at least 0\n"
   ]
  },
  {
   "cell_type": "code",
   "execution_count": 10,
   "metadata": {
    "collapsed": false
   },
   "outputs": [
    {
     "name": "stdout",
     "output_type": "stream",
     "text": [
      "[1] \"The running time of this notebooks is: \"\n"
     ]
    },
    {
     "data": {
      "text/plain": [
       "   user  system elapsed \n",
       "  0.368   0.024   0.562 "
      ]
     },
     "metadata": {},
     "output_type": "display_data"
    }
   ],
   "source": [
    "# End recording the running time\n",
    "print('The running time of this notebooks is: ')\n",
    "proc.time()-ptm"
   ]
  }
 ],
 "metadata": {
  "kernelspec": {
   "display_name": "R",
   "language": "R",
   "name": "ir"
  },
  "language_info": {
   "codemirror_mode": "r",
   "file_extension": ".r",
   "mimetype": "text/x-r-source",
   "name": "R",
   "pygments_lexer": "r",
   "version": "3.3.2"
  }
 },
 "nbformat": 4,
 "nbformat_minor": 0
}
