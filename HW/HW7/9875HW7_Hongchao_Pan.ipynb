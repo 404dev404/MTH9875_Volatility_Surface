{
 "cells": [
  {
   "cell_type": "markdown",
   "metadata": {},
   "source": [
    "# MTH9875 Homework 7\n",
    "\n",
    "Assigned: October 12, 2017.\n",
    "Due: October 26, 2017 by 6pm.\n",
    "\n",
    "Late homework **will not be accepted**."
   ]
  },
  {
   "cell_type": "markdown",
   "metadata": {},
   "source": [
    "<font color = \"red\">Homework is to be done by each student individually.  To receive full credit, you must email a completed copy of this iPython notebook to Victor Istratov (stavka@gmail.com), Yassine Ghalem (yassine.ghalem@gmail.com) and Jim Gatheral (jim.gatheral@gmail.com) by the due date and time.  All R-code must run correctly and solutions must be written up neatly in Markdown/LaTeX format."
   ]
  },
  {
   "cell_type": "markdown",
   "metadata": {},
   "source": [
    "* **Author: Hongchao Pan**\n",
    "* Kernel Version: R 3.3.2\n",
    "* Packages/Libraries: repr\n",
    "* Notes:\n"
   ]
  },
  {
   "cell_type": "code",
   "execution_count": 1,
   "metadata": {
    "collapsed": true
   },
   "outputs": [],
   "source": [
    "# Load library\n",
    "library(stinepack); # For plotIvols"
   ]
  },
  {
   "cell_type": "markdown",
   "metadata": {},
   "source": [
    "### 0. (0 points) \n",
    "\n",
    "Read the Schoutens et al. paper."
   ]
  },
  {
   "cell_type": "markdown",
   "metadata": {},
   "source": [
    "### Load some R-code and data"
   ]
  },
  {
   "cell_type": "code",
   "execution_count": 2,
   "metadata": {},
   "outputs": [],
   "source": [
    "download.file(url=\"http://mfe.baruch.cuny.edu/wp-content/uploads/2015/10/9875-HW7.zip\", destfile=\"9875-HW7.zip\")\n",
    "unzip(zipfile=\"9875-HW7.zip\")"
   ]
  },
  {
   "cell_type": "code",
   "execution_count": 3,
   "metadata": {},
   "outputs": [],
   "source": [
    "source(\"BlackScholes.R\")\n",
    "source(\"Heston2.R\")\n",
    "source(\"plotIvols.R\")\n",
    "source(\"bsvolPhi.R\")"
   ]
  },
  {
   "cell_type": "code",
   "execution_count": 4,
   "metadata": {
    "collapsed": true
   },
   "outputs": [],
   "source": [
    "library(repr)\n",
    "options(repr.plot.height=6,repr.plot.width=10)"
   ]
  },
  {
   "cell_type": "markdown",
   "metadata": {},
   "source": [
    "For problem 1. you will need SPX implied vols as of the close on September 15, 2005."
   ]
  },
  {
   "cell_type": "code",
   "execution_count": 5,
   "metadata": {},
   "outputs": [
    {
     "data": {
      "image/png": "[encoded data removed]",
      "text/plain": [
       "Plot with title \"NA\""
      ]
     },
     "metadata": {},
     "output_type": "display_data"
    }
   ],
   "source": [
    "load(\"spx050915.rData\") \n",
    "\n",
    "# Plot the resulting implied volatilities\n",
    "res <- plotIvols(spxOptData) "
   ]
  },
  {
   "cell_type": "markdown",
   "metadata": {},
   "source": [
    "As usual, assume zero interest rates and dividends for the following\n",
    "assignments."
   ]
  },
  {
   "cell_type": "markdown",
   "metadata": {},
   "source": [
    "## Comparison of Heston and SVJ fits to the SPX volatility surface"
   ]
  },
  {
   "cell_type": "markdown",
   "metadata": {},
   "source": [
    "### 1. (12 points)\n",
    "$$\n",
    "\\newcommand{\\supp}{\\mathrm{supp}}\n",
    "\\newcommand{\\E}{\\mathbb{E} }\n",
    "\\def\\Cov{{ \\mbox{Cov} }}\n",
    "\\def\\Var{{ \\mbox{Var} }}\n",
    "\\newcommand{\\1}{\\mathbf{1} }\n",
    "\\newcommand{\\PP}{\\mathbb{P} }\n",
    "%\\newcommand{\\Pr}{\\mathrm{Pr} }\n",
    "\\newcommand{\\QQ}{\\mathbb{Q} }\n",
    "\\newcommand{\\RR}{\\mathbb{R} }\n",
    "\\newcommand{\\DD}{\\mathbb{D} }\n",
    "\\newcommand{\\HH}{\\mathbb{H} }\n",
    "\\newcommand{\\spn}{\\mathrm{span} }\n",
    "\\newcommand{\\cov}{\\mathrm{cov} }\n",
    "\\newcommand{\\sgn}{\\mathrm{sgn} }\n",
    "\\newcommand{\\HS}{\\mathcal{L}_{\\mathrm{HS}} }\n",
    "%\\newcommand{\\HS}{\\mathrm{HS} }\n",
    "\\newcommand{\\trace}{\\mathrm{trace} }\n",
    "\\newcommand{\\LL}{\\mathcal{L} }\n",
    "%\\newcommand{\\LL}{\\mathrm{L} }\n",
    "\\newcommand{\\s}{\\mathcal{S} }\n",
    "%\\newcommand{\\ee}{\\mathcal{E} }\n",
    "\\newcommand{\\ff}{\\mathcal{F} }\n",
    "\\newcommand{\\hh}{\\mathcal{H} }\n",
    "\\newcommand{\\bb}{\\mathcal{B} }\n",
    "\\newcommand{\\dd}{\\mathcal{D} }\n",
    "\\newcommand{\\g}{\\mathcal{G} }\n",
    "\\newcommand{\\p}{\\partial}\n",
    "\\newcommand{\\half}{\\frac{1}{2} }\n",
    "\\newcommand{\\T}{\\mathcal{T} }\n",
    "\\newcommand{\\bi}{\\begin{itemize}}\n",
    "\\newcommand{\\ei}{\\end{itemize}}\n",
    "\\newcommand{\\beq}{\\begin{equation}}\n",
    "\\newcommand{\\eeq}{\\end{equation}}\n",
    "\\newcommand{\\beas}{\\begin{eqnarray*}}\n",
    "\\newcommand{\\eeas}{\\end{eqnarray*}}\n",
    "\\newcommand{\\cO}{\\mathcal{O}}\n",
    "\\newcommand{\\cF}{\\mathcal{F}}\n",
    "\\newcommand{\\cL}{\\mathcal{L}}\n",
    "\\newcommand{\\BS}{\\text{BS}}\n",
    "\\newcommand{\\ee}[1]{{\\mathbb{E}\\left[{#1}\\right]}}\n",
    "\\newcommand{\\eef}[1]{{\\mathbb{E}\\left[\\left.{#1}\\right|\\cF_t\\right]}}\n",
    "\\newcommand{\\eefm}[2]{{\\mathbb{E}^{#2}\\left[\\left.{#1}\\right|\\cF_t\\right]}}\n",
    "$$\n",
    "\n",
    "Consider the following fits of the Heston and SVJ models to the SPX volatility surface as of 15-Sep-2005:\n",
    "\n",
    "  |Heston|SVJ|\n",
    "-----|-----:|-------:|\n",
    "$v$ |0.0174 | 0.0158\n",
    "$\\bar v$ | 0.0354|  0.0439\n",
    "$\\eta$ |  0.3877|0.3038\n",
    "$\\rho$  | -0.7165 |-0.6974 \n",
    "$\\lambda$ |1.3253|0.5394 \n",
    "$\\lambda_J$| |0.1308\n",
    "$\\delta$ | |0.0967 \n",
    "$\\alpha$ ||-0.1151 \n",
    "\n",
    "(a)\n",
    "\n",
    "Using the function *bsvolPhi*, *phiHeston*, and the SVJ characteristic function code *phiSVJ* from Lecture 7, superimpose Heston and SVJ 1 year smiles with log-strikes from -1 to +1 with the above parameters. \n",
    "\n",
    "(b)\n",
    "\n",
    "Amend the function *plotIvols()* to superimpose Heston and SVJ smiles on the implied volatility smiles computed from the raw option data. \n",
    "\n",
    "(c)\n",
    "\n",
    "Comment briefly on the fits in a style suitable for your non-mathematical manager."
   ]
  },
  {
   "cell_type": "markdown",
   "metadata": {},
   "source": [
    "### <font color='blue'> Answer of Q1 </font>\n",
    "\n",
    "#### Answer of (a): Heston vs SVJ"
   ]
  },
  {
   "cell_type": "code",
   "execution_count": 6,
   "metadata": {
    "collapsed": true
   },
   "outputs": [],
   "source": [
    "# phiSVJ function from Lecture 7\n",
    "phiSVJ <- function(params){\n",
    "    \n",
    "    lambdaJ <- params$lambdaJ \n",
    "    alpha <- params$alpha \n",
    "    delta <- params$delta \n",
    "    \n",
    "    function(u, t){\n",
    "        psiu <- lambdaJ*(-1i*u*(exp(alpha+delta^2/2)-1) + (exp(1i*u*alpha-u^2*delta^2/2)-1))   \n",
    "        return(phiHeston(params)(u,t)*exp(psiu*t)) \n",
    "        }\n",
    "}"
   ]
  },
  {
   "cell_type": "code",
   "execution_count": 7,
   "metadata": {
    "collapsed": true
   },
   "outputs": [],
   "source": [
    "# Given parameters\n",
    "subHeston <- list(lambda = 1.3253,eta = 0.3877, rho = -0.7165, vbar = 0.0354,v = .0174)\n",
    "subSVJJ <- list(lambda = 0.5394,eta = 0.3038, rho = -0.6974, vbar = 0.0439,v = .0158, \n",
    "                lambdaJ = 0.1308, alpha = -0.1151, delta = 0.0967)"
   ]
  },
  {
   "cell_type": "code",
   "execution_count": 8,
   "metadata": {
    "collapsed": true
   },
   "outputs": [],
   "source": [
    "# vectorization\n",
    "# Given maturity: 1Y\n",
    "T <- 1\n",
    "volHeston<-function(k){sapply(k,function(k){bsvol(phiHeston(subHeston),k, t=T)})}\n",
    "volSVJ<-function(k){sapply(k,function(k){bsvol(phiSVJ(subSVJJ),k,t=T)})}"
   ]
  },
  {
   "cell_type": "code",
   "execution_count": 9,
   "metadata": {},
   "outputs": [
    {
     "data": {
      "image/png": "[encoded data removed]",
      "text/plain": [
       "plot without title"
      ]
     },
     "metadata": {},
     "output_type": "display_data"
    }
   ],
   "source": [
    "# Plot the two curve\n",
    "options(repr.plot.height=4,repr.plot.width=6)\n",
    "curve(volHeston(x),from=-1,to=1,col=\"blue\",ylab=\"Implied vol\", xlab=\"Log strike\")\n",
    "curve(volSVJ(x),from=-1,to=1,col=\"red\",add=TRUE,lty=2)\n",
    "legend(\"topright\",c(\"Heston\",\"SVJ\"),lty=c(1,2),bty='n', \n",
    "       y.intersp=2,cex=1,col=c(\"blue\", \"red\"))"
   ]
  },
  {
   "cell_type": "markdown",
   "metadata": {},
   "source": [
    "#### Answer of (b): plotvols"
   ]
  },
  {
   "cell_type": "code",
   "execution_count": 10,
   "metadata": {
    "collapsed": true
   },
   "outputs": [],
   "source": [
    "plotIvolsUpdated <- function(ivolData,slices=NULL){\n",
    "\n",
    "\tbidVols <- as.numeric(ivolData$Bid);\n",
    "\taskVols <- as.numeric(ivolData$Ask);\n",
    "\texpDates <- unique(ivolData$Texp);\n",
    "\tnSlices <- length(expDates);\n",
    "\tif(!is.null(slices)) {nSlices <- length(slices)} else {slices <- 1:nSlices};\n",
    "\tcolnum <- sqrt(nSlices*2);\n",
    "\trows <- round(colnum/2,0);\n",
    "\tcolumns <- round(colnum,0);\n",
    "\twhile(rows*columns < nSlices) {rows <- rows+1;}\n",
    "\n",
    "\t###############################################################################################################\n",
    "\t#Plot all the slices\n",
    "\tpar(mfrow=c(rows,columns),mex=0.5)\n",
    "\tfor (slice in slices){\n",
    "\t\tt <- expDates[slice];\n",
    "\t\ttexp <- ivolData$Texp;\n",
    "\t\tbidVol <- bidVols[texp==t];\n",
    "\t\taskVol <- askVols[texp==t];\n",
    "\t\tmidVol <- (bidVol+askVol)/2;\n",
    "\t\tf <- (ivolData$Fwd[texp==t])[1];\n",
    "\t\tk <- log(ivolData$Strike[texp==t]/f); # Plot vs log-strike\n",
    "\t\tinclude <- !is.na(bidVol);\n",
    "\t\tkmin <- min(k[include]);\n",
    "\t\tkmax <- max(k[include]);\n",
    "\t\tybottom <- 0.8*min(bidVol[include]);\n",
    "\t\tytop <- 1.2*max(askVol[include],na.rm=T);\n",
    "\t\txrange <- c(kmin,kmax);\n",
    "\t\tyrange <- c(ybottom,ytop);\n",
    "\n",
    "\t\tplot(k,bidVol,col=\"red\",pch=18,cex=.5, xlim=xrange,ylim=yrange,main=paste(\"T =\",format(t,digits=2,nsmall=2)),xlab=\"Log-Strike\",ylab=\"Implied Vol.\");\n",
    "        points(k,askVol,col=\"blue\",pch=18,cex=.5,xlim=xrange,ylim=yrange,main=NA,xlab=NA,ylab=NA);\n",
    "        \n",
    "        volHeston<-function(k){sapply(k,function(k){bsvol(phiHeston(subHeston),k, t)})}\n",
    "        volSVJ<-function(k){sapply(k,function(k){bsvol(phiSVJ(subSVJJ),k,t)})}\n",
    "        # Add lines addressing Heston and SVJ\n",
    "        lines(k,volHeston(k),col=\"orange\")\n",
    "        lines(k,volSVJ(k),col=\"purple\")\n",
    "        # Add legend\n",
    "        legend(\"topright\",c(\"Heston\",\"SVJ\"),lty=c(1,1),bty='n', \n",
    "               y.intersp=2,cex=1,col=c(\"orange\", \"purple\"))\n",
    "    }\n",
    "}"
   ]
  },
  {
   "cell_type": "code",
   "execution_count": 11,
   "metadata": {},
   "outputs": [
    {
     "data": {
      "image/png": "[encoded data removed]",
      "text/plain": [
       "Plot with title \"T = 1.75\""
      ]
     },
     "metadata": {},
     "output_type": "display_data"
    }
   ],
   "source": [
    "res_Q1b <- plotIvolsUpdated(spxOptData)"
   ]
  },
  {
   "cell_type": "markdown",
   "metadata": {},
   "source": [
    "#### Answer of (c): Comments on the plots above"
   ]
  },
  {
   "cell_type": "markdown",
   "metadata": {},
   "source": [
    "* As we can see, both Heston and SVJ fitted well for longer time to maturity. However, SVJ fitted much better than Heston for shorter time to maturity. \n",
    "\n",
    "* The main reason that SVJ fitted better than Heston in short time to maturity is that SVJ involves the jump effect, which describes the dynamics of short time to maturity quite well.\n",
    "\n",
    "* This observation is consistent with the notes in lecture #7: \n",
    ">\"Since jumps generate a steep short-dated skew that dies quickly with\n",
    "time to expiration and stochastic volatility models don’t generate\n",
    "enough skew for very short expirations but more or less fit for longer\n",
    "expirations, it is natural to try to combine stock price jumps and\n",
    "stochastic volatility in one model.\""
   ]
  },
  {
   "cell_type": "markdown",
   "metadata": {},
   "source": [
    "## Stochastic time change"
   ]
  },
  {
   "cell_type": "markdown",
   "metadata": {},
   "source": [
    "### 2. (8 points) \n",
    "\n",
    "Consider the following model of the stock price:\n",
    "\n",
    "$$\n",
    "S_t = S_0\\,\\exp\\left\\{\\sigma\\,W(\\tau_t)-\\frac12\\,\\sigma^2\\,\\tau_t\\right\\}\n",
    "$$\n",
    "\n",
    "where $W(\\tau_t)$ is time-changed Brownian motion.  The time-change $\\tau$ is given by\n",
    "\n",
    "$$\n",
    "\\tau_t = \n",
    "\\left\\{\n",
    "\\begin{array}{ll}\n",
    " \\theta_1\\,t& \\text{ with probability } 1/2  \\\\\n",
    "\\theta_2\\,t & \\text{ with probability } 1/2.\n",
    "\\end{array}\n",
    "\\right.\n",
    "$$\n",
    "\n",
    "Note that the time-change is independent of the Brownian motion $W$.\n",
    "\n",
    "(a)\n",
    "\n",
    "Compute the characteristic function \n",
    "\n",
    "$$\n",
    "\\phi_{\\tau_t}(u) = \\ee{e^{i\\,u\\,\\tau_t}}\n",
    "$$\n",
    "\n",
    "of the time-change.\n",
    "\n",
    "(b)\n",
    "\n",
    "Use equation (5) of Lecture 7 to compute the characteristic function \n",
    "\n",
    "$$\n",
    "\\phi_T(u) = \\ee{e^{i\\,u\\,x_T}}= \\frac 12 \\,\\left\\{e^{-\\frac12\\,u\\,(u+i)\\,\\sigma^2\\,\\theta_1\\,T}+ e^{-\\frac12\\,u\\,(u+i)\\,\\sigma^2\\,\\theta_2\\,T} \\right\\}.\n",
    "$$\n",
    "\n",
    "with $x_t = \\log S_t/S_0$.\n",
    "\n",
    "(c)\n",
    "\n",
    "Without explicit computation, deduce the fair value $C(S,K,T)$ of a European-style call option with strike $K$ and time to expiry $T$ in this model.\n",
    "\n",
    "Hint: Note that the characteristic function is the sum of two simple ones.\n",
    "\n",
    "(d) Rederive your result in part (c) by conditioning on total variance, Hull-White style."
   ]
  },
  {
   "cell_type": "markdown",
   "metadata": {},
   "source": [
    "### <font color='blue'> Answer of Q2 </font>\n",
    "\n",
    "#### Answer of (a): Compute the characteristic function"
   ]
  },
  {
   "cell_type": "markdown",
   "metadata": {},
   "source": [
    "* As the probabolity of two time-change $\\tau$ are both $1/2$, we have:\n",
    "\n",
    "$$\n",
    "\\begin{eqnarray*}\n",
    "\\phi_{\\tau_t}(u) &=& \\ee{e^{i\\,u\\,\\tau_t}}\\\\\n",
    "&=& \\frac{1}{2}e^{iu\\theta_1 t} + \\frac{1}{2}e^{iu\\theta_2 t}\n",
    "\\end{eqnarray*}\n",
    "$$"
   ]
  },
  {
   "cell_type": "markdown",
   "metadata": {},
   "source": [
    "#### Answer of (b)"
   ]
  },
  {
   "cell_type": "markdown",
   "metadata": {},
   "source": [
    "* With the notation of $x_t$, we have:\n",
    "\n",
    "$$\n",
    "x_T= \\log \\left(\\frac{S_T}{S_0}\\right)=\\sigma W(\\tau_T)-\\frac{1}{2}\\sigma^2 \\tau_T\n",
    "$$"
   ]
  },
  {
   "cell_type": "markdown",
   "metadata": {},
   "source": [
    "* Construct another process $y_t=\\sigma W(t) - \\frac{1}{2}\\sigma^2 t$, where $W(t)$ is the same Brownian motion as of $x_t$. Then we have: \n",
    "\n",
    "$$\n",
    "x_T=y_{\\tau_T}\n",
    "$$"
   ]
  },
  {
   "cell_type": "markdown",
   "metadata": {},
   "source": [
    "* From the construction of $y_t$, we know:\n",
    "\n",
    "$$\n",
    "y_t \\sim N\\left(-\\frac{1}{2}\\sigma^2, \\sigma^2\\right)\n",
    "$$\n",
    "\n",
    "* And \n",
    "\n",
    "$$\n",
    "\\psi_{y_t}(u)=\\log\\ee{e^{i\\,u\\,y_t}}=-\\frac{1}{2}iu\\sigma^2-\\frac{1}{2}u^2\\sigma^2=-\\frac{1}{2}u(u+i)\\sigma^2\n",
    "$$"
   ]
  },
  {
   "cell_type": "markdown",
   "metadata": {},
   "source": [
    "* Therefore, plug this into the equation (5) in Lecture #7, we have:\n",
    "\n",
    "$$\n",
    "\\begin{eqnarray*}\n",
    "\\phi_{\\tau_T}(u) &=&\\phi_T(u) \\\\\n",
    "&=&\\phi_{\\tau_T}\\left(-i\\psi_{y_T}(u)\\right)\\\\\n",
    "&=&\\phi_{\\tau_T}\\left(\\frac{1}{2}iu(u+i)\\sigma^2\\right)\\\\\n",
    "&=&\\frac{1}{2} \\,\\left\\{e^{-\\frac12\\,u\\,(u+i)\\,\\sigma^2\\,\\theta_1\\,T}+ e^{-\\frac12\\,u\\,(u+i)\\,\\sigma^2\\,\\theta_2\\,T} \\right\\}\n",
    "\\end{eqnarray*}\n",
    "$$"
   ]
  },
  {
   "cell_type": "markdown",
   "metadata": {},
   "source": [
    "#### Answer of (c): Fair-value of European call option"
   ]
  },
  {
   "cell_type": "markdown",
   "metadata": {},
   "source": [
    "* We can see that the characteristic function from (b) is the average of two Black-Scholes characteristic functions with different maturity ($\\theta_1 T$ and $\\theta_2 T$).\n",
    "\n",
    "* Recall the equation (6) in Lecture #6:\n",
    ">$$\n",
    "C(S,K,T)=S-\\sqrt{SK}\\frac{1}{\\pi}\\int_0^\\infty\\frac{du}{u^2+\\frac{1}{4}}\n",
    "\\,\\mathrm{Re}\\left[e^{-iuk}\\phi_T\\left(u-i/2\\right)\\right]\n",
    "$$"
   ]
  },
  {
   "cell_type": "markdown",
   "metadata": {},
   "source": [
    "* As the characteristic function in (b) is a simple averagre of two Black-Scholes characteristic functions, we can get the price of European call option as follows:\n",
    "\n",
    "$$\n",
    "C(S,K,T)=\\frac{1}{2}\\left\\{C_{BS}\\left(S,K,\\theta_1 T\\right) + C_{BS}\\left(S,K,\\theta_2 T\\right)\\right\\}\n",
    "$$"
   ]
  },
  {
   "cell_type": "markdown",
   "metadata": {},
   "source": [
    "#### Answer of (d):"
   ]
  },
  {
   "cell_type": "markdown",
   "metadata": {},
   "source": [
    "* With $w_T=\\int_0^T\\,v_t\\,dt$, we have:\n",
    "\n",
    "$$\n",
    "w_T = \n",
    "\\left\\{\n",
    "\\begin{array}{ll}\n",
    " \\sigma^2\\theta_1\\,T& \\text{ with probability } 1/2  \\\\\n",
    "\\sigma^2 \\theta_2\\,T & \\text{ with probability } 1/2.\n",
    "\\end{array}\n",
    "\\right.\n",
    "$$"
   ]
  },
  {
   "cell_type": "markdown",
   "metadata": {},
   "source": [
    "* Recall the formula (6) in Lecture #7, we have:\n",
    "\n",
    ">\\begin{eqnarray*}\n",
    "C(S,K,T) &=& C(k,v,T)\\\\\n",
    "&=&\\int\\,C_{BS}(k,w_T)\\,p(w_T)\\,dw_T\n",
    "\\end{eqnarray*}"
   ]
  },
  {
   "cell_type": "markdown",
   "metadata": {},
   "source": [
    "* Since the time-change is independent with the Brownian motion $W$, then the price $C(S,K,T)$ conditioned on total variance is:\n",
    "\n",
    "$$\n",
    "\\begin{eqnarray*}\n",
    "C(S,K,T)&=&\\int\\,C_{BS}(k,w_T)\\,p(w_T)\\,dw_T\\\\\n",
    "&=& \\frac{1}{2} \\left\\{ C_{BS}\\left(S,K,\\sigma\\sqrt{\\theta_1 T}\\right) + C_{BS}\\left(S,K,\\sigma\\sqrt{\\theta_2 T}\\right)\\right\\}\n",
    "\\end{eqnarray*}\n",
    "$$"
   ]
  }
 ],
 "metadata": {
  "kernelspec": {
   "display_name": "R",
   "language": "R",
   "name": "ir"
  },
  "language_info": {
   "codemirror_mode": "r",
   "file_extension": ".r",
   "mimetype": "text/x-r-source",
   "name": "R",
   "pygments_lexer": "r",
   "version": "3.4.1"
  }
 },
 "nbformat": 4,
 "nbformat_minor": 1
}
