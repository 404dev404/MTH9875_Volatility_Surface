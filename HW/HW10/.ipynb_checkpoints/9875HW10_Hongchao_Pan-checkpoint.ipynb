{
 "cells": [
  {
   "cell_type": "markdown",
   "metadata": {},
   "source": [
    "# MTH9875 Homework 10\n",
    "\n",
    "Assigned: November 2, 2017.\n",
    "Due: November 16, 2017 by 6pm.\n",
    "\n",
    "Late homework **will not be accepted**."
   ]
  },
  {
   "cell_type": "markdown",
   "metadata": {},
   "source": [
    "<font color = \"red\">Homework is to be done by each student individually.  To receive full credit, you must email a completed copy of this iPython notebook to Victor Istratov (stavka@gmail.com), Yassine Ghalem (yassine.ghalem@gmail.com) and Jim Gatheral (jim.gatheral@gmail.com) by the due date and time.  All R-code must run correctly and solutions must be written up neatly in Markdown/LaTeX format."
   ]
  },
  {
   "cell_type": "markdown",
   "metadata": {},
   "source": [
    "* Author: Hongchao Pan\n",
    "* Kernel Version: R 3.3.2\n",
    "* Packages/Libraries: repr\n",
    "* Notes:\n"
   ]
  },
  {
   "cell_type": "markdown",
   "metadata": {},
   "source": [
    "### 0. (0 points)\n",
    "\n",
    "Read Chapter 11 of The Volatility Surface"
   ]
  },
  {
   "cell_type": "markdown",
   "metadata": {},
   "source": [
    "### As usual, set up your R-environment\n",
    "\n",
    "The following code sources *BlackScholes.R* which has the Black-Scholes formula and implied volatility computation and *Heston2.R* which has in particular the *impvolHeston* function."
   ]
  },
  {
   "cell_type": "code",
   "execution_count": 1,
   "metadata": {},
   "outputs": [],
   "source": [
    "download.file(url=\"http://mfe.baruch.cuny.edu/wp-content/uploads/2017/10/BlackScholes.R.zip\", destfile=\"BlackScholes.R.zip\")\n",
    "unzip(zipfile=\"BlackScholes.R.zip\")\n",
    "source(\"BlackScholes.R\")\n",
    "source(\"Heston2.R\")\n",
    "library(repr)\n",
    "options(repr.plot.height=5)"
   ]
  },
  {
   "cell_type": "markdown",
   "metadata": {},
   "source": [
    "## The gamma swap"
   ]
  },
  {
   "cell_type": "markdown",
   "metadata": {},
   "source": [
    "### 1. (8 points)\n",
    "$$\n",
    "\\newcommand{\\supp}{\\mathrm{supp}}\n",
    "\\newcommand{\\E}{\\mathbb{E} }\n",
    "\\def\\Cov{{ \\mbox{Cov} }}\n",
    "\\def\\Var{{ \\mbox{Var} }}\n",
    "\\newcommand{\\1}{\\mathbf{1} }\n",
    "\\newcommand{\\PP}{\\mathbb{P} }\n",
    "%\\newcommand{\\Pr}{\\mathrm{Pr} }\n",
    "\\newcommand{\\QQ}{\\mathbb{Q} }\n",
    "\\newcommand{\\RR}{\\mathbb{R} }\n",
    "\\newcommand{\\DD}{\\mathbb{D} }\n",
    "\\newcommand{\\HH}{\\mathbb{H} }\n",
    "\\newcommand{\\spn}{\\mathrm{span} }\n",
    "\\newcommand{\\cov}{\\mathrm{cov} }\n",
    "\\newcommand{\\sgn}{\\mathrm{sgn} }\n",
    "\\newcommand{\\HS}{\\mathcal{L}_{\\mathrm{HS}} }\n",
    "%\\newcommand{\\HS}{\\mathrm{HS} }\n",
    "\\newcommand{\\trace}{\\mathrm{trace} }\n",
    "\\newcommand{\\LL}{\\mathcal{L} }\n",
    "%\\newcommand{\\LL}{\\mathrm{L} }\n",
    "\\newcommand{\\s}{\\mathcal{S} }\n",
    "\\newcommand{\\ee}{\\mathcal{E} }\n",
    "\\newcommand{\\ff}{\\mathcal{F} }\n",
    "\\newcommand{\\hh}{\\mathcal{H} }\n",
    "\\newcommand{\\bb}{\\mathcal{B} }\n",
    "\\newcommand{\\dd}{\\mathcal{D} }\n",
    "\\newcommand{\\g}{\\mathcal{G} }\n",
    "\\newcommand{\\p}{\\partial}\n",
    "\\newcommand{\\half}{\\frac{1}{2} }\n",
    "\\newcommand{\\T}{\\mathcal{T} }\n",
    "\\newcommand{\\bi}{\\begin{itemize}}\n",
    "\\newcommand{\\ei}{\\end{itemize}}\n",
    "\\newcommand{\\beq}{\\begin{equation}}\n",
    "\\newcommand{\\eeq}{\\end{equation}}\n",
    "\\newcommand{\\beas}{\\begin{eqnarray*}}\n",
    "\\newcommand{\\eeas}{\\end{eqnarray*}}\n",
    "\\newcommand{\\cO}{\\mathcal{O}}\n",
    "\\newcommand{\\cF}{\\mathcal{F}}\n",
    "\\newcommand{\\cL}{\\mathcal{L}}\n",
    "$$\n",
    "\n",
    "Assume a stock process of the form\n",
    "\n",
    "$$\n",
    "\\frac{dS_t}{S_t}=\\sigma_t\\,dZ_t\n",
    "$$\n",
    "\n",
    "where $\\sigma_t$ may be stochastic.\n",
    "\n",
    "A continuous time version of the payoff of a gamma swap is\n",
    "$\n",
    "\\int_0^T\\,S_t\\,\\sigma_t^2\\,dt\n",
    "$.\n",
    "\n",
    "(a)\n",
    "\n",
    "Compute $d(S_t\\,\\log S_t)$ using Itô's Lemma.\n",
    "\n",
    "(b)\n",
    "\n",
    "Deduce the semi-static model-free hedging strategy involving a static hedge in European options and continuous rebalancing in the stock. \n",
    "\n",
    "(c) \n",
    "\n",
    "Using the spanning formula, derive an expression for the weights of the options in the static hedge."
   ]
  },
  {
   "cell_type": "markdown",
   "metadata": {},
   "source": [
    "<font color='blue'>\n",
    "### Answer of Q1\n",
    "\n",
    "#### Answer of (a)"
   ]
  },
  {
   "cell_type": "markdown",
   "metadata": {},
   "source": [
    "* Apply Ito's Lemma to $S_t\\log S_t$, we have:\n",
    "\n",
    "$$\n",
    "\\begin{eqnarray*}\n",
    "d(S_t\\log S_t)&=&(1+\\log S_t)dS_t+\\frac{1}{2}\\frac{1}{S_t}dS_tdS_t\\\\\n",
    "&=&(1+\\log S_t)dS_t+\\frac{1}{2}S_t\\sigma_t^2dt\n",
    "\\end{eqnarray*}\n",
    "$$"
   ]
  },
  {
   "cell_type": "markdown",
   "metadata": {},
   "source": [
    "<font color='blue'>\n",
    "#### Answer of (b) "
   ]
  },
  {
   "cell_type": "markdown",
   "metadata": {},
   "source": [
    "* Integrate the formula in (a) on both sides, we have:\n",
    "\n",
    "$$\n",
    "S_T\\log S_T-S_0\\log S_0=\\int_0^T (1+\\log S_t)dS_t+\\frac{1}{2}\\int_0^T\\sigma_t^2S_tdt\n",
    "$$\n",
    "\n",
    "$\\Rightarrow$\n",
    "$$\n",
    "\\int_0^T\\sigma_t^2S_tdt=2S_T\\log S_T-2S_0\\log S_0-2\\int_0^T (1+\\log S_t)dS_t\n",
    "$$"
   ]
  },
  {
   "cell_type": "markdown",
   "metadata": {},
   "source": [
    "* Therefore, we have a hedging stratege contains following items\n",
    "\n",
    "    * Static replication of $2 S_T \\log S_T$ using European Options (static hedge in European options)\n",
    "    \n",
    "    * Short $2 S_0 \\log S_0$ in cash\n",
    "\n",
    "    * Dynamically keeping a short position of $2 (1 + \\log S_t)$ shares in stock (continuous rebalancing in the stock)\n",
    "\n",
    "    "
   ]
  },
  {
   "cell_type": "markdown",
   "metadata": {},
   "source": [
    "<font color='blue'>\n",
    "#### Answer of (c)"
   ]
  },
  {
   "cell_type": "markdown",
   "metadata": {},
   "source": [
    "* From lecture 10, we know the spanning formula is:\n",
    "\n",
    "$$\n",
    "g(S_T)=\\int_0^F\\,g''(K)\\,(K-S_T)^+\\,dK + \\int_F^\\infty\\,g''(K)\\,(S_T-K)^+\\,dK\\nonumber+ g(F)  + g'(F)\\,(S_T-F)\n",
    "$$"
   ]
  },
  {
   "cell_type": "markdown",
   "metadata": {},
   "source": [
    "* With $F=\\E[S_T]$, \n",
    "\n",
    "$$\n",
    "\\begin{eqnarray*}\n",
    " \\mathbb{E} \\left[ g(S_T)\\right]\n",
    " =g(F)\\,+\\,\\int _0 ^F \\, dK \\, \\tilde\n",
    " P(K)\\,g''(K)\\,+\\,\\int _F ^\\infty \\, dK \\,\n",
    "  \\tilde C(K)\\,g''(K)\n",
    "\\end{eqnarray*}\n",
    "$$"
   ]
  },
  {
   "cell_type": "markdown",
   "metadata": {},
   "source": [
    "* From the static hedge in European options in part (b), we know $g(S_T)=2S_T\\log S_T$. Therefore,\n",
    "\n",
    "$$\n",
    "g''(S_T)=\\frac{2}{S_T}\n",
    "$$\n",
    "\n",
    "$$\n",
    "g''(K)=\\frac{2}{K}\n",
    "$$\n",
    "\n",
    "* Thus, the weights of options in static hedge is $\\frac{2}{K}$"
   ]
  },
  {
   "cell_type": "markdown",
   "metadata": {},
   "source": [
    "## Demonstrate replication path-by-path"
   ]
  },
  {
   "cell_type": "markdown",
   "metadata": {},
   "source": [
    "### 2. (8 points) \n",
    "\n",
    "(a)\n",
    "\n",
    "Amend (for example) the stochastic volatility and local volatility Monte Carlo codes (*HestonMCxmax* and *HestonLvMCxmax* respectively) from Lecture 10, with the same HN parameters:\n",
    "\n",
    "$$\n",
    "\\begin{eqnarray*} v&=& 0.04\\\\ \\bar v &=& 0.04\\\\ \\lambda&=&10\\\\\n",
    "\\eta&=&1\\\\\\rho&=&-1\n",
    "\\end{eqnarray*}\n",
    "$$\n",
    "\n",
    "to demonstrate that the \n",
    "variance swap hedging strategy outlined on page 136 of *The\n",
    "Volatility Surface* replicates the variance swap payoff path-by-path independently of the dynamical assumptions.  Assume a 1-year variance swap, use 252 time steps and 1,000 paths.  \n",
    "\n",
    "(b) \n",
    "\n",
    "Compute the means and standard deviations of the hedging errors.\n",
    "\n",
    "(c)\n",
    "\n",
    "Draw histograms of the final replication errors under stochastic volatility and local volatility assumptions."
   ]
  },
  {
   "cell_type": "markdown",
   "metadata": {},
   "source": [
    "<font color='blue'>\n",
    "### Answer of Q2\n",
    "\n",
    "#### Answer of (a)"
   ]
  },
  {
   "cell_type": "code",
   "execution_count": 2,
   "metadata": {
    "collapsed": true
   },
   "outputs": [],
   "source": [
    "# evolve function\n",
    "evolveAlfonsiF <- function(v,x,dt,W1,W2,L){\n",
    "  \n",
    "  eldt2 <- exp(-lambda*dt/2);\n",
    "  \n",
    "  #Variance process \n",
    "  vbarp <- vbar - eta^2/(4*lambda);\n",
    "  psi <- (1-eldt2)/lambda;\n",
    "  v1 <- v*eldt2+lambda*vbarp*psi;\n",
    "  v2 <- (v1 > 0) * v1; # Take v2 = 0 if v1<0, else v2=v1\n",
    "  par <- sqrt(v2) + eta/2 * sqrt(dt)*W2;\n",
    "  vf <- eldt2*par*par +lambda*vbarp*psi + v1 - v2;\n",
    "  # Full truncation\n",
    "  \n",
    "  # Log-stock process (Andersen equation (33))\n",
    "  vvf <- (v+vf > 0) * (v+vf);\n",
    "  dw <- vvf/2*dt;\n",
    "  x <- x  - dw/2 + rho2m1*sqrt(dw)*W1 +\n",
    "    rho/eta*(lambda*dw + vf-v -lambda*vbar*dt) ;\n",
    "  # Impose martingale constraint\n",
    "  x <- x - log(mean(exp(x)));\n",
    "  v <- vf;\n",
    "  return(cbind(x,v));\n",
    "}"
   ]
  },
  {
   "cell_type": "code",
   "execution_count": 3,
   "metadata": {
    "collapsed": true
   },
   "outputs": [],
   "source": [
    "# HestonMCxmax function\n",
    "HestonMCxmax <- function(params){\n",
    "\n",
    "  is.even <- function(j){as.logical((j+1) %% 2)}\n",
    "  \n",
    "  res <- function(S0, T, AK, N, m, evolve,exactVols=NULL)\n",
    "  {\n",
    "    \n",
    "    lambda <<- params$lambda \n",
    "    rho <<- params$rho \n",
    "    eta <<- params$eta \n",
    "    vbar <<- params$vbar \n",
    "    v0 <<- params$v \n",
    "    \n",
    "    n <- m*2  #n is number of timesteps = 2*m so we can use Romberg extrapolation\n",
    "    sqrt2 <- sqrt(2) \n",
    "    rho2m1 <<- sqrt(1-rho*rho) \n",
    "    vbarp <<- vbar - eta^2/(4*lambda) \n",
    "    \n",
    "    negCount <- 0 \n",
    "    \n",
    "    # We use a vertical array, one element per M.C. path\n",
    "    x <- numeric(N);  v <- rep(1,N)*v0  \n",
    "    xmax <- x \n",
    "    xm <- x  \n",
    "    vm <- v\n",
    "    xmaxm <- xmax \n",
    "    xmin <- numeric(N)  \n",
    "    xminm <- numeric(N) \n",
    "    W1m <- numeric(N) \n",
    "    W2m <- numeric(N)\n",
    "    \n",
    "    ### variance swap\n",
    "    varswap<-numeric(N)\n",
    "    varswap_rep<-numeric(N)\n",
    "      \n",
    "    \n",
    "    # Loop for bias computation (N small, n big)\n",
    "    for (i in 1:n)\n",
    "    {\n",
    "      # Two sets of correlated normal random vars.\n",
    "      \n",
    "      W1 <- rnorm(N) \n",
    "      W2 <- rnorm(N) \n",
    "      W1 <- W1 - mean(W1)\n",
    "      W1 <- W1/sd(W1) \n",
    "      W2 <- W2 - mean(W2)\n",
    "      W2 <- W2/sd(W2) \n",
    "      # Now W1 and W2 are forced to have mean=0 and sd=1\n",
    "      \n",
    "      W2p <- W2 - cor(W1,W2)*W1  # Eliminate actual correlation\n",
    "      W2p <- W2p - mean(W2p)  \n",
    "      W2 <- W2p/sd(W2p)  \n",
    "      # Now W1 and W2 have mean=0, sd=1 and correlation=0\n",
    "      \n",
    "      L <- rbinom(N, size=1, prob=1/2)  # Bernoulli rv for NV step\n",
    "      \n",
    "      # Add code for subgrid\n",
    "      W1m <- W1m + W1/sqrt2\n",
    "      W2m <- W2m + W2/sqrt2  # N(0,1) rv's for subgrid\n",
    "      \n",
    "      if (is.even(i)) {\n",
    "        #print(c(i,mean(W1m),mean(W2m),sd(W1m),sd(W2m),cor(W1m,W2m))) \n",
    "        resm <- evolve(vm,xm,T/m,W1m,W2m,L) \n",
    "        xnewm <- resm[,1] \n",
    "        xmaxm <- (xnewm>xmaxm)*(xnewm-xmaxm)+xmaxm \n",
    "        xminm <- (xnewm<xminm)*(xnewm-xminm)+xminm \n",
    "        xm <- xnewm \n",
    "        vm <- resm[,2] \n",
    "        W1m <- numeric(N)  \n",
    "        W2m <- numeric(N) \n",
    "      }\n",
    "      \n",
    "      res <- evolve(v,x,T/n,W1,W2,L) \n",
    "      xnew <- res[,1] \n",
    "      xmax <- (xnew>xmax)*(xnew-xmax)+xmax \n",
    "      xmin <- (xnew<xmin)*(xnew-xmin)+xmin\n",
    "      xold<-x\n",
    "      x <- xnew \n",
    "      v <- res[,2]\n",
    "      varswap<-varswap+v*T/n\n",
    "      varswap_rep<-varswap_rep+(exp(x)-exp(xold))/exp(xold)\n",
    "      \n",
    "    }\n",
    "    varswap_rep<-2*varswap_rep-2*log(exp(x)/S0)\n",
    "      \n",
    "    return(data.frame(x,xm,v,vm,xmax,xmaxm,xmin,xminm,varswap,varswap_rep)) \n",
    "    \n",
    "  }\n",
    "  return(res) \n",
    "}\n"
   ]
  },
  {
   "cell_type": "code",
   "execution_count": 4,
   "metadata": {
    "collapsed": true
   },
   "outputs": [],
   "source": [
    "# HestonLvMCxmax function\n",
    "# Monte Carlo with Richardson extrapolation\n",
    "HestonLvMCxmax <- function(params){\n",
    "\n",
    "  is.even <- function(j){as.logical((j+1) %% 2)}\n",
    "  \n",
    "  res <- function(S0, T, N, m)\n",
    "  {\n",
    "    \n",
    "    lambda <- params$lambda;\n",
    "    rho <- params$rho;\n",
    "    eta <- params$eta;\n",
    "    vbar <- params$vbar;\n",
    "    v0 <- params$v;\n",
    "    \n",
    "    lambdap <- lambda+eta/2;\n",
    "    vbarp <- vbar*lambda/lambdap;\n",
    "    \n",
    "    n <- m*2;\n",
    "    dt <- T/n;\n",
    "    dtm <- dt*2;\n",
    "    \n",
    "    sqrtdt <- sqrt(dt);\n",
    "    sqrtdtm <- sqrt(dtm);\n",
    "    sqrt2 <- sqrt(2);\n",
    "    \n",
    "    # We use a vertical array, one element per M.C. path\n",
    "    x <- numeric(N); vloc <- rep(v0,N); \n",
    "    xm <- numeric(N); vlocm <- rep(v0,N); \n",
    "    xmax <- numeric(N); xmaxm <- numeric(N);\n",
    "    xmin <- numeric(N); xminm <- numeric(N);\n",
    "    W1m <- numeric(N);\n",
    "      \n",
    "    ### variance swap\n",
    "    varswap<-numeric(N)\n",
    "    varswap_rep<-numeric(N)\n",
    "    \n",
    "    # Loop over timesteps\n",
    "    for (i in 1:n)\n",
    "    {\n",
    "      W1 <- rnorm(N);\n",
    "      W1 <- W1 - mean(W1); W1 <- W1/sd(W1);\n",
    "      # Now W1 is forced to have mean=0 and sd=1  \n",
    "      \n",
    "      # Add code for subgrid\n",
    "      W1m <- W1m + W1/sqrt2; # N(0,1) rv's for subgrid\n",
    "      \n",
    "      # Compute local variance from formula 4.1 of TVS\n",
    "      ti <- i*dt;\n",
    "      elti <- exp(-lambdap*ti);\t\n",
    "      vlocf <- (v0-vbarp)*elti+vbarp-eta*x*(1-elti)/(lambdap*ti);\n",
    "      vlocf <- (vlocf>=0)*vlocf;\n",
    "      \n",
    "      # Approximate integrated variance\n",
    "      w <- (vlocf +vloc)/2*dt;\n",
    "      \n",
    "      xnew <- x - w/2 + sqrt(w)*W1;\n",
    "      xmax <- (xnew>xmax)*(xnew-xmax)+xmax;\n",
    "      xmin <- (xnew<xmin)*(xnew-xmin)+xmin;\n",
    "      xold<-x\n",
    "      x <- xnew;\n",
    "      vloc <- vlocf;\n",
    "      \n",
    "      varswap<-varswap+vloc*T/n\n",
    "      varswap_rep<-varswap_rep+(exp(xnew)-exp(xold))/exp(xold)\n",
    "      \n",
    "      \n",
    "      if (is.even(i)) {\n",
    "        \n",
    "        vlocfm <- (v0-vbarp)*elti+vbarp-eta*xm*(1-elti)/(lambdap*ti);\n",
    "        vlocfm <- (vlocfm>=0)*vlocfm;\n",
    "        \n",
    "        wm <- (vlocfm+vlocm)/2*dtm;\n",
    "        xnewm <- xm - wm/2 + sqrt(wm)*W1m;\n",
    "        xmaxm <- (xnewm>xmaxm)*(xnewm-xmaxm)+xmaxm;\n",
    "        xminm <- (xnewm<xminm)*(xnewm-xminm)+xminm;\n",
    "        xm <- xnewm;\n",
    "        vlocm <- vlocf;\n",
    "        W1m <- numeric(N);\n",
    "      } \n",
    "      \n",
    "      \n",
    "    }\n",
    "    \n",
    "    varswap_rep<-2*varswap_rep-2*log(exp(x)/S0)\n",
    "    \n",
    "    return(data.frame(x,xm,vloc,vlocm,xmax,xmaxm,xmin, xminm,varswap,varswap_rep));\n",
    "    \n",
    "  }\n",
    "  return(res);\n",
    "}\n"
   ]
  },
  {
   "cell_type": "code",
   "execution_count": 5,
   "metadata": {
    "collapsed": true
   },
   "outputs": [],
   "source": [
    "# Given HN parameters\n",
    "paramsHN <- list(lambda = 10,rho = -1,eta = 1,vbar = 0.04,v = 0.04)"
   ]
  },
  {
   "cell_type": "code",
   "execution_count": 6,
   "metadata": {
    "collapsed": true
   },
   "outputs": [],
   "source": [
    "# Generate samples based on local vol and stochastic vol models\n",
    "# 1Y, 1000 paths, 252 time steps\n",
    "sampleLV <- HestonLvMCxmax(paramsHN)(S0=1, T=1, N=1000, m=252/2)\n",
    "sampleSV <- HestonMCxmax(paramsHN)(S0=1, T=1, N=1000, m=252/2,evolve=evolveAlfonsiF)"
   ]
  },
  {
   "cell_type": "code",
   "execution_count": 7,
   "metadata": {
    "collapsed": true
   },
   "outputs": [],
   "source": [
    "# Replicate the variance swap\n",
    "varswap_LV<-mean(sampleLV$varswap)\n",
    "varswap_LV_rep<-mean(sampleLV$varswap_rep)\n",
    "varswap_SV<-mean(sampleSV$varswap)\n",
    "varswap_SV_rep<-mean(sampleSV$varswap_rep)\n"
   ]
  },
  {
   "cell_type": "code",
   "execution_count": 8,
   "metadata": {},
   "outputs": [
    {
     "data": {
      "text/html": [
       "<table>\n",
       "<thead><tr><th scope=col>Monte Carlo Method</th><th scope=col>Variance Swap</th><th scope=col>Replicated Variance Swap</th><th scope=col>Hedging Error</th></tr></thead>\n",
       "<tbody>\n",
       "\t<tr><td>Local Volatility MC     </td><td>0.0401698705842509      </td><td>0.040113476802718       </td><td>-5.63937815329235e-05   </td></tr>\n",
       "\t<tr><td>Stochastic Volatility MC</td><td>0.0397571538682004      </td><td>0.0397028525066543      </td><td>-5.43013615461954e-05   </td></tr>\n",
       "</tbody>\n",
       "</table>\n"
      ],
      "text/latex": [
       "\\begin{tabular}{r|llll}\n",
       " Monte Carlo Method & Variance Swap & Replicated Variance Swap & Hedging Error\\\\\n",
       "\\hline\n",
       "\t Local Volatility MC      & 0.0401698705842509       & 0.040113476802718        & -5.63937815329235e-05   \\\\\n",
       "\t Stochastic Volatility MC & 0.0397571538682004       & 0.0397028525066543       & -5.43013615461954e-05   \\\\\n",
       "\\end{tabular}\n"
      ],
      "text/markdown": [
       "\n",
       "Monte Carlo Method | Variance Swap | Replicated Variance Swap | Hedging Error | \n",
       "|---|---|\n",
       "| Local Volatility MC      | 0.0401698705842509       | 0.040113476802718        | -5.63937815329235e-05    | \n",
       "| Stochastic Volatility MC | 0.0397571538682004       | 0.0397028525066543       | -5.43013615461954e-05    | \n",
       "\n",
       "\n"
      ],
      "text/plain": [
       "  Monte Carlo Method       Variance Swap      Replicated Variance Swap\n",
       "1 Local Volatility MC      0.0401698705842509 0.040113476802718       \n",
       "2 Stochastic Volatility MC 0.0397571538682004 0.0397028525066543      \n",
       "  Hedging Error        \n",
       "1 -5.63937815329235e-05\n",
       "2 -5.43013615461954e-05"
      ]
     },
     "metadata": {},
     "output_type": "display_data"
    }
   ],
   "source": [
    "# Result of (a)\n",
    "# Save the results in a dataframe\n",
    "res_qa <- data.frame(matrix(ncol=4,nrow=2))\n",
    "res_qa[1,] <- c(\"Local Volatility MC\",varswap_LV,varswap_LV_rep,varswap_LV_rep-varswap_LV)\n",
    "res_qa[2,] <- c(\"Stochastic Volatility MC\",varswap_SV,varswap_SV_rep,varswap_SV_rep-varswap_SV)\n",
    "# Rename the column names\n",
    "colnames(res_qa) <- c(\"Monte Carlo Method\",\"Variance Swap\",\"Replicated Variance Swap\",\"Hedging Error\")\n",
    "res_qa"
   ]
  },
  {
   "cell_type": "markdown",
   "metadata": {},
   "source": [
    "<font color='blue'>\n",
    "#### Answer of (b)"
   ]
  },
  {
   "cell_type": "code",
   "execution_count": 9,
   "metadata": {},
   "outputs": [
    {
     "data": {
      "text/html": [
       "<table>\n",
       "<thead><tr><th scope=col>Monte Carlo Method</th><th scope=col>Mean of Heding Error</th><th scope=col>Standard Deviation of Hedging Error</th></tr></thead>\n",
       "<tbody>\n",
       "\t<tr><td>Local Volatility MC     </td><td>-5.63937815329175e-05   </td><td>0.00426004573292815     </td></tr>\n",
       "\t<tr><td>Stochastic Volatility MC</td><td>-5.43013615461944e-05   </td><td>0.00543683326200917     </td></tr>\n",
       "</tbody>\n",
       "</table>\n"
      ],
      "text/latex": [
       "\\begin{tabular}{r|lll}\n",
       " Monte Carlo Method & Mean of Heding Error & Standard Deviation of Hedging Error\\\\\n",
       "\\hline\n",
       "\t Local Volatility MC      & -5.63937815329175e-05    & 0.00426004573292815     \\\\\n",
       "\t Stochastic Volatility MC & -5.43013615461944e-05    & 0.00543683326200917     \\\\\n",
       "\\end{tabular}\n"
      ],
      "text/markdown": [
       "\n",
       "Monte Carlo Method | Mean of Heding Error | Standard Deviation of Hedging Error | \n",
       "|---|---|\n",
       "| Local Volatility MC      | -5.63937815329175e-05    | 0.00426004573292815      | \n",
       "| Stochastic Volatility MC | -5.43013615461944e-05    | 0.00543683326200917      | \n",
       "\n",
       "\n"
      ],
      "text/plain": [
       "  Monte Carlo Method       Mean of Heding Error \n",
       "1 Local Volatility MC      -5.63937815329175e-05\n",
       "2 Stochastic Volatility MC -5.43013615461944e-05\n",
       "  Standard Deviation of Hedging Error\n",
       "1 0.00426004573292815                \n",
       "2 0.00543683326200917                "
      ]
     },
     "metadata": {},
     "output_type": "display_data"
    }
   ],
   "source": [
    "# Compute the mean and standard deviation of heding error\n",
    "res_qb <- data.frame(matrix(ncol=3,nrow=2))\n",
    "res_qb[1,] <- c(\"Local Volatility MC\", mean(sampleLV$varswap_rep-sampleLV$varswap),\n",
    "                sd(sampleLV$varswap_rep-sampleLV$varswap))\n",
    "res_qb[2,] <- c(\"Stochastic Volatility MC\", mean(sampleSV$varswap_rep-sampleSV$varswap),\n",
    "                sd(sampleSV$varswap_rep-sampleSV$varswap))\n",
    "# Rename the column names\n",
    "colnames(res_qb) <- c(\"Monte Carlo Method\",\"Mean of Heding Error\",\"Standard Deviation of Hedging Error\")\n",
    "res_qb"
   ]
  },
  {
   "cell_type": "markdown",
   "metadata": {},
   "source": [
    "<font color='blue'>\n",
    "#### Answer of (c)"
   ]
  },
  {
   "cell_type": "code",
   "execution_count": 10,
   "metadata": {
    "collapsed": true
   },
   "outputs": [],
   "source": [
    "# Compute the hedging errors\n",
    "hedgingError_LV <- sampleLV$varswap_rep-sampleLV$varswap\n",
    "hedgingError_SV <- sampleSV$varswap_rep-sampleSV$varswap"
   ]
  },
  {
   "cell_type": "code",
   "execution_count": 11,
   "metadata": {},
   "outputs": [
    {
     "data": {
      "image/png": "[encoded data removed]",
      "text/plain": [
       "Plot with title \"Histogram of replication error under local volatility Monte Carlo\""
      ]
     },
     "metadata": {},
     "output_type": "display_data"
    }
   ],
   "source": [
    "# Plot the histogram of hedging errors\n",
    "options(repr.plot.height=5,repr.plot.width=8)\n",
    "# Local volatility\n",
    "hist(hedgingError_LV,xlab=\"Replication Error\", main=\"Histogram of replication error under local volatility Monte Carlo\")"
   ]
  },
  {
   "cell_type": "code",
   "execution_count": 12,
   "metadata": {},
   "outputs": [
    {
     "data": {
      "image/png": "[encoded data removed]",
      "text/plain": [
       "Plot with title \"Histogram of replication error under stochastic volatility Monte Carlo\""
      ]
     },
     "metadata": {},
     "output_type": "display_data"
    }
   ],
   "source": [
    "# Stochastic volatility\n",
    "hist(hedgingError_SV,xlab=\"Replication Error\", main=\"Histogram of replication error under stochastic volatility Monte Carlo\")"
   ]
  },
  {
   "cell_type": "markdown",
   "metadata": {},
   "source": [
    "### 3. (6 points) \n",
    "\n",
    "Repeat Problem 2 for a gamma swap with the static hedge you derived for the gamma swap in Problem 1."
   ]
  },
  {
   "cell_type": "markdown",
   "metadata": {},
   "source": [
    "<font color='blue'>\n",
    "### Answer of Q3\n",
    "\n",
    "#### Answer of (a)"
   ]
  },
  {
   "cell_type": "markdown",
   "metadata": {},
   "source": [
    "* From Q1, we know the gamma swap is:\n",
    "$$\n",
    "\\int_0^T\\sigma_t^2S_tdt=2S_T\\log S_T-2S_0\\log S_0-2\\int_0^T (1+\\log S_t)dS_t\n",
    "$$"
   ]
  },
  {
   "cell_type": "markdown",
   "metadata": {},
   "source": [
    "* Therefore, repeat the process in Q2, we have:"
   ]
  },
  {
   "cell_type": "code",
   "execution_count": 13,
   "metadata": {
    "collapsed": true
   },
   "outputs": [],
   "source": [
    "# evolve function\n",
    "evolveAlfonsiF <- function(v,x,dt,W1,W2,L){\n",
    "  \n",
    "  eldt2 <- exp(-lambda*dt/2);\n",
    "  \n",
    "  #Variance process \n",
    "  vbarp <- vbar - eta^2/(4*lambda);\n",
    "  psi <- (1-eldt2)/lambda;\n",
    "  v1 <- v*eldt2+lambda*vbarp*psi;\n",
    "  v2 <- (v1 > 0) * v1; # Take v2 = 0 if v1<0, else v2=v1\n",
    "  par <- sqrt(v2) + eta/2 * sqrt(dt)*W2;\n",
    "  vf <- eldt2*par*par +lambda*vbarp*psi + v1 - v2;\n",
    "  # Full truncation\n",
    "  \n",
    "  # Log-stock process (Andersen equation (33))\n",
    "  vvf <- (v+vf > 0) * (v+vf);\n",
    "  dw <- vvf/2*dt;\n",
    "  x <- x  - dw/2 + rho2m1*sqrt(dw)*W1 +\n",
    "    rho/eta*(lambda*dw + vf-v -lambda*vbar*dt) ;\n",
    "  # Impose martingale constraint\n",
    "  x <- x - log(mean(exp(x)));\n",
    "  v <- vf;\n",
    "  return(cbind(x,v));\n",
    "}"
   ]
  },
  {
   "cell_type": "code",
   "execution_count": 14,
   "metadata": {
    "collapsed": true
   },
   "outputs": [],
   "source": [
    "# HestonMCxmax function\n",
    "HestonMCxmax <- function(params){\n",
    "\n",
    "  is.even <- function(j){as.logical((j+1) %% 2)}\n",
    "  \n",
    "  res <- function(S0, T, AK, N, m, evolve,exactVols=NULL)\n",
    "  {\n",
    "    \n",
    "    lambda <<- params$lambda \n",
    "    rho <<- params$rho \n",
    "    eta <<- params$eta \n",
    "    vbar <<- params$vbar \n",
    "    v0 <<- params$v \n",
    "    \n",
    "    n <- m*2  #n is number of timesteps = 2*m so we can use Romberg extrapolation\n",
    "    sqrt2 <- sqrt(2) \n",
    "    rho2m1 <<- sqrt(1-rho*rho) \n",
    "    vbarp <<- vbar - eta^2/(4*lambda) \n",
    "    \n",
    "    negCount <- 0 \n",
    "    \n",
    "    # We use a vertical array, one element per M.C. path\n",
    "    x <- numeric(N);  v <- rep(1,N)*v0  \n",
    "    xmax <- x \n",
    "    xm <- x  \n",
    "    vm <- v\n",
    "    xmaxm <- xmax \n",
    "    xmin <- numeric(N)  \n",
    "    xminm <- numeric(N) \n",
    "    W1m <- numeric(N) \n",
    "    W2m <- numeric(N)\n",
    "    \n",
    "    ### gamma swap\n",
    "    gammaswap<-numeric(N)\n",
    "    gammaswap_rep<-numeric(N)\n",
    "      \n",
    "    \n",
    "    # Loop for bias computation (N small, n big)\n",
    "    for (i in 1:n)\n",
    "    {\n",
    "      # Two sets of correlated normal random vars.\n",
    "      \n",
    "      W1 <- rnorm(N) \n",
    "      W2 <- rnorm(N) \n",
    "      W1 <- W1 - mean(W1)\n",
    "      W1 <- W1/sd(W1) \n",
    "      W2 <- W2 - mean(W2)\n",
    "      W2 <- W2/sd(W2) \n",
    "      # Now W1 and W2 are forced to have mean=0 and sd=1\n",
    "      \n",
    "      W2p <- W2 - cor(W1,W2)*W1  # Eliminate actual correlation\n",
    "      W2p <- W2p - mean(W2p)  \n",
    "      W2 <- W2p/sd(W2p)  \n",
    "      # Now W1 and W2 have mean=0, sd=1 and correlation=0\n",
    "      \n",
    "      L <- rbinom(N, size=1, prob=1/2)  # Bernoulli rv for NV step\n",
    "      \n",
    "      # Add code for subgrid\n",
    "      W1m <- W1m + W1/sqrt2\n",
    "      W2m <- W2m + W2/sqrt2  # N(0,1) rv's for subgrid\n",
    "      \n",
    "      if (is.even(i)) {\n",
    "        #print(c(i,mean(W1m),mean(W2m),sd(W1m),sd(W2m),cor(W1m,W2m))) \n",
    "        resm <- evolve(vm,xm,T/m,W1m,W2m,L) \n",
    "        xnewm <- resm[,1] \n",
    "        xmaxm <- (xnewm>xmaxm)*(xnewm-xmaxm)+xmaxm \n",
    "        xminm <- (xnewm<xminm)*(xnewm-xminm)+xminm \n",
    "        xm <- xnewm \n",
    "        vm <- resm[,2] \n",
    "        W1m <- numeric(N)  \n",
    "        W2m <- numeric(N) \n",
    "      }\n",
    "      \n",
    "      res <- evolve(v,x,T/n,W1,W2,L) \n",
    "      xnew <- res[,1] \n",
    "      xmax <- (xnew>xmax)*(xnew-xmax)+xmax \n",
    "      xmin <- (xnew<xmin)*(xnew-xmin)+xmin\n",
    "      xold<-x\n",
    "      x <- xnew \n",
    "      v <- res[,2]\n",
    "      gammaswap<-gammaswap+v*exp(x)*T/n\n",
    "      gammaswap_rep<-gammaswap_rep+(1+xold)*(exp(xnew)-exp(xold))\n",
    "      \n",
    "    }\n",
    "    gammaswap_rep<-2*exp(x)*x-2*S0*log(S0)-2*gammaswap_rep\n",
    "      \n",
    "    return(data.frame(x,xm,v,vm,xmax,xmaxm,xmin,xminm,gammaswap,gammaswap_rep)) \n",
    "    \n",
    "  }\n",
    "  return(res) \n",
    "}\n"
   ]
  },
  {
   "cell_type": "code",
   "execution_count": 15,
   "metadata": {
    "collapsed": true
   },
   "outputs": [],
   "source": [
    "# HestonLvMCxmax function\n",
    "# Monte Carlo with Richardson extrapolation\n",
    "HestonLvMCxmax <- function(params){\n",
    "\n",
    "  is.even <- function(j){as.logical((j+1) %% 2)}\n",
    "  \n",
    "  res <- function(S0, T, N, m)\n",
    "  {\n",
    "    \n",
    "    lambda <- params$lambda;\n",
    "    rho <- params$rho;\n",
    "    eta <- params$eta;\n",
    "    vbar <- params$vbar;\n",
    "    v0 <- params$v;\n",
    "    \n",
    "    lambdap <- lambda+eta/2;\n",
    "    vbarp <- vbar*lambda/lambdap;\n",
    "    \n",
    "    n <- m*2;\n",
    "    dt <- T/n;\n",
    "    dtm <- dt*2;\n",
    "    \n",
    "    sqrtdt <- sqrt(dt);\n",
    "    sqrtdtm <- sqrt(dtm);\n",
    "    sqrt2 <- sqrt(2);\n",
    "    \n",
    "    # We use a vertical array, one element per M.C. path\n",
    "    x <- numeric(N); vloc <- rep(v0,N); \n",
    "    xm <- numeric(N); vlocm <- rep(v0,N); \n",
    "    xmax <- numeric(N); xmaxm <- numeric(N);\n",
    "    xmin <- numeric(N); xminm <- numeric(N);\n",
    "    W1m <- numeric(N);\n",
    "      \n",
    "    ### gamma swap\n",
    "    gammaswap<-numeric(N)\n",
    "    gammaswap_rep<-numeric(N)\n",
    "    \n",
    "    # Loop over timesteps\n",
    "    for (i in 1:n)\n",
    "    {\n",
    "      W1 <- rnorm(N);\n",
    "      W1 <- W1 - mean(W1); W1 <- W1/sd(W1);\n",
    "      # Now W1 is forced to have mean=0 and sd=1  \n",
    "      \n",
    "      # Add code for subgrid\n",
    "      W1m <- W1m + W1/sqrt2; # N(0,1) rv's for subgrid\n",
    "      \n",
    "      # Compute local variance from formula 4.1 of TVS\n",
    "      ti <- i*dt;\n",
    "      elti <- exp(-lambdap*ti);\t\n",
    "      vlocf <- (v0-vbarp)*elti+vbarp-eta*x*(1-elti)/(lambdap*ti);\n",
    "      vlocf <- (vlocf>=0)*vlocf;\n",
    "      \n",
    "      # Approximate integrated variance\n",
    "      w <- (vlocf +vloc)/2*dt;\n",
    "      \n",
    "      xnew <- x - w/2 + sqrt(w)*W1;\n",
    "      xmax <- (xnew>xmax)*(xnew-xmax)+xmax;\n",
    "      xmin <- (xnew<xmin)*(xnew-xmin)+xmin;\n",
    "      xold<-x\n",
    "      x <- xnew;\n",
    "      vloc <- vlocf;\n",
    "      \n",
    "      gammaswap<-gammaswap+vloc*exp(x)*T/n\n",
    "      gammaswap_rep<-gammaswap_rep+(1+xold)*(exp(xnew)-exp(xold))\n",
    "      \n",
    "      \n",
    "      if (is.even(i)) {\n",
    "        \n",
    "        vlocfm <- (v0-vbarp)*elti+vbarp-eta*xm*(1-elti)/(lambdap*ti);\n",
    "        vlocfm <- (vlocfm>=0)*vlocfm;\n",
    "        \n",
    "        wm <- (vlocfm+vlocm)/2*dtm;\n",
    "        xnewm <- xm - wm/2 + sqrt(wm)*W1m;\n",
    "        xmaxm <- (xnewm>xmaxm)*(xnewm-xmaxm)+xmaxm;\n",
    "        xminm <- (xnewm<xminm)*(xnewm-xminm)+xminm;\n",
    "        xm <- xnewm;\n",
    "        vlocm <- vlocf;\n",
    "        W1m <- numeric(N);\n",
    "      } \n",
    "      \n",
    "      \n",
    "    }\n",
    "    \n",
    "    gammaswap_rep<-2*exp(x)*x-2*S0*log(S0)-2*gammaswap_rep\n",
    "    \n",
    "    return(data.frame(x,xm,vloc,vlocm,xmax,xmaxm,xmin, xminm,gammaswap,gammaswap_rep));\n",
    "    \n",
    "  }\n",
    "  return(res);\n",
    "}\n"
   ]
  },
  {
   "cell_type": "code",
   "execution_count": 16,
   "metadata": {
    "collapsed": true
   },
   "outputs": [],
   "source": [
    "# Given HN parameters\n",
    "paramsHN <- list(lambda = 10,rho = -1,eta = 1,vbar = 0.04,v = 0.04)"
   ]
  },
  {
   "cell_type": "code",
   "execution_count": 17,
   "metadata": {
    "collapsed": true
   },
   "outputs": [],
   "source": [
    "# Generate samples based on local vol and stochastic vol models\n",
    "# 1Y, 1000 paths, 252 time steps\n",
    "sampleLV <- HestonLvMCxmax(paramsHN)(S0=1, T=1, N=1000, m=252/2)\n",
    "sampleSV <- HestonMCxmax(paramsHN)(S0=1, T=1, N=1000, m=252/2,evolve=evolveAlfonsiF)"
   ]
  },
  {
   "cell_type": "code",
   "execution_count": 18,
   "metadata": {
    "collapsed": true
   },
   "outputs": [],
   "source": [
    "# Replication\n",
    "gammaswap_LV<-mean(sampleLV$gammaswap)\n",
    "gammaswap_LV_rep<-mean(sampleLV$gammaswap_rep)\n",
    "gammaswap_SV<-mean(sampleSV$gammaswap)\n",
    "gammaswap_SV_rep<-mean(sampleSV$gammaswap_rep)\n"
   ]
  },
  {
   "cell_type": "code",
   "execution_count": 19,
   "metadata": {},
   "outputs": [
    {
     "data": {
      "text/html": [
       "<table>\n",
       "<thead><tr><th scope=col>Monte Carlo Method</th><th scope=col>Gamma Swap</th><th scope=col>Replicated Gamma Swap</th><th scope=col>Hedging Error</th></tr></thead>\n",
       "<tbody>\n",
       "\t<tr><td>Local Volatility MC     </td><td>0.0368029171907979      </td><td>0.0368203090078303      </td><td>1.73918170324125e-05    </td></tr>\n",
       "\t<tr><td>Stochastic Volatility MC</td><td>0.0369917319135714      </td><td>0.0371260844797309      </td><td>0.000134352566159499    </td></tr>\n",
       "</tbody>\n",
       "</table>\n"
      ],
      "text/latex": [
       "\\begin{tabular}{r|llll}\n",
       " Monte Carlo Method & Gamma Swap & Replicated Gamma Swap & Hedging Error\\\\\n",
       "\\hline\n",
       "\t Local Volatility MC      & 0.0368029171907979       & 0.0368203090078303       & 1.73918170324125e-05    \\\\\n",
       "\t Stochastic Volatility MC & 0.0369917319135714       & 0.0371260844797309       & 0.000134352566159499    \\\\\n",
       "\\end{tabular}\n"
      ],
      "text/markdown": [
       "\n",
       "Monte Carlo Method | Gamma Swap | Replicated Gamma Swap | Hedging Error | \n",
       "|---|---|\n",
       "| Local Volatility MC      | 0.0368029171907979       | 0.0368203090078303       | 1.73918170324125e-05     | \n",
       "| Stochastic Volatility MC | 0.0369917319135714       | 0.0371260844797309       | 0.000134352566159499     | \n",
       "\n",
       "\n"
      ],
      "text/plain": [
       "  Monte Carlo Method       Gamma Swap         Replicated Gamma Swap\n",
       "1 Local Volatility MC      0.0368029171907979 0.0368203090078303   \n",
       "2 Stochastic Volatility MC 0.0369917319135714 0.0371260844797309   \n",
       "  Hedging Error       \n",
       "1 1.73918170324125e-05\n",
       "2 0.000134352566159499"
      ]
     },
     "metadata": {},
     "output_type": "display_data"
    }
   ],
   "source": [
    "# Result of (a)\n",
    "# Save the result in a dataframe\n",
    "res_qa<-data.frame(matrix(ncol=4,nrow=2))\n",
    "res_qa[1,] <- c(\"Local Volatility MC\",gammaswap_LV,gammaswap_LV_rep,gammaswap_LV_rep-gammaswap_LV)\n",
    "res_qa[2,] <- c(\"Stochastic Volatility MC\",gammaswap_SV,gammaswap_SV_rep,gammaswap_SV_rep-gammaswap_SV)\n",
    "# Rename the column names\n",
    "colnames(res_qa)<-c(\"Monte Carlo Method\",\"Gamma Swap\",\"Replicated Gamma Swap\",\"Hedging Error\")\n",
    "res_qa"
   ]
  },
  {
   "cell_type": "markdown",
   "metadata": {},
   "source": [
    "<font color='blue'>\n",
    "#### Answer of (b)"
   ]
  },
  {
   "cell_type": "code",
   "execution_count": 20,
   "metadata": {},
   "outputs": [
    {
     "data": {
      "text/html": [
       "<table>\n",
       "<thead><tr><th scope=col>Monte Carlo Method</th><th scope=col>Mean of Heding Error</th><th scope=col>Standard Deviation of Hedging Error</th></tr></thead>\n",
       "<tbody>\n",
       "\t<tr><td>Local Volatility MC     </td><td>1.73918170324107e-05    </td><td>0.00377301698904694     </td></tr>\n",
       "\t<tr><td>Stochastic Volatility MC</td><td>0.0001343525661595      </td><td>0.00462746870103322     </td></tr>\n",
       "</tbody>\n",
       "</table>\n"
      ],
      "text/latex": [
       "\\begin{tabular}{r|lll}\n",
       " Monte Carlo Method & Mean of Heding Error & Standard Deviation of Hedging Error\\\\\n",
       "\\hline\n",
       "\t Local Volatility MC      & 1.73918170324107e-05     & 0.00377301698904694     \\\\\n",
       "\t Stochastic Volatility MC & 0.0001343525661595       & 0.00462746870103322     \\\\\n",
       "\\end{tabular}\n"
      ],
      "text/markdown": [
       "\n",
       "Monte Carlo Method | Mean of Heding Error | Standard Deviation of Hedging Error | \n",
       "|---|---|\n",
       "| Local Volatility MC      | 1.73918170324107e-05     | 0.00377301698904694      | \n",
       "| Stochastic Volatility MC | 0.0001343525661595       | 0.00462746870103322      | \n",
       "\n",
       "\n"
      ],
      "text/plain": [
       "  Monte Carlo Method       Mean of Heding Error\n",
       "1 Local Volatility MC      1.73918170324107e-05\n",
       "2 Stochastic Volatility MC 0.0001343525661595  \n",
       "  Standard Deviation of Hedging Error\n",
       "1 0.00377301698904694                \n",
       "2 0.00462746870103322                "
      ]
     },
     "metadata": {},
     "output_type": "display_data"
    }
   ],
   "source": [
    "# Compute the mean and standard deviation of heding error\n",
    "res_qb <- data.frame(matrix(ncol=3,nrow=2))\n",
    "res_qb[1,] <- c(\"Local Volatility MC\", mean(sampleLV$gammaswap_rep-sampleLV$gammaswap),\n",
    "                sd(sampleLV$gammaswap_rep-sampleLV$gammaswap))\n",
    "res_qb[2,] <- c(\"Stochastic Volatility MC\", mean(sampleSV$gammaswap_rep-sampleSV$gammaswap),\n",
    "                sd(sampleSV$gammaswap_rep-sampleSV$gammaswap))\n",
    "# Rename the column names\n",
    "colnames(res_qb) <- c(\"Monte Carlo Method\",\"Mean of Heding Error\",\"Standard Deviation of Hedging Error\")\n",
    "res_qb"
   ]
  },
  {
   "cell_type": "markdown",
   "metadata": {},
   "source": [
    "<font color='blue'>\n",
    "#### Answer of (c)"
   ]
  },
  {
   "cell_type": "code",
   "execution_count": 21,
   "metadata": {
    "collapsed": true
   },
   "outputs": [],
   "source": [
    "# Compute the hedging errors\n",
    "hedgingError_LV <- sampleLV$gammaswap_rep-sampleLV$gammaswap\n",
    "hedgingError_SV <- sampleSV$gammaswap_rep-sampleSV$gammaswap"
   ]
  },
  {
   "cell_type": "code",
   "execution_count": 22,
   "metadata": {},
   "outputs": [
    {
     "data": {
      "image/png": "[encoded data removed]",
      "text/plain": [
       "Plot with title \"Histogram of replication error under local volatility Monte Carlo\""
      ]
     },
     "metadata": {},
     "output_type": "display_data"
    }
   ],
   "source": [
    "# Plot the histogram of hedging errors\n",
    "options(repr.plot.height=5,repr.plot.width=8)\n",
    "hist(hedgingError_LV,xlab=\"Replication Error\", main=\"Histogram of replication error under local volatility Monte Carlo\")"
   ]
  },
  {
   "cell_type": "code",
   "execution_count": 23,
   "metadata": {},
   "outputs": [
    {
     "data": {
      "image/png": "[encoded data removed]",
      "text/plain": [
       "Plot with title \"Histogram of replication error under stochastic volatility Monte Carlo\""
      ]
     },
     "metadata": {},
     "output_type": "display_data"
    }
   ],
   "source": [
    "# Stochastic volatility\n",
    "hist(hedgingError_SV,xlab=\"Replication Error\", main=\"Histogram of replication error under stochastic volatility Monte Carlo\")"
   ]
  }
 ],
 "metadata": {
  "kernelspec": {
   "display_name": "R",
   "language": "R",
   "name": "ir"
  },
  "language_info": {
   "codemirror_mode": "r",
   "file_extension": ".r",
   "mimetype": "text/x-r-source",
   "name": "R",
   "pygments_lexer": "r",
   "version": "3.4.1"
  }
 },
 "nbformat": 4,
 "nbformat_minor": 1
}
