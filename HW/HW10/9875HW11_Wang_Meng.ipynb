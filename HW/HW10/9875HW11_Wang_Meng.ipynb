{
 "cells": [
  {
   "cell_type": "markdown",
   "metadata": {},
   "source": [
    "### Meng Wang"
   ]
  },
  {
   "cell_type": "markdown",
   "metadata": {},
   "source": [
    "# MTH9875 Homework 11\n",
    "\n",
    "Assigned: November 10, 2016.\n",
    "Due: November 24, 2016 by 6pm.(Yes I know it's Thanksgiving!)\n",
    "\n",
    "Late homework **will not be accepted**."
   ]
  },
  {
   "cell_type": "markdown",
   "metadata": {},
   "source": [
    "<font color = \"red\">Homework is to be done by each student individually.  To receive full credit, you must email a completed copy of this iPython notebook to Victor Istratov (stavka@gmail.com), Yassine Ghalem (yassine.ghalem@gmail.com) and Jim Gatheral (jim.gatheral@gmail.com) by the due date and time.  All R-code must run correctly and solutions must be written up neatly in Markdown/LaTeX format."
   ]
  },
  {
   "cell_type": "markdown",
   "metadata": {},
   "source": [
    "### 0. (0 points)\n",
    "\n",
    "Read Chapter 11 of The Volatility Surface"
   ]
  },
  {
   "cell_type": "markdown",
   "metadata": {},
   "source": [
    "### As usual, set up your R-environment\n",
    "\n",
    "The following code sources *BlackScholes.R* which has the Black-Scholes formula and implied volatility computation and *Heston2.R* which has in particular the *impvolHeston* function."
   ]
  },
  {
   "cell_type": "code",
   "execution_count": 1,
   "metadata": {},
   "outputs": [],
   "source": [
    "download.file(url=\"http://mfe.baruch.cuny.edu/wp-content/uploads/2014/09/BlackScholes.R.zip\", destfile=\"BlackScholes.R.zip\")\n",
    "unzip(zipfile=\"BlackScholes.R.zip\")\n",
    "source(\"BlackScholes.R\")\n",
    "source(\"Heston2.R\")"
   ]
  },
  {
   "cell_type": "markdown",
   "metadata": {},
   "source": [
    "## The gamma swap"
   ]
  },
  {
   "cell_type": "markdown",
   "metadata": {},
   "source": [
    "### 1. (8 points)\n",
    "$$\n",
    "\\newcommand{\\supp}{\\mathrm{supp}}\n",
    "\\newcommand{\\E}{\\mathbb{E} }\n",
    "\\def\\Cov{{ \\mbox{Cov} }}\n",
    "\\def\\Var{{ \\mbox{Var} }}\n",
    "\\newcommand{\\1}{\\mathbf{1} }\n",
    "\\newcommand{\\PP}{\\mathbb{P} }\n",
    "%\\newcommand{\\Pr}{\\mathrm{Pr} }\n",
    "\\newcommand{\\QQ}{\\mathbb{Q} }\n",
    "\\newcommand{\\RR}{\\mathbb{R} }\n",
    "\\newcommand{\\DD}{\\mathbb{D} }\n",
    "\\newcommand{\\HH}{\\mathbb{H} }\n",
    "\\newcommand{\\spn}{\\mathrm{span} }\n",
    "\\newcommand{\\cov}{\\mathrm{cov} }\n",
    "\\newcommand{\\sgn}{\\mathrm{sgn} }\n",
    "\\newcommand{\\HS}{\\mathcal{L}_{\\mathrm{HS}} }\n",
    "%\\newcommand{\\HS}{\\mathrm{HS} }\n",
    "\\newcommand{\\trace}{\\mathrm{trace} }\n",
    "\\newcommand{\\LL}{\\mathcal{L} }\n",
    "%\\newcommand{\\LL}{\\mathrm{L} }\n",
    "\\newcommand{\\s}{\\mathcal{S} }\n",
    "\\newcommand{\\ee}{\\mathcal{E} }\n",
    "\\newcommand{\\ff}{\\mathcal{F} }\n",
    "\\newcommand{\\hh}{\\mathcal{H} }\n",
    "\\newcommand{\\bb}{\\mathcal{B} }\n",
    "\\newcommand{\\dd}{\\mathcal{D} }\n",
    "\\newcommand{\\g}{\\mathcal{G} }\n",
    "\\newcommand{\\p}{\\partial}\n",
    "\\newcommand{\\half}{\\frac{1}{2} }\n",
    "\\newcommand{\\T}{\\mathcal{T} }\n",
    "\\newcommand{\\bi}{\\begin{itemize}}\n",
    "\\newcommand{\\ei}{\\end{itemize}}\n",
    "\\newcommand{\\beq}{\\begin{equation}}\n",
    "\\newcommand{\\eeq}{\\end{equation}}\n",
    "\\newcommand{\\beas}{\\begin{eqnarray*}}\n",
    "\\newcommand{\\eeas}{\\end{eqnarray*}}\n",
    "\\newcommand{\\cO}{\\mathcal{O}}\n",
    "\\newcommand{\\cF}{\\mathcal{F}}\n",
    "\\newcommand{\\cL}{\\mathcal{L}}\n",
    "$$\n",
    "\n",
    "Assume a stock process of the form\n",
    "\n",
    "$$\n",
    "\\frac{dS_t}{S_t}=\\sigma_t\\,dZ_t\n",
    "$$\n",
    "\n",
    "where $\\sigma_t$ may be stochastic.\n",
    "\n",
    "A continuous time version of the payoff of a gamma swap is\n",
    "$\n",
    "\\int_0^T\\,S_t\\,\\sigma_t^2\\,dt\n",
    "$.\n",
    "\n",
    "(a)\n",
    "\n",
    "Compute $d(S_t\\,\\log S_t)$ using Itô's Lemma.\n",
    "\n",
    "(b)\n",
    "\n",
    "Deduce the semi-static model-free hedging strategy involving a static hedge in European options and continuous rebalancing in the stock. \n",
    "\n",
    "(c) \n",
    "\n",
    "Using the spanning formula, derive an expression for the weights of the options in the static hedge."
   ]
  },
  {
   "cell_type": "markdown",
   "metadata": {},
   "source": [
    "### Answers\n",
    "(a)\n",
    "$$\n",
    "d\\log S_t=\\frac{1}{S_t}dS_t-\\frac{1}{2S_t^2}dS_tdS_t=\\sigma_tdZ_t-\\frac{1}{2}\\sigma_t^2dt\n",
    "$$\n",
    "$$\n",
    "d(S_t\\log S_t)=S_td\\log S_t+\\log S_tdS_t+dS_td\\log S_t=\\sigma_tS_t(1+\\log S_t)dZ_t+\\frac{1}{2}\\sigma_t^2S_tdt=(1+\\log S_t)dS_t+\\frac{1}{2}\\sigma_t^2S_tdt\n",
    "$$\n",
    "(b)\n",
    "$$\n",
    "S_T\\log S_T-S_0\\log S_0=\\int_0^T (1+\\log S_t)dS_t+\\frac{1}{2}\\int_0^T\\sigma_t^2S_tdt\n",
    "$$\n",
    "$$\n",
    "\\int_0^T\\sigma_t^2S_tdt=2S_T\\log S_T-2S_0\\log S_0-2\\int_0^T (1+\\log S_t)dS_t\n",
    "$$\n",
    "where $g(S_T)=2S_T\\log S_T$ is the static hedge, $-2\\int_0^T (1+\\log S_t)dS_t$ is continuous rebalancing in the stock.\n",
    "\n",
    "(c)\n",
    "<br/>Spanning formula,\n",
    "$$\n",
    "g(S_T)=\\int_0^F\\,g''(K)\\,(K-S_T)^+\\,dK + \\int_F^\\infty\\,g''(K)\\,(S_T-K)^+\\,dK\\nonumber+ g(F)  + g'(F)\\,(S_T-F)\n",
    "$$\n",
    "In this diffusion model, $F=S_0$.\n",
    "$$\n",
    "g'(S_T)=2\\log S_T+2\n",
    "$$\n",
    "$$\n",
    "g''(S_T)=\\frac{2}{S_T}\n",
    "$$\n",
    "The weights of the options in static hedge is $1/K$."
   ]
  },
  {
   "cell_type": "markdown",
   "metadata": {},
   "source": [
    "## Demonstrate replication path-by-path"
   ]
  },
  {
   "cell_type": "markdown",
   "metadata": {},
   "source": [
    "### 2. (10 points) \n",
    "\n",
    "(a)\n",
    "\n",
    "Amend (for example) the stochastic volatility and local volatility Monte Carlo codes (*HestonMCxmax* and *HestonLvMCxmax* respectively) from Lecture 10, with the same HN parameters:\n",
    "\n",
    "$$\n",
    "\\begin{eqnarray*} v&=& 0.04\\\\ \\bar v &=& 0.04\\\\ \\lambda&=&10\\\\\n",
    "\\eta&=&1\\\\\\rho&=&-1\n",
    "\\end{eqnarray*}\n",
    "$$\n",
    "\n",
    "to demonstrate that the \n",
    "variance swap hedging strategy outlined on page 136 of *The\n",
    "Volatility Surface* replicates the variance swap payoff path-by-path independently of the dynamical assumptions.  Assume a 1-year variance swap, use 252 time steps and 1,000 paths.  \n",
    "\n",
    "(b) \n",
    "\n",
    "Compute the means and standard deviations of the hedging errors.\n",
    "\n",
    "(c)\n",
    "\n",
    "Draw histograms of the final replication errors under stochastic volatility and local volatility assumptions."
   ]
  },
  {
   "cell_type": "markdown",
   "metadata": {},
   "source": [
    "### Answers\n",
    "(a)\n",
    "$$\n",
    "\\log(S_T/F)=\\int_0^T \\frac{dS_T}{S_T}-\\int_0^T \\frac{\\sigma_t^2}{2}dt\n",
    "$$\n",
    "Replication of the variance swap\n",
    "$$\n",
    "\\int_0^T \\frac{\\sigma_t^2}{2}dt=2\\int_0^T \\frac{dS_T}{S_T}-2\\log(S_T/F)\n",
    "$$"
   ]
  },
  {
   "cell_type": "code",
   "execution_count": 2,
   "metadata": {
    "collapsed": true
   },
   "outputs": [],
   "source": [
    "HestonMCxmax <- function(params){\n",
    "\n",
    "  is.even <- function(j){as.logical((j+1) %% 2)}\n",
    "  \n",
    "  res <- function(S0, T, AK, N, m, evolve,exactVols=NULL)\n",
    "  {\n",
    "    \n",
    "    lambda <<- params$lambda \n",
    "    rho <<- params$rho \n",
    "    eta <<- params$eta \n",
    "    vbar <<- params$vbar \n",
    "    v0 <<- params$v \n",
    "    \n",
    "    n <- m*2  #n is number of timesteps = 2*m so we can use Romberg extrapolation\n",
    "    sqrt2 <- sqrt(2) \n",
    "    rho2m1 <<- sqrt(1-rho*rho) \n",
    "    vbarp <<- vbar - eta^2/(4*lambda) \n",
    "    \n",
    "    negCount <- 0 \n",
    "    \n",
    "    # We use a vertical array, one element per M.C. path\n",
    "    x <- numeric(N);  v <- rep(1,N)*v0  \n",
    "    xmax <- x \n",
    "    xm <- x  \n",
    "    vm <- v\n",
    "    xmaxm <- xmax \n",
    "    xmin <- numeric(N)  \n",
    "    xminm <- numeric(N) \n",
    "    W1m <- numeric(N) \n",
    "    W2m <- numeric(N)\n",
    "    \n",
    "    ### variance swap\n",
    "    varswap<-numeric(N)\n",
    "    varswap_rep<-numeric(N)\n",
    "      \n",
    "    \n",
    "    # Loop for bias computation (N small, n big)\n",
    "    for (i in 1:n)\n",
    "    {\n",
    "      # Two sets of correlated normal random vars.\n",
    "      \n",
    "      W1 <- rnorm(N) \n",
    "      W2 <- rnorm(N) \n",
    "      W1 <- W1 - mean(W1)\n",
    "      W1 <- W1/sd(W1) \n",
    "      W2 <- W2 - mean(W2)\n",
    "      W2 <- W2/sd(W2) \n",
    "      # Now W1 and W2 are forced to have mean=0 and sd=1\n",
    "      \n",
    "      W2p <- W2 - cor(W1,W2)*W1  # Eliminate actual correlation\n",
    "      W2p <- W2p - mean(W2p)  \n",
    "      W2 <- W2p/sd(W2p)  \n",
    "      # Now W1 and W2 have mean=0, sd=1 and correlation=0\n",
    "      \n",
    "      L <- rbinom(N, size=1, prob=1/2)  # Bernoulli rv for NV step\n",
    "      \n",
    "      # Add code for subgrid\n",
    "      W1m <- W1m + W1/sqrt2\n",
    "      W2m <- W2m + W2/sqrt2  # N(0,1) rv's for subgrid\n",
    "      \n",
    "      if (is.even(i)) {\n",
    "        #print(c(i,mean(W1m),mean(W2m),sd(W1m),sd(W2m),cor(W1m,W2m))) \n",
    "        resm <- evolve(vm,xm,T/m,W1m,W2m,L) \n",
    "        xnewm <- resm[,1] \n",
    "        xmaxm <- (xnewm>xmaxm)*(xnewm-xmaxm)+xmaxm \n",
    "        xminm <- (xnewm<xminm)*(xnewm-xminm)+xminm \n",
    "        xm <- xnewm \n",
    "        vm <- resm[,2] \n",
    "        W1m <- numeric(N)  \n",
    "        W2m <- numeric(N) \n",
    "      }\n",
    "      \n",
    "      res <- evolve(v,x,T/n,W1,W2,L) \n",
    "      xnew <- res[,1] \n",
    "      xmax <- (xnew>xmax)*(xnew-xmax)+xmax \n",
    "      xmin <- (xnew<xmin)*(xnew-xmin)+xmin\n",
    "      xold<-x\n",
    "      x <- xnew \n",
    "      v <- res[,2]\n",
    "      varswap<-varswap+v*T/n\n",
    "      varswap_rep<-varswap_rep+(exp(x)-exp(xold))/exp(xold)\n",
    "      \n",
    "    }\n",
    "    varswap_rep<-2*varswap_rep-2*log(exp(x)/S0)\n",
    "      \n",
    "    return(data.frame(x,xm,v,vm,xmax,xmaxm,xmin,xminm,varswap,varswap_rep)) \n",
    "    \n",
    "  }\n",
    "  return(res) \n",
    "}\n",
    "\n",
    "# Monte Carlo with Richardson extrapolation\n",
    "HestonLvMCxmax <- function(params){\n",
    "\n",
    "  is.even <- function(j){as.logical((j+1) %% 2)}\n",
    "  \n",
    "  res <- function(S0, T, N, m)\n",
    "  {\n",
    "    \n",
    "    lambda <- params$lambda;\n",
    "    rho <- params$rho;\n",
    "    eta <- params$eta;\n",
    "    vbar <- params$vbar;\n",
    "    v0 <- params$v;\n",
    "    \n",
    "    lambdap <- lambda+eta/2;\n",
    "    vbarp <- vbar*lambda/lambdap;\n",
    "    \n",
    "    n <- m*2;\n",
    "    dt <- T/n;\n",
    "    dtm <- dt*2;\n",
    "    \n",
    "    sqrtdt <- sqrt(dt);\n",
    "    sqrtdtm <- sqrt(dtm);\n",
    "    sqrt2 <- sqrt(2);\n",
    "    \n",
    "    # We use a vertical array, one element per M.C. path\n",
    "    x <- numeric(N); vloc <- rep(v0,N); \n",
    "    xm <- numeric(N); vlocm <- rep(v0,N); \n",
    "    xmax <- numeric(N); xmaxm <- numeric(N);\n",
    "    xmin <- numeric(N); xminm <- numeric(N);\n",
    "    W1m <- numeric(N);\n",
    "      \n",
    "    ### variance swap\n",
    "    varswap<-numeric(N)\n",
    "    varswap_rep<-numeric(N)\n",
    "    \n",
    "    # Loop over timesteps\n",
    "    for (i in 1:n)\n",
    "    {\n",
    "      W1 <- rnorm(N);\n",
    "      W1 <- W1 - mean(W1); W1 <- W1/sd(W1);\n",
    "      # Now W1 is forced to have mean=0 and sd=1  \n",
    "      \n",
    "      # Add code for subgrid\n",
    "      W1m <- W1m + W1/sqrt2; # N(0,1) rv's for subgrid\n",
    "      \n",
    "      # Compute local variance from formula 4.1 of TVS\n",
    "      ti <- i*dt;\n",
    "      elti <- exp(-lambdap*ti);\t\n",
    "      vlocf <- (v0-vbarp)*elti+vbarp-eta*x*(1-elti)/(lambdap*ti);\n",
    "      vlocf <- (vlocf>=0)*vlocf;\n",
    "      \n",
    "      # Approximate integrated variance\n",
    "      w <- (vlocf +vloc)/2*dt;\n",
    "      \n",
    "      xnew <- x - w/2 + sqrt(w)*W1;\n",
    "      xmax <- (xnew>xmax)*(xnew-xmax)+xmax;\n",
    "      xmin <- (xnew<xmin)*(xnew-xmin)+xmin;\n",
    "      xold<-x\n",
    "      x <- xnew;\n",
    "      vloc <- vlocf;\n",
    "      \n",
    "      varswap<-varswap+vloc*T/n\n",
    "      varswap_rep<-varswap_rep+(exp(xnew)-exp(xold))/exp(xold)\n",
    "      \n",
    "      \n",
    "      if (is.even(i)) {\n",
    "        \n",
    "        vlocfm <- (v0-vbarp)*elti+vbarp-eta*xm*(1-elti)/(lambdap*ti);\n",
    "        vlocfm <- (vlocfm>=0)*vlocfm;\n",
    "        \n",
    "        wm <- (vlocfm+vlocm)/2*dtm;\n",
    "        xnewm <- xm - wm/2 + sqrt(wm)*W1m;\n",
    "        xmaxm <- (xnewm>xmaxm)*(xnewm-xmaxm)+xmaxm;\n",
    "        xminm <- (xnewm<xminm)*(xnewm-xminm)+xminm;\n",
    "        xm <- xnewm;\n",
    "        vlocm <- vlocf;\n",
    "        W1m <- numeric(N);\n",
    "      } \n",
    "      \n",
    "      \n",
    "    }\n",
    "    \n",
    "    varswap_rep<-2*varswap_rep-2*log(exp(x)/S0)\n",
    "    \n",
    "    return(data.frame(x,xm,vloc,vlocm,xmax,xmaxm,xmin, xminm,varswap,varswap_rep));\n",
    "    \n",
    "  }\n",
    "  return(res);\n",
    "}\n",
    "\n",
    "### HN parameters\n",
    "paramsCh4 <- list(lambda = 10,rho = -1,eta = 1,vbar = 0.04,v = 0.04)\n",
    "\n",
    "### evolve function\n",
    "evolveAlfonsiF <- function(v,x,dt,W1,W2,L){\n",
    "  \n",
    "  eldt2 <- exp(-lambda*dt/2);\n",
    "  \n",
    "  #Variance process \n",
    "  vbarp <- vbar - eta^2/(4*lambda);\n",
    "  psi <- (1-eldt2)/lambda;\n",
    "  v1 <- v*eldt2+lambda*vbarp*psi;\n",
    "  v2 <- (v1 > 0) * v1; # Take v2 = 0 if v1<0, else v2=v1\n",
    "  par <- sqrt(v2) + eta/2 * sqrt(dt)*W2;\n",
    "  vf <- eldt2*par*par +lambda*vbarp*psi + v1 - v2;\n",
    "  # Full truncation\n",
    "  \n",
    "  # Log-stock process (Andersen equation (33))\n",
    "  vvf <- (v+vf > 0) * (v+vf);\n",
    "  dw <- vvf/2*dt;\n",
    "  x <- x  - dw/2 + rho2m1*sqrt(dw)*W1 +\n",
    "    rho/eta*(lambda*dw + vf-v -lambda*vbar*dt) ;\n",
    "  # Impose martingale constraint\n",
    "  x <- x - log(mean(exp(x)));\n",
    "  v <- vf;\n",
    "  return(cbind(x,v));\n",
    "}"
   ]
  },
  {
   "cell_type": "code",
   "execution_count": 3,
   "metadata": {},
   "outputs": [],
   "source": [
    "sampleLV <- HestonLvMCxmax(paramsCh4)(S0=1, T=1, N=1000, m=252/2)\n",
    "sampleSV <- HestonMCxmax(paramsCh4)(S0=1, T=1, N=1000, m=252/2,evolve=evolveAlfonsiF)"
   ]
  },
  {
   "cell_type": "code",
   "execution_count": 4,
   "metadata": {},
   "outputs": [
    {
     "data": {
      "text/html": [
       "<table>\n",
       "<thead><tr><th scope=col>MC</th><th scope=col>variance swap</th><th scope=col>variance swap replicated</th><th scope=col>hedging error</th></tr></thead>\n",
       "<tbody>\n",
       "\t<tr><td>local vol MC         </td><td>0.0399542986461419   </td><td>0.0399196709205462   </td><td>-3.46277255957178e-05</td></tr>\n",
       "\t<tr><td>stochastic vol MC    </td><td>0.0399079805409818   </td><td>0.0398930644101398   </td><td>-1.49161308419729e-05</td></tr>\n",
       "</tbody>\n",
       "</table>\n"
      ],
      "text/latex": [
       "\\begin{tabular}{r|llll}\n",
       " MC & variance swap & variance swap replicated & hedging error\\\\\n",
       "\\hline\n",
       "\t local vol MC          & 0.0399542986461419    & 0.0399196709205462    & -3.46277255957178e-05\\\\\n",
       "\t stochastic vol MC     & 0.0399079805409818    & 0.0398930644101398    & -1.49161308419729e-05\\\\\n",
       "\\end{tabular}\n"
      ],
      "text/plain": [
       "  MC                variance swap      variance swap replicated\n",
       "1 local vol MC      0.0399542986461419 0.0399196709205462      \n",
       "2 stochastic vol MC 0.0399079805409818 0.0398930644101398      \n",
       "  hedging error        \n",
       "1 -3.46277255957178e-05\n",
       "2 -1.49161308419729e-05"
      ]
     },
     "metadata": {},
     "output_type": "display_data"
    }
   ],
   "source": [
    "varswapLV<-mean(sampleLV$varswap)\n",
    "varswapLV_rep<-mean(sampleLV$varswap_rep)\n",
    "varswapSV<-mean(sampleSV$varswap)\n",
    "varswapSV_rep<-mean(sampleSV$varswap_rep)\n",
    "res<-data.frame(matrix(ncol=4,nrow=2))\n",
    "res[1,]<-c(\"local vol MC\",varswapLV,varswapLV_rep,varswapLV_rep-varswapLV)\n",
    "res[2,]<-c(\"stochastic vol MC\",varswapSV,varswapSV_rep,varswapSV_rep-varswapSV)\n",
    "colnames(res)<-c(\"MC\",\"variance swap\",\"variance swap replicated\",\"hedging error\")\n",
    "res"
   ]
  },
  {
   "cell_type": "markdown",
   "metadata": {},
   "source": [
    "(b)"
   ]
  },
  {
   "cell_type": "code",
   "execution_count": 5,
   "metadata": {},
   "outputs": [
    {
     "data": {
      "text/html": [
       "<table>\n",
       "<thead><tr><th scope=col>MC</th><th scope=col>mean of heding error</th><th scope=col>std of hedging error</th></tr></thead>\n",
       "<tbody>\n",
       "\t<tr><td>local vol MC         </td><td>-3.46277255957178e-05</td><td>0.00432356527448704  </td></tr>\n",
       "\t<tr><td>stochastic vol MC    </td><td>-1.49161308419729e-05</td><td>0.00526136055793631  </td></tr>\n",
       "</tbody>\n",
       "</table>\n"
      ],
      "text/latex": [
       "\\begin{tabular}{r|lll}\n",
       " MC & mean of heding error & std of hedging error\\\\\n",
       "\\hline\n",
       "\t local vol MC          & -3.46277255957178e-05 & 0.00432356527448704  \\\\\n",
       "\t stochastic vol MC     & -1.49161308419729e-05 & 0.00526136055793631  \\\\\n",
       "\\end{tabular}\n"
      ],
      "text/plain": [
       "  MC                mean of heding error  std of hedging error\n",
       "1 local vol MC      -3.46277255957178e-05 0.00432356527448704 \n",
       "2 stochastic vol MC -1.49161308419729e-05 0.00526136055793631 "
      ]
     },
     "metadata": {},
     "output_type": "display_data"
    }
   ],
   "source": [
    "res1<-data.frame(matrix(ncol=3,nrow=2))\n",
    "res1[1,]<-c(\"local vol MC\",varswapLV_rep-varswapLV,sd(sampleLV$varswap_rep-sampleLV$varswap))\n",
    "res1[2,]<-c(\"stochastic vol MC\",varswapSV_rep-varswapSV,sd(sampleSV$varswap_rep-sampleSV$varswap))\n",
    "colnames(res1)<-c(\"MC\",\"mean of heding error\",\"std of hedging error\")\n",
    "res1"
   ]
  },
  {
   "cell_type": "markdown",
   "metadata": {},
   "source": [
    "(c)"
   ]
  },
  {
   "cell_type": "code",
   "execution_count": 6,
   "metadata": {},
   "outputs": [
    {
     "data": {
      "image/png": "[encoded data removed]",
      "text/plain": [
       "Plot with title “Local volatility”"
      ]
     },
     "metadata": {},
     "output_type": "display_data"
    }
   ],
   "source": [
    "hist(sampleLV$varswap_rep-sampleLV$varswap, main=\"Local volatility\", xlab=\"replication errors\")"
   ]
  },
  {
   "cell_type": "code",
   "execution_count": 25,
   "metadata": {},
   "outputs": [
    {
     "data": {
      "image/png": "[encoded data removed]",
      "text/plain": [
       "Plot with title “Stochastic volatility”"
      ]
     },
     "metadata": {},
     "output_type": "display_data"
    }
   ],
   "source": [
    "hist(sampleSV$varswap_rep-sampleSV$varswap, main=\"Stochastic volatility\", xlab=\"replication errors\")"
   ]
  },
  {
   "cell_type": "markdown",
   "metadata": {},
   "source": [
    "### 3. (6 points) \n",
    "\n",
    "Repeat Problem 2 for a gamma swap with the static hedge you derived for the gamma swap in Problem 1."
   ]
  },
  {
   "cell_type": "markdown",
   "metadata": {},
   "source": [
    "### Answers\n",
    "(a)\n",
    "$$\n",
    "\\int_0^T\\sigma_t^2S_tdt=2S_T\\log S_T-2S_0\\log S_0-2\\int_0^T (1+\\log S_t)dS_t\n",
    "$$"
   ]
  },
  {
   "cell_type": "code",
   "execution_count": 7,
   "metadata": {
    "collapsed": true
   },
   "outputs": [],
   "source": [
    "HestonMCxmax <- function(params){\n",
    "\n",
    "  is.even <- function(j){as.logical((j+1) %% 2)}\n",
    "  \n",
    "  res <- function(S0, T, AK, N, m, evolve,exactVols=NULL)\n",
    "  {\n",
    "    \n",
    "    lambda <<- params$lambda \n",
    "    rho <<- params$rho \n",
    "    eta <<- params$eta \n",
    "    vbar <<- params$vbar \n",
    "    v0 <<- params$v \n",
    "    \n",
    "    n <- m*2  #n is number of timesteps = 2*m so we can use Romberg extrapolation\n",
    "    sqrt2 <- sqrt(2) \n",
    "    rho2m1 <<- sqrt(1-rho*rho) \n",
    "    vbarp <<- vbar - eta^2/(4*lambda) \n",
    "    \n",
    "    negCount <- 0 \n",
    "    \n",
    "    # We use a vertical array, one element per M.C. path\n",
    "    x <- numeric(N);  v <- rep(1,N)*v0  \n",
    "    xmax <- x \n",
    "    xm <- x  \n",
    "    vm <- v\n",
    "    xmaxm <- xmax \n",
    "    xmin <- numeric(N)  \n",
    "    xminm <- numeric(N) \n",
    "    W1m <- numeric(N) \n",
    "    W2m <- numeric(N)\n",
    "    \n",
    "    ### gamma swap\n",
    "    gammaswap<-numeric(N)\n",
    "    gammaswap_rep<-numeric(N)\n",
    "      \n",
    "    \n",
    "    # Loop for bias computation (N small, n big)\n",
    "    for (i in 1:n)\n",
    "    {\n",
    "      # Two sets of correlated normal random vars.\n",
    "      \n",
    "      W1 <- rnorm(N) \n",
    "      W2 <- rnorm(N) \n",
    "      W1 <- W1 - mean(W1)\n",
    "      W1 <- W1/sd(W1) \n",
    "      W2 <- W2 - mean(W2)\n",
    "      W2 <- W2/sd(W2) \n",
    "      # Now W1 and W2 are forced to have mean=0 and sd=1\n",
    "      \n",
    "      W2p <- W2 - cor(W1,W2)*W1  # Eliminate actual correlation\n",
    "      W2p <- W2p - mean(W2p)  \n",
    "      W2 <- W2p/sd(W2p)  \n",
    "      # Now W1 and W2 have mean=0, sd=1 and correlation=0\n",
    "      \n",
    "      L <- rbinom(N, size=1, prob=1/2)  # Bernoulli rv for NV step\n",
    "      \n",
    "      # Add code for subgrid\n",
    "      W1m <- W1m + W1/sqrt2\n",
    "      W2m <- W2m + W2/sqrt2  # N(0,1) rv's for subgrid\n",
    "      \n",
    "      if (is.even(i)) {\n",
    "        #print(c(i,mean(W1m),mean(W2m),sd(W1m),sd(W2m),cor(W1m,W2m))) \n",
    "        resm <- evolve(vm,xm,T/m,W1m,W2m,L) \n",
    "        xnewm <- resm[,1] \n",
    "        xmaxm <- (xnewm>xmaxm)*(xnewm-xmaxm)+xmaxm \n",
    "        xminm <- (xnewm<xminm)*(xnewm-xminm)+xminm \n",
    "        xm <- xnewm \n",
    "        vm <- resm[,2] \n",
    "        W1m <- numeric(N)  \n",
    "        W2m <- numeric(N) \n",
    "      }\n",
    "      \n",
    "      res <- evolve(v,x,T/n,W1,W2,L) \n",
    "      xnew <- res[,1] \n",
    "      xmax <- (xnew>xmax)*(xnew-xmax)+xmax \n",
    "      xmin <- (xnew<xmin)*(xnew-xmin)+xmin\n",
    "      xold<-x\n",
    "      x <- xnew \n",
    "      v <- res[,2]\n",
    "      gammaswap<-gammaswap+v*exp(x)*T/n\n",
    "      gammaswap_rep<-gammaswap_rep+(1+xold)*(exp(xnew)-exp(xold))\n",
    "      \n",
    "    }\n",
    "    gammaswap_rep<-2*exp(x)*x-2*S0*log(S0)-2*gammaswap_rep\n",
    "      \n",
    "    return(data.frame(x,xm,v,vm,xmax,xmaxm,xmin,xminm,gammaswap,gammaswap_rep)) \n",
    "    \n",
    "  }\n",
    "  return(res) \n",
    "}\n",
    "\n",
    "# Monte Carlo with Richardson extrapolation\n",
    "HestonLvMCxmax <- function(params){\n",
    "\n",
    "  is.even <- function(j){as.logical((j+1) %% 2)}\n",
    "  \n",
    "  res <- function(S0, T, N, m)\n",
    "  {\n",
    "    \n",
    "    lambda <- params$lambda;\n",
    "    rho <- params$rho;\n",
    "    eta <- params$eta;\n",
    "    vbar <- params$vbar;\n",
    "    v0 <- params$v;\n",
    "    \n",
    "    lambdap <- lambda+eta/2;\n",
    "    vbarp <- vbar*lambda/lambdap;\n",
    "    \n",
    "    n <- m*2;\n",
    "    dt <- T/n;\n",
    "    dtm <- dt*2;\n",
    "    \n",
    "    sqrtdt <- sqrt(dt);\n",
    "    sqrtdtm <- sqrt(dtm);\n",
    "    sqrt2 <- sqrt(2);\n",
    "    \n",
    "    # We use a vertical array, one element per M.C. path\n",
    "    x <- numeric(N); vloc <- rep(v0,N); \n",
    "    xm <- numeric(N); vlocm <- rep(v0,N); \n",
    "    xmax <- numeric(N); xmaxm <- numeric(N);\n",
    "    xmin <- numeric(N); xminm <- numeric(N);\n",
    "    W1m <- numeric(N);\n",
    "      \n",
    "    ### gamma swap\n",
    "    gammaswap<-numeric(N)\n",
    "    gammaswap_rep<-numeric(N)\n",
    "    \n",
    "    # Loop over timesteps\n",
    "    for (i in 1:n)\n",
    "    {\n",
    "      W1 <- rnorm(N);\n",
    "      W1 <- W1 - mean(W1); W1 <- W1/sd(W1);\n",
    "      # Now W1 is forced to have mean=0 and sd=1  \n",
    "      \n",
    "      # Add code for subgrid\n",
    "      W1m <- W1m + W1/sqrt2; # N(0,1) rv's for subgrid\n",
    "      \n",
    "      # Compute local variance from formula 4.1 of TVS\n",
    "      ti <- i*dt;\n",
    "      elti <- exp(-lambdap*ti);\t\n",
    "      vlocf <- (v0-vbarp)*elti+vbarp-eta*x*(1-elti)/(lambdap*ti);\n",
    "      vlocf <- (vlocf>=0)*vlocf;\n",
    "      \n",
    "      # Approximate integrated variance\n",
    "      w <- (vlocf +vloc)/2*dt;\n",
    "      \n",
    "      xnew <- x - w/2 + sqrt(w)*W1;\n",
    "      xmax <- (xnew>xmax)*(xnew-xmax)+xmax;\n",
    "      xmin <- (xnew<xmin)*(xnew-xmin)+xmin;\n",
    "      xold<-x\n",
    "      x <- xnew;\n",
    "      vloc <- vlocf;\n",
    "      \n",
    "      gammaswap<-gammaswap+vloc*exp(x)*T/n\n",
    "      gammaswap_rep<-gammaswap_rep+(1+xold)*(exp(xnew)-exp(xold))\n",
    "      \n",
    "      \n",
    "      if (is.even(i)) {\n",
    "        \n",
    "        vlocfm <- (v0-vbarp)*elti+vbarp-eta*xm*(1-elti)/(lambdap*ti);\n",
    "        vlocfm <- (vlocfm>=0)*vlocfm;\n",
    "        \n",
    "        wm <- (vlocfm+vlocm)/2*dtm;\n",
    "        xnewm <- xm - wm/2 + sqrt(wm)*W1m;\n",
    "        xmaxm <- (xnewm>xmaxm)*(xnewm-xmaxm)+xmaxm;\n",
    "        xminm <- (xnewm<xminm)*(xnewm-xminm)+xminm;\n",
    "        xm <- xnewm;\n",
    "        vlocm <- vlocf;\n",
    "        W1m <- numeric(N);\n",
    "      } \n",
    "      \n",
    "      \n",
    "    }\n",
    "    \n",
    "    gammaswap_rep<-2*exp(x)*x-2*S0*log(S0)-2*gammaswap_rep\n",
    "    \n",
    "    return(data.frame(x,xm,vloc,vlocm,xmax,xmaxm,xmin, xminm,gammaswap,gammaswap_rep));\n",
    "    \n",
    "  }\n",
    "  return(res);\n",
    "}\n",
    "\n",
    "### HN parameters\n",
    "paramsCh4 <- list(lambda = 10,rho = -1,eta = 1,vbar = 0.04,v = 0.04)\n",
    "\n",
    "### evolve function\n",
    "evolveAlfonsiF <- function(v,x,dt,W1,W2,L){\n",
    "  \n",
    "  eldt2 <- exp(-lambda*dt/2);\n",
    "  \n",
    "  #Variance process \n",
    "  vbarp <- vbar - eta^2/(4*lambda);\n",
    "  psi <- (1-eldt2)/lambda;\n",
    "  v1 <- v*eldt2+lambda*vbarp*psi;\n",
    "  v2 <- (v1 > 0) * v1; # Take v2 = 0 if v1<0, else v2=v1\n",
    "  par <- sqrt(v2) + eta/2 * sqrt(dt)*W2;\n",
    "  vf <- eldt2*par*par +lambda*vbarp*psi + v1 - v2;\n",
    "  # Full truncation\n",
    "  \n",
    "  # Log-stock process (Andersen equation (33))\n",
    "  vvf <- (v+vf > 0) * (v+vf);\n",
    "  dw <- vvf/2*dt;\n",
    "  x <- x  - dw/2 + rho2m1*sqrt(dw)*W1 +\n",
    "    rho/eta*(lambda*dw + vf-v -lambda*vbar*dt) ;\n",
    "  # Impose martingale constraint\n",
    "  x <- x - log(mean(exp(x)));\n",
    "  v <- vf;\n",
    "  return(cbind(x,v));\n",
    "}"
   ]
  },
  {
   "cell_type": "code",
   "execution_count": 8,
   "metadata": {
    "collapsed": true
   },
   "outputs": [],
   "source": [
    "sampleLV <- HestonLvMCxmax(paramsCh4)(S0=1, T=1, N=1000, m=252/2)\n",
    "sampleSV <- HestonMCxmax(paramsCh4)(S0=1, T=1, N=1000, m=252/2,evolve=evolveAlfonsiF)"
   ]
  },
  {
   "cell_type": "code",
   "execution_count": 9,
   "metadata": {},
   "outputs": [
    {
     "data": {
      "text/html": [
       "<table>\n",
       "<thead><tr><th scope=col>MC</th><th scope=col>gamma swap</th><th scope=col>gamma swap replicated</th><th scope=col>hedging error</th></tr></thead>\n",
       "<tbody>\n",
       "\t<tr><td>local vol MC         </td><td>0.0366894089576671   </td><td>0.0367432255480742   </td><td>5.38165904071172e-05 </td></tr>\n",
       "\t<tr><td>stochastic vol MC    </td><td>0.0368455978973328   </td><td>0.0368018135250924   </td><td>-4.37843722403478e-05</td></tr>\n",
       "</tbody>\n",
       "</table>\n"
      ],
      "text/latex": [
       "\\begin{tabular}{r|llll}\n",
       " MC & gamma swap & gamma swap replicated & hedging error\\\\\n",
       "\\hline\n",
       "\t local vol MC          & 0.0366894089576671    & 0.0367432255480742    & 5.38165904071172e-05 \\\\\n",
       "\t stochastic vol MC     & 0.0368455978973328    & 0.0368018135250924    & -4.37843722403478e-05\\\\\n",
       "\\end{tabular}\n"
      ],
      "text/plain": [
       "  MC                gamma swap         gamma swap replicated\n",
       "1 local vol MC      0.0366894089576671 0.0367432255480742   \n",
       "2 stochastic vol MC 0.0368455978973328 0.0368018135250924   \n",
       "  hedging error        \n",
       "1 5.38165904071172e-05 \n",
       "2 -4.37843722403478e-05"
      ]
     },
     "metadata": {},
     "output_type": "display_data"
    }
   ],
   "source": [
    "gammaswapLV<-mean(sampleLV$gammaswap)\n",
    "gammaswapLV_rep<-mean(sampleLV$gammaswap_rep)\n",
    "gammaswapSV<-mean(sampleSV$gammaswap)\n",
    "gammaswapSV_rep<-mean(sampleSV$gammaswap_rep)\n",
    "res<-data.frame(matrix(ncol=4,nrow=2))\n",
    "res[1,]<-c(\"local vol MC\",gammaswapLV,gammaswapLV_rep,gammaswapLV_rep-gammaswapLV)\n",
    "res[2,]<-c(\"stochastic vol MC\",gammaswapSV,gammaswapSV_rep,gammaswapSV_rep-gammaswapSV)\n",
    "colnames(res)<-c(\"MC\",\"gamma swap\",\"gamma swap replicated\",\"hedging error\")\n",
    "res"
   ]
  },
  {
   "cell_type": "markdown",
   "metadata": {},
   "source": [
    "(b)"
   ]
  },
  {
   "cell_type": "code",
   "execution_count": 10,
   "metadata": {},
   "outputs": [
    {
     "data": {
      "text/html": [
       "<table>\n",
       "<thead><tr><th scope=col>MC</th><th scope=col>mean of heding error</th><th scope=col>std of hedging error</th></tr></thead>\n",
       "<tbody>\n",
       "\t<tr><td>local vol MC         </td><td>5.38165904071172e-05 </td><td>0.00367774392667476  </td></tr>\n",
       "\t<tr><td>stochastic vol MC    </td><td>-4.37843722403478e-05</td><td>0.0044956104328818   </td></tr>\n",
       "</tbody>\n",
       "</table>\n"
      ],
      "text/latex": [
       "\\begin{tabular}{r|lll}\n",
       " MC & mean of heding error & std of hedging error\\\\\n",
       "\\hline\n",
       "\t local vol MC          & 5.38165904071172e-05  & 0.00367774392667476  \\\\\n",
       "\t stochastic vol MC     & -4.37843722403478e-05 & 0.0044956104328818   \\\\\n",
       "\\end{tabular}\n"
      ],
      "text/plain": [
       "  MC                mean of heding error  std of hedging error\n",
       "1 local vol MC      5.38165904071172e-05  0.00367774392667476 \n",
       "2 stochastic vol MC -4.37843722403478e-05 0.0044956104328818  "
      ]
     },
     "metadata": {},
     "output_type": "display_data"
    }
   ],
   "source": [
    "res1<-data.frame(matrix(ncol=3,nrow=2))\n",
    "res1[1,]<-c(\"local vol MC\",gammaswapLV_rep-gammaswapLV,sd(sampleLV$gammaswap_rep-sampleLV$gammaswap))\n",
    "res1[2,]<-c(\"stochastic vol MC\",gammaswapSV_rep-gammaswapSV,sd(sampleSV$gammaswap_rep-sampleSV$gammaswap))\n",
    "colnames(res1)<-c(\"MC\",\"mean of heding error\",\"std of hedging error\")\n",
    "res1"
   ]
  },
  {
   "cell_type": "markdown",
   "metadata": {},
   "source": [
    "(c)"
   ]
  },
  {
   "cell_type": "code",
   "execution_count": 11,
   "metadata": {},
   "outputs": [
    {
     "data": {
      "image/png": "[encoded data removed]",
      "text/plain": [
       "Plot with title “Local volatility”"
      ]
     },
     "metadata": {},
     "output_type": "display_data"
    }
   ],
   "source": [
    "hist(sampleLV$gammaswap_rep-sampleLV$gammaswap, main=\"Local volatility\", xlab=\"replication errors\")"
   ]
  },
  {
   "cell_type": "code",
   "execution_count": 12,
   "metadata": {},
   "outputs": [
    {
     "data": {
      "image/png": "[encoded data removed]",
      "text/plain": [
       "Plot with title “Stochastic volatility”"
      ]
     },
     "metadata": {},
     "output_type": "display_data"
    }
   ],
   "source": [
    "hist(sampleSV$gammaswap_rep-sampleSV$gammaswap, main=\"Stochastic volatility\", xlab=\"replication errors\")"
   ]
  },
  {
   "cell_type": "code",
   "execution_count": null,
   "metadata": {
    "collapsed": true
   },
   "outputs": [],
   "source": []
  }
 ],
 "metadata": {
  "kernelspec": {
   "display_name": "R",
   "language": "R",
   "name": "ir"
  },
  "language_info": {
   "codemirror_mode": "r",
   "file_extension": ".r",
   "mimetype": "text/x-r-source",
   "name": "R",
   "pygments_lexer": "r",
   "version": "3.4.1"
  }
 },
 "nbformat": 4,
 "nbformat_minor": 1
}
