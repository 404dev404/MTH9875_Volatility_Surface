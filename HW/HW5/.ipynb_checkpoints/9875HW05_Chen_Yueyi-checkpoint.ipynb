{
 "cells": [
  {
   "cell_type": "markdown",
   "metadata": {},
   "source": [
    "# MTH9875 Homework 5\n",
    "\n",
    "Assigned: September 22, 2016.\n",
    "Due: October 6, 2016 by 6pm.\n",
    "\n",
    "Late homework **will not be accepted**."
   ]
  },
  {
   "cell_type": "markdown",
   "metadata": {},
   "source": [
    "<font color = \"red\">Homework is to be done by each student individually.  To receive full credit, you must email a completed copy of this iPython notebook to Victor Istratov (stavka@gmail.com), Yassine Ghalem (yassine.ghalem@gmail.com) and Jim Gatheral (jim.gatheral@gmail.com) by the due date and time.  All R-code must run correctly and solutions must be written up neatly in Markdown/LaTeX format."
   ]
  },
  {
   "cell_type": "markdown",
   "metadata": {},
   "source": [
    "## An empirical SPX volatility surface\n",
    "\n",
    "Friday, September 16, 2011 was triple witching day for SPX options and futures.  Thus, the volatility surface as of the close on the 15th, that includes September options expiring the following morning, should have a shape just as interesting as the one shown in Figure 3.2 of The Volatility Surface.  Indeed more interesting, because the term structure of volatility was downwards sloping."
   ]
  },
  {
   "cell_type": "markdown",
   "metadata": {},
   "source": [
    "### 1. (3 points)\n",
    "$$\n",
    "\\newcommand{\\supp}{\\mathrm{supp}}\n",
    "\\newcommand{\\E}{\\mathbb{E} }\n",
    "\\def\\Cov{{ \\mbox{Cov} }}\n",
    "\\def\\Var{{ \\mbox{Var} }}\n",
    "\\newcommand{\\1}{\\mathbf{1} }\n",
    "\\newcommand{\\PP}{\\mathbb{P} }\n",
    "%\\newcommand{\\Pr}{\\mathrm{Pr} }\n",
    "\\newcommand{\\QQ}{\\mathbb{Q} }\n",
    "\\newcommand{\\RR}{\\mathbb{R} }\n",
    "\\newcommand{\\DD}{\\mathbb{D} }\n",
    "\\newcommand{\\HH}{\\mathbb{H} }\n",
    "\\newcommand{\\spn}{\\mathrm{span} }\n",
    "\\newcommand{\\cov}{\\mathrm{cov} }\n",
    "\\newcommand{\\sgn}{\\mathrm{sgn} }\n",
    "\\newcommand{\\HS}{\\mathcal{L}_{\\mathrm{HS}} }\n",
    "%\\newcommand{\\HS}{\\mathrm{HS} }\n",
    "\\newcommand{\\trace}{\\mathrm{trace} }\n",
    "\\newcommand{\\LL}{\\mathcal{L} }\n",
    "%\\newcommand{\\LL}{\\mathrm{L} }\n",
    "\\newcommand{\\s}{\\mathcal{S} }\n",
    "\\newcommand{\\ee}{\\mathcal{E} }\n",
    "\\newcommand{\\ff}{\\mathcal{F} }\n",
    "\\newcommand{\\hh}{\\mathcal{H} }\n",
    "\\newcommand{\\bb}{\\mathcal{B} }\n",
    "\\newcommand{\\dd}{\\mathcal{D} }\n",
    "\\newcommand{\\g}{\\mathcal{G} }\n",
    "\\newcommand{\\half}{\\frac{1}{2} }\n",
    "\\newcommand{\\T}{\\mathcal{T} }\n",
    "\\newcommand{\\bi}{\\begin{itemize}}\n",
    "\\newcommand{\\ei}{\\end{itemize}}\n",
    "\\newcommand{\\beq}{\\begin{equation}}\n",
    "\\newcommand{\\eeq}{\\end{equation}}\n",
    "\\newcommand{\\beas}{\\begin{eqnarray*}}\n",
    "\\newcommand{\\eeas}{\\end{eqnarray*}}\n",
    "$$\n",
    "Derive the put-call parity formula for European options in the form\n",
    "\n",
    "$$\n",
    "C-P=PV\\,(F-K)\n",
    "$$ \n",
    "\n",
    "where $C$ is the call price, $P$ is the put price, $F$ is the forward price, $K$ is the strike and $PV$ is the discount factor."
   ]
  },
  {
   "cell_type": "markdown",
   "metadata": {},
   "source": [
    "<font color = \"purple\">\n",
    "###Solution:\n",
    "We start by constructing a portfolio,with long a call and short a put with the same $T$ and $K$, then we have the payoff($P$) of the portfolio:\n",
    "\n",
    "$$\n",
    "P = max(S_T - K, 0) - max(K - S_T, 0) = S_T - K\n",
    "$$\n",
    "\n",
    "which is a straight line, the exact payoff of a Forward contract with expiration $T$ and strike $K$.\n",
    "\n",
    "Under no arbitrage condition, the cost of the portfolio must be equal to the cost of the Forward contract.\n",
    "\n",
    "The payoff of the forward contract is $F_T - K$. The cost equals to the payoff times a discount factor. \n",
    "\n",
    "Therefore,\n",
    "$$\n",
    "C - P = PV(F - K)\n",
    "$$"
   ]
  },
  {
   "cell_type": "markdown",
   "metadata": {},
   "source": [
    "### Download some code\n",
    "\n",
    "The following code sources *BlackScholes.R* which has the Black-Scholes formula and implied volatility computation and *Heston2.R* which has in particular the *impvolHeston* function."
   ]
  },
  {
   "cell_type": "code",
   "execution_count": 1,
   "metadata": {},
   "outputs": [
    {
     "name": "stderr",
     "output_type": "stream",
     "text": [
      "Warning message in file(filename, \"r\", encoding = encoding):\n",
      "“无法打开文件'Heston.R': No such file or directory”"
     ]
    },
    {
     "ename": "ERROR",
     "evalue": "Error in file(filename, \"r\", encoding = encoding): 无法打开链结\n",
     "output_type": "error",
     "traceback": [
      "Error in file(filename, \"r\", encoding = encoding): 无法打开链结\nTraceback:\n",
      "1. source(\"Heston.R\")",
      "2. file(filename, \"r\", encoding = encoding)"
     ]
    }
   ],
   "source": [
    "download.file(url=\"http://mfe.baruch.cuny.edu/wp-content/uploads/2014/09/BlackScholes.R.zip\", destfile=\"BlackScholes.R.zip\")\n",
    "unzip(zipfile=\"BlackScholes.R.zip\")\n",
    "source(\"BlackScholes.R\")\n",
    "source(\"Heston.R\")"
   ]
  },
  {
   "cell_type": "markdown",
   "metadata": {},
   "source": [
    "### 2.  (8 points) \n",
    "\n",
    "Given $n$ option strikes from a given expiration $T$, write R-code to take the $2\\,n$ option prices and return $F$ and $PV$ for that expiration (obviously you need at least two strikes).  Test your code on the following prices for European options expiring in 36 days:\n",
    "\n",
    "| Strike | Call price | Put price |\n",
    "|--------|---------:|----------:|\n",
    "| 1190 | 52.23 | 37.51 | \n",
    "| 1195 | 49.11 | 39.34 | \n",
    "| 1200 | 46.59 | 41.52 | \n",
    "| 1205 | 43.13 | 42.55 | \n",
    "| 1210 | 40.21 | 45.40 | \n",
    "| 1215 | 37.45 | 47.57 | \n",
    "  \n",
    "\n",
    "\n",
    "\n",
    "With the resulting values of $F$ and $PV$, and using the implied volatility calculator in *BlackScholes.R*, compute implied volatilities for the above options.  Display these by adding a column to the above table."
   ]
  },
  {
   "cell_type": "code",
   "execution_count": 3,
   "metadata": {},
   "outputs": [
    {
     "name": "stdout",
     "output_type": "stream",
     "text": [
      "PV = 0.9946857 F= 1205.002"
     ]
    },
    {
     "data": {
      "text/html": [
       "<table>\n",
       "<thead><tr><th scope=col>K</th><th scope=col>C</th><th scope=col>P</th><th scope=col>vols</th></tr></thead>\n",
       "<tbody>\n",
       "\t<tr><td>1190     </td><td>52.33    </td><td>37.51    </td><td>0.2982052</td></tr>\n",
       "\t<tr><td>1195     </td><td>49.11    </td><td>39.34    </td><td>0.2941361</td></tr>\n",
       "\t<tr><td>1200     </td><td>46.59    </td><td>41.52    </td><td>0.2941983</td></tr>\n",
       "\t<tr><td>1205     </td><td>43.13    </td><td>42.55    </td><td>0.2873950</td></tr>\n",
       "\t<tr><td>1210     </td><td>40.21    </td><td>45.40    </td><td>0.2836099</td></tr>\n",
       "\t<tr><td>1215     </td><td>37.45    </td><td>47.57    </td><td>0.2802798</td></tr>\n",
       "</tbody>\n",
       "</table>\n"
      ],
      "text/latex": [
       "\\begin{tabular}{r|llll}\n",
       " K & C & P & vols\\\\\n",
       "\\hline\n",
       "\t 1190      & 52.33     & 37.51     & 0.2982052\\\\\n",
       "\t 1195      & 49.11     & 39.34     & 0.2941361\\\\\n",
       "\t 1200      & 46.59     & 41.52     & 0.2941983\\\\\n",
       "\t 1205      & 43.13     & 42.55     & 0.2873950\\\\\n",
       "\t 1210      & 40.21     & 45.40     & 0.2836099\\\\\n",
       "\t 1215      & 37.45     & 47.57     & 0.2802798\\\\\n",
       "\\end{tabular}\n"
      ],
      "text/plain": [
       "  K    C     P     vols     \n",
       "1 1190 52.33 37.51 0.2982052\n",
       "2 1195 49.11 39.34 0.2941361\n",
       "3 1200 46.59 41.52 0.2941983\n",
       "4 1205 43.13 42.55 0.2873950\n",
       "5 1210 40.21 45.40 0.2836099\n",
       "6 1215 37.45 47.57 0.2802798"
      ]
     },
     "metadata": {},
     "output_type": "display_data"
    }
   ],
   "source": [
    "#original data from the table\n",
    "K <- c(1190, 1195, 1200, 1205, 1210, 1215)\n",
    "C <- c(52.33, 49.11, 46.59, 43.13, 40.21, 37.45)\n",
    "P <- c(37.51, 39.34, 41.52, 42.55, 45.40, 47.57)\n",
    "\n",
    "Put_Call_Parity <- function(C, P, K)\n",
    "{# Linear regression for forward and discount factor\n",
    "    x <- C - P        \n",
    "    output <- lm(x ~ K)\n",
    "    PV <- -output$coeff[2]      #discount factor\n",
    "    F <- output$coeff[1] / PV   #forward\n",
    "    return (c(PV, F))\n",
    "}\n",
    "\n",
    "#store the forward and discount factor into \"res\"\n",
    "res <- Put_Call_Parity(C, P, K)  \n",
    "PV <- res[1]\n",
    "F <- res[2]\n",
    "cat(\"PV =\", PV, \"F=\", F)\n",
    "\n",
    "BS_backout <- function(PV, F, T)\n",
    "{    \n",
    "    return (c(PV * F, T, log(PV) / (-T)))\n",
    "}\n",
    "\n",
    "res <- BS_backout(PV, F, 36 / 365.25)\n",
    "S0 <- res[1]\n",
    "T <- res[2]\n",
    "r <- res[3]\n",
    "vols <- BSImpliedVolCall(S0, K, T, r, C)\n",
    "data.frame(cbind(K, C, P, vols))"
   ]
  },
  {
   "cell_type": "code",
   "execution_count": null,
   "metadata": {
    "collapsed": true
   },
   "outputs": [],
   "source": []
  },
  {
   "cell_type": "markdown",
   "metadata": {},
   "source": [
    "### Download code for problem 3.\n",
    "\n",
    "The following code loads the file *spxData110915.rData* into your working directory and sources *plotIvols.R* which has implied volatility smile plotting functionality."
   ]
  },
  {
   "cell_type": "code",
   "execution_count": 6,
   "metadata": {},
   "outputs": [
    {
     "name": "stdout",
     "output_type": "stream",
     "text": [
      "\n",
      "The downloaded binary packages are in\n",
      "\t/var/folders/jj/8s5vmnjd1rb8wlzzs915f6nm0000gn/T//RtmpLdfEGa/downloaded_packages\n"
     ]
    }
   ],
   "source": [
    "install.packages(\"stinepack\")\n",
    "download.file(url=\"http://mfe.baruch.cuny.edu/wp-content/uploads/2014/09/MTH9875_4_rFiles.zip\", destfile=\"rFiles4.zip\")\n",
    "unzip(zipfile=\"rFiles4.zip\")\n",
    "\n",
    "download.file(url=\"http://mfe.baruch.cuny.edu/wp-content/uploads/2014/09/spxOptionMetrics.rData_.zip\", destfile=\"spxOptionMetrics.rData.zip\")\n",
    "unzip(zipfile=\"spxOptionMetrics.rData.zip\")\n",
    "\n",
    "source(\"plotIvols.R\")"
   ]
  },
  {
   "cell_type": "markdown",
   "metadata": {},
   "source": [
    "*spxOptionMetrics.rData* contains in particular the data frame `spxData110915` which has all SPX options closing prices as of September 15, 2011.  Data is from OptionMetrics (http://www.optionmetrics.com/index.html) via WRDS (http://wrds-web.wharton.upenn.edu/wrds/).\n",
    "\n",
    "Note that SPX strike prices are out by a factor of 1000."
   ]
  },
  {
   "cell_type": "code",
   "execution_count": 7,
   "metadata": {},
   "outputs": [
    {
     "data": {
      "text/html": [
       "<table>\n",
       "<thead><tr><th></th><th scope=col>secid</th><th scope=col>date</th><th scope=col>symbol</th><th scope=col>symbol_flag</th><th scope=col>exdate</th><th scope=col>last_date</th><th scope=col>cp_flag</th><th scope=col>strike_price</th><th scope=col>best_bid</th><th scope=col>best_offer</th></tr></thead>\n",
       "<tbody>\n",
       "\t<tr><th scope=row>2559920</th><td>108105            </td><td>20110915          </td><td>SPX 110917C100000 </td><td>1                 </td><td>20110917          </td><td>20110815          </td><td>C                 </td><td> 100000           </td><td>1106.4            </td><td>1110.0            </td></tr>\n",
       "\t<tr><th scope=row>2559921</th><td>108105            </td><td>20110915          </td><td>SPX 110917C1000000</td><td>1                 </td><td>20110917          </td><td>20110915          </td><td>C                 </td><td>1000000           </td><td> 206.4            </td><td> 210.0            </td></tr>\n",
       "\t<tr><th scope=row>2559922</th><td>108105            </td><td>20110915          </td><td>SPX 110917C1005000</td><td>1                 </td><td>20110917          </td><td>20110829          </td><td>C                 </td><td>1005000           </td><td> 200.2            </td><td> 204.1            </td></tr>\n",
       "\t<tr><th scope=row>2559923</th><td>108105            </td><td>20110915          </td><td>SPX 110917C1010000</td><td>1                 </td><td>20110917          </td><td>20110829          </td><td>C                 </td><td>1010000           </td><td> 195.2            </td><td> 199.1            </td></tr>\n",
       "\t<tr><th scope=row>2559924</th><td>108105            </td><td>20110915          </td><td>SPX 110917C1015000</td><td>1                 </td><td>20110917          </td><td>20110912          </td><td>C                 </td><td>1015000           </td><td> 190.2            </td><td> 194.1            </td></tr>\n",
       "\t<tr><th scope=row>2559925</th><td>108105            </td><td>20110915          </td><td>SPX 110917C1020000</td><td>1                 </td><td>20110917          </td><td>20110909          </td><td>C                 </td><td>1020000           </td><td> 186.5            </td><td> 190.1            </td></tr>\n",
       "</tbody>\n",
       "</table>\n"
      ],
      "text/latex": [
       "\\begin{tabular}{r|llllllllll}\n",
       "  & secid & date & symbol & symbol\\_flag & exdate & last\\_date & cp\\_flag & strike\\_price & best\\_bid & best\\_offer\\\\\n",
       "\\hline\n",
       "\t2559920 & 108105             & 20110915           & SPX 110917C100000  & 1                  & 20110917           & 20110815           & C                  &  100000            & 1106.4             & 1110.0            \\\\\n",
       "\t2559921 & 108105             & 20110915           & SPX 110917C1000000 & 1                  & 20110917           & 20110915           & C                  & 1000000            &  206.4             &  210.0            \\\\\n",
       "\t2559922 & 108105             & 20110915           & SPX 110917C1005000 & 1                  & 20110917           & 20110829           & C                  & 1005000            &  200.2             &  204.1            \\\\\n",
       "\t2559923 & 108105             & 20110915           & SPX 110917C1010000 & 1                  & 20110917           & 20110829           & C                  & 1010000            &  195.2             &  199.1            \\\\\n",
       "\t2559924 & 108105             & 20110915           & SPX 110917C1015000 & 1                  & 20110917           & 20110912           & C                  & 1015000            &  190.2             &  194.1            \\\\\n",
       "\t2559925 & 108105             & 20110915           & SPX 110917C1020000 & 1                  & 20110917           & 20110909           & C                  & 1020000            &  186.5             &  190.1            \\\\\n",
       "\\end{tabular}\n"
      ],
      "text/plain": [
       "        secid  date     symbol             symbol_flag exdate   last_date\n",
       "2559920 108105 20110915 SPX 110917C100000  1           20110917 20110815 \n",
       "2559921 108105 20110915 SPX 110917C1000000 1           20110917 20110915 \n",
       "2559922 108105 20110915 SPX 110917C1005000 1           20110917 20110829 \n",
       "2559923 108105 20110915 SPX 110917C1010000 1           20110917 20110829 \n",
       "2559924 108105 20110915 SPX 110917C1015000 1           20110917 20110912 \n",
       "2559925 108105 20110915 SPX 110917C1020000 1           20110917 20110909 \n",
       "        cp_flag strike_price best_bid best_offer\n",
       "2559920 C        100000      1106.4   1110.0    \n",
       "2559921 C       1000000       206.4    210.0    \n",
       "2559922 C       1005000       200.2    204.1    \n",
       "2559923 C       1010000       195.2    199.1    \n",
       "2559924 C       1015000       190.2    194.1    \n",
       "2559925 C       1020000       186.5    190.1    "
      ]
     },
     "metadata": {},
     "output_type": "display_data"
    }
   ],
   "source": [
    "load(\"spxOptionMetrics.rData\")\n",
    "\n",
    "# Inspect the raw data\n",
    "head(spxData110915[,1:10])"
   ]
  },
  {
   "cell_type": "markdown",
   "metadata": {},
   "source": [
    "### 3.  (20 points) \n",
    "\n",
    "(a)\n",
    "Write a function in R called *generateIvols* that inputs *spxData110915* and outputs bid and offer implied volatilities for all strikes and expirations in a data frame that has the same format as the dataframe `spxOptData` from Lecture 5.\n",
    "\n",
    "\n",
    "(b)\n",
    "Plot your results using *plotIvols()*; your picture should look something like Figure 6 in the lecture slides (without the orange SVI fit of course).\n"
   ]
  },
  {
   "cell_type": "code",
   "execution_count": 43,
   "metadata": {
    "collapsed": true
   },
   "outputs": [],
   "source": [
    "#(a)\n",
    "storedata <- function(spxData)\n",
    "{\n",
    "    #Store put and call\n",
    "    spxC <- subset(spxData[,c(\"exdate\", \"strike_price\", \"cp_flag\", \"best_bid\", \"best_offer\", \"open_interest\")], cp_flag == \"C\")\n",
    "    spxP <- subset(spxData[,c(\"exdate\", \"strike_price\", \"cp_flag\", \"best_bid\", \"best_offer\", \"open_interest\")], cp_flag == \"P\")\n",
    "    #Combine the data into one frame\n",
    "    spx_combined <- merge(spxC, spxP, by=c(\"exdate\",\"strike_price\"))\n",
    "    optionByExDates <- split(spx_combined , f = spx_combined$exdate) \n",
    "    return (optionByExDates)\n",
    "}\n",
    "\n",
    "BSArg_backout <- function(data, T)\n",
    "{\n",
    "    filter_data <- subset(data, best_bid.x > 0 &  best_bid.y > 0)\n",
    "    call_mid <- (filter_data['best_bid.x'] + filter_data['best_offer.x']) / 2\n",
    "    put_mid <- (filter_data['best_bid.y'] + filter_data['best_offer.y']) / 2        \n",
    "    reg_Res <- Put_Call_Parity(as.vector(call_mid)[[1]], as.vector(put_mid)[[1]], as.vector(filter_data['strike_price'])[[1]])\n",
    "    arg_Res <- BS_backout(reg_Res[1],reg_Res[2], T)\n",
    "    return(arg_Res)\n",
    "}"
   ]
  },
  {
   "cell_type": "code",
   "execution_count": 44,
   "metadata": {},
   "outputs": [
    {
     "data": {
      "text/html": [
       "<table>\n",
       "<thead><tr><th scope=col>exdate</th><th scope=col>strike_price</th><th scope=col>cp_flag.x</th><th scope=col>best_bid.x</th><th scope=col>best_offer.x</th><th scope=col>open_interest.x</th><th scope=col>cp_flag.y</th><th scope=col>best_bid.y</th><th scope=col>best_offer.y</th><th scope=col>open_interest.y</th></tr></thead>\n",
       "<tbody>\n",
       "\t<tr><td>20110917</td><td> 100000 </td><td>C       </td><td>1106.4  </td><td>1110.0  </td><td>   0    </td><td>P       </td><td>0       </td><td>0.05    </td><td>     0  </td></tr>\n",
       "\t<tr><td>20110917</td><td>1000000 </td><td>C       </td><td> 206.4  </td><td> 210.0  </td><td>4213    </td><td>P       </td><td>0       </td><td>0.05    </td><td>121754  </td></tr>\n",
       "\t<tr><td>20110917</td><td>1005000 </td><td>C       </td><td> 200.2  </td><td> 204.1  </td><td>  11    </td><td>P       </td><td>0       </td><td>0.05    </td><td>  2298  </td></tr>\n",
       "\t<tr><td>20110917</td><td>1010000 </td><td>C       </td><td> 195.2  </td><td> 199.1  </td><td>   5    </td><td>P       </td><td>0       </td><td>0.05    </td><td>  5810  </td></tr>\n",
       "\t<tr><td>20110917</td><td>1015000 </td><td>C       </td><td> 190.2  </td><td> 194.1  </td><td>   5    </td><td>P       </td><td>0       </td><td>0.05    </td><td>  4321  </td></tr>\n",
       "\t<tr><td>20110917</td><td>1020000 </td><td>C       </td><td> 186.5  </td><td> 190.1  </td><td>  10    </td><td>P       </td><td>0       </td><td>0.05    </td><td>  9221  </td></tr>\n",
       "</tbody>\n",
       "</table>\n"
      ],
      "text/latex": [
       "\\begin{tabular}{r|llllllllll}\n",
       " exdate & strike\\_price & cp\\_flag.x & best\\_bid.x & best\\_offer.x & open\\_interest.x & cp\\_flag.y & best\\_bid.y & best\\_offer.y & open\\_interest.y\\\\\n",
       "\\hline\n",
       "\t 20110917 &  100000  & C        & 1106.4   & 1110.0   &    0     & P        & 0        & 0.05     &      0  \\\\\n",
       "\t 20110917 & 1000000  & C        &  206.4   &  210.0   & 4213     & P        & 0        & 0.05     & 121754  \\\\\n",
       "\t 20110917 & 1005000  & C        &  200.2   &  204.1   &   11     & P        & 0        & 0.05     &   2298  \\\\\n",
       "\t 20110917 & 1010000  & C        &  195.2   &  199.1   &    5     & P        & 0        & 0.05     &   5810  \\\\\n",
       "\t 20110917 & 1015000  & C        &  190.2   &  194.1   &    5     & P        & 0        & 0.05     &   4321  \\\\\n",
       "\t 20110917 & 1020000  & C        &  186.5   &  190.1   &   10     & P        & 0        & 0.05     &   9221  \\\\\n",
       "\\end{tabular}\n"
      ],
      "text/plain": [
       "  exdate   strike_price cp_flag.x best_bid.x best_offer.x open_interest.x\n",
       "1 20110917  100000      C         1106.4     1110.0          0           \n",
       "2 20110917 1000000      C          206.4      210.0       4213           \n",
       "3 20110917 1005000      C          200.2      204.1         11           \n",
       "4 20110917 1010000      C          195.2      199.1          5           \n",
       "5 20110917 1015000      C          190.2      194.1          5           \n",
       "6 20110917 1020000      C          186.5      190.1         10           \n",
       "  cp_flag.y best_bid.y best_offer.y open_interest.y\n",
       "1 P         0          0.05              0         \n",
       "2 P         0          0.05         121754         \n",
       "3 P         0          0.05           2298         \n",
       "4 P         0          0.05           5810         \n",
       "5 P         0          0.05           4321         \n",
       "6 P         0          0.05           9221         "
      ]
     },
     "metadata": {},
     "output_type": "display_data"
    }
   ],
   "source": [
    "tmp <- storedata(spxData110915)\n",
    "head(tmp[[1]])"
   ]
  },
  {
   "cell_type": "code",
   "execution_count": 51,
   "metadata": {
    "collapsed": true
   },
   "outputs": [],
   "source": [
    "calImpVol <- function(subdata, S0, r)\n",
    "{ \n",
    "    #store data\n",
    "    T <- subdata['Texp'][[1]]\n",
    "    #res['Expiry'] <- subdata[, 'exdate']\n",
    "    #res['Texp'] <- subdata[, 'Texp']\n",
    "    #res['Strike'] <- subdata[, 'strike_price']\n",
    "    out <- subdata[, c('exdate', 'Texp', 'strike_price')] \n",
    "    #imp vol of the call\n",
    "    out['Bid'] <- BSImpliedVolCall(S0, as.vector(subdata['strike_price'])[[1]], T, r, as.vector(subdata['best_bid.x'])[[1]])\n",
    "    out['Ask'] <- BSImpliedVolCall(S0, as.vector(subdata['strike_price'])[[1]], T, r, as.vector(subdata['best_offer.x'])[[1]])\n",
    "    \n",
    "    Fwd <- S0 * exp(r * T)\n",
    "    out['Fwd'] <- Fwd\n",
    "    colnames(res) <- c(\"Expiry\", \"Texp\", \"Strike\", \"Bid\", \"Ask\", \"Fwd\")\n",
    "    tol <- 2e-10\n",
    "    min_Bid <- min(out$Bid) \n",
    "    min_Ask <- min(out$Ask) \n",
    "    out$Bid[out$Bid == min_Bid] <- NaN\n",
    "    out$Ask[out$Ask == min_Ask] <- NaN\n",
    "    return(out)\n",
    "}\n",
    "generateIvols <- function(spxData)\n",
    "{\n",
    "    # The evaluation date\n",
    "    valDate <- as.Date(toString(unique(spxData110915[,\"date\"])[1]), '%Y%m%d')\n",
    "    optionByExDates <- storedata(spxData)\n",
    "    exDateCnt <- length(optionByExDates)\n",
    "    # Store the final result\n",
    "    df <- data.frame(Expirys=character(),\n",
    "                     Texp=double(),\n",
    "                     Strike=integer(),\n",
    "                     Bid=double(),\n",
    "                     Ask=double(),\n",
    "                     Fwd=double())   \n",
    "    # Loop through each ex dates\n",
    "    for (i in  1:exDateCnt)\n",
    "    {\n",
    "        subdata <- optionByExDates[[i]]\n",
    "        subdata['Texp'] <- (as.Date(toString(unique(subdata[,'exdate'])[1]), '%Y%m%d') - valDate) / 365.25\n",
    "        arg_Res <- BSArg_backout(subdata, subdata['Texp'][[1]])\n",
    "        S0 <- arg_Res[1]\n",
    "        T <- arg_Res[2]\n",
    "        r <- arg_Res[3]           \n",
    "        res <- calImpVol(subdata, S0, r)\n",
    "        df <- rbind(df, res)\n",
    "        #print(head(res))\n",
    "        #cat(\"\\nS0=\",S0, \"T=\",T,\"r=\",r, \"\\n\")\n",
    "    }\n",
    "    #return(optionByExDates)\n",
    "    return(df)\n",
    "}"
   ]
  },
  {
   "cell_type": "code",
   "execution_count": 56,
   "metadata": {},
   "outputs": [
    {
     "data": {
      "text/html": [
       "<table>\n",
       "<thead><tr><th scope=col>exdate</th><th scope=col>Texp</th><th scope=col>strike_price</th><th scope=col>Bid</th><th scope=col>Ask</th><th scope=col>Fwd</th></tr></thead>\n",
       "<tbody>\n",
       "\t<tr><td>20110917   </td><td>0.005475702</td><td> 100000    </td><td>10         </td><td>NaN        </td><td>1207.987   </td></tr>\n",
       "\t<tr><td>20110917   </td><td>0.005475702</td><td>1000000    </td><td>10         </td><td>NaN        </td><td>1207.987   </td></tr>\n",
       "\t<tr><td>20110917   </td><td>0.005475702</td><td>1005000    </td><td>10         </td><td>NaN        </td><td>1207.987   </td></tr>\n",
       "\t<tr><td>20110917   </td><td>0.005475702</td><td>1010000    </td><td>10         </td><td>NaN        </td><td>1207.987   </td></tr>\n",
       "\t<tr><td>20110917   </td><td>0.005475702</td><td>1015000    </td><td>10         </td><td>NaN        </td><td>1207.987   </td></tr>\n",
       "\t<tr><td>20110917   </td><td>0.005475702</td><td>1020000    </td><td>10         </td><td>NaN        </td><td>1207.987   </td></tr>\n",
       "</tbody>\n",
       "</table>\n"
      ],
      "text/latex": [
       "\\begin{tabular}{r|llllll}\n",
       " exdate & Texp & strike\\_price & Bid & Ask & Fwd\\\\\n",
       "\\hline\n",
       "\t 20110917    & 0.005475702 &  100000     & 10          & NaN         & 1207.987   \\\\\n",
       "\t 20110917    & 0.005475702 & 1000000     & 10          & NaN         & 1207.987   \\\\\n",
       "\t 20110917    & 0.005475702 & 1005000     & 10          & NaN         & 1207.987   \\\\\n",
       "\t 20110917    & 0.005475702 & 1010000     & 10          & NaN         & 1207.987   \\\\\n",
       "\t 20110917    & 0.005475702 & 1015000     & 10          & NaN         & 1207.987   \\\\\n",
       "\t 20110917    & 0.005475702 & 1020000     & 10          & NaN         & 1207.987   \\\\\n",
       "\\end{tabular}\n"
      ],
      "text/plain": [
       "  exdate   Texp        strike_price Bid Ask Fwd     \n",
       "1 20110917 0.005475702  100000      10  NaN 1207.987\n",
       "2 20110917 0.005475702 1000000      10  NaN 1207.987\n",
       "3 20110917 0.005475702 1005000      10  NaN 1207.987\n",
       "4 20110917 0.005475702 1010000      10  NaN 1207.987\n",
       "5 20110917 0.005475702 1015000      10  NaN 1207.987\n",
       "6 20110917 0.005475702 1020000      10  NaN 1207.987"
      ]
     },
     "metadata": {},
     "output_type": "display_data"
    }
   ],
   "source": [
    "res <- generateIvols(spxData110915)\n",
    "head(res)"
   ]
  },
  {
   "cell_type": "code",
   "execution_count": 57,
   "metadata": {},
   "outputs": [
    {
     "ename": "ERROR",
     "evalue": "Error in order(Expiry, Strike): 找不到对象'Expiry'\n",
     "output_type": "error",
     "traceback": [
      "Error in order(Expiry, Strike): 找不到对象'Expiry'\nTraceback:\n",
      "1. res[with(res, order(Expiry, Strike)), ]",
      "2. `[.data.frame`(res, with(res, order(Expiry, Strike)), )",
      "3. with(res, order(Expiry, Strike))",
      "4. with.default(res, order(Expiry, Strike))",
      "5. eval(substitute(expr), data, enclos = parent.frame())",
      "6. eval(expr, envir, enclos)",
      "7. order(Expiry, Strike)"
     ]
    }
   ],
   "source": [
    "#(b)\n",
    "volData <- res[with(res, order(Expiry, Strike)), ]\n",
    "plotIvols(volData)"
   ]
  },
  {
   "cell_type": "markdown",
   "metadata": {},
   "source": [
    "## Approximate calibration of the Heston parameters"
   ]
  },
  {
   "cell_type": "markdown",
   "metadata": {},
   "source": [
    "### 4.  (26 points) \n",
    "\n",
    "(a)\n",
    "Using the Lecture 5 R-code as a base, write R-code to fit the approximate formula (23) for ATM variance skew to the empirical ATM skew estimates in Table 2 of Lecture 5. \n",
    "\n",
    "\n",
    "(b)\n",
    "Using your code from (a) and all the points, assuming $\\rho=-0.7$, estimate the Heston parameters $\\lambda$ and $\\eta$. How similar are your estimates the Heston parameters $\\lambda$ and $\\eta$ to the estimates from September 2005 listed in Table 3 of Lecture 5?  Are Heston fitted parameters stable over time?\n",
    "\n",
    "\n",
    "(c)\n",
    "Repeat (a) and (b) dropping the first expiries, as in Lecture 5.\n",
    "\n",
    "\n",
    "(d) Fit a power law of the form $A/T^\\alpha$ to the ATM variance skew data (all points).\n",
    "\n",
    "\n",
    "(e) \n",
    "Superimpose graphs of your resulting ATM skew fits from (b), (c), and (d) to generate a plot like Figure 8 of Lecture 5.\n",
    "\n",
    "(f)\n",
    "Using the Lecture 5 R-code as a base, write R-code to fit the approximate formula (20) \n",
    "\n",
    "$$\n",
    "\\left.{\\sigma_{BS}(K,T)^2}\\right|_{K=F_T} \\approx \\left( {{ v - \\bar v'}}\\right)\\frac{1- e^{ -\n",
    "\\lambda' \\,T}}{\\lambda' \\,T} + \\bar v'.\n",
    "$$\n",
    "\n",
    "for ATM variance to the empirical ATM variance estimates in Table 2 of Lecture 5.\n",
    "\n",
    "(g) Graph the empirical ATM variance vs time to expiration and your fit from (f) to generate a plot like Figure 9 of Lecture 5.\n",
    "\n",
    "(h)\n",
    "Amend the plotIvols() code (renaming it plotIvolsHeston(..)) to take data and Heston parameters as input and superimpose Heston smiles on the empirical smiles.  Using your fitted parameters from (c) and (f) to get a picture like Figure 4 or Figure 7 of Lecture 5 (except that Heston doesn't fit!). (You may have to vectorize the *impvolHeston* function to get this to work in the iPython notebook.)\n",
    "\n",
    "(i) \n",
    "Note that the Heston smiles are consistently below the empirical smiles.  Why is that? How do Heston skews compare with empirical skews?"
   ]
  },
  {
   "cell_type": "code",
   "execution_count": 66,
   "metadata": {
    "collapsed": true
   },
   "outputs": [],
   "source": [
    "#(a)\n",
    "skewHeston <- function(skew_Params,texp)\n",
    "{#skew of heston\n",
    "    rhoeta <- skew_Params[1]\n",
    "    lam <- skew_Params[2]\n",
    "    lt <- lam*texp\n",
    "    skew <- rhoeta/lt*(1-(1-exp(-lt))/lt)\n",
    "    return(skew)    \n",
    "}\n",
    "\n",
    "skewObj <- function(skew_Params)\n",
    "{\n",
    "    skew_Model <- skewHeston(skew_Params,texp[-1])\n",
    "    skew_Emp <- atm_Skews[-1]\n",
    "    objective <-sum((skew_Model-skew_Emp)^2)\n",
    "    return(objective*1000000)\n",
    "}"
   ]
  },
  {
   "cell_type": "code",
   "execution_count": 67,
   "metadata": {
    "collapsed": true
   },
   "outputs": [],
   "source": [
    "#data input\n",
    "atm_Skews <- c(-0.7343,-0.5164,-0.4439,-0.3741,-0.2525,-0.2122,-0.1658,-0.1339,-0.1185)\n",
    "texp <- c(0.0054757015742642, 0.101300479123888, 0.177960301163587,0.254620123203285, 0.503764544832307,0.752908966461328, 1.2703627652293, 1.76865160848734, 2.26694045174538)"
   ]
  },
  {
   "cell_type": "code",
   "execution_count": 70,
   "metadata": {},
   "outputs": [
    {
     "data": {
      "text/html": [
       "1.70677367315527"
      ],
      "text/latex": [
       "1.70677367315527"
      ],
      "text/markdown": [
       "1.70677367315527"
      ],
      "text/plain": [
       "[1] 1.706774"
      ]
     },
     "metadata": {},
     "output_type": "display_data"
    },
    {
     "data": {
      "text/html": [
       "5.54054030529943"
      ],
      "text/latex": [
       "5.54054030529943"
      ],
      "text/markdown": [
       "5.54054030529943"
      ],
      "text/plain": [
       "[1] 5.54054"
      ]
     },
     "metadata": {},
     "output_type": "display_data"
    }
   ],
   "source": [
    "#(b)\n",
    "res1 <- optim(c(-0.7*.39,1.15),skewObj)\n",
    "fit1 <- res1$par \n",
    "eta <- fit1[1] / (-0.7)\n",
    "lambda <- fit1[2]\n",
    "eta\n",
    "lambda"
   ]
  },
  {
   "cell_type": "code",
   "execution_count": 82,
   "metadata": {},
   "outputs": [
    {
     "data": {
      "text/html": [
       "1.70677367315527"
      ],
      "text/latex": [
       "1.70677367315527"
      ],
      "text/markdown": [
       "1.70677367315527"
      ],
      "text/plain": [
       "[1] 1.706774"
      ]
     },
     "metadata": {},
     "output_type": "display_data"
    },
    {
     "data": {
      "text/html": [
       "5.54054030529943"
      ],
      "text/latex": [
       "5.54054030529943"
      ],
      "text/markdown": [
       "5.54054030529943"
      ],
      "text/plain": [
       "[1] 5.54054"
      ]
     },
     "metadata": {},
     "output_type": "display_data"
    }
   ],
   "source": [
    "#(c)\n",
    "atm_Skews <- c(-0.3741,-0.2525,-0.2122,-0.1658,-0.1339,-0.1185)\n",
    "texp <- c(0.254620123203285, 0.503764544832307,0.752908966461328, 1.2703627652293, 1.76865160848734, 2.26694045174538)\n",
    "res2 <- optim(c(-0.7*.39,1.15),skewObj)\n",
    "fit2 <- res1$par \n",
    "eta <- fit2[1] / (-0.7)\n",
    "lambda <- fit2[2]\n",
    "eta\n",
    "lambda"
   ]
  },
  {
   "cell_type": "code",
   "execution_count": 83,
   "metadata": {},
   "outputs": [
    {
     "data": {
      "text/html": [
       "-0.858885898970005"
      ],
      "text/latex": [
       "-0.858885898970005"
      ],
      "text/markdown": [
       "-0.858885898970005"
      ],
      "text/plain": [
       "[1] -0.8588859"
      ]
     },
     "metadata": {},
     "output_type": "display_data"
    }
   ],
   "source": [
    "#(d)\n",
    "skewPowerLaw <- function(alpha,t)\n",
    "{\n",
    "    return(atmSkews[5]*(t/texp[5])^alpha)   \n",
    "}\n",
    "\n",
    "skewObj2 <- function(alpha)\n",
    "{    \n",
    "    skew_Model <- skewPowerLaw(alpha,texp[-1])\n",
    "    skew_Emp <- atm_Skews[-1]\n",
    "    obj <-sum((skew_Model-skew_Emp)^2)\n",
    "    return(obj*1000000)\n",
    "}\n",
    "\n",
    "atm_Skews <- c(-0.7343,-0.5164,-0.4439,-0.3741,-0.2525,-0.2122,-0.1658,-0.1339,-0.1185)\n",
    "texp <- c(0.0054757015742642, 0.101300479123888, 0.177960301163587,0.254620123203285, 0.503764544832307,0.752908966461328, 1.2703627652293, 1.76865160848734, 2.26694045174538)\n",
    "res3 <- optim(c(-0.7*.39,1.15),skewObj2)\n",
    "fit3 <- res3$par \n",
    "alpha <-fit3[1]\n",
    "alpha"
   ]
  },
  {
   "cell_type": "code",
   "execution_count": 94,
   "metadata": {},
   "outputs": [
    {
     "data": {
      "image/png": "[encoded data removed]",
      "text/plain": [
       "plot without title"
      ]
     },
     "metadata": {},
     "output_type": "display_data"
    }
   ],
   "source": [
    "#(e)\n",
    "x = seq(0,2.4,by=0.001)\n",
    "plot(texp,atm_Skews,col=\"blue\",xlab=\"Time to expiration\",ylab=\"ATM skew\")\n",
    "lines(x,skewHeston(fit1,x),col=\"purple\")\n",
    "lines(x,skewHeston(fit2,x),col=\"dark green\")\n",
    "lines(x,skewPowerLaw(fit3[1],x),col=\"red\")"
   ]
  },
  {
   "cell_type": "code",
   "execution_count": 92,
   "metadata": {
    "collapsed": true
   },
   "outputs": [],
   "source": [
    "#(f)\n",
    "plotIvolsHeston <- function (ivolData, sviMatrix = NULL, slices = NULL) \n",
    "{\n",
    "    bidVols <- as.numeric(ivolData$Bid)\n",
    "    askVols <- as.numeric(ivolData$Ask)\n",
    "    expDates <- unique(ivolData$Texp)\n",
    "    nSlices <- length(expDates)\n",
    "    if (!is.null(slices)) {\n",
    "        nSlices <- length(slices)\n",
    "    }\n",
    "    else {\n",
    "        slices <- 1:nSlices\n",
    "    }\n",
    "    colnum <- sqrt(nSlices * 2)\n",
    "    rows <- round(colnum/2, 0)\n",
    "    columns <- round(colnum, 0)\n",
    "    while (rows * columns < nSlices) {\n",
    "        rows <- rows + 1\n",
    "    }\n",
    "    atmVol <- numeric(nSlices)\n",
    "    atm_Skew <- numeric(nSlices)\n",
    "    #par(mfrow = c(rows, columns), mex = 0.5)\n",
    "    for (slice in slices) {\n",
    "        t <- expDates[slice]\n",
    "        texp <- ivolData$Texp\n",
    "        bidVol <- bidVols[texp == t]\n",
    "        askVol <- askVols[texp == t]\n",
    "        midVol <- (bidVol + askVol)/2\n",
    "        f <- (ivolData$Fwd[texp == t])[1]\n",
    "        k <- log(ivolData$Strike[texp == t]/f)\n",
    "        include <- !is.na(bidVol)\n",
    "        kmin <- min(k[include])\n",
    "        kmax <- max(k[include])\n",
    "        ybottom <- 0.8 * min(bidVol[include])\n",
    "        ytop <- 1.2 * max(askVol[include], na.rm = T)\n",
    "        xrange <- c(kmin, kmax)\n",
    "        yrange <- c(ybottom, ytop)\n",
    "        plot(k, bidVol, col = \"red\", pch = 18, cex = 0.5, xlim = xrange, \n",
    "            ylim = yrange, main = paste(\"T =\", format(t, digits = 2, \n",
    "                nsmall = 2)), xlab = \"Log-Strike\", ylab = \"Implied Vol.\")\n",
    "        par(new = T)\n",
    "        plot(k, askVol, col = \"blue\", pch = 18, cex = 0.5, xlim = xrange, \n",
    "            ylim = yrange, main = NA, xlab = NA, ylab = NA)\n",
    "        paramsFit1 <- list(lambda = fit1[2],rho = -0.7,eta = fit2[1] / (-0.7),vbar = 0.04,v = 0.04) \n",
    "        ImpliedVols <- sapply(k,function(x){impvolHeston(paramsFit1)(x,t)}) \n",
    "        lines(k,ImpliedVols)\n",
    "        if ((!is.null(sviMatrix))) {\n",
    "            vol <- function(k) {\n",
    "                sqrt(svi(sviMatrix[slice, ], k)/t)\n",
    "            }\n",
    "            par(new = T)\n",
    "            curve(vol(x), from = kmin, to = kmax, col = \"orange\", \n",
    "                lwd = 2, add = T)\n",
    "        }\n",
    "        kIn <- k[!is.na(midVol)]\n",
    "        volIn <- midVol[!is.na(midVol)]\n",
    "        volInterp <- function(xout) {\n",
    "            stinterp(x = kIn, y = volIn, xout)$y\n",
    "        }\n",
    "        atmVol[slice] <- volInterp(0)\n",
    "        atm_Skew[slice] <- (volInterp(0.01) - volInterp(-0.01))/0.02\n",
    "    }\n",
    "    par(mfrow = c(1, 1), mex = 1)\n",
    "    par(new = F)\n",
    "    return(list(expiries = expDates, atmVol = atmVol, atm_Skew = atm_Skew))\n",
    "}"
   ]
  },
  {
   "cell_type": "code",
   "execution_count": 93,
   "metadata": {},
   "outputs": [
    {
     "name": "stderr",
     "output_type": "stream",
     "text": [
      "Warning message in min(k[include]):\n",
      "“min里所有的参数都不存在; 回覆Inf”Warning message in max(k[include]):\n",
      "“max里所有的参数都不存在；回覆-Inf”Warning message in min(bidVol[include]):\n",
      "“min里所有的参数都不存在; 回覆Inf”Warning message in max(askVol[include], na.rm = T):\n",
      "“max里所有的参数都不存在；回覆-Inf”Warning message in min(x):\n",
      "“min里所有的参数都不存在; 回覆Inf”Warning message in max(x):\n",
      "“max里所有的参数都不存在；回覆-Inf”Warning message in min(x):\n",
      "“min里所有的参数都不存在; 回覆Inf”Warning message in max(x):\n",
      "“max里所有的参数都不存在；回覆-Inf”"
     ]
    },
    {
     "ename": "ERROR",
     "evalue": "Error in plot.window(...): 'xlim'值不能是无限的\n",
     "output_type": "error",
     "traceback": [
      "Error in plot.window(...): 'xlim'值不能是无限的\nTraceback:\n",
      "1. plotIvolsHeston(volSelect)",
      "2. plot(k, bidVol, col = \"red\", pch = 18, cex = 0.5, main = paste(\"T =\", \n .     format(t, digits = 2, nsmall = 2)), xlab = \"Log-Strike\", \n .     ylab = \"Implied Vol.\")   # at line 38-39 of file <text>",
      "3. plot.default(k, bidVol, col = \"red\", pch = 18, cex = 0.5, main = paste(\"T =\", \n .     format(t, digits = 2, nsmall = 2)), xlab = \"Log-Strike\", \n .     ylab = \"Implied Vol.\")",
      "4. localWindow(xlim, ylim, log, asp, ...)",
      "5. plot.window(...)"
     ]
    },
    {
     "data": {
      "image/png": "[encoded data removed]",
      "text/plain": [
       "plot without title"
      ]
     },
     "metadata": {},
     "output_type": "display_data"
    }
   ],
   "source": [
    "volSelect <- generateIvols(spxData110915)\n",
    "volSelect <- volSelect[volSelect$cp_flag==\"C\",]\n",
    "volSelect <- volSelect[with(volSelect, order(Texp, strike_price)), ]\n",
    "plotIvolsHeston(volSelect)"
   ]
  },
  {
   "cell_type": "markdown",
   "metadata": {},
   "source": [
    "(g)\n",
    "\n",
    "Heston smiles are consistently below the empirical smiles, because heston model cannot have that much kink due to the fixed shape(fixed formulas), therefore lack of freedom.\n",
    "\n",
    "Heston skews comparing with empirical skews may not match all the points very well, which is also due to the fixed shape (fixed formulas) , therefore lack of freedom."
   ]
  },
  {
   "cell_type": "code",
   "execution_count": null,
   "metadata": {
    "collapsed": true
   },
   "outputs": [],
   "source": []
  }
 ],
 "metadata": {
  "anaconda-cloud": {},
  "kernelspec": {
   "display_name": "R",
   "language": "R",
   "name": "ir"
  },
  "language_info": {
   "codemirror_mode": "r",
   "file_extension": ".r",
   "mimetype": "text/x-r-source",
   "name": "R",
   "pygments_lexer": "r",
   "version": "3.4.1"
  }
 },
 "nbformat": 4,
 "nbformat_minor": 1
}
