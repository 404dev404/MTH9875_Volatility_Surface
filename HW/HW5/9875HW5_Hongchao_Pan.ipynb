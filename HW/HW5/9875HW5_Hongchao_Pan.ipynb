{
 "cells": [
  {
   "cell_type": "markdown",
   "metadata": {},
   "source": [
    "# MTH9875 Homework 5\n",
    "\n",
    "Assigned: September 28, 2017.\n",
    "Due: October 12, 2017 by 6pm.\n",
    "\n",
    "Late homework **will not be accepted**."
   ]
  },
  {
   "cell_type": "markdown",
   "metadata": {},
   "source": [
    "<font color = \"red\">Homework is to be done by each student individually.  To receive full credit, you must email a completed copy of this iPython notebook to Victor Istratov (stavka@gmail.com), Yassine Ghalem (yassine.ghalem@gmail.com) and Jim Gatheral (jim.gatheral@gmail.com) by the due date and time.  All R-code must run correctly and solutions must be written up neatly in Markdown/LaTeX format."
   ]
  },
  {
   "cell_type": "markdown",
   "metadata": {},
   "source": [
    "* **Author: Hongchao Pan**\n",
    "* Kernel Version: R 3.3.2\n",
    "* Packages/Libraries: \n",
    "* Notes:\n"
   ]
  },
  {
   "cell_type": "code",
   "execution_count": null,
   "metadata": {
    "collapsed": true
   },
   "outputs": [],
   "source": [
    "# Record the time\n",
    "ptm<-proc.time()"
   ]
  },
  {
   "cell_type": "markdown",
   "metadata": {},
   "source": [
    "## An empirical SPX volatility surface\n",
    "\n",
    "Friday, March 18, 2016 was triple witching day for SPX options and futures.  Thus, the volatility surface as of the close on the 17th, that includes March options expiring the following morning, should have a shape just as interesting as the one shown in Figure 3.2 of The Volatility Surface.  And there are many more expirations.  Note in particular that a large share of the total volume in SPX options is now in weeklies."
   ]
  },
  {
   "cell_type": "markdown",
   "metadata": {},
   "source": [
    "### 1. (3 points)\n",
    "$$\n",
    "\\newcommand{\\supp}{\\mathrm{supp}}\n",
    "\\newcommand{\\E}{\\mathbb{E} }\n",
    "\\def\\Cov{{ \\mbox{Cov} }}\n",
    "\\def\\Var{{ \\mbox{Var} }}\n",
    "\\newcommand{\\1}{\\mathbf{1} }\n",
    "\\newcommand{\\PP}{\\mathbb{P} }\n",
    "%\\newcommand{\\Pr}{\\mathrm{Pr} }\n",
    "\\newcommand{\\QQ}{\\mathbb{Q} }\n",
    "\\newcommand{\\RR}{\\mathbb{R} }\n",
    "\\newcommand{\\DD}{\\mathbb{D} }\n",
    "\\newcommand{\\HH}{\\mathbb{H} }\n",
    "\\newcommand{\\spn}{\\mathrm{span} }\n",
    "\\newcommand{\\cov}{\\mathrm{cov} }\n",
    "\\newcommand{\\sgn}{\\mathrm{sgn} }\n",
    "\\newcommand{\\HS}{\\mathcal{L}_{\\mathrm{HS}} }\n",
    "%\\newcommand{\\HS}{\\mathrm{HS} }\n",
    "\\newcommand{\\trace}{\\mathrm{trace} }\n",
    "\\newcommand{\\LL}{\\mathcal{L} }\n",
    "%\\newcommand{\\LL}{\\mathrm{L} }\n",
    "\\newcommand{\\s}{\\mathcal{S} }\n",
    "\\newcommand{\\ee}{\\mathcal{E} }\n",
    "\\newcommand{\\ff}{\\mathcal{F} }\n",
    "\\newcommand{\\hh}{\\mathcal{H} }\n",
    "\\newcommand{\\bb}{\\mathcal{B} }\n",
    "\\newcommand{\\dd}{\\mathcal{D} }\n",
    "\\newcommand{\\g}{\\mathcal{G} }\n",
    "\\newcommand{\\half}{\\frac{1}{2} }\n",
    "\\newcommand{\\T}{\\mathcal{T} }\n",
    "\\newcommand{\\bi}{\\begin{itemize}}\n",
    "\\newcommand{\\ei}{\\end{itemize}}\n",
    "\\newcommand{\\beq}{\\begin{equation}}\n",
    "\\newcommand{\\eeq}{\\end{equation}}\n",
    "\\newcommand{\\beas}{\\begin{eqnarray*}}\n",
    "\\newcommand{\\eeas}{\\end{eqnarray*}}\n",
    "$$\n",
    "Derive the put-call parity formula for European options in the form\n",
    "\n",
    "$$\n",
    "C-P=PV\\,(F-K)\n",
    "$$ \n",
    "\n",
    "where $C$ is the call price, $P$ is the put price, $F$ is the forward price, $K$ is the strike and $PV$ is the discount factor."
   ]
  },
  {
   "cell_type": "markdown",
   "metadata": {},
   "source": [
    "### Answer of Q1"
   ]
  },
  {
   "cell_type": "markdown",
   "metadata": {},
   "source": [
    "* Construct the following two portfolio:\n",
    "    * Portfolio 1: Long 1 unit call and short 1 unit put with strike K and spot price S.\n",
    "    * Portfolio 2: Long 1 share the underlying asset and borrow K units of zero-coupon bond with $\\$1$ at maturity.\n",
    "    \n",
    "* Based on the construction, we know the two portfolio both have payoff $S_T-K$ at maturity.\n",
    "\n",
    "* Based on the non-arbitrage condition that two portfolio have same payoff at maturity should have same price at any time before maturity $T$.\n",
    "\n",
    "* With notation that, $PV$ is the discount factor, $F$ is the forward price, and $B$ is the price of zero-coupon bond, then we have:\n",
    "\n",
    "\\begin{eqnarray*}\n",
    "C-P &=& S-K\\times B\\\\\n",
    "&=&PV\\times F- PV\\times K\\\\\n",
    "&=&PV(F-K)\n",
    "\\end{eqnarray*}"
   ]
  },
  {
   "cell_type": "markdown",
   "metadata": {},
   "source": [
    "### Download some code\n",
    "\n",
    "The following code sources `BlackScholes.R` which has the Black-Scholes formula and implied volatility computation and `Heston2.R` which has in particular the `impvolHeston` function."
   ]
  },
  {
   "cell_type": "code",
   "execution_count": 6,
   "metadata": {},
   "outputs": [],
   "source": [
    "download.file(url=\"http://mfe.baruch.cuny.edu/wp-content/uploads/2017/09/rFilesHW5.zip\", destfile=\"rFilesHW5.zip\")\n",
    "unzip(zipfile=\"rFilesHW5.zip\")\n",
    "\n",
    "source(\"BlackScholes.R\")\n",
    "source(\"Heston2.R\")\n",
    "source(\"plotIvols.R\")"
   ]
  },
  {
   "cell_type": "code",
   "execution_count": 7,
   "metadata": {
    "collapsed": true
   },
   "outputs": [],
   "source": [
    "# Load required packages\n",
    "library(\"stinepack\")"
   ]
  },
  {
   "cell_type": "markdown",
   "metadata": {},
   "source": [
    "### 2.  (8 points) \n",
    "\n",
    "Given $n$ option strikes from a given expiration $T$, write R-code to take the $2\\,n$ option prices and return $F$ and $PV$ for that expiration (obviously you need at least two strikes).  Test your code on the following prices for European options expiring in 36 days:\n",
    "\n",
    "| Strike | Call price | Put price |\n",
    "|--------|---------:|----------:|\n",
    "| 1190 | 52.23 | 37.51 | \n",
    "| 1195 | 49.11 | 39.34 | \n",
    "| 1200 | 46.59 | 41.52 | \n",
    "| 1205 | 43.13 | 42.55 | \n",
    "| 1210 | 40.21 | 45.40 | \n",
    "| 1215 | 37.45 | 47.57 | \n",
    "  \n",
    "\n",
    "\n",
    "\n",
    "With the resulting values of $F$ and $PV$, and using the implied volatility calculator in `BlackScholes.R`, compute implied volatilities for the above options.  Display these by adding a column to the above table."
   ]
  },
  {
   "cell_type": "markdown",
   "metadata": {},
   "source": [
    "### Answer of Q2"
   ]
  },
  {
   "cell_type": "code",
   "execution_count": 8,
   "metadata": {
    "collapsed": true
   },
   "outputs": [],
   "source": [
    "# Retrive given data from the table\n",
    "T <- 36*1.0/365\n",
    "strikes <- c(1190,1195,1200,1205,1210,1215)\n",
    "C <- c(52.23,49.11,46.59,43.13,40.21,37.45)\n",
    "P <- c(37.51,39.34,41.52,42.55,45.40,47.57)"
   ]
  },
  {
   "cell_type": "code",
   "execution_count": 18,
   "metadata": {},
   "outputs": [
    {
     "name": "stdout",
     "output_type": "stream",
     "text": [
      "The discount factor PV is:  0.9918286 \n",
      "The future price F is:  1204.992 \n"
     ]
    }
   ],
   "source": [
    "# Compute F and PV based on the Put-call parity in Q1\n",
    "# C-P=PV(F-K)=PV*F-PV*K\n",
    "# Compute the PV and F based on the linear regression\n",
    "reg <- lm((C-P)~strikes)\n",
    "PV <- -reg$coefficients[[2]]\n",
    "F <- reg$coefficients[[1]]/PV\n",
    "\n",
    "cat(\"The discount factor PV is: \",PV,\"\\n\")\n",
    "cat(\"The future price F is: \",F,\"\\n\")\n"
   ]
  },
  {
   "cell_type": "code",
   "execution_count": 21,
   "metadata": {},
   "outputs": [
    {
     "data": {
      "text/html": [
       "<table>\n",
       "<thead><tr><th scope=col>Strike</th><th scope=col>Call price</th><th scope=col>Put price</th><th scope=col>Implied Vol</th></tr></thead>\n",
       "<tbody>\n",
       "\t<tr><td>1190     </td><td>52.23    </td><td>37.51    </td><td>0.2984816</td></tr>\n",
       "\t<tr><td>1195     </td><td>49.11    </td><td>39.34    </td><td>0.2950218</td></tr>\n",
       "\t<tr><td>1200     </td><td>46.59    </td><td>41.52    </td><td>0.2950292</td></tr>\n",
       "\t<tr><td>1205     </td><td>43.13    </td><td>42.55    </td><td>0.2881578</td></tr>\n",
       "\t<tr><td>1210     </td><td>40.21    </td><td>45.40    </td><td>0.2843159</td></tr>\n",
       "\t<tr><td>1215     </td><td>37.45    </td><td>47.57    </td><td>0.2809337</td></tr>\n",
       "</tbody>\n",
       "</table>\n"
      ],
      "text/latex": [
       "\\begin{tabular}{r|llll}\n",
       " Strike & Call price & Put price & Implied Vol\\\\\n",
       "\\hline\n",
       "\t 1190      & 52.23     & 37.51     & 0.2984816\\\\\n",
       "\t 1195      & 49.11     & 39.34     & 0.2950218\\\\\n",
       "\t 1200      & 46.59     & 41.52     & 0.2950292\\\\\n",
       "\t 1205      & 43.13     & 42.55     & 0.2881578\\\\\n",
       "\t 1210      & 40.21     & 45.40     & 0.2843159\\\\\n",
       "\t 1215      & 37.45     & 47.57     & 0.2809337\\\\\n",
       "\\end{tabular}\n"
      ],
      "text/markdown": [
       "\n",
       "Strike | Call price | Put price | Implied Vol | \n",
       "|---|---|---|---|---|---|\n",
       "| 1190      | 52.23     | 37.51     | 0.2984816 | \n",
       "| 1195      | 49.11     | 39.34     | 0.2950218 | \n",
       "| 1200      | 46.59     | 41.52     | 0.2950292 | \n",
       "| 1205      | 43.13     | 42.55     | 0.2881578 | \n",
       "| 1210      | 40.21     | 45.40     | 0.2843159 | \n",
       "| 1215      | 37.45     | 47.57     | 0.2809337 | \n",
       "\n",
       "\n"
      ],
      "text/plain": [
       "  Strike Call price Put price Implied Vol\n",
       "1 1190   52.23      37.51     0.2984816  \n",
       "2 1195   49.11      39.34     0.2950218  \n",
       "3 1200   46.59      41.52     0.2950292  \n",
       "4 1205   43.13      42.55     0.2881578  \n",
       "5 1210   40.21      45.40     0.2843159  \n",
       "6 1215   37.45      47.57     0.2809337  "
      ]
     },
     "metadata": {},
     "output_type": "display_data"
    }
   ],
   "source": [
    "# Compute the implied vol\n",
    "S0 <- F*PV\n",
    "r <- log(PV)/(-T)\n",
    "ImpliedVols <- BSImpliedVolCall(S0,strikes,T,r,C)\n",
    "Q2_data <- data.frame(cbind(strikes, C, P, ImpliedVols))\n",
    "names(Q2_data) <- c(\"Strike\",\"Call price\",\"Put price\",\"Implied Vol\")\n",
    "Q2_data"
   ]
  },
  {
   "cell_type": "markdown",
   "metadata": {},
   "source": [
    "### Download code for problem 3.\n",
    "\n",
    "The following code loads the file *spxData110915.rData* into your working directory and sources *plotIvols.R* which has implied volatility smile plotting functionality."
   ]
  },
  {
   "cell_type": "code",
   "execution_count": 22,
   "metadata": {
    "collapsed": true
   },
   "outputs": [],
   "source": [
    "download.file(url=\"http://mfe.baruch.cuny.edu/wp-content/uploads/2017/09/spxOptionMetrics.rData_.zip\", destfile=\"spxOptionMetrics.rData.zip\")\n",
    "unzip(zipfile=\"spxOptionMetrics.rData.zip\")"
   ]
  },
  {
   "cell_type": "code",
   "execution_count": 23,
   "metadata": {
    "collapsed": true
   },
   "outputs": [],
   "source": [
    "library(repr)\n",
    "options(repr.plot.width=10,repr.plot.height=7)"
   ]
  },
  {
   "cell_type": "markdown",
   "metadata": {},
   "source": [
    "*spxOptionMetrics.rData* contains the data frame `spxData20160317` which has all SPX options closing prices as of March 17, 2016.  Data is from OptionMetrics (http://www.optionmetrics.com/index.html) via WRDS (http://wrds-web.wharton.upenn.edu/wrds/).\n",
    "\n",
    "Note that SPX strike prices are out by a factor of 1000."
   ]
  },
  {
   "cell_type": "code",
   "execution_count": 24,
   "metadata": {},
   "outputs": [
    {
     "data": {
      "text/html": [
       "<table>\n",
       "<thead><tr><th></th><th scope=col>secid</th><th scope=col>date</th><th scope=col>symbol</th><th scope=col>symbol_flag</th><th scope=col>exdate</th><th scope=col>last_date</th><th scope=col>cp_flag</th><th scope=col>strike_price</th><th scope=col>best_bid</th><th scope=col>best_offer</th></tr></thead>\n",
       "<tbody>\n",
       "\t<tr><th scope=row>1091361</th><td>108105            </td><td>20160317          </td><td>SPX 160318C1000000</td><td>1                 </td><td>20160318          </td><td>20160315          </td><td>C                 </td><td>1000000           </td><td>1038.2            </td><td>1045.5            </td></tr>\n",
       "\t<tr><th scope=row>1091362</th><td>108105            </td><td>20160317          </td><td>SPX 160318C1025000</td><td>1                 </td><td>20160318          </td><td>      NA          </td><td>C                 </td><td>1025000           </td><td>1013.2            </td><td>1020.5            </td></tr>\n",
       "\t<tr><th scope=row>1091363</th><td>108105            </td><td>20160317          </td><td>SPX 160318C1050000</td><td>1                 </td><td>20160318          </td><td>20150622          </td><td>C                 </td><td>1050000           </td><td> 988.2            </td><td> 995.5            </td></tr>\n",
       "\t<tr><th scope=row>1091364</th><td>108105            </td><td>20160317          </td><td>SPX 160318C1075000</td><td>1                 </td><td>20160318          </td><td>20160317          </td><td>C                 </td><td>1075000           </td><td> 963.2            </td><td> 970.5            </td></tr>\n",
       "\t<tr><th scope=row>1091365</th><td>108105            </td><td>20160317          </td><td>SPX 160318C1100000</td><td>1                 </td><td>20160318          </td><td>20160317          </td><td>C                 </td><td>1100000           </td><td> 938.2            </td><td> 945.5            </td></tr>\n",
       "\t<tr><th scope=row>1091366</th><td>108105            </td><td>20160317          </td><td>SPX 160318C1125000</td><td>1                 </td><td>20160318          </td><td>20150424          </td><td>C                 </td><td>1125000           </td><td> 913.2            </td><td> 920.5            </td></tr>\n",
       "</tbody>\n",
       "</table>\n"
      ],
      "text/latex": [
       "\\begin{tabular}{r|llllllllll}\n",
       "  & secid & date & symbol & symbol\\_flag & exdate & last\\_date & cp\\_flag & strike\\_price & best\\_bid & best\\_offer\\\\\n",
       "\\hline\n",
       "\t1091361 & 108105             & 20160317           & SPX 160318C1000000 & 1                  & 20160318           & 20160315           & C                  & 1000000            & 1038.2             & 1045.5            \\\\\n",
       "\t1091362 & 108105             & 20160317           & SPX 160318C1025000 & 1                  & 20160318           &       NA           & C                  & 1025000            & 1013.2             & 1020.5            \\\\\n",
       "\t1091363 & 108105             & 20160317           & SPX 160318C1050000 & 1                  & 20160318           & 20150622           & C                  & 1050000            &  988.2             &  995.5            \\\\\n",
       "\t1091364 & 108105             & 20160317           & SPX 160318C1075000 & 1                  & 20160318           & 20160317           & C                  & 1075000            &  963.2             &  970.5            \\\\\n",
       "\t1091365 & 108105             & 20160317           & SPX 160318C1100000 & 1                  & 20160318           & 20160317           & C                  & 1100000            &  938.2             &  945.5            \\\\\n",
       "\t1091366 & 108105             & 20160317           & SPX 160318C1125000 & 1                  & 20160318           & 20150424           & C                  & 1125000            &  913.2             &  920.5            \\\\\n",
       "\\end{tabular}\n"
      ],
      "text/markdown": [
       "\n",
       "| <!--/--> | secid | date | symbol | symbol_flag | exdate | last_date | cp_flag | strike_price | best_bid | best_offer | \n",
       "|---|---|---|---|---|---|\n",
       "| 1091361 | 108105             | 20160317           | SPX 160318C1000000 | 1                  | 20160318           | 20160315           | C                  | 1000000            | 1038.2             | 1045.5             | \n",
       "| 1091362 | 108105             | 20160317           | SPX 160318C1025000 | 1                  | 20160318           |       NA           | C                  | 1025000            | 1013.2             | 1020.5             | \n",
       "| 1091363 | 108105             | 20160317           | SPX 160318C1050000 | 1                  | 20160318           | 20150622           | C                  | 1050000            |  988.2             |  995.5             | \n",
       "| 1091364 | 108105             | 20160317           | SPX 160318C1075000 | 1                  | 20160318           | 20160317           | C                  | 1075000            |  963.2             |  970.5             | \n",
       "| 1091365 | 108105             | 20160317           | SPX 160318C1100000 | 1                  | 20160318           | 20160317           | C                  | 1100000            |  938.2             |  945.5             | \n",
       "| 1091366 | 108105             | 20160317           | SPX 160318C1125000 | 1                  | 20160318           | 20150424           | C                  | 1125000            |  913.2             |  920.5             | \n",
       "\n",
       "\n"
      ],
      "text/plain": [
       "        secid  date     symbol             symbol_flag exdate   last_date\n",
       "1091361 108105 20160317 SPX 160318C1000000 1           20160318 20160315 \n",
       "1091362 108105 20160317 SPX 160318C1025000 1           20160318       NA \n",
       "1091363 108105 20160317 SPX 160318C1050000 1           20160318 20150622 \n",
       "1091364 108105 20160317 SPX 160318C1075000 1           20160318 20160317 \n",
       "1091365 108105 20160317 SPX 160318C1100000 1           20160318 20160317 \n",
       "1091366 108105 20160317 SPX 160318C1125000 1           20160318 20150424 \n",
       "        cp_flag strike_price best_bid best_offer\n",
       "1091361 C       1000000      1038.2   1045.5    \n",
       "1091362 C       1025000      1013.2   1020.5    \n",
       "1091363 C       1050000       988.2    995.5    \n",
       "1091364 C       1075000       963.2    970.5    \n",
       "1091365 C       1100000       938.2    945.5    \n",
       "1091366 C       1125000       913.2    920.5    "
      ]
     },
     "metadata": {},
     "output_type": "display_data"
    }
   ],
   "source": [
    "load(\"spxOptionMetrics.rData\")\n",
    "\n",
    "# Inspect the raw data\n",
    "head(spxData20160317[,1:10])"
   ]
  },
  {
   "cell_type": "markdown",
   "metadata": {},
   "source": [
    "### 3.  (20 points) \n",
    "\n",
    "(a)\n",
    "Write a function in R called `generateIvols` that inputs `spxData20160317` and outputs bid and offer implied volatilities for all strikes and expirations in a data frame that has the same format as the dataframe `spxOptData` from Lecture 5.\n",
    "\n",
    "\n",
    "(b)\n",
    "Plot your results using `plotIvols()`; your picture should look something like Figure 6 in the lecture slides (without the orange SVI fit of course).\n"
   ]
  },
  {
   "cell_type": "markdown",
   "metadata": {},
   "source": [
    "### Answer of Q3\n",
    "\n",
    "#### Answer of (a): generateIvols"
   ]
  },
  {
   "cell_type": "code",
   "execution_count": 25,
   "metadata": {
    "collapsed": true
   },
   "outputs": [],
   "source": [
    "# Define the generateIvols function\n",
    "generateIvols <- function(rowData){\n",
    "    rowData <- rowData[2:10]\n",
    "    rowData[c(\"Expiry\",\"Texp\",\"Strike\",\"Bid\",\"Ask\",\"Fwd\")] <- NA #Initialize\n",
    "    rowData$Expiry <-rowData$exdate\n",
    "    rowData$Texp <- as.numeric(strptime(rowData$exdate, format=\"%Y%m%d\") - strptime(rowData$date, format=\"%Y%m%d\"))/365.0\n",
    "    EachExpiry <- function(rowDataTexp){\n",
    "        rowDataTexpC <- rowDataTexp[rowDataTexp$cp_flag==\"C\",]\n",
    "        rowDataTexpP <- rowDataTexp[rowDataTexp$cp_flag==\"P\",]\n",
    "        strikes <- rowDataTexpC$strike_price/1000.0\n",
    "        rowDataTexpC$Strike <- strikes\n",
    "        rowDataTexpP$Strike <- strikes\n",
    "        C <- 0.5*(rowDataTexpC$best_bid+rowDataTexpC$best_offer)\n",
    "        P <- 0.5*(rowDataTexpP$best_bid+rowDataTexpP$best_offer)\n",
    "        reg <- lm((C-P)~strikes)\n",
    "        PV <- -reg$coeff[[2]]\n",
    "        F <- reg$coeff[[1]]/PV\n",
    "        T <- rowDataTexpC$Texp[1]\n",
    "        rowDataTexpC$Fwd <- F\n",
    "        rowDataTexpP$Fwd <- F\n",
    "        Iters <- seq(1,length(rowDataTexpC$cp_flag),by=1)\n",
    "        # So=PV*F, r=log(PV)/(-T)\n",
    "        rowDataTexpC$Bid <- sapply(Iters,function(x){BSImpliedVolCall(F*PV, strikes[x], T,log(PV)/(-T), rowDataTexpC$best_bid[x])})   \n",
    "        rowDataTexpC$Ask <- sapply(Iters,function(x){BSImpliedVolCall(F*PV, strikes[x], T,log(PV)/(-T), rowDataTexpC$best_offer[x])})  \n",
    "        rowDataTexpP$Bid <- sapply(Iters,function(x){BSImpliedVolPut(F*PV, strikes[x], T,log(PV)/(-T), rowDataTexpP$best_bid[x])})   \n",
    "        rowDataTexpP$Ask <- sapply(Iters,function(x){BSImpliedVolPut(F*PV, strikes[x], T,log(PV)/(-T), rowDataTexpP$best_offer[x])}) \n",
    "        rowDataTexp[rowDataTexp$cp_flag==\"C\",] <- rowDataTexpC\n",
    "        rowDataTexp[rowDataTexp$cp_flag==\"P\",] <- rowDataTexpP\n",
    "        return (rowDataTexp)\n",
    "    }\n",
    "    exdates = unique(rowData$exdate)\n",
    "    for (i in 1:length(exdates)){\n",
    "        rowData[rowData$exdate==exdates[i],] <- EachExpiry(rowData[rowData$exdate==exdates[i],])\n",
    "    }\n",
    "    return (rowData[1:15])\n",
    "}\n"
   ]
  },
  {
   "cell_type": "code",
   "execution_count": 43,
   "metadata": {},
   "outputs": [],
   "source": [
    "# Check the definded function\n",
    "Q3_res <- generateIvols(spxData20160317)"
   ]
  },
  {
   "cell_type": "code",
   "execution_count": 44,
   "metadata": {},
   "outputs": [
    {
     "data": {
      "text/html": [
       "<table>\n",
       "<thead><tr><th></th><th scope=col>Expiry</th><th scope=col>Texp</th><th scope=col>Strike</th><th scope=col>Bid</th><th scope=col>Ask</th><th scope=col>Fwd</th></tr></thead>\n",
       "<tbody>\n",
       "\t<tr><th scope=row>1091361</th><td>20160318    </td><td>0.002739726 </td><td>1000        </td><td>1.727596e-10</td><td>6.662740    </td><td>2041.93     </td></tr>\n",
       "\t<tr><th scope=row>1091362</th><td>20160318    </td><td>0.002739726 </td><td>1025        </td><td>1.727596e-10</td><td>6.453306    </td><td>2041.93     </td></tr>\n",
       "\t<tr><th scope=row>1091363</th><td>20160318    </td><td>0.002739726 </td><td>1050        </td><td>1.727596e-10</td><td>6.248813    </td><td>2041.93     </td></tr>\n",
       "\t<tr><th scope=row>1091364</th><td>20160318    </td><td>0.002739726 </td><td>1075        </td><td>1.727596e-10</td><td>6.049000    </td><td>2041.93     </td></tr>\n",
       "\t<tr><th scope=row>1091365</th><td>20160318    </td><td>0.002739726 </td><td>1100        </td><td>1.727596e-10</td><td>5.853625    </td><td>2041.93     </td></tr>\n",
       "\t<tr><th scope=row>1091366</th><td>20160318    </td><td>0.002739726 </td><td>1125        </td><td>1.727596e-10</td><td>5.662460    </td><td>2041.93     </td></tr>\n",
       "</tbody>\n",
       "</table>\n"
      ],
      "text/latex": [
       "\\begin{tabular}{r|llllll}\n",
       "  & Expiry & Texp & Strike & Bid & Ask & Fwd\\\\\n",
       "\\hline\n",
       "\t1091361 & 20160318     & 0.002739726  & 1000         & 1.727596e-10 & 6.662740     & 2041.93     \\\\\n",
       "\t1091362 & 20160318     & 0.002739726  & 1025         & 1.727596e-10 & 6.453306     & 2041.93     \\\\\n",
       "\t1091363 & 20160318     & 0.002739726  & 1050         & 1.727596e-10 & 6.248813     & 2041.93     \\\\\n",
       "\t1091364 & 20160318     & 0.002739726  & 1075         & 1.727596e-10 & 6.049000     & 2041.93     \\\\\n",
       "\t1091365 & 20160318     & 0.002739726  & 1100         & 1.727596e-10 & 5.853625     & 2041.93     \\\\\n",
       "\t1091366 & 20160318     & 0.002739726  & 1125         & 1.727596e-10 & 5.662460     & 2041.93     \\\\\n",
       "\\end{tabular}\n"
      ],
      "text/markdown": [
       "\n",
       "| <!--/--> | Expiry | Texp | Strike | Bid | Ask | Fwd | \n",
       "|---|---|---|---|---|---|\n",
       "| 1091361 | 20160318     | 0.002739726  | 1000         | 1.727596e-10 | 6.662740     | 2041.93      | \n",
       "| 1091362 | 20160318     | 0.002739726  | 1025         | 1.727596e-10 | 6.453306     | 2041.93      | \n",
       "| 1091363 | 20160318     | 0.002739726  | 1050         | 1.727596e-10 | 6.248813     | 2041.93      | \n",
       "| 1091364 | 20160318     | 0.002739726  | 1075         | 1.727596e-10 | 6.049000     | 2041.93      | \n",
       "| 1091365 | 20160318     | 0.002739726  | 1100         | 1.727596e-10 | 5.853625     | 2041.93      | \n",
       "| 1091366 | 20160318     | 0.002739726  | 1125         | 1.727596e-10 | 5.662460     | 2041.93      | \n",
       "\n",
       "\n"
      ],
      "text/plain": [
       "        Expiry   Texp        Strike Bid          Ask      Fwd    \n",
       "1091361 20160318 0.002739726 1000   1.727596e-10 6.662740 2041.93\n",
       "1091362 20160318 0.002739726 1025   1.727596e-10 6.453306 2041.93\n",
       "1091363 20160318 0.002739726 1050   1.727596e-10 6.248813 2041.93\n",
       "1091364 20160318 0.002739726 1075   1.727596e-10 6.049000 2041.93\n",
       "1091365 20160318 0.002739726 1100   1.727596e-10 5.853625 2041.93\n",
       "1091366 20160318 0.002739726 1125   1.727596e-10 5.662460 2041.93"
      ]
     },
     "metadata": {},
     "output_type": "display_data"
    }
   ],
   "source": [
    "# Since the whole dataframe contains too many rows, only output the head of the dataframe\n",
    "head(Q3_res[,10:15])"
   ]
  },
  {
   "cell_type": "markdown",
   "metadata": {},
   "source": [
    "#### Answer of (b): plotIvols"
   ]
  },
  {
   "cell_type": "code",
   "execution_count": 45,
   "metadata": {},
   "outputs": [
    {
     "data": {
      "text/html": [
       "<dl>\n",
       "\t<dt>$expiries</dt>\n",
       "\t\t<dd><ol class=list-inline>\n",
       "\t<li>0.00273972602739726</li>\n",
       "\t<li>0.0164383561643836</li>\n",
       "\t<li>0.0191780821917808</li>\n",
       "\t<li>0.0356164383561644</li>\n",
       "\t<li>0.0383561643835616</li>\n",
       "\t<li>0.0410958904109589</li>\n",
       "\t<li>0.0602739726027397</li>\n",
       "\t<li>0.0794520547945206</li>\n",
       "\t<li>0.0986301369863014</li>\n",
       "\t<li>0.117808219178082</li>\n",
       "\t<li>0.136986301369863</li>\n",
       "\t<li>0.156164383561644</li>\n",
       "\t<li>0.175342465753425</li>\n",
       "\t<li>0.194520547945205</li>\n",
       "\t<li>0.205479452054795</li>\n",
       "\t<li>0.213698630136986</li>\n",
       "\t<li>0.252054794520548</li>\n",
       "\t<li>0.287671232876712</li>\n",
       "\t<li>0.367123287671233</li>\n",
       "\t<li>0.457534246575342</li>\n",
       "\t<li>0.501369863013699</li>\n",
       "\t<li>0.53972602739726</li>\n",
       "\t<li>0.750799086757991</li>\n",
       "\t<li>0.789155251141553</li>\n",
       "\t<li>0.846689497716895</li>\n",
       "\t<li>1.24931506849315</li>\n",
       "\t<li>1.74805936073059</li>\n",
       "\t<li>2.76449771689498</li>\n",
       "</ol>\n",
       "</dd>\n",
       "\t<dt>$atmVol</dt>\n",
       "\t\t<dd><ol class=list-inline>\n",
       "\t<li>0.0994721675089133</li>\n",
       "\t<li>0.108496219476343</li>\n",
       "\t<li>0.114712153677875</li>\n",
       "\t<li>0.114676232174465</li>\n",
       "\t<li>0.117777574822358</li>\n",
       "\t<li>0.121288799756048</li>\n",
       "\t<li>0.123436721425817</li>\n",
       "\t<li>0.126110840856379</li>\n",
       "\t<li>0.130120217398836</li>\n",
       "\t<li>0.135132317471474</li>\n",
       "\t<li>0.138264915531971</li>\n",
       "\t<li>0.140038308485463</li>\n",
       "\t<li>0.142054175393926</li>\n",
       "\t<li>0.144531867807694</li>\n",
       "\t<li>0.143059073880257</li>\n",
       "\t<li>0.145785421229169</li>\n",
       "\t<li>0.150588236341136</li>\n",
       "\t<li>0.153638189556114</li>\n",
       "\t<li>0.157106206487616</li>\n",
       "\t<li>0.160656932024459</li>\n",
       "\t<li>0.162779824377814</li>\n",
       "\t<li>0.163888164046723</li>\n",
       "\t<li>0.168827681252799</li>\n",
       "\t<li>0.168555503748252</li>\n",
       "\t<li>0.169574968495331</li>\n",
       "\t<li>0.178096045983241</li>\n",
       "\t<li>0.183983830172238</li>\n",
       "\t<li>0.195342188328907</li>\n",
       "</ol>\n",
       "</dd>\n",
       "\t<dt>$atmSkew</dt>\n",
       "\t\t<dd><ol class=list-inline>\n",
       "\t<li>-0.334125502457483</li>\n",
       "\t<li>-1.0524040105247</li>\n",
       "\t<li>-1.01336453621779</li>\n",
       "\t<li>-1.07193264376555</li>\n",
       "\t<li>-0.948413138693917</li>\n",
       "\t<li>-0.973218908151667</li>\n",
       "\t<li>-0.934415980215636</li>\n",
       "\t<li>-0.921949840344315</li>\n",
       "\t<li>-0.863540393920307</li>\n",
       "\t<li>-0.85904974449852</li>\n",
       "\t<li>-0.815003888845879</li>\n",
       "\t<li>-0.787417228176443</li>\n",
       "\t<li>-0.768689352765335</li>\n",
       "\t<li>-0.735513600392952</li>\n",
       "\t<li>-0.722896191647841</li>\n",
       "\t<li>-0.70828622445735</li>\n",
       "\t<li>-0.670847645780076</li>\n",
       "\t<li>-0.645198146785282</li>\n",
       "\t<li>-0.579137006962253</li>\n",
       "\t<li>-0.519568777802652</li>\n",
       "\t<li>-0.509751307848309</li>\n",
       "\t<li>-0.485104124045775</li>\n",
       "\t<li>-0.427681013267589</li>\n",
       "\t<li>-0.410753681300684</li>\n",
       "\t<li>-0.40137019415547</li>\n",
       "\t<li>-0.326140180600354</li>\n",
       "\t<li>-0.258879224653036</li>\n",
       "\t<li>-0.19127137847559</li>\n",
       "</ol>\n",
       "</dd>\n",
       "</dl>\n"
      ],
      "text/latex": [
       "\\begin{description}\n",
       "\\item[\\$expiries] \\begin{enumerate*}\n",
       "\\item 0.00273972602739726\n",
       "\\item 0.0164383561643836\n",
       "\\item 0.0191780821917808\n",
       "\\item 0.0356164383561644\n",
       "\\item 0.0383561643835616\n",
       "\\item 0.0410958904109589\n",
       "\\item 0.0602739726027397\n",
       "\\item 0.0794520547945206\n",
       "\\item 0.0986301369863014\n",
       "\\item 0.117808219178082\n",
       "\\item 0.136986301369863\n",
       "\\item 0.156164383561644\n",
       "\\item 0.175342465753425\n",
       "\\item 0.194520547945205\n",
       "\\item 0.205479452054795\n",
       "\\item 0.213698630136986\n",
       "\\item 0.252054794520548\n",
       "\\item 0.287671232876712\n",
       "\\item 0.367123287671233\n",
       "\\item 0.457534246575342\n",
       "\\item 0.501369863013699\n",
       "\\item 0.53972602739726\n",
       "\\item 0.750799086757991\n",
       "\\item 0.789155251141553\n",
       "\\item 0.846689497716895\n",
       "\\item 1.24931506849315\n",
       "\\item 1.74805936073059\n",
       "\\item 2.76449771689498\n",
       "\\end{enumerate*}\n",
       "\n",
       "\\item[\\$atmVol] \\begin{enumerate*}\n",
       "\\item 0.0994721675089133\n",
       "\\item 0.108496219476343\n",
       "\\item 0.114712153677875\n",
       "\\item 0.114676232174465\n",
       "\\item 0.117777574822358\n",
       "\\item 0.121288799756048\n",
       "\\item 0.123436721425817\n",
       "\\item 0.126110840856379\n",
       "\\item 0.130120217398836\n",
       "\\item 0.135132317471474\n",
       "\\item 0.138264915531971\n",
       "\\item 0.140038308485463\n",
       "\\item 0.142054175393926\n",
       "\\item 0.144531867807694\n",
       "\\item 0.143059073880257\n",
       "\\item 0.145785421229169\n",
       "\\item 0.150588236341136\n",
       "\\item 0.153638189556114\n",
       "\\item 0.157106206487616\n",
       "\\item 0.160656932024459\n",
       "\\item 0.162779824377814\n",
       "\\item 0.163888164046723\n",
       "\\item 0.168827681252799\n",
       "\\item 0.168555503748252\n",
       "\\item 0.169574968495331\n",
       "\\item 0.178096045983241\n",
       "\\item 0.183983830172238\n",
       "\\item 0.195342188328907\n",
       "\\end{enumerate*}\n",
       "\n",
       "\\item[\\$atmSkew] \\begin{enumerate*}\n",
       "\\item -0.334125502457483\n",
       "\\item -1.0524040105247\n",
       "\\item -1.01336453621779\n",
       "\\item -1.07193264376555\n",
       "\\item -0.948413138693917\n",
       "\\item -0.973218908151667\n",
       "\\item -0.934415980215636\n",
       "\\item -0.921949840344315\n",
       "\\item -0.863540393920307\n",
       "\\item -0.85904974449852\n",
       "\\item -0.815003888845879\n",
       "\\item -0.787417228176443\n",
       "\\item -0.768689352765335\n",
       "\\item -0.735513600392952\n",
       "\\item -0.722896191647841\n",
       "\\item -0.70828622445735\n",
       "\\item -0.670847645780076\n",
       "\\item -0.645198146785282\n",
       "\\item -0.579137006962253\n",
       "\\item -0.519568777802652\n",
       "\\item -0.509751307848309\n",
       "\\item -0.485104124045775\n",
       "\\item -0.427681013267589\n",
       "\\item -0.410753681300684\n",
       "\\item -0.40137019415547\n",
       "\\item -0.326140180600354\n",
       "\\item -0.258879224653036\n",
       "\\item -0.19127137847559\n",
       "\\end{enumerate*}\n",
       "\n",
       "\\end{description}\n"
      ],
      "text/markdown": [
       "$expiries\n",
       ":   1. 0.00273972602739726\n",
       "2. 0.0164383561643836\n",
       "3. 0.0191780821917808\n",
       "4. 0.0356164383561644\n",
       "5. 0.0383561643835616\n",
       "6. 0.0410958904109589\n",
       "7. 0.0602739726027397\n",
       "8. 0.0794520547945206\n",
       "9. 0.0986301369863014\n",
       "10. 0.117808219178082\n",
       "11. 0.136986301369863\n",
       "12. 0.156164383561644\n",
       "13. 0.175342465753425\n",
       "14. 0.194520547945205\n",
       "15. 0.205479452054795\n",
       "16. 0.213698630136986\n",
       "17. 0.252054794520548\n",
       "18. 0.287671232876712\n",
       "19. 0.367123287671233\n",
       "20. 0.457534246575342\n",
       "21. 0.501369863013699\n",
       "22. 0.53972602739726\n",
       "23. 0.750799086757991\n",
       "24. 0.789155251141553\n",
       "25. 0.846689497716895\n",
       "26. 1.24931506849315\n",
       "27. 1.74805936073059\n",
       "28. 2.76449771689498\n",
       "\n",
       "\n",
       "\n",
       "$atmVol\n",
       ":   1. 0.0994721675089133\n",
       "2. 0.108496219476343\n",
       "3. 0.114712153677875\n",
       "4. 0.114676232174465\n",
       "5. 0.117777574822358\n",
       "6. 0.121288799756048\n",
       "7. 0.123436721425817\n",
       "8. 0.126110840856379\n",
       "9. 0.130120217398836\n",
       "10. 0.135132317471474\n",
       "11. 0.138264915531971\n",
       "12. 0.140038308485463\n",
       "13. 0.142054175393926\n",
       "14. 0.144531867807694\n",
       "15. 0.143059073880257\n",
       "16. 0.145785421229169\n",
       "17. 0.150588236341136\n",
       "18. 0.153638189556114\n",
       "19. 0.157106206487616\n",
       "20. 0.160656932024459\n",
       "21. 0.162779824377814\n",
       "22. 0.163888164046723\n",
       "23. 0.168827681252799\n",
       "24. 0.168555503748252\n",
       "25. 0.169574968495331\n",
       "26. 0.178096045983241\n",
       "27. 0.183983830172238\n",
       "28. 0.195342188328907\n",
       "\n",
       "\n",
       "\n",
       "$atmSkew\n",
       ":   1. -0.334125502457483\n",
       "2. -1.0524040105247\n",
       "3. -1.01336453621779\n",
       "4. -1.07193264376555\n",
       "5. -0.948413138693917\n",
       "6. -0.973218908151667\n",
       "7. -0.934415980215636\n",
       "8. -0.921949840344315\n",
       "9. -0.863540393920307\n",
       "10. -0.85904974449852\n",
       "11. -0.815003888845879\n",
       "12. -0.787417228176443\n",
       "13. -0.768689352765335\n",
       "14. -0.735513600392952\n",
       "15. -0.722896191647841\n",
       "16. -0.70828622445735\n",
       "17. -0.670847645780076\n",
       "18. -0.645198146785282\n",
       "19. -0.579137006962253\n",
       "20. -0.519568777802652\n",
       "21. -0.509751307848309\n",
       "22. -0.485104124045775\n",
       "23. -0.427681013267589\n",
       "24. -0.410753681300684\n",
       "25. -0.40137019415547\n",
       "26. -0.326140180600354\n",
       "27. -0.258879224653036\n",
       "28. -0.19127137847559\n",
       "\n",
       "\n",
       "\n",
       "\n",
       "\n"
      ],
      "text/plain": [
       "$expiries\n",
       " [1] 0.002739726 0.016438356 0.019178082 0.035616438 0.038356164 0.041095890\n",
       " [7] 0.060273973 0.079452055 0.098630137 0.117808219 0.136986301 0.156164384\n",
       "[13] 0.175342466 0.194520548 0.205479452 0.213698630 0.252054795 0.287671233\n",
       "[19] 0.367123288 0.457534247 0.501369863 0.539726027 0.750799087 0.789155251\n",
       "[25] 0.846689498 1.249315068 1.748059361 2.764497717\n",
       "\n",
       "$atmVol\n",
       " [1] 0.09947217 0.10849622 0.11471215 0.11467623 0.11777757 0.12128880\n",
       " [7] 0.12343672 0.12611084 0.13012022 0.13513232 0.13826492 0.14003831\n",
       "[13] 0.14205418 0.14453187 0.14305907 0.14578542 0.15058824 0.15363819\n",
       "[19] 0.15710621 0.16065693 0.16277982 0.16388816 0.16882768 0.16855550\n",
       "[25] 0.16957497 0.17809605 0.18398383 0.19534219\n",
       "\n",
       "$atmSkew\n",
       " [1] -0.3341255 -1.0524040 -1.0133645 -1.0719326 -0.9484131 -0.9732189\n",
       " [7] -0.9344160 -0.9219498 -0.8635404 -0.8590497 -0.8150039 -0.7874172\n",
       "[13] -0.7686894 -0.7355136 -0.7228962 -0.7082862 -0.6708476 -0.6451981\n",
       "[19] -0.5791370 -0.5195688 -0.5097513 -0.4851041 -0.4276810 -0.4107537\n",
       "[25] -0.4013702 -0.3261402 -0.2588792 -0.1912714\n"
      ]
     },
     "metadata": {},
     "output_type": "display_data"
    },
    {
     "data": {
      "image/png": "[encoded data removed]",
      "text/plain": [
       "Plot with title \"NA\""
      ]
     },
     "metadata": {},
     "output_type": "display_data"
    }
   ],
   "source": [
    "Q3_res2 <- Q3_res[Q3_res$cp_flag==\"C\",][,10:15]\n",
    "volOrder <- Q3_res2[with(Q3_res2, order(Texp, Strike)), ]\n",
    "plotIvols(volOrder)"
   ]
  },
  {
   "cell_type": "markdown",
   "metadata": {},
   "source": [
    "SPX impied volatility as of March 17, 2016. Bid vols are in red; offer vols are in blue."
   ]
  },
  {
   "cell_type": "markdown",
   "metadata": {},
   "source": [
    "## Approximate calibration of the Heston parameters"
   ]
  },
  {
   "cell_type": "markdown",
   "metadata": {},
   "source": [
    "### 4.  (14 points) \n",
    "\n",
    "(a)\n",
    "Using the Lecture 5 R-code as a base, write R-code to fit the approximate formula (23) for ATM variance skew to the empirical ATM skew estimates in Table 2 of Lecture 5. \n",
    "\n",
    "\n",
    "(b)\n",
    "Using your code from (a) and all the points, assuming $\\rho=-0.7$, estimate the Heston parameters $\\lambda$ and $\\eta$. How similar are your estimates the Heston parameters $\\lambda$ and $\\eta$ to the estimates from September 2005 listed in Table 3 of Lecture 5?  Are Heston fitted parameters stable over time?\n",
    "\n",
    "\n",
    "(c)\n",
    "Repeat (a) and (b) dropping the first expiries, as in Lecture 5.\n",
    "\n",
    "\n",
    "(d) Fit a power law of the form $A/T^\\alpha$ to the ATM variance skew data (all points).\n",
    "\n",
    "\n",
    "(e) \n",
    "Superimpose graphs of your resulting ATM skew fits from (b), (c), and (d) to generate a plot like Figure 8 of Lecture 5.\n",
    "\n",
    "(f)\n",
    "Using the Lecture 5 R-code as a base, write R-code to fit the approximate formula (20) \n",
    "\n",
    "$$\n",
    "\\left.{\\sigma_{BS}(K,T)^2}\\right|_{K=F_T} \\approx \\left( {{ v - \\bar v'}}\\right)\\frac{1- e^{ -\n",
    "\\lambda' \\,T}}{\\lambda' \\,T} + \\bar v'.\n",
    "$$\n",
    "\n",
    "for ATM variance to the empirical ATM variance estimates in Table 2 of Lecture 5.\n",
    "\n",
    "(g) Graph the empirical ATM variance vs time to expiration and your fit from (f) to generate a plot like Figure 9 of Lecture 5."
   ]
  },
  {
   "cell_type": "markdown",
   "metadata": {},
   "source": [
    "### 5.  (12 points) \n",
    "\n",
    "For the following problem, use the Heston parameter set\n",
    "\n",
    "$$\n",
    "\\rho=-0.7;\\,\\eta = 2.0;\\,\\lambda=2.0;\\,v=0.015;,\\bar v=0.06.\n",
    "$$\n",
    "\n",
    "(a)\n",
    "Amend the `plotIvols()` code (renaming it `plotIvolsHeston(..)`) to take data and the above Heston parameters as input and output the empirical smiles with Heston smiles superimposed.  You should obtain a picture like Figure 4 or Figure 7 of Lecture 5 (except that Heston doesn't fit!). (You may have to vectorize the `impvolHeston` function to get this to work in the iPython notebook.)\n",
    "\n",
    "(b) \n",
    "Use the `slices=5:6` optional argument in the call to your function to zoom in on slices 5 and 6.\n",
    "\n",
    "(c) Does the Heston model fit the observed volatility surface?  (Hint: Focus on shorter expirations)."
   ]
  },
  {
   "cell_type": "code",
   "execution_count": null,
   "metadata": {
    "collapsed": true
   },
   "outputs": [],
   "source": [
    "print('The running time of the computation is: ')\n",
    "proc.time()-ptm"
   ]
  }
 ],
 "metadata": {
  "kernelspec": {
   "display_name": "R",
   "language": "R",
   "name": "ir"
  },
  "language_info": {
   "codemirror_mode": "r",
   "file_extension": ".r",
   "mimetype": "text/x-r-source",
   "name": "R",
   "pygments_lexer": "r",
   "version": "3.4.1"
  }
 },
 "nbformat": 4,
 "nbformat_minor": 1
}
