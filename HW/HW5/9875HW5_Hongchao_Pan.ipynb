{
 "cells": [
  {
   "cell_type": "markdown",
   "metadata": {},
   "source": [
    "# MTH9875 Homework 5\n",
    "\n",
    "Assigned: September 28, 2017.\n",
    "Due: October 12, 2017 by 6pm.\n",
    "\n",
    "Late homework **will not be accepted**."
   ]
  },
  {
   "cell_type": "markdown",
   "metadata": {},
   "source": [
    "<font color = \"red\">Homework is to be done by each student individually.  To receive full credit, you must email a completed copy of this iPython notebook to Victor Istratov (stavka@gmail.com), Yassine Ghalem (yassine.ghalem@gmail.com) and Jim Gatheral (jim.gatheral@gmail.com) by the due date and time.  All R-code must run correctly and solutions must be written up neatly in Markdown/LaTeX format."
   ]
  },
  {
   "cell_type": "markdown",
   "metadata": {},
   "source": [
    "* **Author: Hongchao Pan**\n",
    "* Kernel Version: R 3.3.2\n",
    "* Packages/Libraries: \n",
    "* Notes:\n"
   ]
  },
  {
   "cell_type": "code",
   "execution_count": 1,
   "metadata": {
    "collapsed": true
   },
   "outputs": [],
   "source": [
    "# Record the time\n",
    "ptm<-proc.time()"
   ]
  },
  {
   "cell_type": "markdown",
   "metadata": {},
   "source": [
    "## An empirical SPX volatility surface\n",
    "\n",
    "Friday, March 18, 2016 was triple witching day for SPX options and futures.  Thus, the volatility surface as of the close on the 17th, that includes March options expiring the following morning, should have a shape just as interesting as the one shown in Figure 3.2 of The Volatility Surface.  And there are many more expirations.  Note in particular that a large share of the total volume in SPX options is now in weeklies."
   ]
  },
  {
   "cell_type": "markdown",
   "metadata": {},
   "source": [
    "### 1. (3 points)\n",
    "$$\n",
    "\\newcommand{\\supp}{\\mathrm{supp}}\n",
    "\\newcommand{\\E}{\\mathbb{E} }\n",
    "\\def\\Cov{{ \\mbox{Cov} }}\n",
    "\\def\\Var{{ \\mbox{Var} }}\n",
    "\\newcommand{\\1}{\\mathbf{1} }\n",
    "\\newcommand{\\PP}{\\mathbb{P} }\n",
    "%\\newcommand{\\Pr}{\\mathrm{Pr} }\n",
    "\\newcommand{\\QQ}{\\mathbb{Q} }\n",
    "\\newcommand{\\RR}{\\mathbb{R} }\n",
    "\\newcommand{\\DD}{\\mathbb{D} }\n",
    "\\newcommand{\\HH}{\\mathbb{H} }\n",
    "\\newcommand{\\spn}{\\mathrm{span} }\n",
    "\\newcommand{\\cov}{\\mathrm{cov} }\n",
    "\\newcommand{\\sgn}{\\mathrm{sgn} }\n",
    "\\newcommand{\\HS}{\\mathcal{L}_{\\mathrm{HS}} }\n",
    "%\\newcommand{\\HS}{\\mathrm{HS} }\n",
    "\\newcommand{\\trace}{\\mathrm{trace} }\n",
    "\\newcommand{\\LL}{\\mathcal{L} }\n",
    "%\\newcommand{\\LL}{\\mathrm{L} }\n",
    "\\newcommand{\\s}{\\mathcal{S} }\n",
    "\\newcommand{\\ee}{\\mathcal{E} }\n",
    "\\newcommand{\\ff}{\\mathcal{F} }\n",
    "\\newcommand{\\hh}{\\mathcal{H} }\n",
    "\\newcommand{\\bb}{\\mathcal{B} }\n",
    "\\newcommand{\\dd}{\\mathcal{D} }\n",
    "\\newcommand{\\g}{\\mathcal{G} }\n",
    "\\newcommand{\\half}{\\frac{1}{2} }\n",
    "\\newcommand{\\T}{\\mathcal{T} }\n",
    "\\newcommand{\\bi}{\\begin{itemize}}\n",
    "\\newcommand{\\ei}{\\end{itemize}}\n",
    "\\newcommand{\\beq}{\\begin{equation}}\n",
    "\\newcommand{\\eeq}{\\end{equation}}\n",
    "\\newcommand{\\beas}{\\begin{eqnarray*}}\n",
    "\\newcommand{\\eeas}{\\end{eqnarray*}}\n",
    "$$\n",
    "Derive the put-call parity formula for European options in the form\n",
    "\n",
    "$$\n",
    "C-P=PV\\,(F-K)\n",
    "$$ \n",
    "\n",
    "where $C$ is the call price, $P$ is the put price, $F$ is the forward price, $K$ is the strike and $PV$ is the discount factor."
   ]
  },
  {
   "cell_type": "markdown",
   "metadata": {},
   "source": [
    "### Answer of Q1"
   ]
  },
  {
   "cell_type": "markdown",
   "metadata": {},
   "source": [
    "* Construct the following two portfolio:\n",
    "    * Portfolio 1: Long 1 unit call and short 1 unit put with strike K and spot price S.\n",
    "    * Portfolio 2: Long 1 share the underlying asset and borrow K units of zero-coupon bond with $\\$1$ at maturity.\n",
    "    \n",
    "* Based on the construction, we know the two portfolio both have payoff $S_T-K$ at maturity.\n",
    "\n",
    "* Based on the non-arbitrage condition that two portfolio have same payoff at maturity should have same price at any time before maturity $T$.\n",
    "\n",
    "* With notation that, $PV$ is the discount factor, $F$ is the forward price, and $B$ is the price of zero-coupon bond, then we have:\n",
    "\n",
    "\\begin{eqnarray*}\n",
    "C-P &=& S-K\\times B\\\\\n",
    "&=&PV\\times F- PV\\times K\\\\\n",
    "&=&PV(F-K)\n",
    "\\end{eqnarray*}"
   ]
  },
  {
   "cell_type": "markdown",
   "metadata": {},
   "source": [
    "### Download some code\n",
    "\n",
    "The following code sources `BlackScholes.R` which has the Black-Scholes formula and implied volatility computation and `Heston2.R` which has in particular the `impvolHeston` function."
   ]
  },
  {
   "cell_type": "code",
   "execution_count": 2,
   "metadata": {
    "collapsed": true
   },
   "outputs": [],
   "source": [
    "#install.packages(\"stinepack\")"
   ]
  },
  {
   "cell_type": "code",
   "execution_count": 3,
   "metadata": {
    "collapsed": true
   },
   "outputs": [],
   "source": [
    "# Load required packages\n",
    "library(\"stinepack\")"
   ]
  },
  {
   "cell_type": "code",
   "execution_count": 4,
   "metadata": {
    "collapsed": true
   },
   "outputs": [],
   "source": [
    "download.file(url=\"http://mfe.baruch.cuny.edu/wp-content/uploads/2017/09/rFilesHW5.zip\", destfile=\"rFilesHW5.zip\")\n",
    "unzip(zipfile=\"rFilesHW5.zip\")\n",
    "\n",
    "source(\"BlackScholes.R\")\n",
    "source(\"Heston2.R\")\n",
    "source(\"plotIvols.R\")"
   ]
  },
  {
   "cell_type": "markdown",
   "metadata": {},
   "source": [
    "### 2.  (8 points) \n",
    "\n",
    "Given $n$ option strikes from a given expiration $T$, write R-code to take the $2\\,n$ option prices and return $F$ and $PV$ for that expiration (obviously you need at least two strikes).  Test your code on the following prices for European options expiring in 36 days:\n",
    "\n",
    "| Strike | Call price | Put price |\n",
    "|--------|---------:|----------:|\n",
    "| 1190 | 52.23 | 37.51 | \n",
    "| 1195 | 49.11 | 39.34 | \n",
    "| 1200 | 46.59 | 41.52 | \n",
    "| 1205 | 43.13 | 42.55 | \n",
    "| 1210 | 40.21 | 45.40 | \n",
    "| 1215 | 37.45 | 47.57 | \n",
    "  \n",
    "\n",
    "\n",
    "\n",
    "With the resulting values of $F$ and $PV$, and using the implied volatility calculator in `BlackScholes.R`, compute implied volatilities for the above options.  Display these by adding a column to the above table."
   ]
  },
  {
   "cell_type": "markdown",
   "metadata": {},
   "source": [
    "### Answer of Q2"
   ]
  },
  {
   "cell_type": "code",
   "execution_count": 5,
   "metadata": {
    "collapsed": true
   },
   "outputs": [],
   "source": [
    "# Retrive given data from the table\n",
    "T <- 36*1.0/365\n",
    "strikes <- c(1190,1195,1200,1205,1210,1215)\n",
    "C <- c(52.23,49.11,46.59,43.13,40.21,37.45)\n",
    "P <- c(37.51,39.34,41.52,42.55,45.40,47.57)"
   ]
  },
  {
   "cell_type": "code",
   "execution_count": 6,
   "metadata": {},
   "outputs": [
    {
     "name": "stdout",
     "output_type": "stream",
     "text": [
      "The discount factor PV is:  0.9918286 \n",
      "The future price F is:  1204.992 \n"
     ]
    }
   ],
   "source": [
    "# Compute F and PV based on the Put-call parity in Q1\n",
    "# C-P=PV(F-K)=PV*F-PV*K\n",
    "# Compute the PV and F based on the linear regression\n",
    "reg <- lm((C-P)~strikes)\n",
    "PV <- -reg$coefficients[[2]]\n",
    "F <- reg$coefficients[[1]]/PV\n",
    "\n",
    "cat(\"The discount factor PV is: \",PV,\"\\n\")\n",
    "cat(\"The future price F is: \",F,\"\\n\")\n"
   ]
  },
  {
   "cell_type": "code",
   "execution_count": 7,
   "metadata": {},
   "outputs": [
    {
     "data": {
      "text/html": [
       "<table>\n",
       "<thead><tr><th scope=col>Strike</th><th scope=col>Call price</th><th scope=col>Put price</th><th scope=col>Implied Vol</th></tr></thead>\n",
       "<tbody>\n",
       "\t<tr><td>1190     </td><td>52.23    </td><td>37.51    </td><td>0.2984816</td></tr>\n",
       "\t<tr><td>1195     </td><td>49.11    </td><td>39.34    </td><td>0.2950218</td></tr>\n",
       "\t<tr><td>1200     </td><td>46.59    </td><td>41.52    </td><td>0.2950292</td></tr>\n",
       "\t<tr><td>1205     </td><td>43.13    </td><td>42.55    </td><td>0.2881578</td></tr>\n",
       "\t<tr><td>1210     </td><td>40.21    </td><td>45.40    </td><td>0.2843159</td></tr>\n",
       "\t<tr><td>1215     </td><td>37.45    </td><td>47.57    </td><td>0.2809337</td></tr>\n",
       "</tbody>\n",
       "</table>\n"
      ],
      "text/latex": [
       "\\begin{tabular}{r|llll}\n",
       " Strike & Call price & Put price & Implied Vol\\\\\n",
       "\\hline\n",
       "\t 1190      & 52.23     & 37.51     & 0.2984816\\\\\n",
       "\t 1195      & 49.11     & 39.34     & 0.2950218\\\\\n",
       "\t 1200      & 46.59     & 41.52     & 0.2950292\\\\\n",
       "\t 1205      & 43.13     & 42.55     & 0.2881578\\\\\n",
       "\t 1210      & 40.21     & 45.40     & 0.2843159\\\\\n",
       "\t 1215      & 37.45     & 47.57     & 0.2809337\\\\\n",
       "\\end{tabular}\n"
      ],
      "text/markdown": [
       "\n",
       "Strike | Call price | Put price | Implied Vol | \n",
       "|---|---|---|---|---|---|\n",
       "| 1190      | 52.23     | 37.51     | 0.2984816 | \n",
       "| 1195      | 49.11     | 39.34     | 0.2950218 | \n",
       "| 1200      | 46.59     | 41.52     | 0.2950292 | \n",
       "| 1205      | 43.13     | 42.55     | 0.2881578 | \n",
       "| 1210      | 40.21     | 45.40     | 0.2843159 | \n",
       "| 1215      | 37.45     | 47.57     | 0.2809337 | \n",
       "\n",
       "\n"
      ],
      "text/plain": [
       "  Strike Call price Put price Implied Vol\n",
       "1 1190   52.23      37.51     0.2984816  \n",
       "2 1195   49.11      39.34     0.2950218  \n",
       "3 1200   46.59      41.52     0.2950292  \n",
       "4 1205   43.13      42.55     0.2881578  \n",
       "5 1210   40.21      45.40     0.2843159  \n",
       "6 1215   37.45      47.57     0.2809337  "
      ]
     },
     "metadata": {},
     "output_type": "display_data"
    }
   ],
   "source": [
    "# Compute the implied vol\n",
    "S0 <- F*PV\n",
    "r <- log(PV)/(-T)\n",
    "ImpliedVols <- BSImpliedVolCall(S0,strikes,T,r,C)\n",
    "Q2_data <- data.frame(cbind(strikes, C, P, ImpliedVols))\n",
    "names(Q2_data) <- c(\"Strike\",\"Call price\",\"Put price\",\"Implied Vol\")\n",
    "Q2_data"
   ]
  },
  {
   "cell_type": "markdown",
   "metadata": {},
   "source": [
    "### Download code for problem 3.\n",
    "\n",
    "The following code loads the file *spxData110915.rData* into your working directory and sources *plotIvols.R* which has implied volatility smile plotting functionality."
   ]
  },
  {
   "cell_type": "code",
   "execution_count": 8,
   "metadata": {
    "collapsed": true
   },
   "outputs": [],
   "source": [
    "download.file(url=\"http://mfe.baruch.cuny.edu/wp-content/uploads/2017/09/spxOptionMetrics.rData_.zip\", destfile=\"spxOptionMetrics.rData.zip\")\n",
    "unzip(zipfile=\"spxOptionMetrics.rData.zip\")"
   ]
  },
  {
   "cell_type": "code",
   "execution_count": 9,
   "metadata": {
    "collapsed": true
   },
   "outputs": [],
   "source": [
    "library(repr)\n",
    "options(repr.plot.width=10,repr.plot.height=7)"
   ]
  },
  {
   "cell_type": "markdown",
   "metadata": {},
   "source": [
    "*spxOptionMetrics.rData* contains the data frame `spxData20160317` which has all SPX options closing prices as of March 17, 2016.  Data is from OptionMetrics (http://www.optionmetrics.com/index.html) via WRDS (http://wrds-web.wharton.upenn.edu/wrds/).\n",
    "\n",
    "Note that SPX strike prices are out by a factor of 1000."
   ]
  },
  {
   "cell_type": "code",
   "execution_count": 10,
   "metadata": {},
   "outputs": [
    {
     "data": {
      "text/html": [
       "<table>\n",
       "<thead><tr><th></th><th scope=col>secid</th><th scope=col>date</th><th scope=col>symbol</th><th scope=col>symbol_flag</th><th scope=col>exdate</th><th scope=col>last_date</th><th scope=col>cp_flag</th><th scope=col>strike_price</th><th scope=col>best_bid</th><th scope=col>best_offer</th></tr></thead>\n",
       "<tbody>\n",
       "\t<tr><th scope=row>1091361</th><td>108105            </td><td>20160317          </td><td>SPX 160318C1000000</td><td>1                 </td><td>20160318          </td><td>20160315          </td><td>C                 </td><td>1000000           </td><td>1038.2            </td><td>1045.5            </td></tr>\n",
       "\t<tr><th scope=row>1091362</th><td>108105            </td><td>20160317          </td><td>SPX 160318C1025000</td><td>1                 </td><td>20160318          </td><td>      NA          </td><td>C                 </td><td>1025000           </td><td>1013.2            </td><td>1020.5            </td></tr>\n",
       "\t<tr><th scope=row>1091363</th><td>108105            </td><td>20160317          </td><td>SPX 160318C1050000</td><td>1                 </td><td>20160318          </td><td>20150622          </td><td>C                 </td><td>1050000           </td><td> 988.2            </td><td> 995.5            </td></tr>\n",
       "\t<tr><th scope=row>1091364</th><td>108105            </td><td>20160317          </td><td>SPX 160318C1075000</td><td>1                 </td><td>20160318          </td><td>20160317          </td><td>C                 </td><td>1075000           </td><td> 963.2            </td><td> 970.5            </td></tr>\n",
       "\t<tr><th scope=row>1091365</th><td>108105            </td><td>20160317          </td><td>SPX 160318C1100000</td><td>1                 </td><td>20160318          </td><td>20160317          </td><td>C                 </td><td>1100000           </td><td> 938.2            </td><td> 945.5            </td></tr>\n",
       "\t<tr><th scope=row>1091366</th><td>108105            </td><td>20160317          </td><td>SPX 160318C1125000</td><td>1                 </td><td>20160318          </td><td>20150424          </td><td>C                 </td><td>1125000           </td><td> 913.2            </td><td> 920.5            </td></tr>\n",
       "</tbody>\n",
       "</table>\n"
      ],
      "text/latex": [
       "\\begin{tabular}{r|llllllllll}\n",
       "  & secid & date & symbol & symbol\\_flag & exdate & last\\_date & cp\\_flag & strike\\_price & best\\_bid & best\\_offer\\\\\n",
       "\\hline\n",
       "\t1091361 & 108105             & 20160317           & SPX 160318C1000000 & 1                  & 20160318           & 20160315           & C                  & 1000000            & 1038.2             & 1045.5            \\\\\n",
       "\t1091362 & 108105             & 20160317           & SPX 160318C1025000 & 1                  & 20160318           &       NA           & C                  & 1025000            & 1013.2             & 1020.5            \\\\\n",
       "\t1091363 & 108105             & 20160317           & SPX 160318C1050000 & 1                  & 20160318           & 20150622           & C                  & 1050000            &  988.2             &  995.5            \\\\\n",
       "\t1091364 & 108105             & 20160317           & SPX 160318C1075000 & 1                  & 20160318           & 20160317           & C                  & 1075000            &  963.2             &  970.5            \\\\\n",
       "\t1091365 & 108105             & 20160317           & SPX 160318C1100000 & 1                  & 20160318           & 20160317           & C                  & 1100000            &  938.2             &  945.5            \\\\\n",
       "\t1091366 & 108105             & 20160317           & SPX 160318C1125000 & 1                  & 20160318           & 20150424           & C                  & 1125000            &  913.2             &  920.5            \\\\\n",
       "\\end{tabular}\n"
      ],
      "text/markdown": [
       "\n",
       "| <!--/--> | secid | date | symbol | symbol_flag | exdate | last_date | cp_flag | strike_price | best_bid | best_offer | \n",
       "|---|---|---|---|---|---|\n",
       "| 1091361 | 108105             | 20160317           | SPX 160318C1000000 | 1                  | 20160318           | 20160315           | C                  | 1000000            | 1038.2             | 1045.5             | \n",
       "| 1091362 | 108105             | 20160317           | SPX 160318C1025000 | 1                  | 20160318           |       NA           | C                  | 1025000            | 1013.2             | 1020.5             | \n",
       "| 1091363 | 108105             | 20160317           | SPX 160318C1050000 | 1                  | 20160318           | 20150622           | C                  | 1050000            |  988.2             |  995.5             | \n",
       "| 1091364 | 108105             | 20160317           | SPX 160318C1075000 | 1                  | 20160318           | 20160317           | C                  | 1075000            |  963.2             |  970.5             | \n",
       "| 1091365 | 108105             | 20160317           | SPX 160318C1100000 | 1                  | 20160318           | 20160317           | C                  | 1100000            |  938.2             |  945.5             | \n",
       "| 1091366 | 108105             | 20160317           | SPX 160318C1125000 | 1                  | 20160318           | 20150424           | C                  | 1125000            |  913.2             |  920.5             | \n",
       "\n",
       "\n"
      ],
      "text/plain": [
       "        secid  date     symbol             symbol_flag exdate   last_date\n",
       "1091361 108105 20160317 SPX 160318C1000000 1           20160318 20160315 \n",
       "1091362 108105 20160317 SPX 160318C1025000 1           20160318       NA \n",
       "1091363 108105 20160317 SPX 160318C1050000 1           20160318 20150622 \n",
       "1091364 108105 20160317 SPX 160318C1075000 1           20160318 20160317 \n",
       "1091365 108105 20160317 SPX 160318C1100000 1           20160318 20160317 \n",
       "1091366 108105 20160317 SPX 160318C1125000 1           20160318 20150424 \n",
       "        cp_flag strike_price best_bid best_offer\n",
       "1091361 C       1000000      1038.2   1045.5    \n",
       "1091362 C       1025000      1013.2   1020.5    \n",
       "1091363 C       1050000       988.2    995.5    \n",
       "1091364 C       1075000       963.2    970.5    \n",
       "1091365 C       1100000       938.2    945.5    \n",
       "1091366 C       1125000       913.2    920.5    "
      ]
     },
     "metadata": {},
     "output_type": "display_data"
    }
   ],
   "source": [
    "load(\"spxOptionMetrics.rData\")\n",
    "\n",
    "# Inspect the raw data\n",
    "head(spxData20160317[,1:10])"
   ]
  },
  {
   "cell_type": "markdown",
   "metadata": {},
   "source": [
    "### 3.  (20 points) \n",
    "\n",
    "(a)\n",
    "Write a function in R called `generateIvols` that inputs `spxData20160317` and outputs bid and offer implied volatilities for all strikes and expirations in a data frame that has the same format as the dataframe `spxOptData` from Lecture 5.\n",
    "\n",
    "\n",
    "(b)\n",
    "Plot your results using `plotIvols()`; your picture should look something like Figure 6 in the lecture slides (without the orange SVI fit of course).\n"
   ]
  },
  {
   "cell_type": "markdown",
   "metadata": {},
   "source": [
    "### Answer of Q3\n",
    "\n",
    "#### Answer of (a): generateIvols"
   ]
  },
  {
   "cell_type": "code",
   "execution_count": 11,
   "metadata": {
    "collapsed": true
   },
   "outputs": [],
   "source": [
    "# Define the generateIvols function\n",
    "generateIvols <- function(rowData){\n",
    "    rowData <- rowData[2:10]\n",
    "    rowData[c(\"Expiry\",\"Texp\",\"Strike\",\"Bid\",\"Ask\",\"Fwd\")] <- NA #Initialize\n",
    "    rowData$Expiry <-rowData$exdate\n",
    "    rowData$Texp <- as.numeric(strptime(rowData$exdate, format=\"%Y%m%d\") - strptime(rowData$date, format=\"%Y%m%d\"))/365.0\n",
    "    EachExpiry <- function(rowDataTexp){\n",
    "        rowDataTexpC <- rowDataTexp[rowDataTexp$cp_flag==\"C\",]\n",
    "        rowDataTexpP <- rowDataTexp[rowDataTexp$cp_flag==\"P\",]\n",
    "        strikes <- rowDataTexpC$strike_price/1000.0\n",
    "        rowDataTexpC$Strike <- strikes\n",
    "        rowDataTexpP$Strike <- strikes\n",
    "        C <- 0.5*(rowDataTexpC$best_bid+rowDataTexpC$best_offer)\n",
    "        P <- 0.5*(rowDataTexpP$best_bid+rowDataTexpP$best_offer)\n",
    "        reg <- lm((C-P)~strikes)\n",
    "        PV <- -reg$coeff[[2]]\n",
    "        F <- reg$coeff[[1]]/PV\n",
    "        T <- rowDataTexpC$Texp[1]\n",
    "        rowDataTexpC$Fwd <- F\n",
    "        rowDataTexpP$Fwd <- F\n",
    "        Iters <- seq(1,length(rowDataTexpC$cp_flag),by=1)\n",
    "        # So=PV*F, r=log(PV)/(-T)\n",
    "        rowDataTexpC$Bid <- sapply(Iters,function(x){BSImpliedVolCall(F*PV, strikes[x], T,log(PV)/(-T), rowDataTexpC$best_bid[x])})   \n",
    "        rowDataTexpC$Ask <- sapply(Iters,function(x){BSImpliedVolCall(F*PV, strikes[x], T,log(PV)/(-T), rowDataTexpC$best_offer[x])})  \n",
    "        rowDataTexpP$Bid <- sapply(Iters,function(x){BSImpliedVolPut(F*PV, strikes[x], T,log(PV)/(-T), rowDataTexpP$best_bid[x])})   \n",
    "        rowDataTexpP$Ask <- sapply(Iters,function(x){BSImpliedVolPut(F*PV, strikes[x], T,log(PV)/(-T), rowDataTexpP$best_offer[x])}) \n",
    "        rowDataTexp[rowDataTexp$cp_flag==\"C\",] <- rowDataTexpC\n",
    "        rowDataTexp[rowDataTexp$cp_flag==\"P\",] <- rowDataTexpP\n",
    "        return (rowDataTexp)\n",
    "    }\n",
    "    exdates = unique(rowData$exdate)\n",
    "    for (i in 1:length(exdates)){\n",
    "        rowData[rowData$exdate==exdates[i],] <- EachExpiry(rowData[rowData$exdate==exdates[i],])\n",
    "    }\n",
    "    return (rowData[1:15])\n",
    "}\n"
   ]
  },
  {
   "cell_type": "code",
   "execution_count": 12,
   "metadata": {
    "collapsed": true
   },
   "outputs": [],
   "source": [
    "# Check the definded function\n",
    "Q3_res <- generateIvols(spxData20160317)"
   ]
  },
  {
   "cell_type": "code",
   "execution_count": 13,
   "metadata": {},
   "outputs": [
    {
     "data": {
      "text/html": [
       "<table>\n",
       "<thead><tr><th></th><th scope=col>Expiry</th><th scope=col>Texp</th><th scope=col>Strike</th><th scope=col>Bid</th><th scope=col>Ask</th><th scope=col>Fwd</th></tr></thead>\n",
       "<tbody>\n",
       "\t<tr><th scope=row>1091361</th><td>20160318    </td><td>0.002739726 </td><td>1000        </td><td>1.727596e-10</td><td>6.662740    </td><td>2041.93     </td></tr>\n",
       "\t<tr><th scope=row>1091362</th><td>20160318    </td><td>0.002739726 </td><td>1025        </td><td>1.727596e-10</td><td>6.453306    </td><td>2041.93     </td></tr>\n",
       "\t<tr><th scope=row>1091363</th><td>20160318    </td><td>0.002739726 </td><td>1050        </td><td>1.727596e-10</td><td>6.248813    </td><td>2041.93     </td></tr>\n",
       "\t<tr><th scope=row>1091364</th><td>20160318    </td><td>0.002739726 </td><td>1075        </td><td>1.727596e-10</td><td>6.049000    </td><td>2041.93     </td></tr>\n",
       "\t<tr><th scope=row>1091365</th><td>20160318    </td><td>0.002739726 </td><td>1100        </td><td>1.727596e-10</td><td>5.853625    </td><td>2041.93     </td></tr>\n",
       "\t<tr><th scope=row>1091366</th><td>20160318    </td><td>0.002739726 </td><td>1125        </td><td>1.727596e-10</td><td>5.662460    </td><td>2041.93     </td></tr>\n",
       "</tbody>\n",
       "</table>\n"
      ],
      "text/latex": [
       "\\begin{tabular}{r|llllll}\n",
       "  & Expiry & Texp & Strike & Bid & Ask & Fwd\\\\\n",
       "\\hline\n",
       "\t1091361 & 20160318     & 0.002739726  & 1000         & 1.727596e-10 & 6.662740     & 2041.93     \\\\\n",
       "\t1091362 & 20160318     & 0.002739726  & 1025         & 1.727596e-10 & 6.453306     & 2041.93     \\\\\n",
       "\t1091363 & 20160318     & 0.002739726  & 1050         & 1.727596e-10 & 6.248813     & 2041.93     \\\\\n",
       "\t1091364 & 20160318     & 0.002739726  & 1075         & 1.727596e-10 & 6.049000     & 2041.93     \\\\\n",
       "\t1091365 & 20160318     & 0.002739726  & 1100         & 1.727596e-10 & 5.853625     & 2041.93     \\\\\n",
       "\t1091366 & 20160318     & 0.002739726  & 1125         & 1.727596e-10 & 5.662460     & 2041.93     \\\\\n",
       "\\end{tabular}\n"
      ],
      "text/markdown": [
       "\n",
       "| <!--/--> | Expiry | Texp | Strike | Bid | Ask | Fwd | \n",
       "|---|---|---|---|---|---|\n",
       "| 1091361 | 20160318     | 0.002739726  | 1000         | 1.727596e-10 | 6.662740     | 2041.93      | \n",
       "| 1091362 | 20160318     | 0.002739726  | 1025         | 1.727596e-10 | 6.453306     | 2041.93      | \n",
       "| 1091363 | 20160318     | 0.002739726  | 1050         | 1.727596e-10 | 6.248813     | 2041.93      | \n",
       "| 1091364 | 20160318     | 0.002739726  | 1075         | 1.727596e-10 | 6.049000     | 2041.93      | \n",
       "| 1091365 | 20160318     | 0.002739726  | 1100         | 1.727596e-10 | 5.853625     | 2041.93      | \n",
       "| 1091366 | 20160318     | 0.002739726  | 1125         | 1.727596e-10 | 5.662460     | 2041.93      | \n",
       "\n",
       "\n"
      ],
      "text/plain": [
       "        Expiry   Texp        Strike Bid          Ask      Fwd    \n",
       "1091361 20160318 0.002739726 1000   1.727596e-10 6.662740 2041.93\n",
       "1091362 20160318 0.002739726 1025   1.727596e-10 6.453306 2041.93\n",
       "1091363 20160318 0.002739726 1050   1.727596e-10 6.248813 2041.93\n",
       "1091364 20160318 0.002739726 1075   1.727596e-10 6.049000 2041.93\n",
       "1091365 20160318 0.002739726 1100   1.727596e-10 5.853625 2041.93\n",
       "1091366 20160318 0.002739726 1125   1.727596e-10 5.662460 2041.93"
      ]
     },
     "metadata": {},
     "output_type": "display_data"
    }
   ],
   "source": [
    "# Since the whole dataframe contains too many rows, only output the head of the dataframe\n",
    "head(Q3_res[,10:15])"
   ]
  },
  {
   "cell_type": "markdown",
   "metadata": {},
   "source": [
    "#### Answer of (b): plotIvols"
   ]
  },
  {
   "cell_type": "code",
   "execution_count": 14,
   "metadata": {},
   "outputs": [
    {
     "data": {
      "image/png": "[encoded data removed]",
      "text/plain": [
       "Plot with title \"NA\""
      ]
     },
     "metadata": {},
     "output_type": "display_data"
    }
   ],
   "source": [
    "Q3_res2 <- Q3_res[Q3_res$cp_flag==\"C\",][,10:15]\n",
    "volOrder <- Q3_res2[with(Q3_res2, order(Texp, Strike)), ]\n",
    "Q3_res_Ivols <- plotIvols(volOrder)"
   ]
  },
  {
   "cell_type": "markdown",
   "metadata": {},
   "source": [
    "SPX impied volatility as of March 17, 2016. Bid vols are in red; offer vols are in blue."
   ]
  },
  {
   "cell_type": "markdown",
   "metadata": {},
   "source": [
    "## Approximate calibration of the Heston parameters"
   ]
  },
  {
   "cell_type": "markdown",
   "metadata": {},
   "source": [
    "### 4.  (14 points) \n",
    "\n",
    "(a)\n",
    "Using the Lecture 5 R-code as a base, write R-code to fit the approximate formula (23) for ATM variance skew to the empirical ATM skew estimates in Table 2 of Lecture 5. \n",
    "\n",
    "\n",
    "(b)\n",
    "Using your code from (a) and all the points, assuming $\\rho=-0.7$, estimate the Heston parameters $\\lambda$ and $\\eta$. How similar are your estimates the Heston parameters $\\lambda$ and $\\eta$ to the estimates from September 2005 listed in Table 3 of Lecture 5?  Are Heston fitted parameters stable over time?\n",
    "\n",
    "\n",
    "(c)\n",
    "Repeat (a) and (b) dropping the first expiries, as in Lecture 5. <font color='blue'>drop 1st three expiries?</font>\n",
    "\n",
    "\n",
    "(d) Fit a power law of the form $A/T^\\alpha$ to the ATM variance skew data (all points).\n",
    "\n",
    "\n",
    "(e) \n",
    "Superimpose graphs of your resulting ATM skew fits from (b), (c), and (d) to generate a plot like Figure 8 of Lecture 5.\n",
    "\n",
    "(f)\n",
    "Using the Lecture 5 R-code as a base, write R-code to fit the approximate formula (20) \n",
    "\n",
    "$$\n",
    "\\left.{\\sigma_{BS}(K,T)^2}\\right|_{K=F_T} \\approx \\left( {{ v - \\bar v'}}\\right)\\frac{1- e^{ -\n",
    "\\lambda' \\,T}}{\\lambda' \\,T} + \\bar v'.\n",
    "$$\n",
    "\n",
    "for ATM variance to the empirical ATM variance estimates in Table 2 of Lecture 5.\n",
    "\n",
    "(g) Graph the empirical ATM variance vs time to expiration and your fit from (f) to generate a plot like Figure 9 of Lecture 5."
   ]
  },
  {
   "cell_type": "markdown",
   "metadata": {},
   "source": [
    "### Answer of Q4\n",
    "\n",
    "#### Answer of (a): Fit formula (23) in lecture 5"
   ]
  },
  {
   "cell_type": "markdown",
   "metadata": {},
   "source": [
    "* Get the Table 2 from Lecture #5 as follows:\n",
    "\n",
    "### Empirical ATM levels and skews\n",
    "\n",
    "| Expiration | Time to expiry | ATM Variance | ATM Skew |\n",
    "|------------|----------------|-------------:|---------:|\n",
    "| Sep-11     | 1 day          | 0.0494       | -0.7343  |\n",
    "| Oct-11     | 1 month        | 0.0831       | -0.5164  |\n",
    "| Nov-11     | 2 months       | 0.0841       | -0.4439  |\n",
    "| Dec-11     | 3 months       | 0.0825       | -0.3741  |\n",
    "| Mar-12     | 6 months       | 0.0786       | -0.2525  |\n",
    "| Jun-12     | 9 months       | 0.0761       | -0.2122  |\n",
    "| Dec-12     | 15 months      | 0.0728       | -0.1658  |\n",
    "| Jun-13     | 21 months      | 0.0699       | -0.1339  |\n",
    "| Dec-13     | 27 months      | 0.0692       | -0.1185  |\n",
    "\n",
    "Table 2: At-the-money SPX variance levels and variance skews as of 3pm on September 15, 2011, the day before expiration."
   ]
  },
  {
   "cell_type": "code",
   "execution_count": 15,
   "metadata": {
    "collapsed": true
   },
   "outputs": [],
   "source": [
    "# Retrive the data from Table 2\n",
    "atmSkews <- c(-0.7343,-0.5164,-0.4439,-0.3741,-0.2525,-0.2122,-0.1658,-0.1339,-0.1185)\n",
    "atmVars <- c(0.0494, 0.0831, 0.0841, 0.0825, 0.0786, 0.0761, 0.0728, 0.0699, 0.0692)\n",
    "texp <- c(1, 30, 60, 90, 180, 270, 450, 630, 810) / 365.0"
   ]
  },
  {
   "cell_type": "code",
   "execution_count": 16,
   "metadata": {
    "collapsed": true
   },
   "outputs": [],
   "source": [
    "# Leverage the code from Lecture #5\n",
    "skewHeston <- function(skewParams,texp)\n",
    "{\n",
    "    rhoeta <- skewParams[1]\n",
    "    lam <- skewParams[2]\n",
    "    lt <- lam*texp\n",
    "    skew <- rhoeta/lt*(1-(1-exp(-lt))/lt)\t\n",
    "    \n",
    "    return(skew)   \n",
    "}\n",
    "\n",
    "skewObjective1 <- function(skewParams)\n",
    "{\n",
    "    \n",
    "    skewModel <- skewHeston(skewParams,texp)\n",
    "    skewEmpirical <- atmSkews\n",
    "    obj <-sum((skewModel-skewEmpirical)^2)\n",
    "    \n",
    "    return(obj*1000000)    \n",
    "}"
   ]
  },
  {
   "cell_type": "code",
   "execution_count": 17,
   "metadata": {
    "collapsed": true
   },
   "outputs": [],
   "source": [
    "# Same from Lecture #5\n",
    "res1 <- optim(c(-.7*.39,1.15),skewObjective1)\n",
    "fit1 <- res1$par "
   ]
  },
  {
   "cell_type": "markdown",
   "metadata": {},
   "source": [
    "#### Answer of (b):"
   ]
  },
  {
   "cell_type": "code",
   "execution_count": 18,
   "metadata": {},
   "outputs": [
    {
     "name": "stdout",
     "output_type": "stream",
     "text": [
      "eta is:  1.984136 \n",
      "lambda is:  8.111775 \n"
     ]
    }
   ],
   "source": [
    "# From (a) and rho=-0.7, Then we have:\n",
    "rhoeta <- fit1[1]\n",
    "eta <- rhoeta / (-0.7)\n",
    "lambda <- fit1[2]\n",
    "cat(\"eta is: \",eta,\"\\n\")\n",
    "cat(\"lambda is: \",lambda,\"\\n\")"
   ]
  },
  {
   "cell_type": "markdown",
   "metadata": {},
   "source": [
    "* **Recall from lecture 5, we have:**\n",
    "\n",
    "* Heston fit to the SPX implied volatility surface\n",
    "\n",
    "<table>\n",
    "<tr>\n",
    "    <td>$v$</td>\n",
    "    <td><font color=\"white\">-<font color=\"black\">0.0174</td>\n",
    "</tr>\n",
    "<tr>\n",
    "    <td>$\\bar{v}$</td>\n",
    "    <td><font color=\"white\">-<font color=\"black\">0.0354</td>\n",
    "</tr>\n",
    "<tr>\n",
    "    <td>$\\eta$</td>\n",
    "    <td><font color=\"white\">-<font color=\"black\">0.3877</td>\n",
    "</tr>\n",
    "<tr>\n",
    "    <td>$\\rho$</td>\n",
    "    <td>-0.7165</td>\n",
    "</tr>\n",
    "<tr>\n",
    "    <td>$\\lambda$</td>\n",
    "    <td><font color=\"white\">-<font color=\"black\">1.3253</td>\n",
    "</tr>\n",
    "</table>\n",
    "\n",
    "Table 3: Heston fit to the SPX surface as of the close on September 15, 2005."
   ]
  },
  {
   "cell_type": "markdown",
   "metadata": {},
   "source": [
    "* As we can see the $\\eta$ and $\\lambda$ we fitted here is much different than what we have in Table 3 of Lecture #5. Therefore, Heston fitted parameters are not stable over time."
   ]
  },
  {
   "cell_type": "markdown",
   "metadata": {},
   "source": [
    "#### Answer of (c): Repeat (a) and (b) with dropping 1st expiries.\n",
    "\n",
    "* **The lecture drop 1st 3 points, not 1st expiry. Therefore, I dropped 1st 3 points as in Lecture 5.**"
   ]
  },
  {
   "cell_type": "code",
   "execution_count": 19,
   "metadata": {
    "collapsed": true
   },
   "outputs": [],
   "source": [
    "# Drop 1st 3 points\n",
    "skewObjective2 <- function(skewParams){\n",
    "    \n",
    "    skewModel <- skewHeston(skewParams,texp[-(1:3)])\n",
    "    skewEmpirical <- atmSkews[-(1:3)]\n",
    "    obj <-sum((skewModel-skewEmpirical)^2)\n",
    "    return(obj*1000000)\n",
    "    \n",
    "    }\n",
    "\n",
    "res2 <- optim(c(-.7*.39,1.15),skewObjective2)\n",
    "fit2 <- res2$par"
   ]
  },
  {
   "cell_type": "code",
   "execution_count": 20,
   "metadata": {},
   "outputs": [
    {
     "name": "stdout",
     "output_type": "stream",
     "text": [
      "Updated eta is:  1.364713 \n",
      "Updated lambda is:  3.82471 \n"
     ]
    }
   ],
   "source": [
    "rhoeta2 <- fit2[1]\n",
    "eta2 <- rhoeta2 / (-0.7)\n",
    "lambda2 <- fit2[2]\n",
    "cat(\"Updated eta is: \",eta2,\"\\n\")\n",
    "cat(\"Updated lambda is: \",lambda2,\"\\n\")"
   ]
  },
  {
   "cell_type": "markdown",
   "metadata": {},
   "source": [
    "#### Answer of (d): Fit the power law"
   ]
  },
  {
   "cell_type": "code",
   "execution_count": 21,
   "metadata": {},
   "outputs": [
    {
     "name": "stderr",
     "output_type": "stream",
     "text": [
      "Warning message in optim(0.4, skewObjectivePL):\n",
      "\"one-dimensional optimization by Nelder-Mead is unreliable:\n",
      "use \"Brent\" or optimize() directly\""
     ]
    },
    {
     "data": {
      "text/html": [
       "0.431982421875"
      ],
      "text/latex": [
       "0.431982421875"
      ],
      "text/markdown": [
       "0.431982421875"
      ],
      "text/plain": [
       "[1] 0.4319824"
      ]
     },
     "metadata": {},
     "output_type": "display_data"
    }
   ],
   "source": [
    "skewObjectivePL <- function(alpha){\n",
    "    \n",
    "    skewModel <- atmSkews[5]*(texp[5]/texp[-1])^alpha\n",
    "    skewEmpirical <- atmSkews[-1]\n",
    "    obj <-sum((skewModel-skewEmpirical)^2)\n",
    "    return(obj*1000000)\n",
    "    \n",
    "    }\n",
    "\n",
    "resPL <- optim(.4,skewObjectivePL)\n",
    "(fitPL <- resPL$par)"
   ]
  },
  {
   "cell_type": "code",
   "execution_count": 22,
   "metadata": {},
   "outputs": [
    {
     "name": "stdout",
     "output_type": "stream",
     "text": [
      "The parameter alpha is:  0.4319824 \n"
     ]
    }
   ],
   "source": [
    "cat(\"The parameter alpha is: \", fitPL,\"\\n\")"
   ]
  },
  {
   "cell_type": "markdown",
   "metadata": {},
   "source": [
    "#### Answer of (e): Reproduce Figure 8 in Lecture 5"
   ]
  },
  {
   "cell_type": "code",
   "execution_count": 23,
   "metadata": {},
   "outputs": [
    {
     "data": {
      "image/png": "[encoded data removed]",
      "text/plain": [
       "plot without title"
      ]
     },
     "metadata": {},
     "output_type": "display_data"
    }
   ],
   "source": [
    "plot(texp,atmSkews,col=\"blue\",ylim=c(-.80,-.05),xlab=\"Time to expiration\",ylab=\"ATM skew\")\n",
    "curve(skewHeston(fit1,x),from=0,to=2.4,col=\"red\",add=TRUE)\n",
    "curve(skewHeston(fit2,x),from=0,to=2.4,col=\"dark green\",add=TRUE)\n",
    "curve(atmSkews[5]*(texp[5]/x)^fitPL,from=0,to=2.4,col=\"orange\",add=TRUE)"
   ]
  },
  {
   "cell_type": "markdown",
   "metadata": {},
   "source": [
    "#### Answer of (f): Fit formula (20) in Lecture 5"
   ]
  },
  {
   "cell_type": "code",
   "execution_count": 24,
   "metadata": {
    "collapsed": true
   },
   "outputs": [],
   "source": [
    "# Levrage the code of Formula (20) from Lecture 5\n",
    "varHeston <- function(varParams,texp){\n",
    "    \n",
    "    v <- varParams[1]\n",
    "    vbar <- varParams[2]\n",
    "    lam <- varParams[3]\n",
    "    lt <- lam*texp\n",
    "    var <- vbar + (v-vbar)*(1-exp(-lt))/lt\n",
    "    return(var)\n",
    "    \n",
    "}\n",
    "\n",
    "# Drop 1st point\n",
    "varObjective <- function(varParams){\n",
    "    \n",
    "    varModel <- varHeston(varParams,texp[-1])\n",
    "    varEmpirical <- atmVars[-1]\n",
    "    obj <-sum((varModel-varEmpirical)^2)\n",
    "    return(obj*1000000)\n",
    "    \n",
    "}"
   ]
  },
  {
   "cell_type": "code",
   "execution_count": 25,
   "metadata": {},
   "outputs": [
    {
     "data": {
      "text/plain": [
       "$par\n",
       "[1] 0.08534989 0.05953183 1.20875274\n",
       "\n",
       "$value\n",
       "[1] 3.890242\n",
       "\n",
       "$counts\n",
       "function gradient \n",
       "      84       NA \n",
       "\n",
       "$convergence\n",
       "[1] 0\n",
       "\n",
       "$message\n",
       "NULL\n"
      ]
     },
     "metadata": {},
     "output_type": "display_data"
    }
   ],
   "source": [
    "# Sampe optimize parameters from Lecture 5\n",
    "(res <- optim(c(0.04,0.04,1.15),varObjective))\n",
    "fitVar <- res$par"
   ]
  },
  {
   "cell_type": "markdown",
   "metadata": {},
   "source": [
    "#### Answer of (g): Reproduce Figure 9"
   ]
  },
  {
   "cell_type": "code",
   "execution_count": 26,
   "metadata": {},
   "outputs": [
    {
     "data": {
      "image/png": "[encoded data removed]",
      "text/plain": [
       "plot without title"
      ]
     },
     "metadata": {},
     "output_type": "display_data"
    }
   ],
   "source": [
    "# Plot the ATM variance vs Time to expiration\n",
    "options(repr.plot.width=6,repr.plot.height=5)\n",
    "plot(texp,atmVars,col=\"blue\",ylim=c(0.04,0.09),xlab=\"Time to expiration\",ylab=\"ATM variance\")\n",
    "curve(varHeston(fitVar,x),from=0,to=2.4,col=\"red\",add=TRUE)"
   ]
  },
  {
   "cell_type": "markdown",
   "metadata": {},
   "source": [
    "Blue points are empirical SPX ATM variances; the red line is a fit of\n",
    "the approximate ATM variance formula (20)"
   ]
  },
  {
   "cell_type": "markdown",
   "metadata": {},
   "source": [
    "### 5.  (12 points) \n",
    "\n",
    "For the following problem, use the Heston parameter set\n",
    "\n",
    "$$\n",
    "\\rho=-0.7;\\,\\eta = 2.0;\\,\\lambda=2.0;\\,v=0.015;,\\bar v=0.06.\n",
    "$$\n",
    "\n",
    "(a)\n",
    "Amend the `plotIvols()` code (renaming it `plotIvolsHeston(..)`) to take data and the above Heston parameters as input and output the empirical smiles with Heston smiles superimposed.  You should obtain a picture like Figure 4 or Figure 7 of Lecture 5 (except that Heston doesn't fit!). (You may have to vectorize the `impvolHeston` function to get this to work in the iPython notebook.)\n",
    "\n",
    "(b) \n",
    "Use the `slices=5:6` optional argument in the call to your function to zoom in on slices 5 and 6.\n",
    "\n",
    "(c) Does the Heston model fit the observed volatility surface?  (Hint: Focus on shorter expirations)."
   ]
  },
  {
   "cell_type": "markdown",
   "metadata": {},
   "source": [
    "### Answer of Q5 \n",
    "\n",
    "#### Answer of (a): plotIvols"
   ]
  },
  {
   "cell_type": "code",
   "execution_count": 27,
   "metadata": {
    "collapsed": true
   },
   "outputs": [],
   "source": [
    "# Define the plotIvolsHeston based on plotIvols with given Heston params\n",
    "plotIvolsHeston <- function(ivolData,paramsHeston,slices=NULL){\n",
    "\n",
    "    bidVols <- as.numeric(ivolData$Bid);\n",
    "    askVols <- as.numeric(ivolData$Ask);\n",
    "    expDates <- unique(ivolData$Texp);\n",
    "    nSlices <- length(expDates);\n",
    "    if(!is.null(slices)) {nSlices <- length(slices)} else {slices <- 1:nSlices};\n",
    "    colnum <- sqrt(nSlices*2);\n",
    "    rows <- round(colnum/2,0);\n",
    "    columns <- round(colnum,0);\n",
    "    while(rows*columns < nSlices) {rows <- rows+1;}\n",
    "\n",
    "    atmVol <- numeric(nSlices);\n",
    "    atmSkew <-numeric(nSlices);\n",
    "\n",
    "    # vectorize the impvolHeston function \n",
    "    volHeston <- function(k,t){impvolHeston(paramsHeston)(k,t)}\n",
    "    \n",
    "    ###############################################################################################################\n",
    "    #Plot all the slices\n",
    "    par(mfrow=c(rows,columns),mex=0.5)\n",
    "    for (slice in slices){\n",
    "            t <- expDates[slice];\n",
    "            texp <- ivolData$Texp;\n",
    "            bidVol <- bidVols[texp==t];\n",
    "            askVol <- askVols[texp==t];\n",
    "            midVol <- (bidVol+askVol)/2;\n",
    "            f <- (ivolData$Fwd[texp==t])[1];\n",
    "            k <- log(ivolData$Strike[texp==t]/f); # Plot vs log-strike\n",
    "            include <- !is.na(bidVol);\n",
    "            kmin <- min(k[include]);\n",
    "            kmax <- max(k[include]);\n",
    "            ybottom <- 0.8*min(bidVol[include]);\n",
    "            ytop <- 1.2*max(askVol[include],na.rm=T);\n",
    "            xrange <- c(kmin,kmax);\n",
    "            yrange <- c(ybottom,ytop);\n",
    "\n",
    "            plot(k,bidVol,col=\"red\",pch=18,cex=.5, xlim=xrange,ylim=yrange,main=paste(\"T =\",format(t,digits=2,nsmall=2)),xlab=\"Log-Strike\",ylab=\"Implied Vol.\");\n",
    "par(new=T);\n",
    "plot(k,askVol,col=\"blue\",pch=18,cex=.5,xlim=xrange,ylim=yrange,main=NA,xlab=NA,ylab=NA);\n",
    "\n",
    "            vol <- function(logStrikes){sapply(logStrikes,function(log_k){volHeston(log_k,t)})}\n",
    "    \n",
    "            curve(vol(x),from=kmin,to=kmax,col=\"orange\",lwd=2,add=TRUE);\n",
    "                   \n",
    "            # Compute and store empirical levels and skews\n",
    "            kIn <- k[!is.na(midVol)];\n",
    "            volIn <- midVol[!is.na(midVol)];\n",
    "            volInterp <- function(xout){stinterp(x=kIn,y=volIn, xout)$y};\n",
    "            atmVol[slice] <- volInterp(0);\n",
    "            atmSkew[slice] <- (volInterp(0.01)-volInterp(-0.01))/0.02;\n",
    "        }\n",
    "    par(mfrow=c(1,1),mex=1)\n",
    "    par(new=F)\n",
    "    return(list(expiries=expDates,atmVol=atmVol,atmSkew=atmSkew));\n",
    "}"
   ]
  },
  {
   "cell_type": "code",
   "execution_count": 28,
   "metadata": {
    "collapsed": true
   },
   "outputs": [],
   "source": [
    "# Given Heston parameters\n",
    "# Create list based on impvolHeston/phiHeston function\n",
    "paramsHeston <- list(lambda = 2.0,rho = -0.7,eta = 2.0 ,vbar = 0.015,v = 0.06) "
   ]
  },
  {
   "cell_type": "code",
   "execution_count": 29,
   "metadata": {},
   "outputs": [
    {
     "data": {
      "image/png": "[encoded data removed]",
      "text/plain": [
       "Plot with title \"NA\""
      ]
     },
     "metadata": {},
     "output_type": "display_data"
    }
   ],
   "source": [
    "# Plot the vols based on the vol data in Q3\n",
    "Q5_res_a <- plotIvolsHeston(volOrder, paramsHeston)"
   ]
  },
  {
   "cell_type": "markdown",
   "metadata": {},
   "source": [
    "SPX impied volatility as of March 17, 2016. Bid vols are in red; offer vols are in blue; Heston fitted vols are in orange.SPX impied volatility as of March 17, 2016. Bid vols are in red; offer vols are in blue; Heston fitted vols are in orange."
   ]
  },
  {
   "cell_type": "markdown",
   "metadata": {},
   "source": [
    "#### Answer of (b): Use slice=5:6"
   ]
  },
  {
   "cell_type": "code",
   "execution_count": 30,
   "metadata": {},
   "outputs": [
    {
     "data": {
      "image/png": "[encoded data removed]",
      "text/plain": [
       "Plot with title \"NA\""
      ]
     },
     "metadata": {},
     "output_type": "display_data"
    }
   ],
   "source": [
    "Q5_res_b <- plotIvolsHeston(volOrder, paramsHeston,slices = 5:6)"
   ]
  },
  {
   "cell_type": "markdown",
   "metadata": {},
   "source": [
    "SPX impied volatility as of March 17, 2016 with slice 5 and 6. Bid vols are in red; offer vols are in blue; Heston fitted vols are in orange."
   ]
  },
  {
   "cell_type": "markdown",
   "metadata": {},
   "source": [
    "#### Answer of (c): Comment of Heston fit"
   ]
  },
  {
   "cell_type": "markdown",
   "metadata": {},
   "source": [
    "* From the figures of (a) and (b), we can see that Heston model does not fit the observed volatility surface with shorter expiration ($T < 0.1$ in this case)\n",
    "\n",
    "* The fitted volatility surface from Heston model gets better as time to expiration increases."
   ]
  },
  {
   "cell_type": "markdown",
   "metadata": {},
   "source": [
    "  "
   ]
  },
  {
   "cell_type": "code",
   "execution_count": 31,
   "metadata": {},
   "outputs": [
    {
     "name": "stdout",
     "output_type": "stream",
     "text": [
      "[1] \"The running time of the computation is: \"\n"
     ]
    },
    {
     "data": {
      "text/plain": [
       "   user  system elapsed \n",
       "  24.89    0.75   26.40 "
      ]
     },
     "metadata": {},
     "output_type": "display_data"
    }
   ],
   "source": [
    "print('The running time of the computation is: ')\n",
    "proc.time()-ptm"
   ]
  }
 ],
 "metadata": {
  "kernelspec": {
   "display_name": "R",
   "language": "R",
   "name": "ir"
  },
  "language_info": {
   "codemirror_mode": "r",
   "file_extension": ".r",
   "mimetype": "text/x-r-source",
   "name": "R",
   "pygments_lexer": "r",
   "version": "3.4.1"
  }
 },
 "nbformat": 4,
 "nbformat_minor": 1
}
