{
 "cells": [
  {
   "cell_type": "markdown",
   "metadata": {},
   "source": [
    "# MTH9875 Homework 9\n",
    "\n",
    "Assigned: October 27, 2016.\n",
    "Due: November 10, 2016 by 6pm.\n",
    "\n",
    "Late homework **will not be accepted**."
   ]
  },
  {
   "cell_type": "markdown",
   "metadata": {},
   "source": [
    "<font color = \"red\">Homework is to be done by each student individually.  To receive full credit, you must email a completed copy of this iPython notebook to Victor Istratov (stavka@gmail.com), Yassine Ghalem (yassine.ghalem@gmail.com) and Jim Gatheral (jim.gatheral@gmail.com) by the due date and time.  All R-code must run correctly and solutions must be written up neatly in Markdown/LaTeX format."
   ]
  },
  {
   "cell_type": "markdown",
   "metadata": {},
   "source": [
    "### As usual, download some code\n",
    "\n",
    "The following code sources *BlackScholes.R* which has the Black-Scholes formula and implied volatility computation and *Heston2.R* which has in particular the *impvolHeston* function."
   ]
  },
  {
   "cell_type": "code",
   "execution_count": 6,
   "metadata": {},
   "outputs": [
    {
     "name": "stderr",
     "output_type": "stream",
     "text": [
      "Warning message in file(filename, \"r\", encoding = encoding):\n",
      "“无法打开文件'Heston2.R': No such file or directory”"
     ]
    },
    {
     "ename": "ERROR",
     "evalue": "Error in file(filename, \"r\", encoding = encoding): 无法打开链结\n",
     "output_type": "error",
     "traceback": [
      "Error in file(filename, \"r\", encoding = encoding): 无法打开链结\nTraceback:\n",
      "1. source(\"Heston2.R\")",
      "2. file(filename, \"r\", encoding = encoding)"
     ]
    }
   ],
   "source": [
    "download.file(url=\"http://mfe.baruch.cuny.edu/wp-content/uploads/2014/09/BlackScholes.R.zip\", destfile=\"BlackScholes.R.zip\")\n",
    "unzip(zipfile=\"BlackScholes.R.zip\")\n",
    "source(\"BlackScholes.R\")\n",
    "source(\"Heston2.R\")"
   ]
  },
  {
   "cell_type": "markdown",
   "metadata": {},
   "source": [
    "## A special case of Heston: The Heston-Nandi model\n",
    "$$\n",
    "\\newcommand{\\supp}{\\mathrm{supp}}\n",
    "\\newcommand{\\E}{\\mathbb{E} }\n",
    "\\def\\Cov{{ \\mbox{Cov} }}\n",
    "\\def\\Var{{ \\mbox{Var} }}\n",
    "\\newcommand{\\1}{\\mathbf{1} }\n",
    "\\newcommand{\\PP}{\\mathbb{P} }\n",
    "%\\newcommand{\\Pr}{\\mathrm{Pr} }\n",
    "\\newcommand{\\QQ}{\\mathbb{Q} }\n",
    "\\newcommand{\\RR}{\\mathbb{R} }\n",
    "\\newcommand{\\DD}{\\mathbb{D} }\n",
    "\\newcommand{\\HH}{\\mathbb{H} }\n",
    "\\newcommand{\\spn}{\\mathrm{span} }\n",
    "\\newcommand{\\cov}{\\mathrm{cov} }\n",
    "\\newcommand{\\sgn}{\\mathrm{sgn} }\n",
    "\\newcommand{\\HS}{\\mathcal{L}_{\\mathrm{HS}} }\n",
    "%\\newcommand{\\HS}{\\mathrm{HS} }\n",
    "\\newcommand{\\trace}{\\mathrm{trace} }\n",
    "\\newcommand{\\LL}{\\mathcal{L} }\n",
    "%\\newcommand{\\LL}{\\mathrm{L} }\n",
    "\\newcommand{\\s}{\\mathcal{S} }\n",
    "\\newcommand{\\ee}{\\mathcal{E} }\n",
    "\\newcommand{\\ff}{\\mathcal{F} }\n",
    "\\newcommand{\\hh}{\\mathcal{H} }\n",
    "\\newcommand{\\bb}{\\mathcal{B} }\n",
    "\\newcommand{\\dd}{\\mathcal{D} }\n",
    "\\newcommand{\\g}{\\mathcal{G} }\n",
    "\\newcommand{\\p}{\\partial}\n",
    "\\newcommand{\\half}{\\frac{1}{2} }\n",
    "\\newcommand{\\T}{\\mathcal{T} }\n",
    "\\newcommand{\\bi}{\\begin{itemize}}\n",
    "\\newcommand{\\ei}{\\end{itemize}}\n",
    "\\newcommand{\\beq}{\\begin{equation}}\n",
    "\\newcommand{\\eeq}{\\end{equation}}\n",
    "\\newcommand{\\beas}{\\begin{eqnarray*}}\n",
    "\\newcommand{\\eeas}{\\end{eqnarray*}}\n",
    "\\newcommand{\\cO}{\\mathcal{O}}\n",
    "\\newcommand{\\cF}{\\mathcal{F}}\n",
    "\\newcommand{\\cL}{\\mathcal{L}}\n",
    "$$\n",
    "\n",
    "If we believe the argument of Lecture 4 preceding formula (21), if $\\rho=\\pm1$, Heston local variance should be well approximated by (*e.g.* (4.1) on page 44 of The Volatility Surface):\n",
    "\n",
    "<a name=\"eq:Hestonlv\"></a>(1)\n",
    "$$\n",
    "\\beas\n",
    " v_L(x_T,T) &=& \\left[\\hat v'_{ T} \\,-\\, \\eta\n",
    " \\,\\frac{{x_T }}{{w_T }}\\,\\int_0^T {\\hat v_s } \\,e^{\n",
    " - \\lambda '(T - s)} ds \\right]^+\\nonumber\\\\\n",
    " &=&\\left[(v-\\bar v') e^{ - \\lambda' T} +\\bar v' \\,-\\,\\eta \\, x_T\n",
    " \\,\\left\\{ \\frac{1-e^{-\\lambda' T}}{\\lambda' T } \\right\\}\\right]^+\n",
    "\\eeas\n",
    "$$\n",
    "\n",
    "with $ \\lambda ' = \\lambda  +\\frac { \\eta}{2}$, $\\bar v' = \\bar v\n",
    "\\frac {\\lambda }  {\\lambda '}$.  The whole expression must be\n",
    "bounded below by zero - all stock prices above the critical stock\n",
    "price at which the local variance reaches zero are unattainable.\n",
    "\n",
    "\n",
    "\n",
    "\n",
    "\n",
    "\n",
    "\n",
    "Following Chapter 4 of The\n",
    "Volatility Surface, we will show this numerically by simulation.  For each of the problems below, take $T=1$ year as the time horizon with Heston parameters:\n",
    "\\begin{eqnarray*}\n",
    "v&=& 0.04\\\\ \\bar v &=& 0.04\\\\ \\lambda&=&10\\\\ \\eta&=&1\\\\\\rho&=&-1.\n",
    "\\end{eqnarray*}\n",
    "\n"
   ]
  },
  {
   "cell_type": "markdown",
   "metadata": {},
   "source": [
    "### 1. (16 points)\n",
    "\n",
    "(a)\n",
    "\n",
    "Use your Monte Carlo code (not QMC!) from HW6 Problem 4 to return vectors of $x=\\log S_T/S_0$ and instantaneous variance $v$ with the above Heston-Nandi parameters.  Run the code with $N=2,000,000$ paths, $m=64$ (128 steps), and *evolve=evolveAlfonsiF* .  (Tip: Save the results so you can reuse these samples of $x$ and $v$ and avoid lengthy reruns of the MC code.)\n",
    "\n",
    "(b)\n",
    "\n",
    "Plot the Heston-Nandi 1-year implied variance smile for log-strikes between $-1.0$ and $1.0$.  Superimpose the implied volatility smile from the Heston quasi-closed form formula.  As usual, nice formatting please!\n",
    "\n",
    "(c)\n",
    "\n",
    "Consider the surface SVI (SSVI) parameterization\n",
    "\n",
    "<a name=\"eq:ssvi\"></a>(2)\n",
    "$$\n",
    "w(k,\\theta_t)\n",
    "= \\frac{\\theta_t}{2}\\left\\{1+\\rho\\varphi(\\theta_t) k + \\sqrt{\\left(\\varphi(\\theta_t){k}+\\rho\\right)^2\n",
    "+(1-\\rho^2 )}\\right\\}.\n",
    "$$\n",
    "\n",
    "Set $t=1$.  Show that the ATM implied variance $\\sigma_{\\text{BS}}^2(0,1) = \\theta$, and that the ATM variance skew $\\p_k \\sigma_{\\text{BS}}^2(k,1)|_{k=0}= \\rho\\,\\theta\\,\\varphi$.\n",
    "\n",
    "(d)\n",
    "\n",
    "Simplify the SSVI formula [(2)](#eq:ssvi) in the special case where $\\rho=-1$. \n",
    "\n",
    "(e)\n",
    "\n",
    "Estimate the Monte Carlo ATM implied variance level and skew.  Assuming $\\rho=-1$, deduce $\\theta$ and $\\varphi$.  Display the resulting SSVI fit on the plot obtained in part (b).  "
   ]
  },
  {
   "cell_type": "code",
   "execution_count": 7,
   "metadata": {},
   "outputs": [
    {
     "ename": "ERROR",
     "evalue": "Error in parse(text = x, srcfile = src): <text>:1:1: 意外的'<'\n1: <\n    ^\n",
     "output_type": "error",
     "traceback": [
      "Error in parse(text = x, srcfile = src): <text>:1:1: 意外的'<'\n1: <\n    ^\nTraceback:\n"
     ]
    }
   ],
   "source": [
    "<font color = 'purple'>\n",
    "###Solution(a)\n",
    "evolveAlfonsiF <- function(v,x,dt,W1,W2){\n",
    "\n",
    "        #Variance process\n",
    "        v1 <- v*eldt2+lambda*vbarp*psi;\n",
    "        v2 <- (v1 > 0) * v1; # Take v2 = 0 if v1<0, else v2=v1\n",
    "        par <- sqrt(v2) + eta/2 * sqrt(dt)*W2;\n",
    "        vf <- eldt2*par*par +lambda*vbarp*psi + v1 - v2;\n",
    "                                # Full truncation\n",
    "\n",
    "        # Log-stock process (Andersen equation (33))\n",
    "        vvf <- (v+vf > 0) * (v+vf);\n",
    "        dw <- vvf/2*dt;\n",
    "        x <- x  - dw/2 + rho2m1*sqrt(dw)*W1 +\n",
    "            rho/eta*(lambda*dw + vf-v -lambda*vbar*dt) ;\n",
    "        # Impose martingale constraint\n",
    "        x <- x - log(mean(exp(x)));\n",
    "        v <- vf;\n",
    "        return(cbind(x,v));\n",
    "}\n",
    "\n",
    "MCEvolveXnV <- function(params){\n",
    "    \n",
    "    res <- function(S0, T, N, m, evolve)\n",
    "    {\n",
    "        lambda <<- params$lambda;\n",
    "        rho <<- params$rho;\n",
    "        eta <<- params$eta;\n",
    "        vbar <<- params$vbar;\n",
    "        v0 <<- params$v;\n",
    "  \n",
    "        n <- m*2; #n is number of timesteps = 2*m so we can use Romberg extrapolation\n",
    "        rho2m1 <<- sqrt(1-rho*rho);\n",
    "        vbarp <<- vbar - eta^2/(4*lambda);\n",
    "     \n",
    "        # We use a vertical array, one element per M.C. path\n",
    "        x <- rep(0,N); v <- rep(1,N)*v0;\n",
    "    \n",
    "        # Loop for bias computation (N small, n big)\n",
    "        dt = T / n;\n",
    "        \n",
    "        eldt2 <<- exp(-lambda*dt/2);\n",
    "        psi <<- (1-eldt2)/lambda;\n",
    "        \n",
    "        for (i in 1:n)\n",
    "        {\n",
    "            W1 <- rnorm(N);\n",
    "            W2 <- rnorm(N);\n",
    "            W1 <- W1 - mean(W1); W1 <- W1/sd(W1);\n",
    "            W2 <- W2 - mean(W2); W2 <- W2/sd(W2);\n",
    "            \n",
    "            # Now W1 and W2 are forced to have mean=0 and sd=1\n",
    "            W2p <- W2 - cor(W1,W2)*W1; # Eliminate actual correlation\n",
    "            W2p <- W2p - mean(W2p); W2 <- W2p/sd(W2p); \n",
    "            # Now W1 and W2 have mean=0, sd=1 and correlation=0\n",
    "    \n",
    "            res <- evolve(v,x,dt,W1,W2);\n",
    "            x <- res[,1];\n",
    "            v <- res[,2];    \n",
    "        }\n",
    "        \n",
    "        return(cbind(x,v));\n",
    "    }\n",
    "\n",
    "    return(res)\n",
    "}\n"
   ]
  },
  {
   "cell_type": "code",
   "execution_count": 8,
   "metadata": {
    "collapsed": true
   },
   "outputs": [],
   "source": [
    "\n",
    "# Initialization\n",
    "paramsHN <- list(lambda=10, rho=-1, eta=1, v=0.04, vbar=0.04);\n",
    "S0 = 1.0\n",
    "T = 1.0\n",
    "N = 2000000\n",
    "m = 64"
   ]
  },
  {
   "cell_type": "code",
   "execution_count": 9,
   "metadata": {},
   "outputs": [
    {
     "ename": "ERROR",
     "evalue": "Error in eval(expr, envir, enclos): 没有\"MCEvolveXnV\"这个函数\n",
     "output_type": "error",
     "traceback": [
      "Error in eval(expr, envir, enclos): 没有\"MCEvolveXnV\"这个函数\nTraceback:\n"
     ]
    }
   ],
   "source": [
    "xnv = MCEvolveXnV(paramsHN)(S0=S0, T=T, N=N, m=m, evolve=evolveAlfonsiF);"
   ]
  },
  {
   "cell_type": "code",
   "execution_count": 10,
   "metadata": {},
   "outputs": [
    {
     "ename": "ERROR",
     "evalue": "Error in head(xnv): 找不到对象'xnv'\n",
     "output_type": "error",
     "traceback": [
      "Error in head(xnv): 找不到对象'xnv'\nTraceback:\n",
      "1. head(xnv)"
     ]
    }
   ],
   "source": [
    "head(xnv)"
   ]
  },
  {
   "cell_type": "markdown",
   "metadata": {},
   "source": [
    "<font color = 'purple'>\n",
    "###(b)\n",
    "MCHNCall <- function(kVec, xVec)\n",
    "{\n",
    "    # r = 0, q =0, T = 1.0\n",
    "    \n",
    "    SVec <- exp(xVec);\n",
    "    KVec <- exp(kVec);\n",
    "    M <- length(KVec);\n",
    "    \n",
    "    callPrice <- numeric(M);\n",
    "    iVol <- numeric(M);\n",
    "    \n",
    "    for(i in 1:M)\n",
    "    {\n",
    "        K <- KVec[i];\n",
    "        V <- (SVec>K)*(SVec - K); # Boundary condition for European call\n",
    "        callPrice[i] <- mean(V);\n",
    "        iVol[i] <- BSImpliedVolCall(1.0, K, 1.0, 0, callPrice[i])\n",
    "    }\n",
    "    \n",
    "    return(cbind(callPrice, iVol));\n",
    "}\n",
    "\n",
    "impvolHestonClosedForm <- function(kVec){sapply(kVec, function(k){impvolHeston(paramsHN)(k, T)})}"
   ]
  },
  {
   "cell_type": "code",
   "execution_count": 11,
   "metadata": {},
   "outputs": [
    {
     "ename": "ERROR",
     "evalue": "Error in eval(expr, envir, enclos): 没有\"MCHNCall\"这个函数\n",
     "output_type": "error",
     "traceback": [
      "Error in eval(expr, envir, enclos): 没有\"MCHNCall\"这个函数\nTraceback:\n"
     ]
    }
   ],
   "source": [
    "kVec <- seq(-1.0,1.0,0.01)\n",
    "mcCallPnV <- MCHNCall(kVec, xnv[,1])\n",
    "iVolHeston <- impvolHestonClosedForm(kVec)"
   ]
  },
  {
   "cell_type": "code",
   "execution_count": 12,
   "metadata": {},
   "outputs": [
    {
     "ename": "ERROR",
     "evalue": "Error in xy.coords(x, y, xlabel, ylabel, log): 找不到对象'mcCallPnV'\n",
     "output_type": "error",
     "traceback": [
      "Error in xy.coords(x, y, xlabel, ylabel, log): 找不到对象'mcCallPnV'\nTraceback:\n",
      "1. plot(kVec, mcCallPnV[, 2], col = \"red\", xlab = \"Log-Strike\", \n .     ylab = \"Implied Vol.\")",
      "2. plot.default(kVec, mcCallPnV[, 2], col = \"red\", xlab = \"Log-Strike\", \n .     ylab = \"Implied Vol.\")",
      "3. xy.coords(x, y, xlabel, ylabel, log)"
     ]
    }
   ],
   "source": [
    "plot(kVec,mcCallPnV[,2],col=\"red\",xlab=\"Log-Strike\",ylab=\"Implied Vol.\");\n",
    "par(new=T)\n",
    "plot(kVec,iVolHeston,col=\"blue\", xlab=NA, ylab=NA);\n",
    "leg.txt=c('MC', 'quasi closed form')\n",
    "legend(x=0.3, y=0.32,leg.txt, pch=c(1,1),col=c(\"red\",\"blue\"))"
   ]
  },
  {
   "cell_type": "markdown",
   "metadata": {},
   "source": [
    "(c)\n",
    "<font color = 'purple'>\n",
    "\n",
    "ATM Implied Variance is given by\n",
    "\n",
    "\\begin{eqnarray}\n",
    "\\sigma_{\\text{BS}}^2(0,1) &=& w(0,\\theta_1) \\\\\n",
    "&=& \\frac{\\theta_1}{2}\\,(1 + 1) \\\\\n",
    "&=& \\theta\n",
    "\\end{eqnarray}\n",
    "\\begin{eqnarray}\n",
    "\\p_k \\sigma_{\\text{BS}}^2(k,1) &=& \\frac{\\theta_1}{2}(\\rho\\varphi + \\frac{2(\\varphi\\,k+\\rho)\\varphi}{2\\,\\sqrt{(\\varphi\\,k + \\rho)^2 + (1-\\rho^2)}})\n",
    "\\end{eqnarray}\n",
    "\n",
    "Therefore, ATM Variance Skew is given by\n",
    "\n",
    "\\begin{eqnarray}\n",
    "\\p_k \\sigma_{\\text{BS}}^2(k,1)|_{k=0} &=& \\frac{\\theta_1}{2}(\\rho\\varphi + \\rho\\varphi)\\\\\n",
    "&=& \\rho\\,\\theta\\,\\varphi\n",
    "\\end{eqnarray}"
   ]
  },
  {
   "cell_type": "markdown",
   "metadata": {},
   "source": [
    "<font color = \"purple\">\n",
    "(d)\n",
    "Plug in $\\rho = -1$ into formula (2), we get\n",
    "$$\n",
    "w(k,\\theta_t) = \\frac{\\theta_t}{2}\\left\\{1 - \\varphi\\,k + |1 - \\varphi\\,k|\\right\\}\n",
    "$$"
   ]
  },
  {
   "cell_type": "code",
   "execution_count": 13,
   "metadata": {},
   "outputs": [
    {
     "ename": "ERROR",
     "evalue": "Error in eval(expr, envir, enclos): 没有\"MCvar\"这个函数\n",
     "output_type": "error",
     "traceback": [
      "Error in eval(expr, envir, enclos): 没有\"MCvar\"这个函数\nTraceback:\n"
     ]
    }
   ],
   "source": [
    "#(e)\n",
    "dk = 0.001\n",
    "MC_skew = (MCvar(dk) - MCvar(-dk))/2/dk\n",
    "MC_ATM = MCvar(0)\n",
    "theta = MC_ATM\n",
    "phi = MC_skew/(-1)/(theta)\n",
    "print(paste('phi :',phi))\n",
    "print(paste('theta :',theta))\n",
    "\n",
    "SSVI = function(k){\n",
    "    res = theta/2.0*(1-phi*k + abs(1-phi*k))\n",
    "    res = sqrt(res)\n",
    "    return (res)\n",
    "}\n",
    "\n",
    "ks = seq(-1.0,1.0,0.02)\n",
    "SSVI_vol_vec = sapply(ks,SSVI)\n",
    "plot(ks,MCvar_vec,col = 'red',type='p',lty=2,xlab=\"log strike k\",ylim =c(0,0.5))\n",
    "points(ks,Hvol_vec,col='blue')\n",
    "lines(ks,SSVI_vol_vec,col='dark green',lwd=4)\n",
    "legend('topright',c('Quasi-closed form Implied Volatility','MC Implied Vol','SSVI Fit'),col=c('blue','red','dark green'),pch=c(1,1,1))\n"
   ]
  },
  {
   "cell_type": "markdown",
   "metadata": {},
   "source": [
    "### Numerical check of local volatility formula"
   ]
  },
  {
   "cell_type": "markdown",
   "metadata": {},
   "source": [
    "### 2. (6 points) \n",
    "\n",
    "Using  the $x$ and $v$ samples you generated in Problem 1, numerically estimate the local volatility function\n",
    "\n",
    "[(3)](#eq:lvNumerical)\n",
    "$$\n",
    "v_L(x,1)=\\E[v_1|x_1=x]\n",
    "$$\n",
    "\n",
    "Plot local variance $v_L(x,1)$ as a function of $x$ from $x=-0.5$ to $x=+0.5$.  As in HW4, I recommend just binning the data.  Superimpose a graph of formula [(1)](#eq:Hestonlv).  Verify agreement of [(1)](#eq:Hestonlv) and [(3)](#eq:lvNumerical)."
   ]
  },
  {
   "cell_type": "markdown",
   "metadata": {},
   "source": [
    "<font color = 'purple'>\n",
    "<a name=\"eq:Hestonlv\"></a>(1)\n",
    "$$\n",
    "\\beas\n",
    " v_L(x_T,T) &=& \\left[\\hat v'_{ T} \\,-\\, \\eta\n",
    " \\,\\frac{{x_T }}{{w_T }}\\,\\int_0^T {\\hat v_s } \\,e^{\n",
    " - \\lambda '(T - s)} ds \\right]^+\\nonumber\\\\\n",
    " &=&\\left[(v-\\bar v') e^{ - \\lambda' T} +\\bar v' \\,-\\,\\eta \\, x_T\n",
    " \\,\\left\\{ \\frac{1-e^{-\\lambda' T}}{\\lambda' T } \\right\\}\\right]^+\n",
    "\\eeas\n",
    "$$\n",
    "\n",
    "with $ \\lambda ' = \\lambda  +\\frac { \\eta}{2}$, $\\bar v' = \\bar v\n",
    "\\frac {\\lambda }  {\\lambda '}$. "
   ]
  },
  {
   "cell_type": "markdown",
   "metadata": {},
   "source": [
    "## Local volatility simulation"
   ]
  },
  {
   "cell_type": "markdown",
   "metadata": {},
   "source": [
    "### 3. (10 points) \n",
    "\n",
    "Amend the Monte Carlo code of Problem 1 to generate a vector of $x=\\log S_T/S_0$ assuming the local volatility process:\n",
    "\n",
    "$$\n",
    "dx=-\\frac{1}{2}\\,v_L(x,t)\\,dt+\\sqrt{v_L(x,t)}\\,dZ\n",
    "$$\n",
    "\n",
    "with the approximate formula [(1)](#eq:Hestonlv) for local variance.  Again, with 2 million paths and 128 steps, plot the 1-year volatility smile for log-strikes between $-1.0$ and $1.0$.  Superimpose this smile on the Heston implied volatility smiles generated in Problem 1.  "
   ]
  },
  {
   "cell_type": "code",
   "execution_count": 14,
   "metadata": {},
   "outputs": [
    {
     "ename": "ERROR",
     "evalue": "Error in eval(expr, envir, enclos): 没有\"LVHN\"这个函数\n",
     "output_type": "error",
     "traceback": [
      "Error in eval(expr, envir, enclos): 没有\"LVHN\"这个函数\nTraceback:\n"
     ]
    }
   ],
   "source": [
    "calLVHNVec <- LVHN(paramsHN)\n",
    "    \n",
    "    \n",
    "evolveHN <- function(x, t, dt, Z)\n",
    "{\n",
    "    \n",
    "    vL <- calLVHNVec(x, t)\n",
    "    vLdt <- vL * dt\n",
    "    x <- x - 0.5 * vLdt + sqrt(vLdt) * Z\n",
    "    x <- x - log(mean(exp(x)))\n",
    "    \n",
    "    return(x)\n",
    "}\n",
    "\n",
    "MCLVEvolveX <- function(params){\n",
    "        \n",
    "    res <- function(S0, T, N, m)\n",
    "    {\n",
    "  \n",
    "        n <- m*2; #n is number of timesteps = 2*m so we can use Romberg extrapolation\n",
    "     \n",
    "        # We use a vertical array, one element per M.C. path\n",
    "        x <- rep(0,N); \n",
    "        # Loop for bias computation (N small, n big)\n",
    "        dt <- T / n;\n",
    "        t <- 0;\n",
    "        for (i in 1:n)\n",
    "        {\n",
    "            W1 <- rnorm(N);\n",
    "        \n",
    "            W1 <- W1 - mean(W1); W1 <- W1/sd(W1);\n",
    "            \n",
    "            x <- evolveHN(x,t,dt,W1);\n",
    "            t <- t + dt;\n",
    "        }\n",
    "        \n",
    "        return(x);\n",
    "    }\n",
    "\n",
    "    return(res)\n",
    "}"
   ]
  },
  {
   "cell_type": "code",
   "execution_count": 15,
   "metadata": {},
   "outputs": [
    {
     "ename": "ERROR",
     "evalue": "Error in eval(expr, envir, enclos): 没有\"MCLVEvolveX\"这个函数\n",
     "output_type": "error",
     "traceback": [
      "Error in eval(expr, envir, enclos): 没有\"MCLVEvolveX\"这个函数\nTraceback:\n"
     ]
    }
   ],
   "source": [
    "xByLV <- MCLVEvolveX(paramsHN)(S0=S0, T=T, N=N, m=m);"
   ]
  },
  {
   "cell_type": "code",
   "execution_count": 16,
   "metadata": {},
   "outputs": [
    {
     "ename": "ERROR",
     "evalue": "Error in head(xByLV): 找不到对象'xByLV'\n",
     "output_type": "error",
     "traceback": [
      "Error in head(xByLV): 找不到对象'xByLV'\nTraceback:\n",
      "1. head(xByLV)"
     ]
    }
   ],
   "source": [
    "head(xByLV)"
   ]
  },
  {
   "cell_type": "code",
   "execution_count": 17,
   "metadata": {},
   "outputs": [
    {
     "ename": "ERROR",
     "evalue": "Error in eval(expr, envir, enclos): 没有\"MCHNCall\"这个函数\n",
     "output_type": "error",
     "traceback": [
      "Error in eval(expr, envir, enclos): 没有\"MCHNCall\"这个函数\nTraceback:\n"
     ]
    }
   ],
   "source": [
    "mcCallPnVByLV <- MCHNCall(kVec, xByLV)"
   ]
  },
  {
   "cell_type": "code",
   "execution_count": 18,
   "metadata": {},
   "outputs": [
    {
     "ename": "ERROR",
     "evalue": "Error in xy.coords(x, y, xlabel, ylabel, log): 找不到对象'mcCallPnV'\n",
     "output_type": "error",
     "traceback": [
      "Error in xy.coords(x, y, xlabel, ylabel, log): 找不到对象'mcCallPnV'\nTraceback:\n",
      "1. plot(kVec, mcCallPnV[, 2], col = \"red\", xlab = \"Log-Strike\", \n .     ylab = \"Implied Vol.\")",
      "2. plot.default(kVec, mcCallPnV[, 2], col = \"red\", xlab = \"Log-Strike\", \n .     ylab = \"Implied Vol.\")",
      "3. xy.coords(x, y, xlabel, ylabel, log)"
     ]
    }
   ],
   "source": [
    "plot(kVec,mcCallPnV[,2],col=\"red\",xlab=\"Log-Strike\",ylab=\"Implied Vol.\");\n",
    "par(new=T)\n",
    "plot(kVec,iVolHeston,col=\"blue\", xlab=NA, ylab=NA);\n",
    "par(new=T)\n",
    "plot(kVec, mcCallPnVByLV[,2],col=\"green\", xlab=NA,ylab=NA)\n",
    "leg.txt=c('MC', 'quasi closed form', \"MC with vloc closed form\")\n",
    "legend(x=0.05, y=0.32,leg.txt, pch=c(1,1,1),col=c(\"red\",\"blue\",\"green\"))"
   ]
  },
  {
   "cell_type": "markdown",
   "metadata": {},
   "source": [
    "## Intuition"
   ]
  },
  {
   "cell_type": "markdown",
   "metadata": {},
   "source": [
    "### 4. (4 points) \n",
    "\n",
    "\n",
    "From the results of your computations, you should see that the local\n",
    "volatility model and the stochastic volatility model price one year\n",
    "European options almost identically.  Also, because  $\\rho=-1$, both the Heston model of Problem 1 and the local volatility model of Problem 2 are only one-factor, depending only on stock prices. Are there any\n",
    "differences between the two models? If so, what are these differences?"
   ]
  },
  {
   "cell_type": "markdown",
   "metadata": {},
   "source": [
    "<font color = 'purple'>\n",
    "As we can see from the graph in problem 3, imp vol from stochastic volatility model(red circle) is almost on the top of those calculated from local volatility(green one) which means they price one year European options identically. From this perpective, they look the same. However, the two models are not equivalent. In the local volatility model, volatilities are known in advance and in the stochastic volatility case, volatilities are uncertain. This kind of difference will become more clear when we go to price some exotic options. In other words, to value an option, it's not enough just to fit all the European option prices, we also need to assume some specific dynamics for the underlying.\n"
   ]
  },
  {
   "cell_type": "markdown",
   "metadata": {},
   "source": [
    "## Postscript\n",
    "\n",
    "You now have working Heston-Nandi stochastic volatility and local volatility codes.  We will use these later to check our intuition for the impact of dynamical assumptions on the pricing of exotic options."
   ]
  },
  {
   "cell_type": "code",
   "execution_count": null,
   "metadata": {
    "collapsed": true
   },
   "outputs": [],
   "source": []
  }
 ],
 "metadata": {
  "kernelspec": {
   "display_name": "R",
   "language": "R",
   "name": "ir"
  },
  "language_info": {
   "codemirror_mode": "r",
   "file_extension": ".r",
   "mimetype": "text/x-r-source",
   "name": "R",
   "pygments_lexer": "r",
   "version": "3.4.1"
  }
 },
 "nbformat": 4,
 "nbformat_minor": 1
}
