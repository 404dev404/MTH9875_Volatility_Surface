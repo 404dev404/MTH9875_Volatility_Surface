{
 "cells": [
  {
   "cell_type": "markdown",
   "metadata": {},
   "source": [
    "# MTH9875 Homework 9\n",
    "\n",
    "Assigned: October 26, 2017.\n",
    "Due: November 9, 2017 by 6pm.\n",
    "\n",
    "Late homework **will not be accepted**."
   ]
  },
  {
   "cell_type": "markdown",
   "metadata": {},
   "source": [
    "<font color = \"red\">Homework is to be done by each student individually.  To receive full credit, you must email a completed copy of this iPython notebook to Victor Istratov (stavka@gmail.com), Yassine Ghalem (yassine.ghalem@gmail.com) and Jim Gatheral (jim.gatheral@gmail.com) by the due date and time.  All R-code must run correctly and solutions must be written up neatly in Markdown/LaTeX format."
   ]
  },
  {
   "cell_type": "markdown",
   "metadata": {},
   "source": [
    "* Author: Hongchao Pan\n",
    "* Kernel Version: R 3.3.2\n",
    "* Packages/Libraries: repr\n",
    "* Notes:\n",
    "    * Seems like the solution of Q4 is given."
   ]
  },
  {
   "cell_type": "code",
   "execution_count": null,
   "metadata": {
    "collapsed": true
   },
   "outputs": [],
   "source": [
    "# Record the time\n",
    "ptm<-proc.time()"
   ]
  },
  {
   "cell_type": "markdown",
   "metadata": {},
   "source": [
    "### As usual, download some code\n",
    "\n",
    "The following code sources *BlackScholes.R* which has the Black-Scholes formula and implied volatility computation and *Heston2.R* which has in particular the *impvolHeston* function."
   ]
  },
  {
   "cell_type": "code",
   "execution_count": 1,
   "metadata": {
    "collapsed": true
   },
   "outputs": [],
   "source": [
    "download.file(url=\"http://mfe.baruch.cuny.edu/wp-content/uploads/2017/10/BlackScholes.R.zip\", destfile=\"BlackScholes.R.zip\")\n",
    "unzip(zipfile=\"BlackScholes.R.zip\")\n",
    "source(\"BlackScholes.R\")\n",
    "source(\"Heston2.R\")\n",
    "library(repr)\n",
    "options(repr.plot.height=5)"
   ]
  },
  {
   "cell_type": "markdown",
   "metadata": {},
   "source": [
    "## A special case of Heston: The Heston-Nandi model\n",
    "$$\n",
    "\\newcommand{\\supp}{\\mathrm{supp}}\n",
    "\\newcommand{\\E}{\\mathbb{E} }\n",
    "\\def\\Cov{{ \\mbox{Cov} }}\n",
    "\\def\\Var{{ \\mbox{Var} }}\n",
    "\\newcommand{\\1}{\\mathbf{1} }\n",
    "\\newcommand{\\PP}{\\mathbb{P} }\n",
    "%\\newcommand{\\Pr}{\\mathrm{Pr} }\n",
    "\\newcommand{\\QQ}{\\mathbb{Q} }\n",
    "\\newcommand{\\RR}{\\mathbb{R} }\n",
    "\\newcommand{\\DD}{\\mathbb{D} }\n",
    "\\newcommand{\\HH}{\\mathbb{H} }\n",
    "\\newcommand{\\spn}{\\mathrm{span} }\n",
    "\\newcommand{\\cov}{\\mathrm{cov} }\n",
    "\\newcommand{\\sgn}{\\mathrm{sgn} }\n",
    "\\newcommand{\\HS}{\\mathcal{L}_{\\mathrm{HS}} }\n",
    "%\\newcommand{\\HS}{\\mathrm{HS} }\n",
    "\\newcommand{\\trace}{\\mathrm{trace} }\n",
    "\\newcommand{\\LL}{\\mathcal{L} }\n",
    "%\\newcommand{\\LL}{\\mathrm{L} }\n",
    "\\newcommand{\\s}{\\mathcal{S} }\n",
    "\\newcommand{\\ee}{\\mathcal{E} }\n",
    "\\newcommand{\\ff}{\\mathcal{F} }\n",
    "\\newcommand{\\hh}{\\mathcal{H} }\n",
    "\\newcommand{\\bb}{\\mathcal{B} }\n",
    "\\newcommand{\\dd}{\\mathcal{D} }\n",
    "\\newcommand{\\g}{\\mathcal{G} }\n",
    "\\newcommand{\\p}{\\partial}\n",
    "\\newcommand{\\half}{\\frac{1}{2} }\n",
    "\\newcommand{\\T}{\\mathcal{T} }\n",
    "\\newcommand{\\bi}{\\begin{itemize}}\n",
    "\\newcommand{\\ei}{\\end{itemize}}\n",
    "\\newcommand{\\beq}{\\begin{equation}}\n",
    "\\newcommand{\\eeq}{\\end{equation}}\n",
    "\\newcommand{\\beas}{\\begin{eqnarray*}}\n",
    "\\newcommand{\\eeas}{\\end{eqnarray*}}\n",
    "\\newcommand{\\cO}{\\mathcal{O}}\n",
    "\\newcommand{\\cF}{\\mathcal{F}}\n",
    "\\newcommand{\\cL}{\\mathcal{L}}\n",
    "$$\n",
    "\n",
    "If we believe the argument of Lecture 4 preceding formula (21), if $\\rho=\\pm1$, Heston local variance should be well approximated by (*e.g.* (4.1) on page 44 of The Volatility Surface):\n",
    "\n",
    "<a name=\"eq:Hestonlv\"></a>(1)\n",
    "$$\n",
    "\\beas\n",
    " v_L(x_T,T) &=& \\left[\\hat v'_{ T} \\,-\\, \\eta\n",
    " \\,\\frac{{x_T }}{{w_T }}\\,\\int_0^T {\\hat v_s } \\,e^{\n",
    " - \\lambda '(T - s)} ds \\right]^+\\nonumber\\\\\n",
    " &=&\\left[(v-\\bar v') e^{ - \\lambda' T} +\\bar v' \\,-\\,\\eta \\, x_T\n",
    " \\,\\left\\{ \\frac{1-e^{-\\lambda' T}}{\\lambda' T } \\right\\}\\right]^+\n",
    "\\eeas\n",
    "$$\n",
    "\n",
    "with $ \\lambda ' = \\lambda  +\\frac { \\eta}{2}$, $\\bar v' = \\bar v\n",
    "\\frac {\\lambda }  {\\lambda '}$.  The whole expression must be\n",
    "bounded below by zero - all stock prices above the critical stock\n",
    "price at which the local variance reaches zero are unattainable.\n",
    "\n",
    "\n",
    "\n",
    "\n",
    "\n",
    "\n",
    "\n",
    "Following Chapter 4 of The\n",
    "Volatility Surface, we will show this numerically by simulation.  For each of the problems below, take $T=1$ year as the time horizon with Heston parameters:\n",
    "\\begin{eqnarray*}\n",
    "v&=& 0.04\\\\ \\bar v &=& 0.04\\\\ \\lambda&=&10\\\\ \\eta&=&1\\\\\\rho&=&-1.\n",
    "\\end{eqnarray*}\n",
    "\n"
   ]
  },
  {
   "cell_type": "markdown",
   "metadata": {},
   "source": [
    "### 1. (16 points)\n",
    "\n",
    "(a)\n",
    "\n",
    "Use your Monte Carlo code (not QMC!) from HW6 Problem 4 to return vectors of $x=\\log S_T/S_0$ and instantaneous variance $v$ with the above Heston-Nandi parameters.  Run the code with $N=2,000,000$ paths, $m=64$ (128 steps), and *evolve=evolveAlfonsiF* .  (Tip: Save the results so you can reuse these samples of $x$ and $v$ and avoid lengthy reruns of the MC code.)\n",
    "\n",
    "(b)\n",
    "\n",
    "Plot the Heston-Nandi 1-year implied variance smile for log-strikes between $-1.0$ and $1.0$.  Superimpose the implied volatility smile from the Heston quasi-closed form formula.  As usual, nice formatting please!\n",
    "\n",
    "(c)\n",
    "\n",
    "Consider the surface SVI (SSVI) parameterization\n",
    "\n",
    "<a name=\"eq:ssvi\"></a>(2)\n",
    "$$\n",
    "w(k,\\theta_t)\n",
    "= \\frac{\\theta_t}{2}\\left\\{1+\\rho\\varphi(\\theta_t) k + \\sqrt{\\left(\\varphi(\\theta_t){k}+\\rho\\right)^2\n",
    "+(1-\\rho^2 )}\\right\\}.\n",
    "$$\n",
    "\n",
    "Set $t=1$.  Show that the ATM implied variance $\\sigma_{\\text{BS}}^2(0,1) = \\theta$, and that the ATM variance skew $\\p_k \\sigma_{\\text{BS}}^2(k,1)|_{k=0}= \\rho\\,\\theta\\,\\varphi$.\n",
    "\n",
    "(d)\n",
    "\n",
    "Simplify the SSVI formula [(2)](#eq:ssvi) in the special case where $\\rho=-1$. \n",
    "\n",
    "(e)\n",
    "\n",
    "Estimate the Monte Carlo ATM implied variance level and skew.  Assuming $\\rho=-1$, deduce $\\theta$ and $\\varphi$.  Display the resulting SSVI fit on the plot obtained in part (b).  "
   ]
  },
  {
   "cell_type": "markdown",
   "metadata": {},
   "source": [
    "<font color='blue'>\n",
    "###  Answer of Q1\n",
    "\n",
    "#### Answer of (a)"
   ]
  },
  {
   "cell_type": "code",
   "execution_count": 2,
   "metadata": {
    "collapsed": true
   },
   "outputs": [],
   "source": [
    "# Alfonsi code with full truncation\n",
    "evolveAlfonsiF <- function(v,x,dt,W1,W2){\n",
    "\n",
    "        eldt2 <- exp(-lambda*dt/2);\n",
    "\n",
    "        #Variance process\n",
    "        vbarp <- vbar - eta^2/(4*lambda);\n",
    "        psi <- (1-eldt2)/lambda;\n",
    "        v1 <- v*eldt2+lambda*vbarp*psi;\n",
    "        v2 <- (v1 > 0) * v1; # Take v2 = 0 if v1<0, else v2=v1\n",
    "        par <- sqrt(v2) + eta/2 * sqrt(dt)*W2;\n",
    "        vf <- eldt2*par*par +lambda*vbarp*psi + v1 - v2;\n",
    "                                # Full truncation\n",
    "\n",
    "        # Log-stock process (Andersen equation (33))\n",
    "        vvf <- (v+vf > 0) * (v+vf);\n",
    "        dw <- vvf/2*dt;\n",
    "        x <- x  - dw/2 + rho2m1*sqrt(dw)*W1 +\n",
    "            rho/eta*(lambda*dw + vf-v -lambda*vbar*dt) ;\n",
    "        # Impose martingale constraint\n",
    "        x <- x - log(mean(exp(x)));\n",
    "        v <- vf;\n",
    "        return(cbind(x,v));\n",
    "}\n",
    "\n",
    "# Monte Carlo (return vectors of x and v)\n",
    "HestonMC <- function(params){\n",
    "    res <- function(T, N, m, evolve)\n",
    "    {\n",
    "  \n",
    "    lambda <<- params$lambda;\n",
    "    rho <<- params$rho;\n",
    "    eta <<- params$eta;\n",
    "    vbar <<- params$vbar;\n",
    "    v0 <<- params$v;\n",
    "    \n",
    "    n <- m*2 #n is number of timesteps = 2*m so we can use Romberg extrapolation\n",
    "    rho2m1 <<- sqrt(1-rho*rho)\n",
    "  \n",
    "    # We use a vertical array, one element per M.C. path\n",
    "    x <- rep(0,N); v <- rep(1,N)*v0;\n",
    "    W1m <- rep(0,N); W2m <- rep(0,N); \n",
    "  \n",
    "    for (i in 1:n)\n",
    "    {\n",
    "        # Two sets of correlated normal random vars.\n",
    "        \n",
    "        W1 <- rnorm(N);\n",
    "        W2 <- rnorm(N);\n",
    "        W1 <- W1 - mean(W1); W1 <- W1/sd(W1);\n",
    "        W2 <- W2 - mean(W2); W2 <- W2/sd(W2);\n",
    "        # Now W1 and W2 are forced to have mean=0 and sd=1\n",
    "        \n",
    "        W2p <- W2 - cor(W1,W2)*W1; # Eliminate actual correlation\n",
    "        W2p <- W2p - mean(W2p); W2 <- W2p/sd(W2p); \n",
    "        # Now W1 and W2 have mean=0, sd=1 and correlation=0\n",
    "    \n",
    "        res <- evolve(v,x,T/n,W1,W2);\n",
    "        x <- res[,1];\n",
    "        v <- res[,2];   \n",
    "   }\n",
    "   resMC<-list(\"x\"=x,\"v\"=v)\n",
    "    return(resMC)\n",
    "}\n",
    "    return(res)\n",
    "}\n"
   ]
  },
  {
   "cell_type": "code",
   "execution_count": 3,
   "metadata": {
    "collapsed": true
   },
   "outputs": [],
   "source": [
    "# Parameters\n",
    "paramsHN<-list(v=0.04,vbar=0.04,lambda=10,eta=1,rho=-1)\n",
    "N=2000000\n",
    "m=64"
   ]
  },
  {
   "cell_type": "code",
   "execution_count": 4,
   "metadata": {
    "collapsed": true
   },
   "outputs": [],
   "source": [
    "# Generate the samples of x and v\n",
    "# T=1Y\n",
    "sample<-HestonMC(paramsHN)(T=1, N, m, evolve=evolveAlfonsiF)"
   ]
  },
  {
   "cell_type": "code",
   "execution_count": 5,
   "metadata": {},
   "outputs": [
    {
     "data": {
      "text/html": [
       "<ol class=list-inline>\n",
       "\t<li>0.168507041425121</li>\n",
       "\t<li>0.202543253857481</li>\n",
       "\t<li>0.038542092064145</li>\n",
       "\t<li>0.0340256978676115</li>\n",
       "\t<li>-0.0159319465233805</li>\n",
       "\t<li>-0.0213267009797072</li>\n",
       "</ol>\n"
      ],
      "text/latex": [
       "\\begin{enumerate*}\n",
       "\\item 0.168507041425121\n",
       "\\item 0.202543253857481\n",
       "\\item 0.038542092064145\n",
       "\\item 0.0340256978676115\n",
       "\\item -0.0159319465233805\n",
       "\\item -0.0213267009797072\n",
       "\\end{enumerate*}\n"
      ],
      "text/markdown": [
       "1. 0.168507041425121\n",
       "2. 0.202543253857481\n",
       "3. 0.038542092064145\n",
       "4. 0.0340256978676115\n",
       "5. -0.0159319465233805\n",
       "6. -0.0213267009797072\n",
       "\n",
       "\n"
      ],
      "text/plain": [
       "[1]  0.16850704  0.20254325  0.03854209  0.03402570 -0.01593195 -0.02132670"
      ]
     },
     "metadata": {},
     "output_type": "display_data"
    },
    {
     "data": {
      "text/html": [
       "<ol class=list-inline>\n",
       "\t<li>0.0264775072329922</li>\n",
       "\t<li>0.000779657944096618</li>\n",
       "\t<li>0.0578557990138912</li>\n",
       "\t<li>0.0264730354000808</li>\n",
       "\t<li>0.0310217434480909</li>\n",
       "\t<li>0.0328476671734592</li>\n",
       "</ol>\n"
      ],
      "text/latex": [
       "\\begin{enumerate*}\n",
       "\\item 0.0264775072329922\n",
       "\\item 0.000779657944096618\n",
       "\\item 0.0578557990138912\n",
       "\\item 0.0264730354000808\n",
       "\\item 0.0310217434480909\n",
       "\\item 0.0328476671734592\n",
       "\\end{enumerate*}\n"
      ],
      "text/markdown": [
       "1. 0.0264775072329922\n",
       "2. 0.000779657944096618\n",
       "3. 0.0578557990138912\n",
       "4. 0.0264730354000808\n",
       "5. 0.0310217434480909\n",
       "6. 0.0328476671734592\n",
       "\n",
       "\n"
      ],
      "text/plain": [
       "[1] 0.0264775072 0.0007796579 0.0578557990 0.0264730354 0.0310217434\n",
       "[6] 0.0328476672"
      ]
     },
     "metadata": {},
     "output_type": "display_data"
    }
   ],
   "source": [
    "# Check the samples\n",
    "head(sample$x)\n",
    "head(sample$v)"
   ]
  },
  {
   "cell_type": "markdown",
   "metadata": {},
   "source": [
    "<font color='blue'>\n",
    "#### Answer of (b)"
   ]
  },
  {
   "cell_type": "code",
   "execution_count": 6,
   "metadata": {
    "collapsed": true
   },
   "outputs": [],
   "source": [
    "# Heston-Nandi implied vol\n",
    "HNimpVol<-function(k){\n",
    "    K<-exp(k)\n",
    "    S<-exp(sample$x)\n",
    "    C<-mean((S-K)*(S>K))\n",
    "    return(BSImpliedVolCall(1, K, T=1, r=0, C))\n",
    "}\n",
    "HNimpVol_var<-function(k){sapply(k,HNimpVol)}"
   ]
  },
  {
   "cell_type": "code",
   "execution_count": 7,
   "metadata": {
    "collapsed": true
   },
   "outputs": [],
   "source": [
    "# Heston quasi-closed form formula\n",
    "# T=1Y\n",
    "HQCimpVol_var<-function(k){sapply(k,function(k){impvolHeston(paramsHN)(k,t=1)})}"
   ]
  },
  {
   "cell_type": "code",
   "execution_count": 8,
   "metadata": {},
   "outputs": [
    {
     "data": {
      "image/png": "[encoded data removed]",
      "text/plain": [
       "plot without title"
      ]
     },
     "metadata": {},
     "output_type": "display_data"
    }
   ],
   "source": [
    "# Plot the two implied variance\n",
    "options(repr.plot.height=5,repr.plot.width=8)\n",
    "\n",
    "curve(HNimpVol_var(x),from=-1,to=1,col=\"blue\",ylab=\"Implied Vol\", xlab=\"Log-strike\")\n",
    "curve(HQCimpVol_var(x),from=-1,to=1,col=\"red\",add=T,lty=2)\n",
    "legend(\"topright\",c(\"Heston-Nandi MC\",\"Heston Quasi-closed form\"),lty=c(1,2),col=c('blue','red'),\n",
    "      bty='n', y.intersp=1.5,cex=1)"
   ]
  },
  {
   "cell_type": "markdown",
   "metadata": {},
   "source": [
    "<font color='blue'>\n",
    "#### Answer of (c)"
   ]
  },
  {
   "cell_type": "markdown",
   "metadata": {},
   "source": [
    "* For simplicity, denote $\\varphi=\\varphi(\\theta_t)$"
   ]
  },
  {
   "cell_type": "markdown",
   "metadata": {},
   "source": [
    "* Set $t=1, k=0, \\theta_1=\\theta$, we have:\n",
    "\n",
    "\\begin{eqnarray}\n",
    "\\sigma_{\\text{BS}}^2(0,1) &=& w(0,\\theta_1) \\\\\n",
    "&=& \\frac{\\theta_1}{2}\\,(1 + 1) \\\\\n",
    "&=& \\theta\n",
    "\\end{eqnarray}"
   ]
  },
  {
   "cell_type": "markdown",
   "metadata": {},
   "source": [
    "* As\n",
    "\\begin{eqnarray}\n",
    "\\p_k \\sigma_{\\text{BS}}^2(k,1) &=& \\frac{\\theta_1}{2}(\\rho\\varphi + \\frac{2(\\varphi\\,k+\\rho)\\varphi}{2\\,\\sqrt{(\\varphi\\,k + \\rho)^2 + (1-\\rho^2)}})\n",
    "\\end{eqnarray}"
   ]
  },
  {
   "cell_type": "markdown",
   "metadata": {},
   "source": [
    "* Therefore, ATM variance skew is:\n",
    "\\begin{eqnarray}\n",
    "\\p_k \\sigma_{\\text{BS}}^2(k,1)|_{k=0} &=& \\frac{\\theta_1}{2}(\\rho\\varphi + \\rho\\varphi)\\\\\n",
    "&=& \\rho\\,\\theta\\,\\varphi\n",
    "\\end{eqnarray}"
   ]
  },
  {
   "cell_type": "markdown",
   "metadata": {},
   "source": [
    "<font color='blue'>\n",
    "#### Answer of (d)"
   ]
  },
  {
   "cell_type": "markdown",
   "metadata": {},
   "source": [
    "Plug $\\rho=-1$ into SSVI formula, we have:\n",
    "$$\n",
    "\\begin{eqnarray*}\n",
    "w(k,\\theta_t)\n",
    "&=& \\frac{\\theta_t}{2}\\left\\{1 - \\varphi(\\theta_t) k + \\sqrt{\\left(\\varphi(\\theta_t){k} - 1\\right)^2\n",
    "}\\right\\}\\\\\n",
    "&=&\n",
    "\\begin{cases} \n",
    "      0 & \\varphi(\\theta_t){k} - 1 \\geq 0 \\\\\n",
    "      \\theta_t(1 - \\varphi(\\theta_t) k) & \\text{otherwise}\n",
    "\\end{cases}\n",
    "\\end{eqnarray*}\n",
    "$$"
   ]
  },
  {
   "cell_type": "markdown",
   "metadata": {},
   "source": [
    "<font color='blue'>\n",
    "#### Answer of (e)"
   ]
  },
  {
   "cell_type": "code",
   "execution_count": 9,
   "metadata": {
    "collapsed": true
   },
   "outputs": [],
   "source": [
    "# Get ATM implied variance and variance skew\n",
    "ATM_Var<-HNimpVol(k=0)^2\n",
    "dk<-0.001\n",
    "ATM_Skew<-(HNimpVol(k=dk)^2-HNimpVol(k=-dk)^2)/2/dk"
   ]
  },
  {
   "cell_type": "code",
   "execution_count": 10,
   "metadata": {},
   "outputs": [
    {
     "name": "stdout",
     "output_type": "stream",
     "text": [
      "Theta is:  0.03503774 \n",
      "Phi is:  2.249687 \n"
     ]
    }
   ],
   "source": [
    "# Compute theta and phi\n",
    "theta <- ATM_Var\n",
    "phi <- -ATM_Skew/theta\n",
    "cat(\"Theta is: \",theta,\"\\n\")\n",
    "cat(\"Phi is: \",phi,\"\\n\")"
   ]
  },
  {
   "cell_type": "code",
   "execution_count": 11,
   "metadata": {
    "collapsed": true
   },
   "outputs": [],
   "source": [
    "# Implement SSVI\n",
    "SSVI_fit<-function(k){\n",
    "    if(phi*k>=1){\n",
    "        return(0)\n",
    "    }\n",
    "    else{\n",
    "        return(sqrt(theta*(1-phi*k)))\n",
    "    }\n",
    "}\n",
    "SSVI_ImpVol_var<-function(k){sapply(k,SSVI_fit)}"
   ]
  },
  {
   "cell_type": "code",
   "execution_count": 12,
   "metadata": {},
   "outputs": [
    {
     "data": {
      "image/png": "[encoded data removed]",
      "text/plain": [
       "plot without title"
      ]
     },
     "metadata": {},
     "output_type": "display_data"
    }
   ],
   "source": [
    "# Plot SSVI along with results in part (b)\n",
    "options(repr.plot.height=5,repr.plot.width=8)\n",
    "\n",
    "curve(HNimpVol_var(x),from=-1,to=1,col=\"blue\",ylab=\"Implied Vol\", xlab=\"Log-strike\")\n",
    "curve(HQCimpVol_var(x),from=-1,to=1,col=\"red\",add=T,lty=2)\n",
    "curve(SSVI_ImpVol_var(x),from=-1,to=1,col=\"orange\",add=T,lty=1)\n",
    "legend(\"topright\",c(\"Heston-Nandi MC\",\"Heston Quasi-closed form\",\"SSVI\"),lty=c(1,2,1),col=c('blue','red','orange'),\n",
    "      bty='n', y.intersp=1.5,cex=1)"
   ]
  },
  {
   "cell_type": "markdown",
   "metadata": {},
   "source": [
    "### Numerical check of local volatility formula"
   ]
  },
  {
   "cell_type": "markdown",
   "metadata": {},
   "source": [
    "### 2. (6 points) \n",
    "\n",
    "Using  the $x$ and $v$ samples you generated in Problem 1, numerically estimate the local volatility function\n",
    "\n",
    "[(3)](#eq:lvNumerical)\n",
    "$$\n",
    "v_L(x,1)=\\E[v_1|x_1=x]\n",
    "$$\n",
    "\n",
    "Plot local variance $v_L(x,1)$ as a function of $x$ from $x=-0.5$ to $x=+0.5$.  As in HW4, I recommend just binning the data.  Superimpose a graph of formula [(1)](#eq:Hestonlv).  Verify agreement of [(1)](#eq:Hestonlv) and [(3)](#eq:lvNumerical)."
   ]
  },
  {
   "cell_type": "markdown",
   "metadata": {},
   "source": [
    "<font color='blue'>\n",
    "### Answer of Q2"
   ]
  },
  {
   "cell_type": "code",
   "execution_count": 13,
   "metadata": {
    "collapsed": true
   },
   "outputs": [],
   "source": [
    "# Get the samples\n",
    "xv<-data.frame(cbind(sample$x,sample$v))\n",
    "colnames(xv)<-c(\"x\",\"v\")\n",
    "x_min<-min(xv[,\"x\"])\n",
    "x_max<-max(xv[,\"x\"])\n",
    "# Bin size\n",
    "bins<-100\n",
    "itv<-(x_max-x_min)/bins"
   ]
  },
  {
   "cell_type": "code",
   "execution_count": 14,
   "metadata": {
    "collapsed": true
   },
   "outputs": [],
   "source": [
    "# Define the function\n",
    "MClocalVol<-function(x){\n",
    "    i<-floor((x-x_min)/itv)\n",
    "    xl<-x_min+i*itv\n",
    "    xh<-x_min+(i+1)*itv\n",
    "    xv.subset<-subset(xv,x>=xl & x<xh)\n",
    "    v_mean<-mean(xv.subset[,\"v\"])\n",
    "    v_std<-sd(xv.subset[,\"v\"])/sqrt(dim(xv.subset)[1])\n",
    "    return(cbind(v_mean,v_std))\n",
    "}\n",
    "\n",
    "localVol<-function(x){\n",
    "    lambdap<-lambda+eta/2\n",
    "    vbarp<-vbar*lambda/lambdap\n",
    "    res<-(v0-vbarp)*exp(-lambdap)+vbarp-eta*x*((1-exp(-lambdap))/lambdap)\n",
    "    res<-res*(res>0)\n",
    "    return(res)\n",
    "}"
   ]
  },
  {
   "cell_type": "code",
   "execution_count": 15,
   "metadata": {},
   "outputs": [
    {
     "data": {
      "image/png": "[encoded data removed]",
      "text/plain": [
       "plot without title"
      ]
     },
     "metadata": {},
     "output_type": "display_data"
    }
   ],
   "source": [
    "# Plot the result\n",
    "options(repr.plot.height=5,repr.plot.width=8)\n",
    "x<-seq(-0.5,0.5,0.02)\n",
    "ImpVol_MC<-sapply(x,MClocalVol)\n",
    "ImpVol<-sapply(x,localVol)\n",
    "\n",
    "plot(x,ImpVol_MC[1,],type=\"l\",col=\"black\",xlab=\"x\",ylim=c(0,0.1),ylab=\"Local variance\")\n",
    "lines(x,ImpVol,col=\"red\",lty=2)\n",
    "\n",
    "### add error bars\n",
    "dx<-0.001\n",
    "for(i in 1:length(x)) {\n",
    "    high<-ImpVol_MC[1,i]+ImpVol_MC[2,i]\n",
    "    low<-ImpVol_MC[1,i]-ImpVol_MC[2,i]\n",
    "    segments(x[i],low,x[i],high)\n",
    "    segments(x[i]-dx, high , x[i]+dx, high)\n",
    "    segments(x[i]-dx, low , x[i]+dx, low)\n",
    "}\n",
    "legend(\"topright\",c(\"MC\",\"Numerical Estimation\"),lty=c(1,2),col=c('black','red'),\n",
    "      bty='n', y.intersp=1.5,cex=1)"
   ]
  },
  {
   "cell_type": "markdown",
   "metadata": {},
   "source": [
    "## Local volatility simulation"
   ]
  },
  {
   "cell_type": "markdown",
   "metadata": {},
   "source": [
    "### 3. (10 points) \n",
    "\n",
    "Amend the Monte Carlo code of Problem 1 to generate a vector of $x=\\log S_T/S_0$ assuming the local volatility process:\n",
    "\n",
    "$$\n",
    "dx=-\\frac{1}{2}\\,v_L(x,t)\\,dt+\\sqrt{v_L(x,t)}\\,dZ\n",
    "$$\n",
    "\n",
    "with the approximate formula [(1)](#eq:Hestonlv) for local variance.  Again, with 2 million paths and 128 steps, plot the 1-year volatility smile for log-strikes between $-1.0$ and $1.0$.  Superimpose this smile on the Heston implied volatility smiles generated in Problem 1.  "
   ]
  },
  {
   "cell_type": "markdown",
   "metadata": {},
   "source": [
    "<font color='blue'>\n",
    "### Answer of Q3"
   ]
  },
  {
   "cell_type": "code",
   "execution_count": 16,
   "metadata": {
    "collapsed": true
   },
   "outputs": [],
   "source": [
    "# Define the local vol function\n",
    "localVol<-function(x,t){\n",
    "    lambdap<-lambda+eta/2\n",
    "    vbarp<-vbar*lambda/lambdap\n",
    "    res<-(v0-vbarp)*exp(-lambdap*t)+vbarp-eta*x*((1-exp(-lambdap*t))/lambdap/t)\n",
    "    res<-res*(res>0)\n",
    "    return(res)\n",
    "}\n",
    "\n",
    "# local vol MC (return vectors of x)\n",
    "HestonMC2 <- function(params){\n",
    "    res <- function(T, N, m)\n",
    "    {\n",
    "  \n",
    "    lambda <<- params$lambda;\n",
    "    rho <<- params$rho;\n",
    "    eta <<- params$eta;\n",
    "    vbar <<- params$vbar;\n",
    "    v0 <<- params$v;\n",
    "    \n",
    "    n <- m*2 #n is number of timesteps = 2*m so we can use Romberg extrapolation\n",
    "  \n",
    "    # We use a vertical array, one element per M.C. path\n",
    "    x <- rep(0,N);\n",
    "  \n",
    "    for (i in 1:n)\n",
    "    {\n",
    "        W1 <- rnorm(N);\n",
    "        W1 <- W1 - mean(W1);W1 <- W1/sd(W1);\n",
    "        \n",
    "        t<-i*T/n\n",
    "        LV<-localVol(x,t)\n",
    "        x <- x-0.5*LV*T/n+sqrt(LV)*W1*sqrt(T/n)\n",
    "        x <- x - log(mean(exp(x)))\n",
    "   }\n",
    "    return(x)\n",
    "}\n",
    "    return(res)\n",
    "}"
   ]
  },
  {
   "cell_type": "code",
   "execution_count": 17,
   "metadata": {
    "collapsed": true
   },
   "outputs": [],
   "source": [
    "# Same to Problem 1\n",
    "# Parameters\n",
    "paramsHN<-list(v=0.04,vbar=0.04,lambda=10,eta=1,rho=-1)\n",
    "N=2000000\n",
    "m=64"
   ]
  },
  {
   "cell_type": "code",
   "execution_count": 18,
   "metadata": {
    "collapsed": true
   },
   "outputs": [],
   "source": [
    "# Generate 2nd samples\n",
    "# T=1Y\n",
    "sample2<-HestonMC2(paramsHN)(T=1, N, m)"
   ]
  },
  {
   "cell_type": "code",
   "execution_count": 19,
   "metadata": {
    "collapsed": true
   },
   "outputs": [],
   "source": [
    "# Implied vol through local vol MC\n",
    "LV_ImpVol<-function(k){\n",
    "    K<-exp(k)\n",
    "    S<-exp(sample2)\n",
    "    C<-mean((S-K)*(S>K))\n",
    "    return(BSImpliedVolCall(1, K, T=1, r=0, C))\n",
    "}\n",
    "LV_ImpVol_var<-function(k){sapply(k,LV_ImpVol)}"
   ]
  },
  {
   "cell_type": "code",
   "execution_count": null,
   "metadata": {},
   "outputs": [],
   "source": [
    "# Plot the result\n",
    "options(repr.plot.height=5,repr.plot.width=8)\n",
    "\n",
    "curve(HNimpVol_var(x),from=-1,to=1,col=\"blue\",ylab=\"Implied Vol\", xlab=\"Log-strike\")\n",
    "curve(HQCimpVol_var(x),from=-1,to=1,col=\"red\",add=T,lty=2)\n",
    "curve(LV_ImpVol_var(x),from=-1,to=1,col=\"orange\",add=T,lty=1)\n",
    "legend(\"topright\",c(\"Heston-Nandi MC\",\"Heston Quasi-closed form\",\"Local Volatility\"),lty=c(1,2,1),col=c('blue','red','orange'),\n",
    "      bty='n', y.intersp=1.5,cex=1)"
   ]
  },
  {
   "cell_type": "markdown",
   "metadata": {},
   "source": [
    "## Intuition"
   ]
  },
  {
   "cell_type": "markdown",
   "metadata": {},
   "source": [
    "### 4. (4 points) \n",
    "\n",
    "\n",
    "From the results of your computations, you should see that the local\n",
    "volatility model and the stochastic volatility model price one year\n",
    "European options almost identically.  Also, because  $\\rho=-1$, both the Heston model of Problem 1 and the local volatility model of Problem 2 are only one-factor, depending only on stock prices. Are there any\n",
    "differences between the two models? If so, what are these differences?"
   ]
  },
  {
   "cell_type": "markdown",
   "metadata": {},
   "source": [
    "#### Solution\n",
    "\n",
    "The two models price European options identically but are quite different models.  The local volatility model is Markov in the stock price; the Heston-Nandi model is not.  The Heston-Nandi model is Markov in the spot and the instantaneous variance $v$ which is now itself a function of the historical path of the stock price."
   ]
  },
  {
   "cell_type": "markdown",
   "metadata": {},
   "source": [
    "<font color='blue'>\n",
    "### Answer of Q4"
   ]
  },
  {
   "cell_type": "markdown",
   "metadata": {},
   "source": [
    "* From the figure in Q3, we can say that the two models price European options almost identically. However, they are different models.\n",
    "\n",
    "\n",
    "* After setting $\\rho=-1$, both models are only depending on stock prices. The stock price is a Markov process under local volatility model, but not in Heston model. However, the stock price together with instantaneous variance $v$ is a Markov process.\n",
    "\n",
    "\n",
    "* In addition, the skew will be flatter in the future under local volatility model, but it is time-homogeneous under Heston model."
   ]
  },
  {
   "cell_type": "markdown",
   "metadata": {},
   "source": [
    "## Postscript\n",
    "\n",
    "You now have working Heston-Nandi stochastic volatility and local volatility codes.  We will use these later to check our intuition for the impact of dynamical assumptions on the pricing of exotic options."
   ]
  },
  {
   "cell_type": "code",
   "execution_count": null,
   "metadata": {
    "collapsed": true
   },
   "outputs": [],
   "source": [
    "print('The running time of the notebook is: ')\n",
    "proc.time()-ptm"
   ]
  }
 ],
 "metadata": {
  "kernelspec": {
   "display_name": "R",
   "language": "R",
   "name": "ir"
  },
  "language_info": {
   "codemirror_mode": "r",
   "file_extension": ".r",
   "mimetype": "text/x-r-source",
   "name": "R",
   "pygments_lexer": "r",
   "version": "3.4.1"
  }
 },
 "nbformat": 4,
 "nbformat_minor": 1
}
