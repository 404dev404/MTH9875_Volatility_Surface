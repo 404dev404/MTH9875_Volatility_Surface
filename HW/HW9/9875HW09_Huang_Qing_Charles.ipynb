{
 "cells": [
  {
   "cell_type": "markdown",
   "metadata": {},
   "source": [
    "# MTH9875 Homework 9\n",
    "\n",
    "Assigned: October 27, 2016.\n",
    "Due: November 10, 2016 by 6pm.\n",
    "\n",
    "Late homework **will not be accepted**."
   ]
  },
  {
   "cell_type": "markdown",
   "metadata": {},
   "source": [
    "# Qing Huang"
   ]
  },
  {
   "cell_type": "markdown",
   "metadata": {},
   "source": [
    "<font color = \"red\">Homework is to be done by each student individually.  To receive full credit, you must email a completed copy of this iPython notebook to Victor Istratov (stavka@gmail.com), Yassine Ghalem (yassine.ghalem@gmail.com) and Jim Gatheral (jim.gatheral@gmail.com) by the due date and time.  All R-code must run correctly and solutions must be written up neatly in Markdown/LaTeX format."
   ]
  },
  {
   "cell_type": "markdown",
   "metadata": {},
   "source": [
    "### As usual, download some code\n",
    "\n",
    "The following code sources *BlackScholes.R* which has the Black-Scholes formula and implied volatility computation and *Heston2.R* which has in particular the *impvolHeston* function."
   ]
  },
  {
   "cell_type": "code",
   "execution_count": 1,
   "metadata": {},
   "outputs": [],
   "source": [
    "download.file(url=\"http://mfe.baruch.cuny.edu/wp-content/uploads/2014/09/BlackScholes.R.zip\", destfile=\"BlackScholes.R.zip\")\n",
    "unzip(zipfile=\"BlackScholes.R.zip\")\n",
    "source(\"BlackScholes.R\")\n",
    "source(\"Heston2.R\")"
   ]
  },
  {
   "cell_type": "markdown",
   "metadata": {},
   "source": [
    "## A special case of Heston: The Heston-Nandi model\n",
    "$$\n",
    "\\newcommand{\\supp}{\\mathrm{supp}}\n",
    "\\newcommand{\\E}{\\mathbb{E} }\n",
    "\\def\\Cov{{ \\mbox{Cov} }}\n",
    "\\def\\Var{{ \\mbox{Var} }}\n",
    "\\newcommand{\\1}{\\mathbf{1} }\n",
    "\\newcommand{\\PP}{\\mathbb{P} }\n",
    "%\\newcommand{\\Pr}{\\mathrm{Pr} }\n",
    "\\newcommand{\\QQ}{\\mathbb{Q} }\n",
    "\\newcommand{\\RR}{\\mathbb{R} }\n",
    "\\newcommand{\\DD}{\\mathbb{D} }\n",
    "\\newcommand{\\HH}{\\mathbb{H} }\n",
    "\\newcommand{\\spn}{\\mathrm{span} }\n",
    "\\newcommand{\\cov}{\\mathrm{cov} }\n",
    "\\newcommand{\\sgn}{\\mathrm{sgn} }\n",
    "\\newcommand{\\HS}{\\mathcal{L}_{\\mathrm{HS}} }\n",
    "%\\newcommand{\\HS}{\\mathrm{HS} }\n",
    "\\newcommand{\\trace}{\\mathrm{trace} }\n",
    "\\newcommand{\\LL}{\\mathcal{L} }\n",
    "%\\newcommand{\\LL}{\\mathrm{L} }\n",
    "\\newcommand{\\s}{\\mathcal{S} }\n",
    "\\newcommand{\\ee}{\\mathcal{E} }\n",
    "\\newcommand{\\ff}{\\mathcal{F} }\n",
    "\\newcommand{\\hh}{\\mathcal{H} }\n",
    "\\newcommand{\\bb}{\\mathcal{B} }\n",
    "\\newcommand{\\dd}{\\mathcal{D} }\n",
    "\\newcommand{\\g}{\\mathcal{G} }\n",
    "\\newcommand{\\p}{\\partial}\n",
    "\\newcommand{\\half}{\\frac{1}{2} }\n",
    "\\newcommand{\\T}{\\mathcal{T} }\n",
    "\\newcommand{\\bi}{\\begin{itemize}}\n",
    "\\newcommand{\\ei}{\\end{itemize}}\n",
    "\\newcommand{\\beq}{\\begin{equation}}\n",
    "\\newcommand{\\eeq}{\\end{equation}}\n",
    "\\newcommand{\\beas}{\\begin{eqnarray*}}\n",
    "\\newcommand{\\eeas}{\\end{eqnarray*}}\n",
    "\\newcommand{\\cO}{\\mathcal{O}}\n",
    "\\newcommand{\\cF}{\\mathcal{F}}\n",
    "\\newcommand{\\cL}{\\mathcal{L}}\n",
    "$$\n",
    "\n",
    "If we believe the argument of Lecture 4 preceding formula (21), if $\\rho=\\pm1$, Heston local variance should be well approximated by (*e.g.* (4.1) on page 44 of The Volatility Surface):\n",
    "\n",
    "<a name=\"eq:Hestonlv\"></a>(1)\n",
    "$$\n",
    "\\beas\n",
    " v_L(x_T,T) &=& \\left[\\hat v'_{ T} \\,-\\, \\eta\n",
    " \\,\\frac{{x_T }}{{w_T }}\\,\\int_0^T {\\hat v_s } \\,e^{\n",
    " - \\lambda '(T - s)} ds \\right]^+\\nonumber\\\\\n",
    " &=&\\left[(v-\\bar v') e^{ - \\lambda' T} +\\bar v' \\,-\\,\\eta \\, x_T\n",
    " \\,\\left\\{ \\frac{1-e^{-\\lambda' T}}{\\lambda' T } \\right\\}\\right]^+\n",
    "\\eeas\n",
    "$$\n",
    "\n",
    "with $ \\lambda ' = \\lambda  +\\frac { \\eta}{2}$, $\\bar v' = \\bar v\n",
    "\\frac {\\lambda }  {\\lambda '}$.  The whole expression must be\n",
    "bounded below by zero - all stock prices above the critical stock\n",
    "price at which the local variance reaches zero are unattainable.\n",
    "\n",
    "\n",
    "\n",
    "\n",
    "\n",
    "\n",
    "\n",
    "Following Chapter 4 of The\n",
    "Volatility Surface, we will show this numerically by simulation.  For each of the problems below, take $T=1$ year as the time horizon with Heston parameters:\n",
    "\\begin{eqnarray*}\n",
    "v&=& 0.04\\\\ \\bar v &=& 0.04\\\\ \\lambda&=&10\\\\ \\eta&=&1\\\\\\rho&=&-1.\n",
    "\\end{eqnarray*}\n",
    "\n"
   ]
  },
  {
   "cell_type": "markdown",
   "metadata": {},
   "source": [
    "### 1. (16 points)\n",
    "\n",
    "(a)\n",
    "\n",
    "Use your Monte Carlo code (not QMC!) from HW6 Problem 4 to return vectors of $x=\\log S_T/S_0$ and instantaneous variance $v$ with the above Heston-Nandi parameters.  Run the code with $N=2,000,000$ paths, $m=64$ (128 steps), and *evolve=evolveAlfonsiF* .  (Tip: Save the results so you can reuse these samples of $x$ and $v$ and avoid lengthy reruns of the MC code.)\n",
    "\n",
    "(b)\n",
    "\n",
    "Plot the Heston-Nandi 1-year implied variance smile for log-strikes between $-1.0$ and $1.0$.  Superimpose the implied volatility smile from the Heston quasi-closed form formula.  As usual, nice formatting please!\n",
    "\n",
    "(c)\n",
    "\n",
    "Consider the surface SVI (SSVI) parameterization\n",
    "\n",
    "<a name=\"eq:ssvi\"></a>(2)\n",
    "$$\n",
    "w(k,\\theta_t)\n",
    "= \\frac{\\theta_t}{2}\\left\\{1+\\rho\\varphi(\\theta_t) k + \\sqrt{\\left(\\varphi(\\theta_t){k}+\\rho\\right)^2\n",
    "+(1-\\rho^2 )}\\right\\}.\n",
    "$$\n",
    "\n",
    "Set $t=1$.  Show that the ATM implied variance $\\sigma_{\\text{BS}}^2(0,1) = \\theta$, and that the ATM variance skew $\\p_k \\sigma_{\\text{BS}}^2(k,1)|_{k=0}= \\rho\\,\\theta\\,\\varphi$.\n",
    "\n",
    "(d)\n",
    "\n",
    "Simplify the SSVI formula [(2)](#eq:ssvi) in the special case where $\\rho=-1$. \n",
    "\n",
    "(e)\n",
    "\n",
    "Estimate the Monte Carlo ATM implied variance level and skew.  Assuming $\\rho=-1$, deduce $\\theta$ and $\\varphi$.  Display the resulting SSVI fit on the plot obtained in part (b).  "
   ]
  },
  {
   "cell_type": "markdown",
   "metadata": {},
   "source": [
    "### Answers\n",
    "(a)"
   ]
  },
  {
   "cell_type": "code",
   "execution_count": 2,
   "metadata": {},
   "outputs": [],
   "source": [
    "\n",
    "evolveAlfonsiF <- function(v,x,dt,W1,W2){\n",
    "\n",
    "        eldt2 <- exp(-lambda*dt/2);\n",
    "\n",
    "\n",
    "        vbarp <- vbar - eta^2/(4*lambda);\n",
    "        psi <- (1-eldt2)/lambda;\n",
    "        v1 <- v*eldt2+lambda*vbarp*psi;\n",
    "        v2 <- (v1 > 0) * v1; \n",
    "        par <- sqrt(v2) + eta/2 * sqrt(dt)*W2;\n",
    "        vf <- eldt2*par*par +lambda*vbarp*psi + v1 - v2;\n",
    " \n",
    "        vvf <- (v+vf > 0) * (v+vf);\n",
    "        dw <- vvf/2*dt;\n",
    "        x <- x  - dw/2 + rho2m1*sqrt(dw)*W1 +\n",
    "            rho/eta*(lambda*dw + vf-v -lambda*vbar*dt) ;\n",
    "\n",
    "        x <- x - log(mean(exp(x)));\n",
    "        v <- vf;\n",
    "        return(cbind(x,v));\n",
    "}\n",
    "\n",
    "HestonMC <- function(params){\n",
    "    res <- function(T, N, m, evolve)\n",
    "    {\n",
    "  \n",
    "    lambda <<- params$lambda;\n",
    "    rho <<- params$rho;\n",
    "    eta <<- params$eta;\n",
    "    vbar <<- params$vbar;\n",
    "    v0 <<- params$v;\n",
    "    \n",
    "    n <- m*2 \n",
    "    rho2m1 <<- sqrt(1-rho*rho)\n",
    "  \n",
    "    x <- rep(0,N); v <- rep(1,N)*v0;\n",
    "    W1m <- rep(0,N); W2m <- rep(0,N); \n",
    "  \n",
    "    for (i in 1:n)\n",
    "    {\n",
    "        \n",
    "        \n",
    "        W1 <- rnorm(N);\n",
    "        W2 <- rnorm(N);\n",
    "        W1 <- W1 - mean(W1); W1 <- W1/sd(W1);\n",
    "        W2 <- W2 - mean(W2); W2 <- W2/sd(W2);\n",
    "\n",
    "        \n",
    "        W2p <- W2 - cor(W1,W2)*W1; \n",
    "        W2p <- W2p - mean(W2p); W2 <- W2p/sd(W2p); \n",
    "     \n",
    "        res <- evolve(v,x,T/n,W1,W2);\n",
    "        x <- res[,1];\n",
    "        v <- res[,2];   \n",
    "   }\n",
    "   resMC<-list(\"x\"=x,\"v\"=v)\n",
    "    return(resMC)\n",
    "}\n",
    "    return(res)\n",
    "}\n",
    "\n",
    "HNparams<-list(v=0.04,vbar=0.04,lambda=10,eta=1,rho=-1)\n",
    "\n",
    "\n",
    "N=2000000\n",
    "m=64\n",
    "sample<-HestonMC(HNparams)(T=1, N, m, evolve=evolveAlfonsiF)"
   ]
  },
  {
   "cell_type": "markdown",
   "metadata": {},
   "source": [
    "(b)"
   ]
  },
  {
   "cell_type": "code",
   "execution_count": 3,
   "metadata": {},
   "outputs": [
    {
     "data": {
      "image/png": "[encoded data removed]",
      "text/plain": [
       "plot without title"
      ]
     },
     "metadata": {},
     "output_type": "display_data"
    }
   ],
   "source": [
    "\n",
    "MCimpVol<-function(k){\n",
    "    K<-exp(k)\n",
    "    S<-exp(sample$x)\n",
    "    C<-mean((S-K)*(S>K))\n",
    "    return(BSImpliedVolCall(1, K, T=1, r=0, C))\n",
    "}\n",
    "MCimpVol_v<-function(k){sapply(k,MCimpVol)}\n",
    "\n",
    "QCimpVol_v<-function(k){sapply(k,function(k){impvolHeston(HNparams)(k,t=1)})}\n",
    "\n",
    "curve(MCimpVol_v(x),from=-1,to=1,col=\"blue\",ylab=\"Implied vol\", xlab=\"log-strike\")\n",
    "curve(QCimpVol_v(x),from=-1,to=1,col=\"red\",add=T,lty=2)\n",
    "legend(\"bottomleft\",c(\"Monte Carlo\",\"Quasi-closed form formula\"),col=c(\"blue\",\"red\"),lty=c(1,2))"
   ]
  },
  {
   "cell_type": "markdown",
   "metadata": {},
   "source": [
    "(c)\n",
    "When $t=1$, $\\theta_1=\\theta$,\n",
    "$$\n",
    "\\sigma_{BS}^2(0,1)=w(0,\\theta)=\\frac{\\theta}{2}\\left\\{1+0+\\sqrt{\\rho^2+1-\\rho^2}\\right\\}=\\theta\n",
    "$$\n",
    "$$\n",
    "\\p_k \\sigma_{BS}^2(k,1)|_{k=0}\\\\\n",
    "=\\p_k w(k,\\theta)|_{k=0}\\\\\n",
    "=\\left.\\frac{\\theta}{2}\\left\\{\\rho\\varphi(\\theta)+\\frac{(\\varphi(\\theta)k+\\rho)\\varphi(\\theta)}{\\sqrt{(\\varphi(\\theta)k+\\rho)^2+(1-\\rho^2)}}\\right\\}\\right|_{k=0}\\\\\n",
    "=\\rho\\theta\\varphi(\\theta)\n",
    "$$"
   ]
  },
  {
   "cell_type": "markdown",
   "metadata": {},
   "source": [
    "(d)\n",
    "$$\n",
    "w(k,\\theta_t)\n",
    "= \\frac{\\theta_t}{2}\\left\\{1 - \\varphi(\\theta_t) k + \\sqrt{\\left(\\varphi(\\theta_t){k} - 1\\right)^2\n",
    "}\\right\\}\\\\\n",
    "=\n",
    "\\begin{cases} \n",
    "      0 & \\varphi(\\theta_t){k} - 1 \\geq 0 \\\\\n",
    "      \\theta_t(1 - \\varphi(\\theta_t) k) & otherwise\n",
    "\\end{cases}\n",
    "$$"
   ]
  },
  {
   "cell_type": "markdown",
   "metadata": {},
   "source": [
    "(e)"
   ]
  },
  {
   "cell_type": "code",
   "execution_count": 4,
   "metadata": {},
   "outputs": [
    {
     "name": "stdout",
     "output_type": "stream",
     "text": [
      "theta:  0.03507392  phi:  2.250677 \n"
     ]
    },
    {
     "data": {
      "image/png": "[encoded data removed]",
      "text/plain": [
       "plot without title"
      ]
     },
     "metadata": {},
     "output_type": "display_data"
    }
   ],
   "source": [
    "\n",
    "atmVar<-MCimpVol(k=0)^2\n",
    "dk<-0.001\n",
    "atmSkew<-(MCimpVol(k=dk)^2-MCimpVol(k=-dk)^2)/2/dk\n",
    "\n",
    "theta<-atmVar\n",
    "phi<--atmSkew/theta\n",
    "cat(\"theta: \",theta,\" phi: \",phi,\"\\n\")\n",
    "\n",
    "\n",
    "SSVI_fit<-function(k){\n",
    "    if(phi*k>=1){\n",
    "        return(0)\n",
    "    }\n",
    "    else{\n",
    "        return(sqrt(theta*(1-phi*k)))\n",
    "    }\n",
    "}\n",
    "SSVIimpVol_v<-function(k){sapply(k,SSVI_fit)}\n",
    "\n",
    "curve(MCimpVol_v(x),from=-1,to=1,col=\"blue\",ylab=\"Implied vol\", xlab=\"log-strike\")\n",
    "curve(QCimpVol_v(x),from=-1,to=1,col=\"red\",add=T,lty=2)\n",
    "curve(SSVIimpVol_v(x),from=-1,to=1,col=\"green\",add=T,lty=1)\n",
    "legend(\"bottomleft\",c(\"Monte Carlo\",\"Quasi-closed form formula\",\"SSVI\"),col=c(\"blue\",\"red\",\"green\"),lty=c(1,2,1))"
   ]
  },
  {
   "cell_type": "markdown",
   "metadata": {},
   "source": [
    "### Numerical check of local volatility formula"
   ]
  },
  {
   "cell_type": "markdown",
   "metadata": {},
   "source": [
    "### 2. (6 points) \n",
    "\n",
    "Using  the $x$ and $v$ samples you generated in Problem 1, numerically estimate the local volatility function\n",
    "\n",
    "[(3)](#eq:lvNumerical)\n",
    "$$\n",
    "v_L(x,1)=\\E[v_1|x_1=x]\n",
    "$$\n",
    "\n",
    "Plot local variance $v_L(x,1)$ as a function of $x$ from $x=-0.5$ to $x=+0.5$.  As in HW4, I recommend just binning the data.  Superimpose a graph of formula [(1)](#eq:Hestonlv).  Verify agreement of [(1)](#eq:Hestonlv) and [(3)](#eq:lvNumerical)."
   ]
  },
  {
   "cell_type": "markdown",
   "metadata": {},
   "source": [
    "### Answers"
   ]
  },
  {
   "cell_type": "code",
   "execution_count": 5,
   "metadata": {},
   "outputs": [
    {
     "data": {
      "image/png": "[encoded data removed]",
      "text/plain": [
       "plot without title"
      ]
     },
     "metadata": {},
     "output_type": "display_data"
    }
   ],
   "source": [
    "xv<-data.frame(cbind(sample$x,sample$v))\n",
    "colnames(xv)<-c(\"x\",\"v\")\n",
    "x_min<-min(xv[,\"x\"])\n",
    "x_max<-max(xv[,\"x\"])\n",
    "bins<-100\n",
    "itv<-(x_max-x_min)/bins\n",
    "\n",
    "MClocalVol<-function(x){\n",
    "    i<-floor((x-x_min)/itv)\n",
    "    xl<-x_min+i*itv\n",
    "    xh<-x_min+(i+1)*itv\n",
    "    xv.subset<-subset(xv,x>=xl & x<xh)\n",
    "    v_mean<-mean(xv.subset[,\"v\"])\n",
    "    v_std<-sd(xv.subset[,\"v\"])/sqrt(dim(xv.subset)[1])\n",
    "    return(cbind(v_mean,v_std))\n",
    "}\n",
    "\n",
    "localVol<-function(x){\n",
    "    lambdap<-lambda+eta/2\n",
    "    vbarp<-vbar*lambda/lambdap\n",
    "    res<-(v0-vbarp)*exp(-lambdap)+vbarp-eta*x*((1-exp(-lambdap))/lambdap)\n",
    "    res<-res*(res>0)\n",
    "    return(res)\n",
    "}\n",
    "\n",
    "x<-seq(-0.5,0.5,0.02)\n",
    "lVol_MC<-sapply(x,MClocalVol)\n",
    "lVol<-sapply(x,localVol)\n",
    "\n",
    "plot(x,lVol_MC[1,],type=\"l\",col=\"blue\",xlab=\"x\",ylim=c(0,0.1),ylab=\"local variance\")\n",
    "lines(x,lVol,col=\"red\",lty=2)\n",
    "\n",
    "\n",
    "dx<-0.001\n",
    "for(i in 1:length(x)) {\n",
    "    high<-lVol_MC[1,i]+lVol_MC[2,i]\n",
    "    low<-lVol_MC[1,i]-lVol_MC[2,i]\n",
    "    segments(x[i],low,x[i],high)\n",
    "    segments(x[i]-dx, high , x[i]+dx, high)\n",
    "    segments(x[i]-dx, low , x[i]+dx, low)\n",
    "}\n",
    "\n",
    "legend(\"bottomleft\",c(\"Monte Carlo\",\"Approximated formula\"),col=c(\"blue\",\"red\"),lty=c(1,2))"
   ]
  },
  {
   "cell_type": "markdown",
   "metadata": {},
   "source": [
    "## Local volatility simulation"
   ]
  },
  {
   "cell_type": "markdown",
   "metadata": {},
   "source": [
    "### 3. (10 points) \n",
    "\n",
    "Amend the Monte Carlo code of Problem 1 to generate a vector of $x=\\log S_T/S_0$ assuming the local volatility process:\n",
    "\n",
    "$$\n",
    "dx=-\\frac{1}{2}\\,v_L(x,t)\\,dt+\\sqrt{v_L(x,t)}\\,dZ\n",
    "$$\n",
    "\n",
    "with the approximate formula [(1)](#eq:Hestonlv) for local variance.  Again, with 2 million paths and 128 steps, plot the 1-year volatility smile for log-strikes between $-1.0$ and $1.0$.  Superimpose this smile on the Heston implied volatility smiles generated in Problem 1.  "
   ]
  },
  {
   "cell_type": "markdown",
   "metadata": {},
   "source": [
    "### Answers"
   ]
  },
  {
   "cell_type": "code",
   "execution_count": 6,
   "metadata": {},
   "outputs": [],
   "source": [
    "\n",
    "vl<-function(x,t){\n",
    "    lambdap<-lambda+eta/2\n",
    "    vbarp<-vbar*lambda/lambdap\n",
    "    res<-(v0-vbarp)*exp(-lambdap*t)+vbarp-eta*x*((1-exp(-lambdap*t))/lambdap/t)\n",
    "    res<-res*(res>0)\n",
    "    return(res)\n",
    "}\n",
    "\n",
    "\n",
    "HestonMC2 <- function(params){\n",
    "    res <- function(T, N, m)\n",
    "    {\n",
    "  \n",
    "    lambda <<- params$lambda;\n",
    "    rho <<- params$rho;\n",
    "    eta <<- params$eta;\n",
    "    vbar <<- params$vbar;\n",
    "    v0 <<- params$v;\n",
    "    \n",
    "    n <- m*2 \n",
    "    x <- rep(0,N);\n",
    "  \n",
    "    for (i in 1:n)\n",
    "    {\n",
    "        W1 <- rnorm(N);\n",
    "        W1 <- W1 - mean(W1);W1 <- W1/sd(W1);\n",
    "        \n",
    "        t<-i*T/n\n",
    "        vL<-vl(x,t)\n",
    "        x <- x-0.5*vL*T/n+sqrt(vL)*W1*sqrt(T/n)\n",
    "        x <- x - log(mean(exp(x)))\n",
    "   }\n",
    "    return(x)\n",
    "}\n",
    "    return(res)\n",
    "}\n",
    "\n",
    "\n",
    "HNparams<-list(v=0.04,vbar=0.04,lambda=10,eta=1,rho=-1)\n",
    "\n",
    "N=2000000\n",
    "m=64\n",
    "sample2<-HestonMC2(HNparams)(T=1, N, m)"
   ]
  },
  {
   "cell_type": "code",
   "execution_count": 7,
   "metadata": {},
   "outputs": [
    {
     "data": {
      "image/png": "[encoded data removed]",
      "text/plain": [
       "plot without title"
      ]
     },
     "metadata": {},
     "output_type": "display_data"
    }
   ],
   "source": [
    "LVimpVol<-function(k){\n",
    "    K<-exp(k)\n",
    "    S<-exp(sample2)\n",
    "    C<-mean((S-K)*(S>K))\n",
    "    return(BSImpliedVolCall(1, K, T=1, r=0, C))\n",
    "}\n",
    "LVimpVol_v<-function(k){sapply(k,LVimpVol)}\n",
    "\n",
    "curve(MCimpVol_v(x),from=-1,to=1,col=\"blue\",ylab=\"Implied vol\", xlab=\"log-strike\")\n",
    "curve(QCimpVol_v(x),from=-1,to=1,col=\"red\",add=T,lty=2)\n",
    "curve(LVimpVol_v(x),from=-1,to=1,col=\"green\",add=T,lty=1)\n",
    "legend(\"bottomleft\",c(\"Monte Carlo\",\"Quasi-closed form formula\",\"LocalVol MC\"),col=c(\"blue\",\"red\",\"green\"),lty=c(1,2,1))"
   ]
  },
  {
   "cell_type": "markdown",
   "metadata": {},
   "source": [
    "## Intuition"
   ]
  },
  {
   "cell_type": "markdown",
   "metadata": {},
   "source": [
    "### 4. (4 points) \n",
    "\n",
    "\n",
    "From the results of your computations, you should see that the local\n",
    "volatility model and the stochastic volatility model price one year\n",
    "European options almost identically.  Also, because  $\\rho=-1$, both the Heston model of Problem 1 and the local volatility model of Problem 2 are only one-factor, depending only on stock prices. Are there any\n",
    "differences between the two models? If so, what are these differences?"
   ]
  },
  {
   "cell_type": "markdown",
   "metadata": {},
   "source": [
    "### Answers\n",
    "In a local volatility model the stock price is a Markov process, while in the Heston-Nandi model the stock price and the instantaneous variance together is a Markov process.\n",
    "In stochastic volatility model, the volatility skew is time-homogeneous, while in a local volatility model, the skew in the future will be much flatter when maturity becomes longer."
   ]
  },
  {
   "cell_type": "markdown",
   "metadata": {},
   "source": [
    "## Postscript\n",
    "\n",
    "You now have working Heston-Nandi stochastic volatility and local volatility codes.  We will use these later to check our intuition for the impact of dynamical assumptions on the pricing of exotic options."
   ]
  }
 ],
 "metadata": {
  "kernelspec": {
   "display_name": "R",
   "language": "R",
   "name": "ir"
  },
  "language_info": {
   "codemirror_mode": "r",
   "file_extension": ".r",
   "mimetype": "text/x-r-source",
   "name": "R",
   "pygments_lexer": "r",
   "version": "3.4.1"
  }
 },
 "nbformat": 4,
 "nbformat_minor": 1
}
