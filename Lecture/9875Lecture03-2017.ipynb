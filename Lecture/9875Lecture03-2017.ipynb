{
 "cells": [
  {
   "cell_type": "markdown",
   "metadata": {
    "slideshow": {
     "slide_type": "slide"
    }
   },
   "source": [
    "## MTH 9875 The Volatility Surface:    Fall 2017\n",
    "\n",
    "<p>\n",
    "\n",
    "### Lecture 3: The Heston Model\n",
    "\n",
    "\n",
    "Jim Gatheral   \n",
    "Department of Mathematics   \n",
    "  \n",
    "\n",
    "  \n",
    "  \n",
    "<h3><img src=\"http://mfe.baruch.cuny.edu/wp-content/uploads/2016/04/MFE-Logo.jpg\" align = \"right\" width=500></h3>\n",
    "\n"
   ]
  },
  {
   "cell_type": "markdown",
   "metadata": {
    "slideshow": {
     "slide_type": "slide"
    }
   },
   "source": [
    "## Outline of lecture 3\n",
    "$$\n",
    "\\newcommand{\\bea}{\\begin{eqnarray}}\n",
    "\\newcommand{\\eea}{\\end{eqnarray}}\n",
    "\\newcommand{\\beas}{\\begin{eqnarray*}}\n",
    "\\newcommand{\\eeas}{\\end{eqnarray*}}\n",
    "\\newcommand{\\supp}{\\mathrm{supp}}\n",
    "\\newcommand{\\E}{\\mathbb{E} }\n",
    "\\def\\Cov{{ \\mbox{Cov} }}\n",
    "\\def\\Var{{ \\mbox{Var} }}\n",
    "\\newcommand{\\1}{\\mathbf{1} }\n",
    "\\newcommand{\\cF}{\\mathcal{F} }\n",
    "\\newcommand{\\PP}{\\mathbb{P} }\n",
    "\\newcommand{\\QQ}{\\mathbb{Q} }\n",
    "\\newcommand{\\RR}{\\mathbb{R} }\n",
    "\\newcommand{\\DD}{\\mathbb{D} }\n",
    "\\newcommand{\\HH}{\\mathbb{H} }\n",
    "\\newcommand{\\spn}{\\mathrm{span} }\n",
    "\\newcommand{\\cov}{\\mathrm{cov} }\n",
    "\\newcommand{\\HS}{\\mathcal{L}_{\\mathrm{HS}} }\n",
    "\\newcommand{\\trace}{\\mathrm{trace} }\n",
    "\\newcommand{\\LL}{\\mathcal{L} }\n",
    "\\newcommand{\\s}{\\mathcal{S} }\n",
    "\\newcommand{\\ee}{\\mathcal{E} }\n",
    "\\newcommand{\\ff}{\\mathcal{F} }\n",
    "\\newcommand{\\hh}{\\mathcal{H} }\n",
    "\\newcommand{\\bb}{\\mathcal{B} }\n",
    "\\newcommand{\\dd}{\\mathcal{D} }\n",
    "\\newcommand{\\g}{\\mathcal{G} }\n",
    "\\newcommand{\\half}{\\frac{1}{2} }\n",
    "\\newcommand{\\T}{\\mathcal{T} }\n",
    "\\newcommand{\\bi}{\\begin{itemize}}\n",
    "\\newcommand{\\ei}{\\end{itemize}}\n",
    "\\newcommand{\\beq}{\\begin{equation}}\n",
    "\\newcommand{\\eeq}{\\end{equation}}\n",
    "\\newcommand{\\ee}[1]{\\mathbb{E}\\left[{#1}\\right]}\n",
    "\\newcommand{\\eef}[1]{\\mathbb{E}\\left[\\left.{#1}\\right|\\cF_t\\right]}\n",
    "$$\n",
    "* The Heston process\n",
    "* Derivation of the Heston formula for European options\n",
    "* The Heston characteristic function\n",
    "* Implementation of the Heston model in R\n",
    "* Numerical experiments\n",
    "* Simulation of the Heston model"
   ]
  },
  {
   "cell_type": "markdown",
   "metadata": {
    "slideshow": {
     "slide_type": "slide"
    }
   },
   "source": [
    "### The Heston process\n",
    "\n",
    "\n",
    "The Heston stochastic volatility model may be written as\n",
    "\n",
    "<a name=\"eq:spotprocess\"></a>(1)\n",
    "$$\n",
    "dS_t = \\mu_t\\, S_t\\, dt + \\sqrt{v_t}\\,S_t \\,dZ_t\n",
    "$$\n",
    "\n",
    "and\n",
    "\n",
    "<a name=\"eq:varprocess\"></a>(2)\n",
    "$$\n",
    "dv_t =  - \\lambda \\,(v_t - \\bar v)\\,dt + \\eta \\,\\sqrt {v_t} \\,dW_t\n",
    "$$\n",
    "\n",
    "with $\n",
    "\\ee {dZ_t\\,dW_t} = \\rho \\, dt\n",
    "$ and where $\\lambda$ is the speed of reversion of $v_t$ to its long term\n",
    "mean $\\bar v$."
   ]
  },
  {
   "cell_type": "markdown",
   "metadata": {
    "slideshow": {
     "slide_type": "subslide"
    }
   },
   "source": [
    "* The process followed by the instantaneous variance $v_t$ may be recognized as a version of the square root process or CIR process of [Cox, Ingersoll, Ross]<sup id=\"cite_ref-CIR\" class=\"reference\"><a href=\"#cite_note-CIR\"><span>[</span>3<span>]</span></a></sup>.\n",
    "\n",
    "\n",
    "* It is a (jump-free) special case of a so-called *affine jump diffusion (AJD)*.\n",
    "  * Roughly speaking a jump-diffusion process for which the drifts and covariances and jump intensities are linear in the state vector (which is $\\{ x,v \\}$ in this case with $x= \\log (S) $)."
   ]
  },
  {
   "cell_type": "markdown",
   "metadata": {
    "slideshow": {
     "slide_type": "subslide"
    }
   },
   "source": [
    "* [Duffie, Pan and Singleton]<sup id=\"cite_ref-DPS\" class=\"reference\"><a href=\"#cite_note-DPS\"><span>[</span>4<span>]</span></a></sup> show that AJD processes are analytically tractable in general.\n",
    "    * The solution technique involves computing an \"extended transform\" which in the Heston case is a conventional Fourier transform."
   ]
  },
  {
   "cell_type": "markdown",
   "metadata": {
    "slideshow": {
     "slide_type": "slide"
    }
   },
   "source": [
    "### Definition\n",
    "\n",
    "The following explanation is due to Martin Keller-Ressel:\n",
    "\n",
    ">An *affine process* can be described as a Markov process whose log-characteristic function is an affine \n",
    "function of its initial state vector.\n",
    "\n",
    "\n",
    "And here's a definition of the word *affine* from Wikipedia:\n",
    "\n",
    " \n",
    "\n",
    ">In geometry, an affine transformation or affine map or an affinity (from the Latin, *affinis*, \"connected with\") between two vector spaces (strictly speaking, two affine spaces) consists of a linear transformation followed by a translation:\n",
    "$$\n",
    "x \\mapsto A\\,x+b\n",
    "$$\n",
    "\n"
   ]
  },
  {
   "cell_type": "markdown",
   "metadata": {
    "slideshow": {
     "slide_type": "slide"
    }
   },
   "source": [
    "### The Heston valuation equation\n",
    "\n",
    "\n",
    "In the Heston model, the value $V$ of a European-style claim is a function of $S$ and $v$ only. \n",
    "An application of Itô's Lemma gives\n",
    "\n",
    "<a></a>(3)\n",
    "$$\n",
    "\\beas\n",
    "dV&=&\\partial_t V\\,dt+\\partial_S V\\,dS+\\partial_v V\\,dv\\\\\n",
    "&&+\\frac{1}{2} \\partial_{S,S} V\\,dS^2+\\frac{1}{2} \\partial_{v,v} V\\,dv^2+\\partial_{S,v} V\\,dv\\,dS\n",
    "\\eeas\n",
    "$$"
   ]
  },
  {
   "cell_type": "markdown",
   "metadata": {
    "slideshow": {
     "slide_type": "subslide"
    }
   },
   "source": [
    "$V(S,v,t)=\\E[(S_T-K)^+|S,v]$ is a martingale so taking expectations (and again with zero rates and dividends), we obtain the valuation equation:\n",
    "\n",
    "<a name=\"eq:hestonraw\"></a>(4)\n",
    "$$\n",
    "\\frac{\\partial V}{\\partial t} + \\frac{1}{2}\\,v\\,S^2\n",
    "\\frac{\\partial^2 V}{\\partial S^2} + \\rho \\,\\eta \\,v\n",
    " \\,S\\frac{\\partial^2 V}{\\partial v\\,\\partial S}\n",
    "+ \\frac{1}{2}\\,\\eta^2\\, v \\,\\frac{\\partial^2 V}{\\partial v^2}\n",
    "%+r\\,S\\frac{\\partial V}{\\partial S}\\,-\\,r\\, V \\nonumber\\\\\n",
    "- \\lambda (v - \\bar v)\\, \\frac{\\partial\n",
    "V}{\\partial v} =0\\nonumber\\\\\n",
    "$$"
   ]
  },
  {
   "cell_type": "markdown",
   "metadata": {
    "slideshow": {
     "slide_type": "slide"
    }
   },
   "source": [
    "### Risk-neutral and statistical (physical) measures\n",
    "\n",
    "* In Heston's original paper, the price of risk is assumed to be linear in the instantaneous variance $v$ in order to be able to retain the form of the equation under the transformation from the statistical (or real) measure to the risk-neutral measure.\n",
    "\n",
    "\n",
    "* In contrast, we assume that the Heston process with parameters fitted to option prices generates the risk-neutral measure.\n",
    "\n",
    "    * We may set the market price of volatility risk to zero."
   ]
  },
  {
   "cell_type": "markdown",
   "metadata": {
    "slideshow": {
     "slide_type": "subslide"
    }
   },
   "source": [
    "* Since we are only interested in pricing, and we assume that the pricing measure is recoverable from European option prices, we are indifferent to the statistical measure."
   ]
  },
  {
   "cell_type": "markdown",
   "metadata": {
    "slideshow": {
     "slide_type": "slide"
    }
   },
   "source": [
    "### A simpler form of the valuation equation\n",
    "\n",
    "Before solving equation [(4)](#eq:hestonraw) with the appropriate\n",
    "boundary conditions, we can simplify it by making some suitable\n",
    "changes of variable.  \n",
    "\n",
    "\n",
    "Let $K$ be the strike price of the option,  $S_T$ the stock price at expiration $T$ and $x := \\log \\left( S_T/ K \\right)$.  We denote the time to expiration by $\\tau:=T-t$.\n",
    "\n",
    "\n",
    "Then equation [(4)](#eq:hestonraw)\n",
    "simplifies to\n",
    "\n",
    "<a name=\"eq:heston1\"></a>(5)\n",
    "$$\n",
    "-\\frac{\\partial C}{\\partial \\tau } + \\frac{1}{2}\\,v\\,C_{11} -\n",
    "\\frac{1}{2}\\,v\\,C_1  + \\frac{1}{2}\\,\\eta^2\\, v\\,C_{22} + \\rho\\, \\eta\n",
    "\\,v\\,C_{12} \\\\ -\\lambda (v - \\bar v)\\,C_2 = 0\n",
    "$$\n",
    "\n",
    "where the subscripts $1$ and $2$ refer to differentiation with\n",
    "respect to $x$ and $v$ respectively."
   ]
  },
  {
   "cell_type": "markdown",
   "metadata": {
    "slideshow": {
     "slide_type": "slide"
    }
   },
   "source": [
    "### Form of the solution\n",
    "\n",
    "According to [Duffie, Pan and Singleton]<sup id=\"cite_ref-DPS\" class=\"reference\"><a href=\"#cite_note-DPS\"><span>[</span>5<span>]</span></a></sup>, the solution of\n",
    "equation [(5)](#eq:heston1) has the form\n",
    "\n",
    "<a name=\"eq:guess\"></a>(6)\n",
    "$$\n",
    "C (x,v,\\tau) =K\\,\\left\\{ e^x \\,P_1(x,v,\\tau ) - P_0(x ,v ,\\tau)\\right\\}\n",
    "$$\n",
    "\n",
    "where, exactly as in the Black-Scholes formula,\n",
    "\n",
    "* the first term in the brackets represents the pseudo-expectation of the final index level given that the option is in-the-money\n",
    "\n",
    "* the second term represents the pseudo-probability of exercise."
   ]
  },
  {
   "cell_type": "markdown",
   "metadata": {
    "slideshow": {
     "slide_type": "slide"
    }
   },
   "source": [
    "### Equations for pseudo-probabilities \n",
    "\n",
    "Substituting the proposed solution [(6)](#eq:guess) into equation\n",
    "[(5)](#eq:heston1) implies that $P_0$ and $P_1$ must satisfy the\n",
    "equation\n",
    "\n",
    "<a name=\"eq:peqn\"></a>(7)\n",
    "\\begin{eqnarray}\n",
    "-\\frac{{\\partial P_j }}{{\\partial \\tau }} +\n",
    "\\frac{1}{2}v\\frac{{\\partial^2 P_j }}{{\\partial x^2 }} - \\left(\n",
    "{{\\frac{1}{2}} - j} \\right)v\\frac{{\\partial P_j }}{{\\partial x}} +\n",
    "\\frac{1}{2}\\eta ^2 v\\frac{{\\partial ^2 P_j }}{{\\partial v^2 }}\\nonumber\\\\\n",
    "\\quad \\quad \\quad \\quad \\quad +\n",
    "\\rho \\eta v\\frac{{\\partial ^2 P_j }}{{\\partial x\\partial v}} + (a{\n",
    "} - b_j v)\\frac{{\\partial P_j }}{{\\partial v}}& =& 0\n",
    "\\end{eqnarray}\n",
    "\n",
    "for $j=0,1$ where\n",
    "$\n",
    "a  = \\lambda \\,\\bar v ,\\,\\,\\,\\,b_j   = \\lambda - j\\,\\rho\\, \\eta\n",
    "$"
   ]
  },
  {
   "cell_type": "markdown",
   "metadata": {
    "slideshow": {
     "slide_type": "subslide"
    }
   },
   "source": [
    "The terminal condition is\n",
    "\n",
    "<a name=\"eq:termcond\"></a>(8)\n",
    "\\begin{eqnarray}\n",
    "\\lim_{\\tau  \\to 0} \\,\\,P_j (x,v,\\tau ) &=& \\,\\left\\{\n",
    "\\begin{array}{l} 1{ \\,\\, if }\\,\\,x > 0 \\\\ 0{ \\,\\,if \\,\\,}x \\leq 0 \\\\\n",
    "\\end{array} \\right. \\nonumber \\\\\n",
    "& := & \\theta (x) \n",
    "\\end{eqnarray}"
   ]
  },
  {
   "cell_type": "markdown",
   "metadata": {
    "slideshow": {
     "slide_type": "slide"
    }
   },
   "source": [
    "### Solve using Fourier transforms\n",
    "\n",
    "We solve equation [(7)](#eq:peqn) subject to the condition\n",
    "[(8)](#eq:termcond) using a Fourier transform technique.  To this\n",
    "end define the Fourier transform of $P_j$ through\n",
    "\n",
    "$$\n",
    "\\tilde P(u,v,\\tau) = \\int_{ - \\infty }^\\infty \\, dx \\,e^{ - i\\,u\\,x}\n",
    "\\,P(x,v,\\tau)\n",
    "$$\n",
    "\n",
    "Then\n",
    "$$\n",
    "\\tilde P(u,v,0) = \\int_{ - \\infty }^\\infty \\, dx \\,e^{ - i\\,u\\,x}\n",
    "\\,\\theta (x) = \\frac{1}{{i \\,u}}\n",
    "$$"
   ]
  },
  {
   "cell_type": "markdown",
   "metadata": {
    "slideshow": {
     "slide_type": "subslide"
    }
   },
   "source": [
    "The inverse transform is given by\n",
    "\n",
    "<a name=\"eq:pinv\"></a>(9)\n",
    "$$\n",
    "P(x,v,\\tau ) = \\int_{ - \\infty }^\\infty \\, \\frac{du}{2\\pi}\\,\\,\n",
    "e^{i\\,u\\,x} \\,\\tilde P(u,v,\\tau )\n",
    "$$"
   ]
  },
  {
   "cell_type": "markdown",
   "metadata": {
    "slideshow": {
     "slide_type": "slide"
    }
   },
   "source": [
    "### Equation in Fourier space\n",
    "\n",
    "Substituting this into equation [(7)](#eq:peqn) gives\n",
    "\n",
    "<a name=\"eq:ptildeeqn\"></a>(10)\n",
    "\\begin{eqnarray}\n",
    "- \\frac{\\partial \\tilde P_j }{\\partial \\tau } &-& \\frac{1}{2}\\,u^2\n",
    "\\,v\\,\\tilde P_j  - \\left({\\frac{1}{ 2}} - j \\right)\\,i\n",
    "\\,u\\,v\\,\\tilde P_j \\nonumber\n",
    "\\\\ &+& \\frac{1}{2}\\,\\eta ^2 \\,v\\,\\frac{{\\partial ^2 \\tilde P_j\n",
    "}}{{\\partial v^2 }} + \\rho \\,\\eta \\,i\\,u\\,v\\,\\frac{{\\partial \\tilde\n",
    "P_j }}{{\\partial v}} + (a - b_j \\,v)\\,\\frac{{\\partial \\tilde P_j\n",
    "}}{{\\partial v}} = 0 \n",
    "\\end{eqnarray}"
   ]
  },
  {
   "cell_type": "markdown",
   "metadata": {
    "slideshow": {
     "slide_type": "subslide"
    }
   },
   "source": [
    "Now define \n",
    "\n",
    "\\begin{eqnarray*}\n",
    "  \\alpha  &=&  - \\frac{{u^2 }}{2} - \\frac{{i \\,u}}{2} + i\\, j \\,u \\\\\n",
    "  {\\beta} &=& \\lambda  - \\rho \\,\\eta\\, j - \\rho\\, \\eta\\, i\\, u \\\\\n",
    "  \\gamma  &=& \\frac{{\\eta ^2 }}{2} \\\\\n",
    "\\end{eqnarray*}"
   ]
  },
  {
   "cell_type": "markdown",
   "metadata": {
    "slideshow": {
     "slide_type": "subslide"
    }
   },
   "source": [
    "Then equation [(10)](#eq:ptildeeqn) becomes\n",
    "\n",
    "<a name=\"eq:ptildesimple\"></a>(11)\n",
    "$$\n",
    "\\begin{equation}\n",
    "v\\,\\left\\{ \\alpha \\,\\tilde P_j  - \\beta \\frac{{\\partial \\tilde P_j\n",
    "}}{{\\partial v}} + \\gamma\\, \\frac{\\partial ^2 \\,\\tilde P_j\n",
    "}{\\partial v^2 } \\right\\} + a\\,\\frac{{\\partial \\tilde P_j\n",
    "}}{{\\partial v}} - \\frac{{\\partial \\tilde P_j }}{{\\partial \\tau }} =\n",
    "0 \n",
    "\\end{equation}\n",
    "$$\n",
    "\n",
    "Now substitute (the *affine ansatz*):\n",
    "\n",
    "$$\n",
    "\\begin{eqnarray*} \\tilde P_j (u,v,\\tau )& =& \\exp\n",
    "\\left\\{ {C(u,\\tau )\\,\\bar v + D(u,\\tau )\\,v} \\right\\}\\,\\tilde P_j\n",
    "(u,v,0) \\\\\n",
    "   &=& \\frac{1}{{i\\, u}}\\exp \\left\\{ {C(u,\\tau )\\,\\bar v + D(u,\\tau )\\,v} \\right\\}\n",
    "\\end{eqnarray*}\n",
    "$$"
   ]
  },
  {
   "cell_type": "markdown",
   "metadata": {
    "slideshow": {
     "slide_type": "subslide"
    }
   },
   "source": [
    "It follows that\n",
    "\\begin{eqnarray*}\n",
    "\\frac{{\\partial \\tilde P_j }}{{\\partial \\tau }} &=&\n",
    "\\left\\{ {\\bar v\\,\\frac{{\\partial C}} {{\\partial \\tau }} +\n",
    "v\\,\\frac{{\\partial D}}{{\\partial \\tau }}} \\right\\}\\tilde P_j \\\\\n",
    "\\frac{{\\partial \\tilde P_j }}{{\\partial v}}&=&\n",
    "D\\,\\tilde P_j\\\\\n",
    "\\frac{{\\partial^2 \\tilde P_j }}{{\\partial v^2 }} &=& D^2 \\,\\tilde P_j\n",
    "\\end{eqnarray*}"
   ]
  },
  {
   "cell_type": "markdown",
   "metadata": {
    "slideshow": {
     "slide_type": "subslide"
    }
   },
   "source": [
    "Then equation [(11)](#eq:ptildesimple) is satisfied if\n",
    "\n",
    "<a name=\"eq:cdeqn\"></a>(12)\n",
    "\\begin{eqnarray}\n",
    "\\frac{{\\partial C}}{{\\partial \\tau }}\n",
    "&=& \\lambda \\,D\\nonumber \\\\\n",
    "\\frac{{\\partial D}}{{\\partial \\tau }}\n",
    "&=& \\alpha  - \\beta\\,D +\\gamma \\,D^2\\nonumber  \\\\\n",
    "&=& \\gamma \\,(D - r_ +  )(D - r_ -  )\n",
    "\\end{eqnarray}\n",
    "\n",
    "where we define\n",
    "\n",
    "$$\n",
    "r_ \\pm   = \\frac{{\\beta  \\pm \\, \\sqrt {\\beta ^2  - 4\\alpha \\gamma }\n",
    "}}{{2\\gamma }} =: \\frac{{\\beta  \\pm d}}{{\\eta ^2 }}\n",
    "$$"
   ]
  },
  {
   "cell_type": "markdown",
   "metadata": {
    "slideshow": {
     "slide_type": "subslide"
    }
   },
   "source": [
    "Integrating [(12)](#eq:cdeqn) with the terminal conditions $C(u,0)=0$\n",
    "and $D(u,0)=0$ gives\n",
    "\n",
    "<a name=\"eq:hestonCD\"></a>(13)\n",
    "\\begin{eqnarray}\n",
    "D(u,\\tau ) &=& r_ -  \\frac{{1 - e^{ - d\\,\\tau } }}{{1 - g\\,e^{ -\n",
    "d\\,\\tau } }} \\nonumber\\\\ C(u,\\tau ) &=& \\lambda \\,\\left\\{ {r_ - \\tau\n",
    "- \\frac{2}{{\\eta ^2 }}\\,\\log\\left( {\\frac{{1 - g\\,e^{ - d\\,\\tau }\n",
    "}}{{1 - g}}} \\right)} \\right\\}\n",
    "\\end{eqnarray}\n",
    "\n",
    "where we define\n",
    "\n",
    "$$\n",
    "g := \\frac{{r_ -  }}{{r_ +  }}.\n",
    "$$"
   ]
  },
  {
   "cell_type": "markdown",
   "metadata": {
    "slideshow": {
     "slide_type": "slide"
    }
   },
   "source": [
    "### The Heston formula\n",
    "We then arrive at our final result:\n",
    "\n",
    "<blockquote><div style=\"background-color:#add8e6; color:#FFFFFF; font-style: normal;  \" ><h4>\n",
    "The Heston formula</h4>\n",
    "</div>\n",
    "<div style=\"background-color:#E8E8E8; color:#000000; font-style: normal; \">\n",
    "<br>\n",
    "$$\n",
    "C (x,v,\\tau) =K\\,\\left\\{ e^x \\,P_1(x,v,\\tau ) - P_0(x ,v ,\\tau)\\right\\}\n",
    "$$\n",
    "<br>\n",
    "</div>\n",
    "</blockquote>\n",
    "\n",
    "where the pseudo-probabilties $P(\\cdot)$ are obtained by inverting the $\\tilde P(\\cdot)$ using [(9)](#eq:pinv):\n",
    "\n",
    "<blockquote>\n",
    "<div style=\"background-color:#E8E8E8; color:#000000; font-style: normal; \">\n",
    "<br>\n",
    "<a name=\"eq:hestonformula\"></a>(14)\n",
    "$$\n",
    "P_j (x,v,\\tau ) =\\frac{1}{2} + \\frac{1}{\\pi }\\,\\int_0^\\infty \\,\n",
    "{du} \\,\\mathop{Re} \\left\\{ {\\frac{{\\exp \\{ C_j (u,\\tau )\\,\\bar v +\n",
    "D_j(u,\\tau )\\,v + i\\,u\\,x\\} }}{{i\\,u}}} \\right\\}.\n",
    "$$\n",
    "<br>\n",
    "</div>\n",
    "</blockquote>\n",
    "\n",
    "\n",
    "This integration of a real-valued function may be performed using standard numerical\n",
    "methods."
   ]
  },
  {
   "cell_type": "markdown",
   "metadata": {
    "slideshow": {
     "slide_type": "slide"
    }
   },
   "source": [
    "### Heston greeks\n",
    "\n",
    "It is worth noting that taking derivatives of the Heston formula\n",
    "with respect to $x$ or $v$ in order to compute delta, gamma, vega and so on is\n",
    "extremely straightforward because the functions $C(u,\\tau)$ and\n",
    "$D(u,\\tau)$ are independent of $x$ and $v$."
   ]
  },
  {
   "cell_type": "markdown",
   "metadata": {
    "slideshow": {
     "slide_type": "slide"
    }
   },
   "source": [
    "### A digression: the complex logarithm in the integration [(14)](#eq:hestonformula)\n",
    "\n",
    "In Heston's original paper and in most other papers on the subject,\n",
    "$C(u,\\tau)$ is written (almost) equivalently as\n",
    "\n",
    "<a name=\"eq:hestonc\"></a>(15)\n",
    "$$\n",
    "C(u,\\tau ) =\\lambda \\,\\left\\{ {r_+  \\tau  - \\frac{2}{{\\eta ^2\n",
    "}}\\,\\log \\left( {\\frac{{e^{ + d\\,\\tau } - g }}{{1 - g}}} \\right)}\n",
    "\\right\\}\n",
    "$$\n",
    "\n",
    "The reason for the qualification \"almost\" is that this definition\n",
    "coincides with our previous one only if the imaginary part of the\n",
    "complex logarithm is chosen so that $C(u,\\tau )$ is continuous with\n",
    "respect to $u$. "
   ]
  },
  {
   "cell_type": "markdown",
   "metadata": {
    "slideshow": {
     "slide_type": "subslide"
    }
   },
   "source": [
    " It turns out that taking the principal value of the\n",
    "logarithm in [(15)](#eq:hestonc) causes $C(u,\\tau )$ to jump\n",
    "discontinuously each time the imaginary part of the argument of the\n",
    "logarithm crosses the negative real axis. "
   ]
  },
  {
   "cell_type": "markdown",
   "metadata": {
    "slideshow": {
     "slide_type": "slide"
    }
   },
   "source": [
    "### BCC parameters\n",
    "\n",
    "[Bakshi, Cao and Chen]<sup id=\"cite_ref-BCC\" class=\"reference\"><a href=\"#cite_note-BCC\"><span>[</span>2<span>]</span></a></sup> found (more or less) the following Heston (SV) parameters  in a fit of the Heston model to historical volatility surfaces:\n",
    "\n",
    "<div align=\"center\">Table 1: BCC parameters \n",
    "<p>\n",
    "\n",
    "$v$|$0.04$\n",
    "------: | -------------:\n",
    "$\\bar v$|$0.04$\n",
    "$\\lambda$|$1.15$\n",
    "$\\eta$|$0.39$\n",
    "$\\rho$|$-0.64$"
   ]
  },
  {
   "cell_type": "markdown",
   "metadata": {
    "slideshow": {
     "slide_type": "slide"
    }
   },
   "source": [
    "### A numerical example with BCC parameters\n",
    "\n",
    "Recall the two versions of $C(u,\\tau)$ from [(13)](#eq:hestonCD) and [(15)](#eq:hestonc) respectively:\n",
    "\n",
    "$$\n",
    "C^{JG}(u,\\tau ) = \\lambda \\,\\left\\{ {r_ - \\tau\n",
    "- \\frac{2}{{\\eta ^2 }}\\,\\log\\left( {\\frac{{1 - g\\,e^{ - d\\,\\tau }\n",
    "}}{{1 - g}}} \\right)} \\right\\}\n",
    "$$\n",
    "\n",
    "and\n",
    "\n",
    "$$\n",
    "C^{Heston}(u,\\tau ) =\\lambda \\,\\left\\{ {r_+  \\tau  - \\frac{2}{{\\eta ^2\n",
    "}}\\,\\log \\left( {\\frac{{e^{ + d\\,\\tau } - g }}{{1 - g}}} \\right)}\\right\\}.\n",
    "$$\n",
    "\n",
    "We code these below."
   ]
  },
  {
   "cell_type": "code",
   "execution_count": 1,
   "metadata": {
    "collapsed": true,
    "slideshow": {
     "slide_type": "subslide"
    }
   },
   "outputs": [],
   "source": [
    "bigC <- function(params){\n",
    "    \n",
    "    lambda <- params$lambda\n",
    "    rho <- params$rho\n",
    "    eta <- params$eta\n",
    "    vbar <- params$vbar\n",
    "    v <- params$v\n",
    "    \n",
    "    fj <- function(u, t, j){\n",
    "\n",
    "            al <- -u*u/2 - 1i*u/2 + 1i*j*u\n",
    "            bet <- lambda - rho*eta*1i*u-rho*eta*j\n",
    "            gam <- eta^2/2\n",
    "            d <- sqrt(bet*bet - 4*al*gam)\n",
    "            rp <- (bet + d)/(2*gam)\n",
    "            rm <- (bet - d)/(2*gam)\n",
    "            g <- rm / rp\n",
    "            C.JG <- lambda * (rm * t - 2/eta^2 * log( (1 - g*exp(-(d*t)))/(1 - g) ) )\n",
    "            C.Heston <- lambda * (rp * t - 2/eta^2 * log( (exp(d*t) - g)/(1 - g) ) )\n",
    "            return(list(C.JG=C.JG,C.Heston=C.Heston))\n",
    "    } \n",
    "}"
   ]
  },
  {
   "cell_type": "markdown",
   "metadata": {
    "slideshow": {
     "slide_type": "subslide"
    }
   },
   "source": [
    "Check the two versions with $\\tau=3$, and with BCC parameters:"
   ]
  },
  {
   "cell_type": "code",
   "execution_count": 2,
   "metadata": {
    "collapsed": true,
    "slideshow": {
     "slide_type": "fragment"
    }
   },
   "outputs": [],
   "source": [
    "paramsBCC <- list(lambda = 1.15,rho = -0.64,eta = 0.39,vbar = 0.04,v = .04)"
   ]
  },
  {
   "cell_type": "code",
   "execution_count": 3,
   "metadata": {
    "collapsed": false,
    "slideshow": {
     "slide_type": "fragment"
    }
   },
   "outputs": [
    {
     "data": {
      "text/html": [
       "<dl>\n",
       "\t<dt>$C.JG</dt>\n",
       "\t\t<dd>-47.5424985325402+26.838817444334i</dd>\n",
       "\t<dt>$C.Heston</dt>\n",
       "\t\t<dd>-47.54249853254+121.850824061777i</dd>\n",
       "</dl>\n"
      ],
      "text/latex": [
       "\\begin{description}\n",
       "\\item[\\$C.JG] -47.5424985325402+26.838817444334i\n",
       "\\item[\\$C.Heston] -47.54249853254+121.850824061777i\n",
       "\\end{description}\n"
      ],
      "text/markdown": [
       "$C.JG\n",
       ":   -47.5424985325402+26.838817444334i\n",
       "$C.Heston\n",
       ":   -47.54249853254+121.850824061777i\n",
       "\n",
       "\n"
      ],
      "text/plain": [
       "$C.JG\n",
       "[1] -47.5425+26.83882i\n",
       "\n",
       "$C.Heston\n",
       "[1] -47.5425+121.8508i\n"
      ]
     },
     "metadata": {},
     "output_type": "display_data"
    }
   ],
   "source": [
    "bigC(paramsBCC)(u=10,t=3,j=0)"
   ]
  },
  {
   "cell_type": "markdown",
   "metadata": {
    "slideshow": {
     "slide_type": "fragment"
    }
   },
   "source": [
    "The imaginary parts are very different.  Which function works better?"
   ]
  },
  {
   "cell_type": "markdown",
   "metadata": {
    "slideshow": {
     "slide_type": "subslide"
    }
   },
   "source": [
    "### Comparison plot"
   ]
  },
  {
   "cell_type": "code",
   "execution_count": 4,
   "metadata": {
    "collapsed": true,
    "slideshow": {
     "slide_type": "fragment"
    }
   },
   "outputs": [],
   "source": [
    "library(repr)\n",
    "options(repr.plot.height=5)"
   ]
  },
  {
   "cell_type": "code",
   "execution_count": 5,
   "metadata": {
    "collapsed": true,
    "slideshow": {
     "slide_type": "fragment"
    }
   },
   "outputs": [],
   "source": [
    "u.vec <- seq(0,10,.01)\n",
    "x <- bigC(paramsBCC)(u=u.vec,t=3,j=0)"
   ]
  },
  {
   "cell_type": "code",
   "execution_count": 6,
   "metadata": {
    "collapsed": false,
    "slideshow": {
     "slide_type": "subslide"
    }
   },
   "outputs": [
    {
     "data": {
      "image/png": "[encoded data removed]",
      "text/plain": [
       "plot without title"
      ]
     },
     "metadata": {},
     "output_type": "display_data"
    }
   ],
   "source": [
    "plot(Re(x$C.Heston),Im(x$C.Heston),type=\"l\",col=\"red\",lty=2,lwd=2,xlab=\"Re(C)\",ylab=\"Im(C)\")\n",
    "lines(Re(x$C.JG),Im(x$C.JG),type=\"l\",col=\"green4\",lwd=1)"
   ]
  },
  {
   "cell_type": "markdown",
   "metadata": {
    "slideshow": {
     "slide_type": "fragment"
    }
   },
   "source": [
    "Figure 1: $C^{Heston}(\\cdot)$ in red, $C^{JG}(\\cdot)$ in green."
   ]
  },
  {
   "cell_type": "markdown",
   "metadata": {
    "slideshow": {
     "slide_type": "slide"
    }
   },
   "source": [
    "### Solutions in the literature\n",
    "\n",
    "\n",
    "One conventional\n",
    "resolution is to keep careful track of the winding number in the\n",
    "integration [(14)](#eq:hestonformula) so as to remain on the same\n",
    "Riemann sheet. \n",
    "\n",
    "This leads to practical implementation problems\n",
    "because standard numerical integration routines cannot be used.  The\n",
    "paper of [Kahl and Jäckel]<sup id=\"cite_ref-KJ\" class=\"reference\"><a href=\"#cite_note-KJ\"><span>[</span>10<span>]</span></a></sup> concerns itself with this\n",
    "problem and provides an ingenious resolution."
   ]
  },
  {
   "cell_type": "markdown",
   "metadata": {
    "slideshow": {
     "slide_type": "subslide"
    }
   },
   "source": [
    "### A better solution\n",
    "\n",
    "* With *our* definition [(13)](#eq:hestonCD) of $C(u,\\tau)$,  whenever the imaginary part of the argument of the logarithm is zero, the real part is positive.\n",
    "\n",
    "    * Plotted in the complex plane, the argument of the logarithm never cuts the negative real axis.\n",
    "    * This result was proved by [Albrecher, Mayer, Schoutens and Tistaert]<sup id=\"cite_ref-AMST\" class=\"reference\"><a href=\"#cite_note-AMST\"><span>[</span>1<span>]</span></a></sup>.\n",
    "\n",
    "\n",
    "* It follows that with our definition of $C(u,\\tau)$, taking the principal value of the logarithm leads to a continuous integrand over the full range of integration."
   ]
  },
  {
   "cell_type": "markdown",
   "metadata": {
    "slideshow": {
     "slide_type": "slide"
    }
   },
   "source": [
    "### Characteristic functions and option prices\n",
    "\n",
    "\n",
    "To a mathematician, it may appear perverse to\n",
    "first derive the option pricing formula then impute the\n",
    "characteristic function: the reverse might appear more natural.\n",
    "\n",
    "\n",
    "However, in the context of understanding the volatility surface,\n",
    "option prices really are primary and it makes just as much sense for\n",
    "us to deduce the characteristic function from the option pricing\n",
    "formula as it does for us to deduce the risk-neutral density from\n",
    "option prices."
   ]
  },
  {
   "cell_type": "markdown",
   "metadata": {
    "slideshow": {
     "slide_type": "subslide"
    }
   },
   "source": [
    "The following are equivalent in the sense that given one of these, all of the others may be derived:\n",
    "\n",
    "* All $T$ expiration European option prices.\n",
    "* The $T$ expiration risk-neutral density.\n",
    "* The $T$ expiration implied volatilities.\n",
    "* The $T$ expiration characteristic function."
   ]
  },
  {
   "cell_type": "markdown",
   "metadata": {
    "slideshow": {
     "slide_type": "slide"
    }
   },
   "source": [
    "### The Heston tail distribution\n",
    "\n",
    "By definition, the\n",
    "characteristic function is given by\n",
    "\n",
    "$$\n",
    "\\phi _T(u):= \\mathbb{E}\\left[e^{i u x_T}~|~x_t=0\\right]\n",
    "$$\n",
    "\n",
    "The probability of the final log-stock price $x_T$ being greater\n",
    "than the strike price is given by\n",
    "\n",
    "\\begin{eqnarray*}\n",
    "&&\\mathbf{Pr}(x_T > x)\\\\&=& P_0 (x,v,\\tau )\\\\& =& \\frac{1}{2} + \\frac{1}{\\pi\n",
    "}\\,\\int_0^\\infty\\, {du} \\,{\\mathop{ Re}} \\left\\{ {\\frac{{\\exp \\{ C\n",
    "(u,\\tau )\\,\\bar v + D (u,\\tau )\\,v + i\\,u \\,x\\} }}{{iu}}} \\right\\}\n",
    "\\end{eqnarray*}\n",
    "with $x=\\log(S_t/K)$ and $\\tau=T-t$. "
   ]
  },
  {
   "cell_type": "markdown",
   "metadata": {
    "slideshow": {
     "slide_type": "slide"
    }
   },
   "source": [
    "### The Heston marginal density\n",
    "\n",
    "Let the log-strike $k$ be\n",
    "defined by $k=\\log(K/S_t)=-x$. Then, the probability density\n",
    "function $p(k)$ must be given by\n",
    "\n",
    "\\begin{eqnarray*}\n",
    "p(k)&=&-\\frac{\\partial P_0}{\\partial k}\\\\&=&\\frac{1}{2 \\pi\n",
    "}\\int_{-\\infty}^\\infty  {du'} \\, {{{\\exp \\{ C (u',\\tau )\\,\\bar v + D\n",
    "(u',\\tau )\\,v - i\\,u' \\,k\\} }}}\n",
    "\\end{eqnarray*}"
   ]
  },
  {
   "cell_type": "markdown",
   "metadata": {
    "slideshow": {
     "slide_type": "subslide"
    }
   },
   "source": [
    "Then\n",
    "\n",
    "<a name=\"eq:hestoncharfn\"></a>(16)\n",
    "\\begin{eqnarray*}\n",
    "\\phi _T(u)&=&\\int_{-\\infty}^\\infty  {dk} \\,p(k)\\,e^{i \\,u \\,k}\\nonumber\\\\\n",
    "&=&\\frac{1}{2 \\pi }\\int_{-\\infty}^\\infty  {du'} \\, {{{\\exp \\{ C\n",
    "(u',\\tau )\\,\\bar v + D (u',\\tau )\\,v \\} }}}\\int_{-\\infty}^\\infty\n",
    "\\,{du} \\,e^{i (u-u') k}\\nonumber\\\\\n",
    "&=&\\int_{-\\infty}^\\infty  {du'} \\, \\exp \\{ C (u',\\tau )\\,\\bar v + D\n",
    "(u',\\tau )\\,v \\}\\, \\delta (u-u')\\nonumber\\\\\n",
    "&=&\\exp \\{ C (u,\\tau )\\,\\bar v + D (u,\\tau )\\,v \\}\n",
    "\\end{eqnarray*}"
   ]
  },
  {
   "cell_type": "markdown",
   "metadata": {
    "slideshow": {
     "slide_type": "subslide"
    }
   },
   "source": [
    "### The Heston characteristic function\n",
    "\n",
    "For emphasis:\n",
    "\n",
    "<blockquote><div style=\"background-color:#add8e6; color:#FFFFFF; font-style: normal;  \" ><h4>\n",
    "The Heston characteristic function</h4>\n",
    "</div>\n",
    "<div style=\"background-color:#E8E8E8; color:#000000; font-style: normal; \">\n",
    "<br>\n",
    "$$\n",
    "\\phi _T(u)=\\exp \\left\\{ C (u,\\tau )\\,\\bar v + D (u,\\tau )\\,v \\right\\}\n",
    "$$\n",
    "<br>\n",
    "</div>\n",
    "</blockquote>\n"
   ]
  },
  {
   "cell_type": "markdown",
   "metadata": {
    "slideshow": {
     "slide_type": "slide"
    }
   },
   "source": [
    "### The Heston density\n",
    "\n",
    "We may then compute the Heston probability density function by Fourier inversion as:\n",
    "\n",
    "<a name=\"eq:HestonDensity\"></a>(17)\n",
    "\\begin{eqnarray*}\n",
    "p(y,\\tau)&=&\n",
    "\\int_{ - \\infty }^\\infty \\, \\frac{du}{2\\pi}\\,\n",
    "e^{-i\\,u\\,y} \\,\\phi _T(u)\\nonumber\\\\\n",
    "&=&\\frac{1}{\\pi}\\,\\int_0^\\infty \\, du\\,{\\mathop{ Re}} \\left[\\exp \\left\\{ C (u,\\tau )\\,\\bar v + D (u,\\tau )\\,v -i\\,u\\,y\\right\\} \\right]\n",
    "\\end{eqnarray*}\n",
    "\n",
    "* Note that $y=\\log S_T/S_t$ is the forward variable.\n"
   ]
  },
  {
   "cell_type": "markdown",
   "metadata": {
    "slideshow": {
     "slide_type": "slide"
    }
   },
   "source": [
    "### Autocorrelation of variance in the Heston model\n",
    "\n",
    "The autocorrelation function of variance is estimated as \n",
    "\n",
    "$$\n",
    "\\rho(\\tau)\\sim\\frac{\\Cov (v_t, v_{t+\\tau} )}{\\Var(v_t)}\n",
    "$$\n",
    "\n",
    "To compute this, first compute\n",
    "$$\n",
    "\\E\\left[\\left.v_{t+\\tau}\\right|v_t\\right]=\\bar v+(v_t-\\bar v)\\,e^{-\\lambda\\, \\tau}\n",
    "$$"
   ]
  },
  {
   "cell_type": "markdown",
   "metadata": {
    "slideshow": {
     "slide_type": "subslide"
    }
   },
   "source": [
    "The unconditional expectation of $v_t$ is $\\bar v$ so we get\n",
    "\n",
    "\\begin{eqnarray*}\n",
    "\\Cov\\left[v_{t+\\tau},v_t\\right]&=&\\E\\left[\\E\\left[v_{t+\\tau}\\,v_t|v_t\\right]\\right]-\\bar v^2\\\\\n",
    "&=&\\E\\left[v_t\\,(\\bar v +(v_t-\\bar v)\\,e^{-\\lambda\\,\\tau})\\right]-\\bar v^2\\\\\n",
    "&=&e^{-\\lambda\\,\\tau}\\,\\Var[v_t]\n",
    "\\end{eqnarray*}\n",
    "\n",
    "and the autocorrelation function in the Heston model is just\n",
    "$$\n",
    "\\rho(\\tau)=e^{-\\lambda\\,\\tau}.\n",
    "$$"
   ]
  },
  {
   "cell_type": "markdown",
   "metadata": {
    "slideshow": {
     "slide_type": "slide"
    }
   },
   "source": [
    "### Empirical autocorrelation of volatility"
   ]
  },
  {
   "cell_type": "code",
   "execution_count": 7,
   "metadata": {
    "collapsed": true,
    "slideshow": {
     "slide_type": "fragment"
    }
   },
   "outputs": [],
   "source": [
    "load(\"oxfordRV.rData\")"
   ]
  },
  {
   "cell_type": "code",
   "execution_count": 8,
   "metadata": {
    "collapsed": true,
    "slideshow": {
     "slide_type": "fragment"
    }
   },
   "outputs": [],
   "source": [
    "v <- rv.list[[1]]  # Pick spx.rk\n",
    "sig <- sqrt(as.numeric(v))\n",
    "aclog <-acf(log(sig),lag=100,plot=F)"
   ]
  },
  {
   "cell_type": "code",
   "execution_count": 9,
   "metadata": {
    "collapsed": false,
    "slideshow": {
     "slide_type": "subslide"
    }
   },
   "outputs": [
    {
     "data": {
      "image/png": "[encoded data removed]",
      "text/plain": [
       "plot without title"
      ]
     },
     "metadata": {},
     "output_type": "display_data"
    }
   ],
   "source": [
    "plot(aclog$lag[-1],aclog$acf[-1],pch=20,ylab=expression(rho(Delta)),xlab=expression(paste(Delta,\" (days)\")),log=\"xy\",col=\"blue\")"
   ]
  },
  {
   "cell_type": "markdown",
   "metadata": {
    "slideshow": {
     "slide_type": "subslide"
    }
   },
   "source": [
    "Now add the Heston autocorrelation function with $\\lambda=1$, $\\lambda=2$ and $\\lambda=5$ respectively."
   ]
  },
  {
   "cell_type": "code",
   "execution_count": 10,
   "metadata": {
    "collapsed": false,
    "slideshow": {
     "slide_type": "fragment"
    }
   },
   "outputs": [
    {
     "data": {
      "image/png": "[encoded data removed]",
      "text/plain": [
       "plot without title"
      ]
     },
     "metadata": {},
     "output_type": "display_data"
    }
   ],
   "source": [
    "plot(aclog$lag[-1],aclog$acf[-1],pch=20,ylab=expression(rho(Delta)),ylim=c(0.3,1),\n",
    "     xlab=expression(paste(Delta,\" (days)\")),log=\"xy\",col=\"blue\")\n",
    "curve(.8*exp(-x/252),from=0.001,to=100,col=\"red\",add=T,lwd=2,log=\"xy\")\n",
    "curve(.8*exp(-x*2/252),from=0.001,to=100,col=\"red\",add=T,lwd=2,log=\"xy\")\n",
    "curve(.8*exp(-x*5/252),from=0.001,to=100,col=\"red\",add=T,lwd=2,log=\"xy\")"
   ]
  },
  {
   "cell_type": "markdown",
   "metadata": {
    "slideshow": {
     "slide_type": "subslide"
    }
   },
   "source": [
    "Now add the rough volatility approximate autocorrelation function $\\exp\\{-\\eta^2 \\Delta^{2\\,H}/2\\}$"
   ]
  },
  {
   "cell_type": "code",
   "execution_count": 11,
   "metadata": {
    "collapsed": false,
    "slideshow": {
     "slide_type": "fragment"
    }
   },
   "outputs": [],
   "source": [
    "v <- rv.list[[1]]  # Pick spx.rk\n",
    "sig <- sqrt(as.numeric(v))\n",
    "\n",
    "h.spx.regression <- .13\n",
    "aclog <-acf(log(sig),lag=100,plot=F)\n",
    "y <- log(aclog$acf)\n",
    "x <- aclog$lag^(2*h.spx.regression)\n",
    "fit.lm <- lm(y[-1]~x[-1])\n",
    "a <- fit.lm$coef[1]\n",
    "b <- fit.lm$coef[2]"
   ]
  },
  {
   "cell_type": "code",
   "execution_count": 12,
   "metadata": {
    "collapsed": false,
    "slideshow": {
     "slide_type": "subslide"
    }
   },
   "outputs": [
    {
     "data": {
      "image/png": "[encoded data removed]",
      "text/plain": [
       "plot without title"
      ]
     },
     "metadata": {},
     "output_type": "display_data"
    }
   ],
   "source": [
    "plot(aclog$lag[-1],aclog$acf[-1],pch=20,ylab=expression(rho(Delta)),\n",
    "     xlab=expression(paste(Delta,\" (days)\")),log=\"xy\",col=\"blue\")\n",
    "curve(.8*exp(-x/252),from=0.001,to=100,col=\"red\",add=T,lwd=2,log=\"xy\")\n",
    "curve(.8*exp(-x*2/252),from=0.001,to=100,col=\"red\",add=T,lwd=2,log=\"xy\")\n",
    "curve(.8*exp(-x*5/252),from=0.001,to=100,col=\"red\",add=T,lwd=2,log=\"xy\")\n",
    "curve(exp(a+b*x^(2*h.spx.regression)),from=0.001,to=100,col=\"green4\",add=T,lwd=2,log=\"xy\")"
   ]
  },
  {
   "cell_type": "markdown",
   "metadata": {
    "slideshow": {
     "slide_type": "slide"
    }
   },
   "source": [
    "### Model versus empirical observation\n",
    "\n",
    "* In the Heston model, the variance autocorrelation function $\\sim \\exp\\left\\{-\\lambda\\,\\tau\\right\\}$.\n",
    "    \n",
    "    * This is true for all conventional one-factor stochastic volatility models where the volatility process is of the form:\n",
    "$$\n",
    "dv=-\\lambda\\,(v-\\bar v)\\,dt +\\text{ noise}.\n",
    "$$\n",
    "    - Single-factor stochastic volatility models are not compatible with the volatility time series!"
   ]
  },
  {
   "cell_type": "markdown",
   "metadata": {
    "slideshow": {
     "slide_type": "subslide"
    }
   },
   "source": [
    "* We can match the autocorrelation function more realistically by adding another timescale as in the DMR model we presented in Lecture 2.\n",
    "    * Or even better, as we can see from the plot, we can reproduce the observed autocorrelation function using the Rough Volatility model<sup id=\"cite_ref-GJR\" class=\"reference\"><a href=\"#cite_note-GJR\"><span>[</span>6<span>]</span></a></sup> which we will explore in a later lecture."
   ]
  },
  {
   "cell_type": "markdown",
   "metadata": {
    "slideshow": {
     "slide_type": "slide"
    }
   },
   "source": [
    "### Implementation of the Heston model in R\n",
    "\n",
    "* In the next few slides, we will exhibit an implementation of  the Heston model in R.\n",
    "\n",
    "\n",
    "* We can then develop some intuition for the behavior of the model through experiment."
   ]
  },
  {
   "cell_type": "markdown",
   "metadata": {
    "slideshow": {
     "slide_type": "slide"
    }
   },
   "source": [
    "### Black-Scholes\n",
    "\n",
    "First, we need an implementation of the Black-Scholes formula (this is in `BlackScholes.R`)."
   ]
  },
  {
   "cell_type": "code",
   "execution_count": 16,
   "metadata": {
    "collapsed": false,
    "slideshow": {
     "slide_type": "fragment"
    }
   },
   "outputs": [],
   "source": [
    "BSFormula <- function(S0, K, T, r, sigma)\n",
    "{\n",
    "    x <- log(S0/K)+r*T\n",
    "    sig <- sigma*sqrt(T)\n",
    "    d1 <- x/sig+sig/2\n",
    "    d2 <- d1 - sig\n",
    "    pv <- exp(-r*T)\n",
    "    return( S0*pnorm(d1) - pv*K*pnorm(d2))\n",
    "}"
   ]
  },
  {
   "cell_type": "markdown",
   "metadata": {
    "slideshow": {
     "slide_type": "slide"
    }
   },
   "source": [
    "### Implied volatility computation\n",
    "\n",
    "Then, we need an implied volatility computation (this is also in `BlackScholes.R`)."
   ]
  },
  {
   "cell_type": "code",
   "execution_count": 17,
   "metadata": {
    "collapsed": false,
    "slideshow": {
     "slide_type": "fragment"
    }
   },
   "outputs": [],
   "source": [
    "BSImpliedVolCall <- function(S0, K, T, r, C)\n",
    "{\n",
    "    nK <- length(K)\n",
    "    sigmaL <- rep(1e-10,nK)\n",
    "    CL <- BSFormula(S0, K, T, r, sigmaL)\n",
    "    sigmaH <- rep(10,nK)\n",
    "    CH <- BSFormula(S0, K, T, r, sigmaH)\n",
    "    while (mean(sigmaH - sigmaL) > 1e-10)\n",
    "    {\n",
    "        sigma <- (sigmaL + sigmaH)/2\n",
    "        CM <- BSFormula(S0, K, T, r, sigma)\n",
    "        CL <- CL + (CM < C)*(CM-CL)\n",
    "        sigmaL <- sigmaL + (CM < C)*(sigma-sigmaL)\n",
    "        CH <- CH + (CM >= C)*(CM-CH)\n",
    "        sigmaH <- sigmaH + (CM >= C)*(sigma-sigmaH)\n",
    "      }\n",
    "    return(sigma)\n",
    "}"
   ]
  },
  {
   "cell_type": "markdown",
   "metadata": {
    "slideshow": {
     "slide_type": "slide"
    }
   },
   "source": [
    "### A numerical example\n",
    "\n",
    "First generate some option prices."
   ]
  },
  {
   "cell_type": "code",
   "execution_count": 18,
   "metadata": {
    "collapsed": false,
    "slideshow": {
     "slide_type": "fragment"
    }
   },
   "outputs": [
    {
     "data": {
      "text/html": [
       "<ol class=list-inline>\n",
       "\t<li>0.145896960390544</li>\n",
       "\t<li>0.079655674554058</li>\n",
       "\t<li>0.0355767789605738</li>\n",
       "</ol>\n"
      ],
      "text/latex": [
       "\\begin{enumerate*}\n",
       "\\item 0.145896960390544\n",
       "\\item 0.079655674554058\n",
       "\\item 0.0355767789605738\n",
       "\\end{enumerate*}\n"
      ],
      "text/markdown": [
       "1. 0.145896960390544\n",
       "2. 0.079655674554058\n",
       "3. 0.0355767789605738\n",
       "\n",
       "\n"
      ],
      "text/plain": [
       "[1] 0.14589696 0.07965567 0.03557678"
      ]
     },
     "metadata": {},
     "output_type": "display_data"
    }
   ],
   "source": [
    "vols <- c(0.23,0.20,0.18)\n",
    "K <- c(0.9,1.0,1.1) \n",
    "(optVals <- BSFormula(S0=1,K,T=1,r=0,sigma=vols))"
   ]
  },
  {
   "cell_type": "markdown",
   "metadata": {
    "slideshow": {
     "slide_type": "fragment"
    }
   },
   "source": [
    "Then compute implied volatilities."
   ]
  },
  {
   "cell_type": "code",
   "execution_count": 19,
   "metadata": {
    "collapsed": false,
    "slideshow": {
     "slide_type": "fragment"
    }
   },
   "outputs": [
    {
     "data": {
      "text/html": [
       "<ol class=list-inline>\n",
       "\t<li>0.230000000035418</li>\n",
       "\t<li>0.200000000065986</li>\n",
       "\t<li>0.179999999989352</li>\n",
       "</ol>\n"
      ],
      "text/latex": [
       "\\begin{enumerate*}\n",
       "\\item 0.230000000035418\n",
       "\\item 0.200000000065986\n",
       "\\item 0.179999999989352\n",
       "\\end{enumerate*}\n"
      ],
      "text/markdown": [
       "1. 0.230000000035418\n",
       "2. 0.200000000065986\n",
       "3. 0.179999999989352\n",
       "\n",
       "\n"
      ],
      "text/plain": [
       "[1] 0.23 0.20 0.18"
      ]
     },
     "metadata": {},
     "output_type": "display_data"
    }
   ],
   "source": [
    "(impVols <- BSImpliedVolCall(S0=1, K, T=1, r=0, C=optVals))"
   ]
  },
  {
   "cell_type": "markdown",
   "metadata": {
    "slideshow": {
     "slide_type": "slide"
    }
   },
   "source": [
    "### Heston formula"
   ]
  },
  {
   "cell_type": "code",
   "execution_count": 20,
   "metadata": {
    "collapsed": false,
    "slideshow": {
     "slide_type": "fragment"
    }
   },
   "outputs": [],
   "source": [
    "callHeston <- function(params){\n",
    "    \n",
    "    lambda <- params$lambda\n",
    "    rho <- params$rho\n",
    "    eta <- params$eta\n",
    "    vbar <- params$vbar\n",
    "    v <- params$v\n",
    "    \n",
    "    res <- function(k,t){\n",
    "        fj <- function(u, t, j){\n",
    "\n",
    "            al <- -u*u/2 - 1i*u/2 + 1i*j*u\n",
    "            bet <- lambda - rho*eta*1i*u-rho*eta*j\n",
    "            gam <- eta^2/2\n",
    "            d <- sqrt(bet*bet - 4*al*gam)\n",
    "            rp <- (bet + d)/(2*gam)\n",
    "            rm <- (bet - d)/(2*gam)\n",
    "            g <- rm / rp\n",
    "            D <- rm * (1 - exp(-d*t))/ (1 - g*exp(-d*t))\n",
    "            C <- lambda * (rm * t - 2/eta^2 * log( (1 - g*exp(-(d*t)))/(1 - g) ) )\n",
    "            return(exp(C*vbar + D*v))\n",
    "        } \n",
    "        x <- -k\n",
    "        p1 <- 1/2+1/pi*integrate(function(u){Re(fj(u,t,1)*exp(1i*u*x)/(1i*u))},lower=0,upper=Inf)$value\n",
    "        p0 <- 1/2+1/pi*integrate(function(u){Re(fj(u,t,0)*exp(1i*u*x)/(1i*u))},lower=0,upper=Inf)$value\n",
    "        return(exp(k)*(exp(x)*p1-p0))\n",
    "    }\n",
    "    return(res)  # Return price of Heston call expressed as percentage of spot.\n",
    "}"
   ]
  },
  {
   "cell_type": "markdown",
   "metadata": {
    "slideshow": {
     "slide_type": "slide"
    }
   },
   "source": [
    "### Some notable features of R\n",
    "\n",
    "\n",
    "\n",
    "* Complex arithmetic with $\\text{1i}$.\n",
    "\n",
    "* Functional programming:\n",
    "    * This is what allows us to code a function which is called as: \n",
    "    \n",
    "            callHeston(params)(k,T)\n",
    "    \n",
    "    * We can define a function that returns a function (and so on indefinitely).\n",
    "    \n",
    "    * We could even conveniently define a new function: \n",
    "          \n",
    "            callHestonBCC <- callHeston(paramsBCC)"
   ]
  },
  {
   "cell_type": "markdown",
   "metadata": {
    "slideshow": {
     "slide_type": "subslide"
    }
   },
   "source": [
    "* We can conceptually separate parameters and variables rather than having to carry all the parameters around with each function call."
   ]
  },
  {
   "cell_type": "markdown",
   "metadata": {
    "slideshow": {
     "slide_type": "slide"
    }
   },
   "source": [
    "### The Heston smile with BCC parameters\n",
    "\n",
    "First we list the BCC parameters."
   ]
  },
  {
   "cell_type": "code",
   "execution_count": 21,
   "metadata": {
    "collapsed": true,
    "slideshow": {
     "slide_type": "fragment"
    }
   },
   "outputs": [],
   "source": [
    "paramsBCC <- list(lambda = 1.15,rho = -0.64,eta = 0.39,vbar = 0.04,v = .04)"
   ]
  },
  {
   "cell_type": "markdown",
   "metadata": {
    "slideshow": {
     "slide_type": "fragment"
    }
   },
   "source": [
    "Then we need a function to compute Heston implied volatilities."
   ]
  },
  {
   "cell_type": "code",
   "execution_count": 22,
   "metadata": {
    "collapsed": true,
    "slideshow": {
     "slide_type": "fragment"
    }
   },
   "outputs": [],
   "source": [
    "impvolHeston <- function(params){\n",
    "    function(k, t){\n",
    "        BSImpliedVolCall(1, exp(k), t, 0, callHeston(params)(k,t))\n",
    "        }\n",
    "    }"
   ]
  },
  {
   "cell_type": "markdown",
   "metadata": {
    "slideshow": {
     "slide_type": "subslide"
    }
   },
   "source": [
    "Now finally, we can plot the Heston volatility smile with BCC paramets"
   ]
  },
  {
   "cell_type": "code",
   "execution_count": 23,
   "metadata": {
    "collapsed": false,
    "slideshow": {
     "slide_type": "fragment"
    }
   },
   "outputs": [
    {
     "data": {
      "text/plain": [
       "   user  system elapsed \n",
       "  0.133   0.006   0.140 "
      ]
     },
     "metadata": {},
     "output_type": "display_data"
    },
    {
     "data": {
      "image/png": "[encoded data removed]",
      "text/plain": [
       "plot without title"
      ]
     },
     "metadata": {},
     "output_type": "display_data"
    }
   ],
   "source": [
    "vol <- function(k){sapply(k,function(x){impvolHeston(paramsBCC)(x,1)})}\n",
    "system.time(curve(vol(x),from=-0.4,to=0.4,col=\"red\",ylab=\"Implied vol.\",xlab=\"Log-strike k\"))"
   ]
  },
  {
   "cell_type": "markdown",
   "metadata": {
    "slideshow": {
     "slide_type": "fragment"
    }
   },
   "source": [
    "Figure 3: The $\\tau=1$ Heston smile with BCC parameters."
   ]
  },
  {
   "cell_type": "markdown",
   "metadata": {
    "slideshow": {
     "slide_type": "slide"
    }
   },
   "source": [
    "### Sensitivity of the Heston smile to $\\rho$"
   ]
  },
  {
   "cell_type": "code",
   "execution_count": 24,
   "metadata": {
    "collapsed": false,
    "slideshow": {
     "slide_type": "fragment"
    }
   },
   "outputs": [
    {
     "data": {
      "image/png": "[encoded data removed]",
      "text/plain": [
       "plot without title"
      ]
     },
     "metadata": {},
     "output_type": "display_data"
    }
   ],
   "source": [
    "subH <- function(incr){\n",
    "    tmp <- paramsBCC\n",
    "    tmp$rho <- tmp$rho+incr\n",
    "    return(tmp)\n",
    "}\n",
    "\n",
    "yrange <- c(0.15,.35)\n",
    "vol <- function(k){sapply(k,function(x){impvolHeston(paramsBCC)(x,1)})}\n",
    "curve(vol(x),from=-.5,to=.5,col=\"red\",ylim=yrange,lwd=2,ylab=\"Implied vol.\",xlab=\"Log-strike k\")\n",
    "for (incr in seq(0.1,0.5,0.1))\n",
    "    {\n",
    "        for (i in 1:100000){tmp=i}\n",
    "        par(new=T)\n",
    "        vol <- function(k){sapply(k,function(x){impvolHeston(subH(incr))(x,1)})\n",
    "    }\n",
    "    curve(vol(x),from=-.5,to=.5,col=\"red\",lty=2,ylim=yrange,ylab=NA,xlab=NA)\n",
    "}"
   ]
  },
  {
   "cell_type": "markdown",
   "metadata": {
    "slideshow": {
     "slide_type": "fragment"
    }
   },
   "source": [
    "Figure 4: The dotted lines are smiles with $\\rho=\\rho_{BCC}+\\{0.1,0.2,0.3,0.4,0.5\\}$."
   ]
  },
  {
   "cell_type": "markdown",
   "metadata": {
    "slideshow": {
     "slide_type": "slide"
    }
   },
   "source": [
    "### Sensitivity of the Heston smile to $\\eta$"
   ]
  },
  {
   "cell_type": "code",
   "execution_count": 25,
   "metadata": {
    "collapsed": false,
    "slideshow": {
     "slide_type": "fragment"
    }
   },
   "outputs": [
    {
     "data": {
      "image/png": "[encoded data removed]",
      "text/plain": [
       "plot without title"
      ]
     },
     "metadata": {},
     "output_type": "display_data"
    }
   ],
   "source": [
    "subH <- function(incr){\n",
    "    tmp <- paramsBCC\n",
    "    tmp$eta <- tmp$eta+incr\n",
    "    return(tmp)\n",
    "}\n",
    "\n",
    "yrange <- c(0.1,.35)\n",
    "vol <- function(k){sapply(k,function(x){impvolHeston(paramsBCC)(x,1)})}\n",
    "curve(vol(x),from=-.5,to=.5,col=\"red\",ylim=yrange,lwd=2,ylab=\"Implied vol.\",xlab=\"Log-strike k\")\n",
    "for (incr in c(seq(0.1,0.5,0.1),0.64))\n",
    "    {\n",
    "    for (i in 1:100000){tmp=i}\n",
    "    par(new=T)\n",
    "    vol <- function(k){sapply(k,function(x){impvolHeston(subH(incr))(x,1)})\n",
    "    }\n",
    "    curve(vol(x),from=-.5,to=.5,col=\"red\",lty=2,ylim=yrange,ylab=NA,xlab=NA)\n",
    "}\n"
   ]
  },
  {
   "cell_type": "markdown",
   "metadata": {
    "slideshow": {
     "slide_type": "fragment"
    }
   },
   "source": [
    "Figure 5: The dotted lines are smiles with $\\eta=\\eta_{BCC}+\\{0.1,0.2,0.3,0.4,0.5\\}$. "
   ]
  },
  {
   "cell_type": "markdown",
   "metadata": {
    "slideshow": {
     "slide_type": "slide"
    }
   },
   "source": [
    "### Sensitivity of the Heston smile to $\\lambda$\n"
   ]
  },
  {
   "cell_type": "code",
   "execution_count": 26,
   "metadata": {
    "collapsed": false,
    "slideshow": {
     "slide_type": "fragment"
    }
   },
   "outputs": [
    {
     "data": {
      "image/png": "[encoded data removed]",
      "text/plain": [
       "plot without title"
      ]
     },
     "metadata": {},
     "output_type": "display_data"
    }
   ],
   "source": [
    "subH <- function(incr){\n",
    "    tmp <- paramsBCC\n",
    "    tmp$lambda <- tmp$lambda+incr\n",
    "    return(tmp)\n",
    "}\n",
    "\n",
    "yrange <- c(0.1,.35)\n",
    "vol <- function(k){sapply(k,function(x){impvolHeston(paramsBCC)(x,1)})}\n",
    "curve(vol(x),from=-.5,to=.5,col=\"red\",ylim=yrange,lwd=2,ylab=\"Implied vol.\",xlab=\"Log-strike k\")\n",
    "for (incr in seq(0.5,2.5,0.5))\n",
    "    {\n",
    "        for (i in 1:100000){tmp=i}\n",
    "        par(new=T)\n",
    "        vol <- function(k){sapply(k,function(x){impvolHeston(subH(incr))(x,1)})\n",
    "    }\n",
    "curve(vol(x),from=-.5,to=.5,col=\"red\",lty=2,ylim=yrange,ylab=NA,xlab=NA)\n",
    "}\n"
   ]
  },
  {
   "cell_type": "markdown",
   "metadata": {
    "slideshow": {
     "slide_type": "fragment"
    }
   },
   "source": [
    "Figure 6: The dotted lines are smiles with $\\lambda=\\lambda_{BCC}+\\{0.5,1.0,1.5,2.0,2.5\\}$."
   ]
  },
  {
   "cell_type": "markdown",
   "metadata": {
    "slideshow": {
     "slide_type": "slide"
    }
   },
   "source": [
    "### Another sensitivity plot"
   ]
  },
  {
   "cell_type": "markdown",
   "metadata": {
    "slideshow": {
     "slide_type": "fragment"
    }
   },
   "source": [
    "Now increase both $\\lambda$ and $\\eta$ keeping the ratio $\\eta^2/\\lambda$ constant."
   ]
  },
  {
   "cell_type": "code",
   "execution_count": 27,
   "metadata": {
    "collapsed": false,
    "slideshow": {
     "slide_type": "fragment"
    }
   },
   "outputs": [
    {
     "data": {
      "image/png": "[encoded data removed]",
      "text/plain": [
       "plot without title"
      ]
     },
     "metadata": {},
     "output_type": "display_data"
    }
   ],
   "source": [
    "subH <- function(incr){\n",
    "    tmp <- paramsBCC\n",
    "    tmp$eta <- tmp$eta+incr\n",
    "    tmp$lambda <- tmp$lambda*(tmp$eta/paramsBCC$eta)^2\n",
    "    return(tmp)\n",
    "}\n",
    "\n",
    "yrange <- c(0.1,.35)\n",
    "vol <- function(k){sapply(k,function(x){impvolHeston(paramsBCC)(x,1)})}\n",
    "curve(vol(x),from=-.5,to=.5,col=\"red\",ylim=yrange,lwd=2,ylab=\"Implied vol.\",xlab=\"Log-strike k\")\n",
    "for (incr in seq(0.1,0.5,0.1))\n",
    "    {\n",
    "    for (i in 1:100000){tmp=i}\n",
    "    par(new=T)\n",
    "    vol <- function(k){sapply(k,function(x){impvolHeston(subH(incr))(x,1)})\n",
    "    }\n",
    "curve(vol(x),from=-.5,to=.5,col=\"red\",lty=2,ylim=yrange,ylab=NA,xlab=NA)\n",
    "}\n"
   ]
  },
  {
   "cell_type": "markdown",
   "metadata": {
    "slideshow": {
     "slide_type": "fragment"
    }
   },
   "source": [
    "\n",
    "Figure 7: The dotted lines are smiles with $\\eta=\\eta_{BCC}+\\{0.1,0.2,0.3,0.4,0.5\\}$ and $\\lambda$ incremented so as to keep the ratio $\\lambda/\\eta^2$ constant. "
   ]
  },
  {
   "cell_type": "markdown",
   "metadata": {
    "slideshow": {
     "slide_type": "slide"
    }
   },
   "source": [
    "### Expectation of instantaneous variance in the Heston model\n",
    "\n",
    "Define the forward variance\n",
    "$$\n",
    "\\xi_t(u) = \\eef{v_u}.\n",
    "$$\n",
    "\n",
    "Recall the Heston variance SDE\n",
    "\n",
    "$$\n",
    "dv_t = -\\lambda(v - \\bar v)\\,dt + \\eta,\\sqrt{v_t}\\,dW_t.\n",
    "$$\n",
    "\n",
    "Take expectations to get\n",
    "\n",
    "$$\n",
    " d\\xi_t(u) = -\\lambda\\,(\\xi_t(u) -\\bar v)\\,du.\n",
    "$$\n",
    "\n",
    "This ODE has the solution\n",
    "\n",
    "$$\n",
    "\\xi_t(u) = (\\xi_t(t)-\\bar v)\\,e^{-\\lambda\\,(u-t)}+\\bar v = (v_t-\\bar v)\\,e^{-\\lambda\\,(u-t)}+\\bar v.\n",
    "$$"
   ]
  },
  {
   "cell_type": "markdown",
   "metadata": {
    "slideshow": {
     "slide_type": "slide"
    }
   },
   "source": [
    "### Variance of instantaneous variance in the Heston model\n",
    "\n",
    "Applying Itô's Lemma, we get\n",
    "\n",
    "$$\n",
    "d v^2= 2\\,v\\,dv+(dv)^2\n",
    "$$\n",
    "\n",
    "With $\\hat v = \\E[v]$, this gives\n",
    "\n",
    "$$\n",
    "\\E[ d v^2]=-2\\,\\lambda\\,\\left(\\E[v^2]-\\bar v\\,\\hat v\\right)\\,dt+\\eta^2\\,\\hat v\\,dt\n",
    "$$\n",
    "\n",
    "Also\n",
    "\n",
    "$$\n",
    "d \\hat v^2=-2\\,\\lambda\\,\\left(\\hat v^2-\\bar v\\,\\hat v\\right)\\,dt\n",
    "$$\n",
    "\n",
    "So\n",
    "$$\n",
    "d \\Var(v)=-2\\,\\lambda\\,\\Var(v)\\,dt+\\eta^2\\,\\hat v\\,dt\n",
    "$$"
   ]
  },
  {
   "cell_type": "markdown",
   "metadata": {
    "slideshow": {
     "slide_type": "subslide"
    }
   },
   "source": [
    "Integrating, we get\n",
    "\n",
    "$$\n",
    "\\Var(v_T)=\\int_0^T\\,e^{-2\\,\\lambda\\,(T-t)}\\,\\eta^2\\,\\hat v_t\\,dt\n",
    "$$"
   ]
  },
  {
   "cell_type": "markdown",
   "metadata": {
    "slideshow": {
     "slide_type": "subslide"
    }
   },
   "source": [
    "Putting $\\hat v = \\bar v$ for simplicity, we obtain\n",
    "\n",
    "\\begin{eqnarray*}\n",
    "\\Var(v_T)&=&\\eta^2\\,\\bar v\\,\\int_0^T\\,e^{-2\\,\\lambda\\,(T-t)}\\,dt\\\\\n",
    "&=&\\eta^2\\,\\bar v\\,\\frac{1-e^{-2\\,\\lambda\\,T}}{2\\,\\lambda}\\\\\n",
    "&\\to&\\frac{\\eta^2\\,\\bar v}{2\\,\\lambda} \\text{ as }T \\to \\infty\n",
    "\\end{eqnarray*}\n",
    "\n",
    "* The smile depends only on the distribution of integrated variance and its correlation with the stock price, so for longer expirations, the smile should depend (roughly) only on $\\rho$ and the ratio $\\eta^2\\,\\bar v/\\lambda$."
   ]
  },
  {
   "cell_type": "markdown",
   "metadata": {
    "slideshow": {
     "slide_type": "slide"
    }
   },
   "source": [
    "## Simulation of the Heston model"
   ]
  },
  {
   "cell_type": "markdown",
   "metadata": {
    "slideshow": {
     "slide_type": "slide"
    }
   },
   "source": [
    "### Numerical computation under stochastic volatility\n",
    "\n",
    "* The popularity of the Heston model relates to the existence of a quasi-closed-form formula for European option prices.\n",
    "\n",
    "    * To value other types of option, even American options, numerical computations are required.\n",
    "\n",
    "\n",
    "* For other more realistic dynamics, numerical computation is always required.\n",
    "\n",
    "    * For example, consider the much more realistic (lognormal) variance process:\n",
    "    \n",
    "$$\n",
    "dv=-\\lambda\\,(v-\\bar v)\\,dt+\\xi\\,v\\,dZ.\n",
    "$$"
   ]
  },
  {
   "cell_type": "markdown",
   "metadata": {
    "slideshow": {
     "slide_type": "subslide"
    }
   },
   "source": [
    "* The two numerical techniques that are typically employed are:\n",
    "    * Numerical PDE,\n",
    "    * Monte Carlo simulation."
   ]
  },
  {
   "cell_type": "markdown",
   "metadata": {
    "slideshow": {
     "slide_type": "slide"
    }
   },
   "source": [
    "### Feynman-Kac\n",
    "\n",
    "The Feynman-Kac formula relates the solution of a diffusion PDE to a probabilistic expectation, which may be computed using Monte Carlo simulation.\n",
    "\n",
    "\n",
    "Specifically, consider the SDE\n",
    "\n",
    "$$\n",
    "dx_t=\\mu_t\\,dt+\\sigma_t\\,dZ_t\n",
    "$$\n",
    "\n",
    "and consider the discounted expectation of some function $V(x_T)$ of the terminal value $x_T$.  "
   ]
  },
  {
   "cell_type": "markdown",
   "metadata": {
    "slideshow": {
     "slide_type": "subslide"
    }
   },
   "source": [
    "Then, applying Itô's Lemma to\n",
    "\n",
    "$$\n",
    "f(x_t,t)=e^{-\\int_0^t\\,r_s\\,ds}\\,V(x_t,t),\n",
    "$$\n",
    "\n",
    "we obtain\n",
    "\n",
    "$$\n",
    "\\beas\n",
    "df &=& -r_t\\,f\\,dt+e^{-\\int_0^t\\,r_s\\,ds}\\,\\partial_t V\\,dt+\\partial_x f\\,dx+\\frac{\\sigma_t^2}2\\,\\partial_{x,x} f\\,dt\\\\\n",
    "&=& e^{-\\int_0^t\\,r_s\\,ds}\\,\\left\\{ -r_t\\,V+\\partial_t V+\\mu\\,\\partial_x V+\\frac{\\sigma_t^2}2\\,\\partial_{x,x} V  \\right\\}\\,dt + \\partial_x V\\,\\sigma\\,dZ.\n",
    "\\eeas\n",
    "$$"
   ]
  },
  {
   "cell_type": "markdown",
   "metadata": {
    "slideshow": {
     "slide_type": "subslide"
    }
   },
   "source": [
    "Then, if $V(x,t)$ satisfies the PDE\n",
    "\n",
    "$$\n",
    "\\partial_t V+\\frac{\\sigma_t^2}2\\,\\partial_{x,x} V+\\mu_t\\,\\partial_x V-r_t\\,V=0,\n",
    "$$\n",
    "\n",
    "we have $\\E[df]=0$ and\n",
    "\n",
    "$$\n",
    "\\E[f(x_T,T)]-f(x_t,t)=\\int_t^T\\,\\E[df(x_s,s)]\\,ds=0\n",
    "$$\n",
    "\n",
    "Rearranging gives\n",
    "\n",
    "<blockquote><div style=\"background-color:#add8e6; color:#FFFFFF; font-style: normal;  \" ><h4>\n",
    "The Feynman-Kac formula</h4>\n",
    "</div>\n",
    "<div style=\"background-color:#E8E8E8; color:#000000; font-style: normal; \">\n",
    "<br>\n",
    "$$\n",
    "V(x_t,t)=\\E\\left[e^{-\\int_t^T\\,r_s\\,ds}\\,V(x_T,T)\\right]\n",
    "$$\n",
    "<br>\n",
    "</div>\n",
    "</blockquote>\n",
    "\n"
   ]
  },
  {
   "cell_type": "markdown",
   "metadata": {
    "slideshow": {
     "slide_type": "subslide"
    }
   },
   "source": [
    "In our case, we assume zero interest rates and the terminal condition is of the form $V(x,T) = g(x)$.  Then our problem is to compute\n",
    "\n",
    "$$\n",
    "V(x_t,t)=\\mathbb{E}\\left[V(x_T,T)|\\mathcal{F}_t\\right]= \\mathbb{E}\\left[g(x_T)|\\mathcal{F}_t\\right].\n",
    "$$\n"
   ]
  },
  {
   "cell_type": "markdown",
   "metadata": {
    "slideshow": {
     "slide_type": "slide"
    }
   },
   "source": [
    "### Implications for valuation of claims under stochastic volatility\n",
    "\n",
    "* Risk-neutral (discounted) expectations of final payoffs may be valued using:\n",
    "\n",
    "    * Numerical PDE,\n",
    "    * Monte Carlo simulation.\n",
    "\n",
    "* We may use whichever technique is more convenient.\n",
    "\n",
    "* Numerical PDE techniques are well-explained in [Tavella and Randall]<sup id=\"cite_ref-TavellaRandall\" class=\"reference\"><a href=\"#cite_note-TavellaRandall\"><span>[</span>9<span>]</span></a></sup>."
   ]
  },
  {
   "cell_type": "markdown",
   "metadata": {
    "slideshow": {
     "slide_type": "subslide"
    }
   },
   "source": [
    "* We will focus on Monte Carlo simulation.\n",
    "\n",
    "* Simulation\n",
    "\n",
    "     * is in general easier to understand,\n",
    "     * is less reliant on specialized artisanal knowledge,\n",
    "     * can deal with higher dimensional processes (no *curse of dimensionality*)."
   ]
  },
  {
   "cell_type": "markdown",
   "metadata": {
    "slideshow": {
     "slide_type": "slide"
    }
   },
   "source": [
    "### Euler-Maruyama\n",
    "\n",
    "* A very popular method to compute $\\mathbb{E}\\left[g(x_T)\\right]$ is to use the Euler-Maruyama (EM) scheme.\n",
    "\n",
    "\n",
    "* Specifically, choose $n$ independent random variables $\\{Y_1,...,Y_n\\}$ such that if $Z\\sim N(0,1)$, \n",
    "$\\mathbb{E}\\left[p(Y_k)\\right]=\\mathbb{E}\\left[p(Z)\\right]$ for all polynomials of degree less than or equal to 3."
   ]
  },
  {
   "cell_type": "markdown",
   "metadata": {
    "slideshow": {
     "slide_type": "subslide"
    }
   },
   "source": [
    "* Then, with $\\Delta = (T-t)/n$ and $s=t+k\\,\\Delta$, define recursively\n",
    "\n",
    "$$\n",
    "x_{s+\\Delta} = x_s + \\mu\\,\\Delta + \\sigma\\,\\sqrt{\\Delta}\\,Y_s.\n",
    "$$\n",
    "\n",
    "\n",
    "* If for example, the $Y_n$ were Bernoulli random variables, $\\mathbb{E}\\left[g(x_T)\\right]$ would be computed as a sum of $2^n$ terms.\n",
    "\n",
    "    * In practice of course, one would approximate this sum using Monte Carlo (MC) or quasi-Monte Carlo (QMC) methods."
   ]
  },
  {
   "cell_type": "markdown",
   "metadata": {
    "slideshow": {
     "slide_type": "slide"
    }
   },
   "source": [
    "### Weak and strong convergence\n",
    "\n",
    "From page 327 of [Kloeden and Platen]<sup id=\"cite_ref-KloedenPlaten\" class=\"reference\"><a href=\"#cite_note-KloedenPlaten\"><span>[</span>8<span>]</span></a></sup>, a time discretization $\\hat X$ with time increment $\\Delta$ *converges weakly with order $\\beta$* if there exists a constant $C$ such that\n",
    "\n",
    "$$\n",
    "\\left|\\E\\left[g(\\hat X_T)\\right]-\\E\\left[g(X_T)\\right]\\right|\\leq C\\,\\Delta^\\beta\n",
    "$$\n",
    "as $\\Delta \\to 0$.\n",
    "\n",
    "\n",
    "From page 323 of [Kloeden and Platen]<sup id=\"cite_ref-KloedenPlaten\" class=\"reference\"><a href=\"#cite_note-KloedenPlaten\"><span>[</span>7<span>]</span></a></sup>, $\\hat X$ with time increment $\\Delta$ *converges strongly with order $\\beta$* if there exists a constant $C$ such that\n",
    "\n",
    "$$\n",
    "\\E\\left[\\left|\\hat X_T-X_T\\right|\\right]\\leq C\\,\\Delta^\\beta\n",
    "$$\n",
    "as $\\Delta \\to 0$.\n",
    "\n",
    "\n",
    "* The exponent $\\beta$ is called the *order* of convergence."
   ]
  },
  {
   "cell_type": "markdown",
   "metadata": {
    "slideshow": {
     "slide_type": "slide"
    }
   },
   "source": [
    "### Monte Carlo simulation\n",
    "\n",
    "Monte Carlo simulation proceeds in two steps:\n",
    "\n",
    "1. Discretize the SDE with time step $\\Delta = T/m$, denoting the discretized process by $\\hat X_t$. This step induces a weak error\n",
    "<br><br>$$\n",
    "\\epsilon_D = \\E[g(X_T)] - \\E[g(\\hat X_T)] \\sim \\Delta^\\beta.\n",
    "$$<br>\n",
    "\n",
    "2. Estimate the expectation of the discretized process as\n",
    "<br><br>$$\n",
    "\\E[g(\\hat X_T)] = \\frac{1}{N}\\,\\sum_{i=1}^N\\,g(\\hat X_T^{(i)}).\n",
    "$$"
   ]
  },
  {
   "cell_type": "markdown",
   "metadata": {
    "slideshow": {
     "slide_type": "subslide"
    }
   },
   "source": [
    "This step induces a statistical error\n",
    "\n",
    "$$\n",
    "\\epsilon_S = \\E[g(\\hat X_T)] -  \\frac{1}{N}\\,\\sum_{i=1}^N\\,g(\\hat X_T^{(i)}) \\sim \\frac{1}{\\sqrt{N}}. \n",
    "$$"
   ]
  },
  {
   "cell_type": "markdown",
   "metadata": {
    "slideshow": {
     "slide_type": "slide"
    }
   },
   "source": [
    "### Mean squared error (MSE)\n",
    "\n",
    "If $\\hat x$ is an estimator of some quantity $x$ (a Monte Carlo estimate for example), then\n",
    "\n",
    "$$\n",
    "\\begin{eqnarray}\n",
    "\\mbox{MSE}(\\hat x)&=&\\E[(\\hat x-x)^2]\\\\\n",
    "&=&\\left(\\E[\\hat x]-x\\right)^2+\\E\\left[\\left(\\hat x-\\E[\\hat x]\\right)^2\\right]\\\\\n",
    "&=&\\text{Bias}^2(\\hat x)+\\text{Variance}(\\hat x).\n",
    "\\end{eqnarray}\n",
    "$$"
   ]
  },
  {
   "cell_type": "markdown",
   "metadata": {
    "slideshow": {
     "slide_type": "subslide"
    }
   },
   "source": [
    "* Bias relates to the discretization.\n",
    "\n",
    "     * The number of timesteps and how accurately the target process is approximated over each timestep.\n",
    "\n",
    "\n",
    "* The variance relates to the number of samples and how variance is reduced.\n",
    "\n",
    "    "
   ]
  },
  {
   "cell_type": "markdown",
   "metadata": {
    "slideshow": {
     "slide_type": "slide"
    }
   },
   "source": [
    "### Computational complexity\n",
    "\n",
    "* Following page 365 of [Glasserman]<sup id=\"cite_ref-Glasserman\" class=\"reference\"><a href=\"#cite_note-Glasserman\"><span>[</span>7<span>]</span></a></sup>, denoting MSE by $\\epsilon^2$, we have\n",
    "\n",
    "<a name=\"eq:MSE\"></a>(18)\n",
    "$$\n",
    "\\epsilon^2 \\sim \\epsilon_D^2 + \\epsilon_S^2 = c_1\\,\\Delta^{2\\,\\beta} + \\frac{c_2}{N} \n",
    "$$\n",
    "\n",
    "for some constants $c_1$ and $c_2$."
   ]
  },
  {
   "cell_type": "markdown",
   "metadata": {
    "slideshow": {
     "slide_type": "subslide"
    }
   },
   "source": [
    "* The computational cost $\\mathcal{C}$ is is proportional to\n",
    "\n",
    "$$\n",
    "m \\times N  = \\frac{T}{\\Delta}\\,N\n",
    "$$\n",
    "\n",
    "so\n",
    "\n",
    "$$\n",
    "\\epsilon^2 \\sim c_1\\,\\Delta^{2\\,\\beta} + \\frac{c_3}{\\mathcal{C}\\,\\Delta} \n",
    "$$\n",
    "\n",
    "for some $c_3$. \n",
    "\n",
    "* Minimizing MSE for fixed cost $\\mathcal{C}$ gives\n",
    "\n",
    "$$\n",
    "\\Delta \\propto \\mathcal{C}^{-\\frac{1}{2\\,\\beta + 1}}.\n",
    "$$"
   ]
  },
  {
   "cell_type": "markdown",
   "metadata": {
    "slideshow": {
     "slide_type": "slide"
    }
   },
   "source": [
    "### Optimal allocation of computational budget\n",
    "\n",
    "Substituting back into [(18)](#eq:MSE), we obtain\n",
    "\n",
    "$$\n",
    "\\epsilon^2 \\sim c_1\\,\\mathcal{C}^{-\\frac{2\\,\\beta}{2\\,\\beta + 1}} + c_2\\,T\\,\\mathcal{C}^{-\\frac{2\\,\\beta}{2\\,\\beta + 1}} \\propto \\mathcal{C}^{-\\frac{2\\,\\beta}{2\\,\\beta + 1}}.\n",
    "$$\n",
    "\n",
    "The optimal allocation thus balances bias squared and variance.\n",
    "\n",
    "* For the Euler scheme with Lipschitz payoff, $\\beta = 1$ so $\\epsilon \\sim \\mathcal{C}^{-1/3}$.\n",
    "* For the Milstein scheme with Lipschitz payoff, $\\beta = 2$ so $\\epsilon \\sim \\mathcal{C}^{-2/5}$.\n",
    "* If the discretization is unbiased,  $\\epsilon \\sim \\mathcal{C}^{-1/2}$."
   ]
  },
  {
   "cell_type": "markdown",
   "metadata": {
    "slideshow": {
     "slide_type": "subslide"
    }
   },
   "source": [
    "Thus, in the limit where very high accuracy is required, the better the discretization, the lower the computational cost.\n",
    "\n",
    "* Although in practice, we have to take into account that a better discretization may involve more computation per time step."
   ]
  },
  {
   "cell_type": "markdown",
   "metadata": {
    "slideshow": {
     "slide_type": "slide"
    }
   },
   "source": [
    "### Why fast Monte Carlo?\n",
    "\n",
    "* For pricing, a not-very-fast Monte Carlo routine might suffice.\n",
    "\n",
    "\n",
    "* For model calibration, we need fast Monte Carlo.\n",
    "\n",
    "    * Fitting a model to the data involves many calls to the pricing routine with different parameter sets."
   ]
  },
  {
   "cell_type": "markdown",
   "metadata": {
    "slideshow": {
     "slide_type": "subslide"
    }
   },
   "source": [
    "* However fast Monte Carlo is only needed for European options.\n",
    "\n",
    "    * We want to calibrate complex models to vanilla option prices.\n",
    "    \n",
    "    * Even if vanilla options are American-style, we can fairly accurately approximate Black-Scholes implied volatility.\n",
    "\n",
    "\n",
    "* We are then only concerned with the order of weak convergence.\n",
    "\n",
    "    * In contrast, the order of strong convergence may be relevant for barrier or lookback options."
   ]
  },
  {
   "cell_type": "markdown",
   "metadata": {
    "slideshow": {
     "slide_type": "slide"
    }
   },
   "source": [
    "### Heston simulation: General remarks\n",
    "\n",
    "* Heston is popular because there is a quasi-closed form formula for European options.\n",
    "\n",
    "\n",
    "* The Heston model is in fact very tricky to simulate.\n",
    "    * This relates to the propensity of the Heston variance process to go to zero.\n",
    "    * This same property makes Heston dynamics very unrealistic.\n",
    "    \n",
    "\n",
    "* If we can figure out how to simulate Heston efficiently, other stochastic volatility models will be easier."
   ]
  },
  {
   "cell_type": "markdown",
   "metadata": {
    "slideshow": {
     "slide_type": "slide"
    }
   },
   "source": [
    "### Variations on the BCC parameters\n",
    "\n",
    "In numerical examples, we will consider the following parameter sets with $\\eta$ halved and doubled relative to BCC:\n",
    "\n",
    "<div align=\"center\">Table 1: BCC and BCC2 parameters \n",
    "\n",
    "  |BCC|BCC1|BCC2\n",
    ":------:|:------:|:----------:|:------:\n",
    "$v$|$0.04$|$0.04$|$0.04$\n",
    "$\\bar v$|$0.04$|$0.04$|$0.04$\n",
    "$\\lambda$|$1.15$|$1.15$|$1.15$\n",
    "$\\rho$|$-0.64$|$-0.64$|$-0.64$\n",
    "$\\eta$|$~~0.39~~$|$~~0.39/2~~$|$~~0.39\\times 2~~$\n",
    "$~~\\frac{2\\,\\lambda\\,\\bar v}{\\eta^2}~~$|$0.60$|$2.42$|$0.15$"
   ]
  },
  {
   "cell_type": "markdown",
   "metadata": {
    "slideshow": {
     "slide_type": "slide"
    }
   },
   "source": [
    "### Boundary behaviors of variance processes\n",
    "\n",
    "Consider a fairly generic variance process:\n",
    "\n",
    "<a name=\"eq:HestonVariance\"></a>(4)\n",
    "$$\n",
    "dv=-\\lambda\\,(v-\\bar v)\\,dt+\\eta\\,v^\\alpha\\,dZ\n",
    "$$\n",
    "\n",
    "<blockquote><div style=\"background-color:#add8e6; color:#FFFFFF; font-style: normal;  \" ><h4>\n",
    "Proposition 2.1 of Andersen and Piterbarg</h4>\n",
    "</div>\n",
    "<div style=\"background-color:#E8E8E8; color:#000000; font-style: normal; \">\n",
    "<br>\n",
    "For the process [(4)](#eq:HestonVariance), the following holds: \n",
    "\n",
    "<p>\n",
    "    1. $0$ is always an attainable boundary for $0 < \\alpha < 1/2$;<br>\n",
    "    2. $0$ is an attainable boundary for $\\alpha=1/2$ if $2\\,\\lambda\\,\\bar v < \\eta^2$ ;<br>\n",
    "    3. $0$ is an unattainable boundary for $\\alpha > 1/2$;<br>\n",
    "    4. $\\infty$ is an unattainable boundary for all values of $\\alpha>0$.\n",
    "<br>\n",
    "</div>\n",
    "</blockquote>"
   ]
  },
  {
   "cell_type": "markdown",
   "metadata": {
    "slideshow": {
     "slide_type": "subslide"
    }
   },
   "source": [
    "### Implications for Heston\n",
    "\n",
    "\n",
    "* Then, with BCC1 parameters, the Heston variance process does not hit zero.\n",
    "\n",
    "* On the other hand, with both BCC and BCC2 parameters, the process can hit zero and does spend considerable time in the neighborhood of zero.\n",
    "\n",
    "    * If the discretized variance process can go negative, this may lead to substantial bias."
   ]
  },
  {
   "cell_type": "markdown",
   "metadata": {
    "slideshow": {
     "slide_type": "slide"
    }
   },
   "source": [
    "### Lord, Koekkoek and Van Dyck\n",
    "\n",
    "Write the Heston variance process as\n",
    "\n",
    "$$\n",
    "v_{t+\\Delta}=f_1(v_t)-\\lambda\\,\\left(f_2(v_t)-\\bar v\\right)\\,\\Delta+\\eta\\,\\left(f_3(v_t)\\right)^\\alpha\\,\\sqrt{\\Delta}\\,Z\n",
    "$$\n",
    "\n",
    "with $Z \\sim N(0,1)$.   [Lord, Koekkoek and Van Dyck]<sup id=\"cite_ref-LKV\" class=\"reference\"><a href=\"#cite_note-LKV\"><span>[</span>9<span>]</span></a></sup> classify discretization schemes as follows:"
   ]
  },
  {
   "cell_type": "markdown",
   "metadata": {
    "slideshow": {
     "slide_type": "subslide"
    }
   },
   "source": [
    "<div align=\"center\">Table 2: Fixing functions $f_i(\\cdot)$ in various discretizations. \n",
    "\n",
    " Scheme|$~~~f_1(x)~~~$|$~~~f_2(x)~~~$|$~~~f_3(x)~~~$\n",
    ":------|:------:|:----------:|:------:\n",
    "Absorption|$x^+$|$x^+$|$x^+$\n",
    "Reflection|$|x|$|$|x|$|$|x|$\n",
    "Higham and Mao|$x$|$x$|$|x|$\n",
    "Partial truncation|$x$|$x$|$x^+$\n",
    "Full truncation|$x$|$x^+$|$x^+$\n",
    "\n",
    "Based on results of numerical experiments, Lord et al. recommend full truncation."
   ]
  },
  {
   "cell_type": "markdown",
   "metadata": {
    "slideshow": {
     "slide_type": "slide"
    }
   },
   "source": [
    "### Comments on discretization of the Heston variance process\n",
    "\n",
    "* The choice of discretization makes a *big* difference.\n",
    "    * The choices of discretization presented in *The Volatility Surface*<sup id=\"cite_ref-TVS\" class=\"reference\"><a href=\"#cite_note-TVS\"><span>[</span>5<span>]</span></a></sup> are particularly horrible; hundreds of thousands of time steps are required to get decent convergence with typical Heston parameters.\n",
    "   "
   ]
  },
  {
   "cell_type": "markdown",
   "metadata": {
    "slideshow": {
     "slide_type": "subslide"
    }
   },
   "source": [
    "   \n",
    "* We will follow LKV's advice and implement full truncation.  Specifically, we will discretize the Heston variance process as\n",
    "\n",
    "$$\n",
    "v_{t+\\Delta}=v_t - \\lambda\\,\\left(v_t^+-\\bar v\\right)\\,\\Delta+\\eta\\,\\sqrt{v_t^+}\\,\\sqrt{\\Delta}\\,Z.\n",
    "$$"
   ]
  },
  {
   "cell_type": "markdown",
   "metadata": {
    "slideshow": {
     "slide_type": "slide"
    }
   },
   "source": [
    "### Richardson extrapolation\n",
    "\n",
    "Suppose that the Euler scheme generates an estimate of the true value of a claim as follows:\n",
    "\n",
    "$$\n",
    "\\E\\left[g(\\hat X_T)\\right]=\\E\\left[g(X_T)\\right]+c\\,\\Delta  + \\mathcal{O}(\\Delta^2)\n",
    "$$\n",
    "\n",
    "where $\\hat X$ is an approximation to $X$ based on this Euler discretization scheme.  This is true under strong regularity assumptions on the drift and diffusion coefficients in the underlying SDE."
   ]
  },
  {
   "cell_type": "markdown",
   "metadata": {
    "slideshow": {
     "slide_type": "subslide"
    }
   },
   "source": [
    "Then for positive integer $M$ (typically $M=2$), we have\n",
    "\n",
    "$$\n",
    "\\frac{M}{M-1}\\,\\E\\left[g\\left(\\hat X^{\\Delta}_T\\right)\\right]-\\frac{1}{M-1}\\,\\E\\left[ g\\left(\\hat X^{M \\Delta}_T\\right)\\right]=\\E\\left[g(X_T)\\right] + \\mathcal{O}(\\Delta^2)\n",
    "$$\n",
    "\n",
    "* Convergence looks linear for our Euler discretizations so Richardson extrapolation might work in this case, giving order 2 weak convergence."
   ]
  },
  {
   "cell_type": "markdown",
   "metadata": {
    "slideshow": {
     "slide_type": "slide"
    }
   },
   "source": [
    "### Variance of extrapolated estimate\n",
    "\n",
    "Following [Glasserman]<sup id=\"cite_ref-Glasserman\" class=\"reference\"><a href=\"#cite_note-Glasserman\"><span>[</span>5<span>]</span></a></sup> again (page 361), note that\n",
    "\n",
    "\\begin{eqnarray}\n",
    "&&\\Var\\left[  \\frac{M}{M-1}\\,g\\left(\\hat X^{\\Delta}_T\\right)-\\frac{1}{M-1}\\, g\\left(\\hat X^{M \\Delta}_T\\right)  \\right]\\\\\n",
    "&=& \\frac{M^2}{(M-1)^2}\\,\\Var\\left[  g\\left(\\hat X^{\\Delta}_T\\right)  \\right] +\n",
    " \\frac{1}{(M-1)^2}\\,\\Var\\left[  g\\left(\\hat X^{M \\Delta}_T\\right)  \\right]  \\\\\n",
    " && \\quad\\quad\\quad - \\frac{2\\,M}{(M-1)^2}\\,\\Cov\\left[  g\\left(\\hat X^{\\Delta}_T\\right), g\\left(\\hat X^{M \\Delta}_T\\right)  \\right] .\n",
    "\\end{eqnarray}"
   ]
  },
  {
   "cell_type": "markdown",
   "metadata": {
    "slideshow": {
     "slide_type": "subslide"
    }
   },
   "source": [
    "One might hope, and this is typically the case, that by using the same random numbers to simulate $\\hat X^{\\Delta}_T$ and $\\hat X^{M \\Delta}_T$, the covariance term would be positive.  However, in the case of the Heston model, especially with BCC2 parameters, this is not at all guaranteed.\n",
    "\n",
    "* If the covariance term is zero or negative, the variance of the extrapolated estimate is greater than that of the original estimate (although the bias is smaller)."
   ]
  },
  {
   "cell_type": "markdown",
   "metadata": {
    "slideshow": {
     "slide_type": "slide"
    }
   },
   "source": [
    "### Heston parameters"
   ]
  },
  {
   "cell_type": "code",
   "execution_count": 28,
   "metadata": {
    "collapsed": true,
    "slideshow": {
     "slide_type": "fragment"
    }
   },
   "outputs": [],
   "source": [
    "paramsBCC <- list(lambda = 1.15,rho = -0.64,eta = 0.39,vbar = 0.04,v = 0.04) \n",
    "paramsBCC1 <- list(lambda = 1.15,rho = -0.64,eta = .39/2,vbar = 0.04,v = 0.04) \n",
    "paramsBCC2 <- list(lambda = 1.15,rho = -0.64,eta = 0.39*2,vbar = 0.04,v = 0.04) "
   ]
  },
  {
   "cell_type": "markdown",
   "metadata": {
    "slideshow": {
     "slide_type": "fragment"
    }
   },
   "source": [
    "We now check the Feller condition to see whether 0 is attainable.  Recall from Proposition 2.1 of Andersen and Piterbarg above that $0$ is attainable if $2\\,\\lambda\\,\\bar v/\\eta^2 <1$."
   ]
  },
  {
   "cell_type": "code",
   "execution_count": 29,
   "metadata": {
    "collapsed": false,
    "slideshow": {
     "slide_type": "fragment"
    }
   },
   "outputs": [
    {
     "data": {
      "text/html": [
       "<ol class=list-inline>\n",
       "\t<li>0.604865220249836</li>\n",
       "\t<li>2.41946088099934</li>\n",
       "\t<li>0.151216305062459</li>\n",
       "</ol>\n"
      ],
      "text/latex": [
       "\\begin{enumerate*}\n",
       "\\item 0.604865220249836\n",
       "\\item 2.41946088099934\n",
       "\\item 0.151216305062459\n",
       "\\end{enumerate*}\n"
      ],
      "text/markdown": [
       "1. 0.604865220249836\n",
       "2. 2.41946088099934\n",
       "3. 0.151216305062459\n",
       "\n",
       "\n"
      ],
      "text/plain": [
       "[1] 0.6048652 2.4194609 0.1512163"
      ]
     },
     "metadata": {},
     "output_type": "display_data"
    }
   ],
   "source": [
    "feller <- function(params){2*params$lambda*params$vbar/(params$eta)^2}\n",
    "\n",
    "c(feller(paramsBCC),feller(paramsBCC1),feller(paramsBCC2))"
   ]
  },
  {
   "cell_type": "markdown",
   "metadata": {
    "slideshow": {
     "slide_type": "fragment"
    }
   },
   "source": [
    "As we noted earlier, with both BCC and BCC2 parameters, zero is attainable."
   ]
  },
  {
   "cell_type": "markdown",
   "metadata": {
    "slideshow": {
     "slide_type": "slide"
    }
   },
   "source": [
    "### Summary of Lecture 3\n",
    "\n",
    "* We derived a closed-form formula for European options in the Heston model and implemented it in R.\n",
    "\n",
    "* We derived the Feynman-Kac formula.\n",
    "\n",
    "* We explained why the choice of discretization of the continuous time stochastic process is critical for efficient simulation.\n",
    "\n",
    "* We showed how further efficiency could potentially be achieved by using Richardson extrapolation.\n",
    "\n",
    "\n",
    "In Lecture 4, we will code the Heston simulation and improve it further."
   ]
  },
  {
   "cell_type": "markdown",
   "metadata": {
    "slideshow": {
     "slide_type": "slide"
    }
   },
   "source": [
    "### References\n",
    "\n",
    "<br />\n",
    "\n",
    "<div class=\"reflist\" style=\"list-style-type: decimal;\">\n",
    "\n",
    "<ol>\n",
    "  \n",
    "  <li id=\"cite_note-AMST\"><span class=\"mw-cite-backlink\"><b><a href=\"#cite_ref-AMST\">^</a></b></span>   Albrecher, Hansjörg, Philipp Mayer, Wim Schoutens and Jurgen Tistaert, The Little Heston Trap, <span>*Wilmott Magazine*</span> 83–92 (January 2007).</li>\n",
    " \n",
    "  <li id=\"cite_note-BCC\"><span class=\"mw-cite-backlink\"><b><a href=\"#cite_ref-BCC\">^</a></b></span>   Bakshi, Gurdip, Charles Cao and Zhiwu Chen, Empirical performance of alternative pricing models. <span>*Journal of Finance*</span> <span>**52**(5)</span>, 2003–2049 (1997).</li>\n",
    "\n",
    "  <li id=\"cite_note-CIR\"><span class=\"mw-cite-backlink\"><b><a href=\"#cite_ref-CIR\">^</a></b></span>   Cox, John, Jonathan Ingersoll and Stephen Ross, A theory of the term structure of interest rates. <span>*Econometrica*</span>\n",
    "<span>**53**(2)</span>, 385–408 (1985).</li>\n",
    "\n",
    "  <li id=\"cite_note-DPS\"><span class=\"mw-cite-backlink\"><b><a href=\"#cite_ref-DPS\">^</a></b></span>   Duffie, Darrell, Jun Pan and Kenneth Singleton, Transform analysis and asset pricing for affine jump-diffusions, <span>*Econometrica*</span>\n",
    "<span>**68**(6)</span>, 1343–1376 (2000).</li>\n",
    "\n",
    "  <li id=\"cite_note-TVS\"><span class=\"mw-cite-backlink\"><b><a href=\"#cite_ref-TVS\">^</a></b></span>Jim Gatheral, <span>*The Volatility Surface: A Practitioner’s\n",
    "Guide*</span>, John Wiley and Sons, Hoboken, NJ (2006).</li>\n",
    "\n",
    "<li id=\"cite_note-GJR\"><span class=\"mw-cite-backlink\"><b><a href=\"#cite_ref-GJR\">^</a></b></span> Jim Gatheral, Thibault Jaisson and Mathieu Rosenbaum, Volatility is rough, http://papers.ssrn.com/sol3/papers.cfm?abstract_id=2509457  (2014).</li> \n",
    "\n",
    "  <li id=\"cite_note-Glasserman\"><span class=\"mw-cite-backlink\"><b><a href=\"#cite_ref-Glasserman\">^</a></b></span>  Paul Glasserman,  <span>*Monte Carlo Methods in Financial Engineering*</span>, Springer-Verlag, Heidelberg (2004).</li>\n",
    "  \n",
    "   <li id=\"cite_note-KloedenPlaten\"><span class=\"mw-cite-backlink\"><b><a href=\"#cite_ref-KloedenPlaten\">^</a></b></span>  Peter E. Kloeden and Eckhard Platen, <span>*Numerical Solution of Stochastic Differential Equations*</span>, Springer-Verlag, Heidelberg (1992).</li>\n",
    "\n",
    " <li id=\"cite_note-LKV\"><span class=\"mw-cite-backlink\"><b><a href=\"#cite_ref-LKV\">^</a></b></span>  Roger Lord, Remmert Koekkoek and Dick Van Dijk, A Comparison of biased simulation schemes for stochastic volatility models., <span>*Quantitative Finance*</span> <span>**10**(2)</span>, 177–194 (2010).</li> \n",
    "\n",
    "  <li id=\"cite_note-KJ\"><span class=\"mw-cite-backlink\"><b><a href=\"#cite_ref-KJ\">^</a></b></span>Kahl, Christian and Peter Jäckel, Not-so-complex logarithms in the Heston model, <span>*Wilmott Magazine*</span>, 94–103 (September 2005).</li>\n",
    "\n",
    "</ol>"
   ]
  }
 ],
 "metadata": {
  "celltoolbar": "Slideshow",
  "kernelspec": {
   "display_name": "R",
   "language": "",
   "name": "ir"
  },
  "language_info": {
   "codemirror_mode": "r",
   "file_extension": ".r",
   "mimetype": "text/x-r-source",
   "name": "R",
   "pygments_lexer": "r",
   "version": "3.3.3"
  }
 },
 "nbformat": 4,
 "nbformat_minor": 0
}
